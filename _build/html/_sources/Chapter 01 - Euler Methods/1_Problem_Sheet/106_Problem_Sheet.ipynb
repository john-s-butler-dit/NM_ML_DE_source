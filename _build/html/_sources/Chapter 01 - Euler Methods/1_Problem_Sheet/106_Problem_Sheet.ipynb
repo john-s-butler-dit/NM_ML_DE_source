{
 "cells": [
  {
   "cell_type": "markdown",
   "metadata": {
    "colab_type": "text",
    "id": "view-in-github"
   },
   "source": []
  },
  {
   "cell_type": "markdown",
   "metadata": {
    "id": "hkJ1MEvODZtZ"
   },
   "source": [
    "# Blank Euler Method\n",
    " \n",
    "\n",
    "The more general form of a first order Ordinary Differential Equation is: \n",
    "\\begin{equation}\n",
    "y^{'}=f(t,y).\n",
    "\\end{equation}\n",
    "This can be solved analytically by integrating both sides but this is not straight forward for most problems.\n",
    "Numerical methods can be used to approximate the solution at discrete points.\n"
   ]
  },
  {
   "cell_type": "markdown",
   "metadata": {
    "id": "DZGV6y7NDZtb"
   },
   "source": [
    "## Euler method\n",
    "\n",
    "The simplest one step numerical method is the Euler Method named after the most prolific of mathematicians [Leonhard Euler](https://en.wikipedia.org/wiki/Leonhard_Euler) (15 April 1707 – 18 September 1783) .\n",
    "\n",
    "The general Euler formula for the first order differential equation\n",
    "\\begin{equation}\n",
    "y^{'} = f(t,y), \n",
    "\\end{equation}\n",
    "\n",
    "approximates the derivative at time point $t_i$,\n",
    "\n",
    "\\begin{equation}\n",
    "y^{'}(t_i) \\approx \\frac{w_{i+1}-w_i}{t_{i+1}-t_{i}},\n",
    "\\end{equation}\n",
    "\n",
    "where $w_i$ is the approximate solution of $y$ at time $t_i$.\n",
    "\n",
    "This substitution changes the differential equation  into a __difference__ equation of the form \n",
    "\n",
    "\\begin{equation}\n",
    "\\frac{w_{i+1}-w_i}{t_{i+1}-t_{i}}=f(t_i,w_i). \n",
    "\\end{equation}\n",
    "\n",
    "Assuming uniform stepsize $t_{i+1}-t_{i}$ is replaced by $h$, re-arranging the equation gives\n",
    "\\begin{equation} \n",
    "w_{i+1}=w_i+hf(t_i,w_i).\n",
    "\\end{equation}\n",
    " This can be read as the future $w_{i+1}$ can be approximated by the present $w_i$ and the addition of the input to the system $f(t,y)$ times the time step.\n"
   ]
  },
  {
   "cell_type": "code",
   "execution_count": 2,
   "metadata": {
    "id": "mRGCHqPADZtc"
   },
   "outputs": [],
   "source": [
    "## Library\n",
    "import numpy as np\n",
    "import math \n",
    "import pandas as pd\n",
    "%matplotlib inline\n",
    "import matplotlib.pyplot as plt # side-stepping mpl backend\n",
    "import matplotlib.gridspec as gridspec # subplots\n",
    "import warnings\n",
    "\n",
    "warnings.filterwarnings(\"ignore\")\n"
   ]
  },
  {
   "cell_type": "markdown",
   "metadata": {
    "id": "Z-L1qD6FDZtd"
   },
   "source": [
    "      \n",
    "## Discrete Interval\n",
    "T## Discrete Interval\n",
    "The continuous time $a\\leq t \\leq b $ is discretised with stepsize $h$ gives\n",
    "\\begin{equation} \n",
    "N=\\frac{b-a}{h}.\n",
    "\\end{equation}\n",
    "\n",
    "Here the interval is $0\\leq t \\leq 2$  with stepsize $h=0.1$\n",
    "\\begin{equation}\n",
    " N=\\frac{2-0}{0.1}=20,\n",
    "\\end{equation}\n",
    "this gives the 21 discrete points:\n",
    "\\begin{equation}\n",
    " t_0=0, \\ t_1=0.1, \\ ... t_{20}=2. \n",
    "\\end{equation}\n",
    "This is generalised to \n",
    "\\begin{equation}\n",
    "t_i=0+i0.1, \\ \\ \\ i=0,1,...,20.\n",
    "\\end{equation}\n",
    "The plot below shows the discrete time steps."
   ]
  },
  {
   "cell_type": "code",
   "execution_count": 3,
   "metadata": {
    "colab": {
     "base_uri": "https://localhost:8080/",
     "height": 281
    },
    "id": "3DIfCuFGDZtd",
    "outputId": "85e5b927-fc65-4f6b-bc71-9016e82f605f"
   },
   "outputs": [
    {
     "data": {
      "image/png": "[encoded data removed]",
      "text/plain": [
       "<Figure size 1000x400 with 1 Axes>"
      ]
     },
     "metadata": {},
     "output_type": "display_data"
    }
   ],
   "source": [
    "### Setting up time\n",
    "a=0\n",
    "b=2.0\n",
    "h=0.1\n",
    "\n",
    "\n",
    "N=int((b-a)/(h))\n",
    "time=np.arange(a,b+h/2,h)\n",
    "fig = plt.figure(figsize=(10,4))\n",
    "plt.plot(time,0*time,'o:',color='red')\n",
    "plt.xlim((a,b))\n",
    "plt.title('Illustration of discrete time points for h=%s'%(h))\n",
    "plt.plot();"
   ]
  },
  {
   "cell_type": "markdown",
   "metadata": {
    "id": "clTk4dy-DZte"
   },
   "source": [
    "## Initial Condition\n",
    "To get a specify solution to a first order initial value problem, an __initial condition__ is required.\n",
    "\n",
    "The general initial condition is:\n",
    "\\begin{equation}\n",
    "y(a)=A.\n",
    "\\end{equation}\n"
   ]
  },
  {
   "cell_type": "markdown",
   "metadata": {
    "id": "GnFTxKeADZtf"
   },
   "source": [
    "## Numerical approximation of an Initial Value Problem  \n",
    "The differential equation is transformed using the Euler method into a difference equation of the form\n",
    "\\begin{equation} w_{i+1}=w_{i}+h f(t_i,w_i). \\end{equation}\n",
    "This approximates a series of of values $w_0, \\ w_1, \\ ..., w_{N}$.\n",
    " "
   ]
  },
  {
   "cell_type": "code",
   "execution_count": 10,
   "metadata": {
    "colab": {
     "base_uri": "https://localhost:8080/",
     "height": 295
    },
    "id": "Pl9nDiWrDZtg",
    "outputId": "5e9beb39-22b2-42a0-85a9-5c10fdfaa945"
   },
   "outputs": [],
   "source": [
    "w=np.zeros(N+1)\n",
    "w[0]=0## INITIAL CONDITION"
   ]
  },
  {
   "cell_type": "code",
   "execution_count": 11,
   "metadata": {
    "colab": {
     "base_uri": "https://localhost:8080/",
     "height": 295
    },
    "id": "Pl9nDiWrDZtg",
    "outputId": "5e9beb39-22b2-42a0-85a9-5c10fdfaa945"
   },
   "outputs": [
    {
     "ename": "SyntaxError",
     "evalue": "incomplete input (1060597621.py, line 3)",
     "output_type": "error",
     "traceback": [
      "\u001b[0;36m  Cell \u001b[0;32mIn[11], line 3\u001b[0;36m\u001b[0m\n\u001b[0;31m    ## w[i+1]=w[i]+h\u001b[0m\n\u001b[0m                    ^\u001b[0m\n\u001b[0;31mSyntaxError\u001b[0m\u001b[0;31m:\u001b[0m incomplete input\n"
     ]
    }
   ],
   "source": [
    "for i in range (0,N):\n",
    "## ADD EQUATION DYNAMICS TO EQUATION   \n",
    "## w[i+1]=w[i]+h"
   ]
  },
  {
   "cell_type": "code",
   "execution_count": 12,
   "metadata": {},
   "outputs": [
    {
     "data": {
      "image/png": "[encoded data removed]",
      "text/plain": [
       "<Figure size 1200x500 with 1 Axes>"
      ]
     },
     "metadata": {},
     "output_type": "display_data"
    }
   ],
   "source": [
    "fig = plt.figure(figsize=(12,5))\n",
    "# --- left hand plot\n",
    "\n",
    "plt.plot(time,w,':',color='k')\n",
    "plt.plot(time[0],w[0],'o',color='green')\n",
    "\n",
    "#ax.legend(loc='best')\n",
    "plt.title('Numerical Solution (w) h=%s'%(h))\n",
    "plt.show()"
   ]
  },
  {
   "cell_type": "code",
   "execution_count": null,
   "metadata": {},
   "outputs": [],
   "source": []
  }
 ],
 "metadata": {
  "colab": {
   "include_colab_link": true,
   "name": "101_Euler_method_with_Theorems_Growth_function.ipynb",
   "provenance": []
  },
  "kernelspec": {
   "display_name": "Python 3 (ipykernel)",
   "language": "python",
   "name": "python3"
  },
  "language_info": {
   "codemirror_mode": {
    "name": "ipython",
    "version": 3
   },
   "file_extension": ".py",
   "mimetype": "text/x-python",
   "name": "python",
   "nbconvert_exporter": "python",
   "pygments_lexer": "ipython3",
   "version": "3.11.4"
  }
 },
 "nbformat": 4,
 "nbformat_minor": 1
}
