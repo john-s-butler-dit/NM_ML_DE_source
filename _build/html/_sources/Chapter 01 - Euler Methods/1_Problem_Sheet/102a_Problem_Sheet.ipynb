{
  "nbformat": 4,
  "nbformat_minor": 0,
  "metadata": {
    "kernelspec": {
      "display_name": "Python 3",
      "language": "python",
      "name": "python3"
    },
    "language_info": {
      "codemirror_mode": {
        "name": "ipython",
        "version": 3
      },
      "file_extension": ".py",
      "mimetype": "text/x-python",
      "name": "python",
      "nbconvert_exporter": "python",
      "pygments_lexer": "ipython3",
      "version": "3.7.9"
    },
    "colab": {
      "name": "01_Problem Sheet 1 Question 2a.ipynb",
      "provenance": [],
      "include_colab_link": true
    }
  },
  "cells": [
    {
      "cell_type": "markdown",
      "metadata": {
        "id": "view-in-github",
        "colab_type": "text"
      },
      "source": [
        "<a href=\"https://colab.research.google.com/github/john-s-butler-dit/Numerical-Analysis-Python/blob/master/Chapter%2001%20-%20Euler%20Methods/1_Problem%20Sheet/102a_Problem_Sheet.ipynb\" target=\"_parent\"><img src=\"https://colab.research.google.com/assets/colab-badge.svg\" alt=\"Open In Colab\"/></a>"
      ]
    },
    {
      "cell_type": "markdown",
      "metadata": {
        "id": "PpY9Fc0iv3ks"
      },
      "source": [
        "# Problem Sheet 1 Question 2a\n",
        "\n",
        "The general form of the population growth differential equation\n",
        "\\begin{equation} y^{'}=t-y, \\ \\ (0 \\leq t \\leq 4), \\end{equation}\n",
        "with the initial condition\n",
        "\\begin{equation}y(0)=1.\\end{equation}\n",
        "For N=4\n",
        "with the analytic (exact) solution\n",
        "\\begin{equation} y= 2e^{-t}+t+1.\\end{equation}\n",
        "\n",
        "\n",
        "Apply __Euler’s Method__ to approximate the solution of the given initial value problems using the indicated number of time steps. Compare the approximate solution with the given exact solution, and compare the actual error with the theoretical error.\n",
        "\n"
      ]
    },
    {
      "cell_type": "code",
      "metadata": {
        "id": "LJLhRuUNv3ku"
      },
      "source": [
        "## Library\n",
        "import numpy as np\n",
        "import math \n",
        "\n",
        "%matplotlib inline\n",
        "import matplotlib.pyplot as plt # side-stepping mpl backend\n",
        "import matplotlib.gridspec as gridspec # subplots\n",
        "import warnings\n",
        "import pandas as pd\n",
        "\n",
        "warnings.filterwarnings(\"ignore\")"
      ],
      "execution_count": 14,
      "outputs": []
    },
    {
      "cell_type": "markdown",
      "metadata": {
        "id": "FDb2v2ZCv3kz"
      },
      "source": [
        "## General Discrete Interval\n",
        "The continuous time $a\\leq t \\leq b $ is discretised into $N$ points seperated by a constant stepsize\n",
        "\\begin{equation} h=\\frac{b-a}{N}.\\end{equation}\n",
        "## Specific Discrete Interval\n",
        "Here the interval is $0\\leq t \\leq 4$ with $N=4$ \n",
        "\\begin{equation} h=\\frac{4-0}{4}=1.\\end{equation}\n",
        "This gives the 5 discrete points with stepsize h=1:\n",
        "\\begin{equation} t_0=0, \\ t_1=1, \\ ... t_{4}=4. \\end{equation}\n",
        "This is generalised to \n",
        "\\begin{equation} t_i=0+i1, \\ \\ \\ i=0,1,...,4.\\end{equation}\n",
        "The plot below illustrates the discrete time steps from 0 to 4."
      ]
    },
    {
      "cell_type": "code",
      "metadata": {
        "id": "E2Z9Kxtmv3k0",
        "outputId": "fccb3050-53dd-4be2-b132-6280f0449218",
        "colab": {
          "base_uri": "https://localhost:8080/",
          "height": 281
        }
      },
      "source": [
        "### Setting up time\n",
        "t_end=4\n",
        "t_start=0\n",
        "N=4\n",
        "h=(t_end-t_start)/(N)\n",
        "t=np.arange(t_start,t_end+0.01,h)\n",
        "fig = plt.figure(figsize=(10,4))\n",
        "plt.plot(t,0*t,'o:',color='red')\n",
        "plt.plot(t[0],0*t[0],'o',color='green')\n",
        "\n",
        "\n",
        "plt.title('Illustration of discrete time points for h=%s'%(h))\n",
        "plt.plot();"
      ],
      "execution_count": 15,
      "outputs": [
        {
          "output_type": "display_data",
          "data": {
            "image/png": "[encoded data removed]",
            "text/plain": [
              "<Figure size 720x288 with 1 Axes>"
            ]
          },
          "metadata": {
            "needs_background": "light"
          }
        }
      ]
    },
    {
      "cell_type": "markdown",
      "metadata": {
        "id": "SvqMAzIbv3k5"
      },
      "source": [
        "## Euler Solution\n",
        "\n",
        "The Euler difference equation is given by\n",
        "\\begin{equation} w_{i+1}=w_i+h(t_i-w_i) \\end{equation}\n",
        "for $i=0,1,2,3$ with the initial condition,\n",
        "\\begin{equation}w_0=1.\\end{equation}"
      ]
    },
    {
      "cell_type": "code",
      "metadata": {
        "id": "Iab0CumYv3k6"
      },
      "source": [
        "IC=1\n",
        "\n",
        "INTITIAL_CONDITION=IC\n",
        "w=np.zeros(N+1)\n",
        "w[0]=INTITIAL_CONDITION\n",
        "for i in range (0,N):\n",
        "    w[i+1]=w[i]+h*(t[i]-w[i])"
      ],
      "execution_count": 16,
      "outputs": []
    },
    {
      "cell_type": "code",
      "metadata": {
        "id": "ly-2MBGyv3k8"
      },
      "source": [
        "y=2*np.exp(-t)+t-1 # Exact Solution"
      ],
      "execution_count": 17,
      "outputs": []
    },
    {
      "cell_type": "markdown",
      "metadata": {
        "id": "uiJ-6V8Rv3k-"
      },
      "source": [
        "## Global Error\n",
        "The upper bound of the global error is:\n",
        "\\begin{equation} |y(t_i)-w_i|\\leq\\frac{Mh}{2L} |e^{Lt_i}-1| \\end{equation}\n",
        "where\n",
        "$|y''(t)|\\leq M $ for $t \\in (0,4)$ and $L$ is the Lipschitz constant.\n",
        "Generally we do not have access to $M$ or $L$, but as we have the exact solution we can find $M$ and $L$.\n",
        "### Local Error\n",
        "The global error consistent of an exponential term and the local error.\n",
        "The local error for the Euler method is\n",
        "\\begin{equation}\n",
        "|y(t_1)-w_1|<\\tau=\\frac{Mh}{2}, \\end{equation}\n",
        "\n",
        "by differentiation the exact solution \n",
        "$ y= 2e^{-t}+t+1$\n",
        "twice\n",
        "\\begin{equation}\n",
        "y'=-2e^{-t}+1,\\end{equation}\n",
        "\\begin{equation}\n",
        "y''=2e^{-t}.\\end{equation}\n",
        "Then we choose the largest possible value of $y''$ on the interval of interest $(0,4)$, which gives,\n",
        "\n",
        "\\begin{equation}|y''(t)|\\leq 2e^{0}=2, \\end{equation}\n",
        "therefore\n",
        "\\begin{equation}\n",
        "M=2.\\end{equation}\n",
        "This gives the local error\n",
        "\\begin{equation}\n",
        " |y(t_1)-w_1|<\\tau=\\frac{Mh}{2}=\\frac{2h}{2}=h.\\end{equation}\n",
        "### Lipschitz constant\n",
        "The Lipschitz constant $L$ is from the Lipschitz condition,\n",
        "\\begin{equation}\n",
        "\\left| \\frac{\\partial f(t,y)}{\\partial y}\\right|\\leq L.\\end{equation}\n",
        "The constant can be found by taking partical derivative of $f(t,y)=t-y$ with respect to $y$\n",
        "\\begin{equation}\n",
        "\\frac{\\partial f(t,y)}{\\partial y}=-1,\\end{equation}\n",
        "\\begin{equation}L=|-1|=1.\\end{equation}\n",
        "\n",
        "### Specific Global Upper Bound Formula\n",
        "Puting these values into the upper bound gives:\n",
        "\\begin{equation} |y(t_i)-w_i|\\leq\\frac{2h}{2} |e^{t_i}-1|. \\end{equation}"
      ]
    },
    {
      "cell_type": "code",
      "metadata": {
        "id": "kvUnxC7kv3k_"
      },
      "source": [
        "Upper_bound=2*h/(2*1)*(np.exp(t)-1) # Upper Bound"
      ],
      "execution_count": 18,
      "outputs": []
    },
    {
      "cell_type": "markdown",
      "metadata": {
        "id": "zXd45Imdv3lB"
      },
      "source": [
        "## Results"
      ]
    },
    {
      "cell_type": "code",
      "metadata": {
        "id": "8lfaupnTv3lB",
        "outputId": "143202b8-f90a-4784-c2f0-202e00caf6bd",
        "colab": {
          "base_uri": "https://localhost:8080/",
          "height": 304
        }
      },
      "source": [
        "fig = plt.figure(figsize=(12,5))\n",
        "# --- left hand plot\n",
        "ax = fig.add_subplot(1,4,1)\n",
        "plt.plot(t,w,'o:',color='k')\n",
        "plt.plot(t[0],w[0],'o',color='green')\n",
        "\n",
        "#ax.legend(loc='best')\n",
        "plt.title('Numerical Solution (w) h=%s'%(h))\n",
        "\n",
        "# --- right hand plot\n",
        "ax = fig.add_subplot(1,4,2)\n",
        "plt.plot(t,y,color='blue')\n",
        "plt.title('Analytic Solution (y)')\n",
        "\n",
        "#ax.legend(loc='best')\n",
        "ax = fig.add_subplot(1,4,3)\n",
        "plt.plot(t,np.abs(w-y),'o:',color='red')\n",
        "plt.title('Exact Error |w-y|')\n",
        "\n",
        "# --- title, explanatory text and save\n",
        "\n",
        "\n",
        "ax = fig.add_subplot(1,4,4)\n",
        "plt.plot(t,np.abs(w-y),'o:',color='red')\n",
        "plt.plot(t,Upper_bound,color='purple')\n",
        "plt.title('Upper Bound')\n",
        "\n",
        "# --- title, explanatory text and save\n",
        "fig.suptitle(r\"$y'=t-y$\", fontsize=20)\n",
        "plt.tight_layout()\n",
        "plt.subplots_adjust(top=0.85)    "
      ],
      "execution_count": 19,
      "outputs": [
        {
          "output_type": "display_data",
          "data": {
            "image/png": "[encoded data removed]",
            "text/plain": [
              "<Figure size 864x360 with 4 Axes>"
            ]
          },
          "metadata": {
            "needs_background": "light"
          }
        }
      ]
    },
    {
      "cell_type": "code",
      "metadata": {
        "id": "mQXviRuTv3lD",
        "outputId": "db607236-b0c4-42ab-b769-8bc34c5b0809",
        "colab": {
          "base_uri": "https://localhost:8080/",
          "height": 206
        }
      },
      "source": [
        "\n",
        "d = {'time t_i': t,    'Euler (w_i) ':w,    'Exact (y_i) ':y,    'Exact Error( |y_i-w_i|) ':np.abs(y-w),'Upper Bound':Upper_bound}\n",
        "df = pd.DataFrame(data=d)\n",
        "df"
      ],
      "execution_count": 20,
      "outputs": [
        {
          "output_type": "execute_result",
          "data": {
            "text/html": [
              "<div>\n",
              "<style scoped>\n",
              "    .dataframe tbody tr th:only-of-type {\n",
              "        vertical-align: middle;\n",
              "    }\n",
              "\n",
              "    .dataframe tbody tr th {\n",
              "        vertical-align: top;\n",
              "    }\n",
              "\n",
              "    .dataframe thead th {\n",
              "        text-align: right;\n",
              "    }\n",
              "</style>\n",
              "<table border=\"1\" class=\"dataframe\">\n",
              "  <thead>\n",
              "    <tr style=\"text-align: right;\">\n",
              "      <th></th>\n",
              "      <th>time t_i</th>\n",
              "      <th>Euler (w_i)</th>\n",
              "      <th>Exact (y_i)</th>\n",
              "      <th>Exact Error( |y_i-w_i|)</th>\n",
              "      <th>Upper Bound</th>\n",
              "    </tr>\n",
              "  </thead>\n",
              "  <tbody>\n",
              "    <tr>\n",
              "      <th>0</th>\n",
              "      <td>0.0</td>\n",
              "      <td>1.0</td>\n",
              "      <td>1.000000</td>\n",
              "      <td>0.000000</td>\n",
              "      <td>0.000000</td>\n",
              "    </tr>\n",
              "    <tr>\n",
              "      <th>1</th>\n",
              "      <td>1.0</td>\n",
              "      <td>0.0</td>\n",
              "      <td>0.735759</td>\n",
              "      <td>0.735759</td>\n",
              "      <td>1.718282</td>\n",
              "    </tr>\n",
              "    <tr>\n",
              "      <th>2</th>\n",
              "      <td>2.0</td>\n",
              "      <td>1.0</td>\n",
              "      <td>1.270671</td>\n",
              "      <td>0.270671</td>\n",
              "      <td>6.389056</td>\n",
              "    </tr>\n",
              "    <tr>\n",
              "      <th>3</th>\n",
              "      <td>3.0</td>\n",
              "      <td>2.0</td>\n",
              "      <td>2.099574</td>\n",
              "      <td>0.099574</td>\n",
              "      <td>19.085537</td>\n",
              "    </tr>\n",
              "    <tr>\n",
              "      <th>4</th>\n",
              "      <td>4.0</td>\n",
              "      <td>3.0</td>\n",
              "      <td>3.036631</td>\n",
              "      <td>0.036631</td>\n",
              "      <td>53.598150</td>\n",
              "    </tr>\n",
              "  </tbody>\n",
              "</table>\n",
              "</div>"
            ],
            "text/plain": [
              "   time t_i  Euler (w_i)   Exact (y_i)   Exact Error( |y_i-w_i|)   Upper Bound\n",
              "0       0.0           1.0      1.000000                  0.000000     0.000000\n",
              "1       1.0           0.0      0.735759                  0.735759     1.718282\n",
              "2       2.0           1.0      1.270671                  0.270671     6.389056\n",
              "3       3.0           2.0      2.099574                  0.099574    19.085537\n",
              "4       4.0           3.0      3.036631                  0.036631    53.598150"
            ]
          },
          "metadata": {},
          "execution_count": 20
        }
      ]
    },
    {
      "cell_type": "code",
      "metadata": {
        "id": "tfzr7xJyv3lF"
      },
      "source": [
        ""
      ],
      "execution_count": 20,
      "outputs": []
    }
  ]
}