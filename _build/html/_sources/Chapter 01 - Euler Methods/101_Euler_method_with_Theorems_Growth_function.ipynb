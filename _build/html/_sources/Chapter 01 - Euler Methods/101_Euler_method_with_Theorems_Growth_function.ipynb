{
 "cells": [
  {
   "cell_type": "markdown",
   "metadata": {
    "colab_type": "text",
    "id": "view-in-github"
   },
   "source": [
    "<a href=\"https://colab.research.google.com/github/john-s-butler-dit/Numerical-Analysis-Python/blob/master/Chapter%2001%20-%20Euler%20Methods/101_Euler_method_with_Theorems_Growth_function.ipynb\" target=\"_parent\"><img src=\"https://colab.research.google.com/assets/colab-badge.svg\" alt=\"Open In Colab\"/></a>"
   ]
  },
  {
   "cell_type": "markdown",
   "metadata": {
    "id": "hkJ1MEvODZtZ"
   },
   "source": [
    "# First Order Initial Value Problem\n",
    " \n",
    "\n",
    "The more general form of a first order Ordinary Differential Equation is: \n",
    "\\begin{equation}\n",
    "y^{'}=f(t,y).\n",
    "\\end{equation}\n",
    "This can be solved analytically by integrating both sides but this is not straight forward for most problems.\n",
    "Numerical methods can be used to approximate the solution at discrete points.\n"
   ]
  },
  {
   "cell_type": "code",
   "execution_count": 2,
   "metadata": {},
   "outputs": [
    {
     "name": "stderr",
     "output_type": "stream",
     "text": [
      "/Users/johnbutler/opt/anaconda3/envs/Numerical_and_ML_Methods_for_DE/lib/python3.11/site-packages/IPython/core/display.py:431: UserWarning: Consider using IPython.display.IFrame instead\n",
      "  warnings.warn(\"Consider using IPython.display.IFrame instead\")\n"
     ]
    },
    {
     "data": {
      "text/html": [
       "<iframe width=\"560\" height=\"315\" src=\"https://www.youtube.com/embed/AvQgGQAq4vI?si=5UCKUuSDliEI88Jg\" title=\"YouTube video player\" frameborder=\"0\" allow=\"accelerometer; autoplay; clipboard-write; encrypted-media; gyroscope; picture-in-picture; web-share\" allowfullscreen></iframe>"
      ],
      "text/plain": [
       "<IPython.core.display.HTML object>"
      ]
     },
     "execution_count": 2,
     "metadata": {},
     "output_type": "execute_result"
    }
   ],
   "source": [
    "from IPython.display import HTML\n",
    "\n",
    "HTML('<iframe width=\"560\" height=\"315\" src=\"https://www.youtube.com/embed/AvQgGQAq4vI?si=5UCKUuSDliEI88Jg\" title=\"YouTube video player\" frameborder=\"0\" allow=\"accelerometer; autoplay; clipboard-write; encrypted-media; gyroscope; picture-in-picture; web-share\" allowfullscreen></iframe>')"
   ]
  },
  {
   "cell_type": "markdown",
   "metadata": {
    "id": "DZGV6y7NDZtb"
   },
   "source": [
    "## Euler method\n",
    "\n",
    "The simplest one step numerical method is the Euler Method named after the most prolific of mathematicians [Leonhard Euler](https://en.wikipedia.org/wiki/Leonhard_Euler) (15 April 1707 – 18 September 1783) .\n",
    "\n",
    "The general Euler formula for the first order differential equation\n",
    "\\begin{equation}\n",
    "y^{'} = f(t,y), \n",
    "\\end{equation}\n",
    "\n",
    "approximates the derivative at time point $t_i$,\n",
    "\n",
    "\\begin{equation}\n",
    "y^{'}(t_i) \\approx \\frac{w_{i+1}-w_i}{t_{i+1}-t_{i}},\n",
    "\\end{equation}\n",
    "\n",
    "where $w_i$ is the approximate solution of $y$ at time $t_i$.\n",
    "\n",
    "This substitution changes the differential equation  into a __difference__ equation of the form \n",
    "\n",
    "\\begin{equation}\n",
    "\\frac{w_{i+1}-w_i}{t_{i+1}-t_{i}}=f(t_i,w_i). \n",
    "\\end{equation}\n",
    "\n",
    "Assuming uniform stepsize $t_{i+1}-t_{i}$ is replaced by $h$, re-arranging the equation gives\n",
    "\\begin{equation} \n",
    "w_{i+1}=w_i+hf(t_i,w_i).\n",
    "\\end{equation}\n",
    " This can be read as the future $w_{i+1}$ can be approximated by the present $w_i$ and the addition of the input to the system $f(t,y)$ times the time step.\n"
   ]
  },
  {
   "cell_type": "code",
   "execution_count": 1,
   "metadata": {
    "id": "mRGCHqPADZtc"
   },
   "outputs": [],
   "source": [
    "## Library\n",
    "import numpy as np\n",
    "import math \n",
    "import pandas as pd\n",
    "%matplotlib inline\n",
    "import matplotlib.pyplot as plt # side-stepping mpl backend\n",
    "import matplotlib.gridspec as gridspec # subplots\n",
    "import warnings\n",
    "\n",
    "warnings.filterwarnings(\"ignore\")\n"
   ]
  },
  {
   "cell_type": "markdown",
   "metadata": {
    "id": "Z-L1qD6FDZtd"
   },
   "source": [
    "## Population growth\n",
    "\n",
    "The general form of the population growth differential equation is: \n",
    "\\begin{equation} \n",
    "y^{'}=\\epsilon y \n",
    "\\end{equation}\n",
    "where $\\epsilon$ is the growth rate. The initial population at time $a$ is \n",
    "\\begin{equation} \n",
    "y(a)=A,\n",
    " \\end{equation}\n",
    "\\begin{equation}\n",
    " a\\leq t \\leq b. \n",
    "\\end{equation}\n",
    "Integrating gives  the general analytic (exact) solution: \n",
    "\\begin{equation}\n",
    " y=Ae^{\\epsilon t}. \n",
    "\\end{equation}\n",
    "We will use this equation to illustrate the application of the Euler method.\n",
    "      \n",
    "## Discrete Interval\n",
    "The continuous time $a\\leq t \\leq b $ is discretised into $N$ points seperated by a constant stepsize\n",
    "\\begin{equation} \n",
    "h=\\frac{b-a}{N}.\n",
    "\\end{equation}\n",
    "Here the interval is $0\\leq t \\leq 2$ \n",
    "\\begin{equation}\n",
    " h=\\frac{2-0}{20}=0.1,\n",
    "\\end{equation}\n",
    "this gives the 21 discrete points:\n",
    "\\begin{equation}\n",
    " t_0=0, \\ t_1=0.1, \\ ... t_{20}=2. \n",
    "\\end{equation}\n",
    "This is generalised to \n",
    "\\begin{equation}\n",
    "t_i=0+i0.1, \\ \\ \\ i=0,1,...,20.\n",
    "\\end{equation}\n",
    "The plot below shows the discrete time steps."
   ]
  },
  {
   "cell_type": "code",
   "execution_count": 2,
   "metadata": {
    "colab": {
     "base_uri": "https://localhost:8080/",
     "height": 281
    },
    "id": "3DIfCuFGDZtd",
    "outputId": "85e5b927-fc65-4f6b-bc71-9016e82f605f"
   },
   "outputs": [
    {
     "data": {
      "image/png": "[encoded data removed]",
      "text/plain": [
       "<Figure size 720x288 with 1 Axes>"
      ]
     },
     "metadata": {
      "needs_background": "light"
     },
     "output_type": "display_data"
    }
   ],
   "source": [
    "### Setting up time\n",
    "t_end=2.0\n",
    "t_start=0\n",
    "N=20\n",
    "h=(t_end-t_start)/(N)\n",
    "time=np.arange(t_start,t_end+0.01,h)\n",
    "fig = plt.figure(figsize=(10,4))\n",
    "plt.plot(time,0*time,'o:',color='red')\n",
    "plt.xlim((0,2))\n",
    "plt.title('Illustration of discrete time points for h=%s'%(h))\n",
    "plt.plot();"
   ]
  },
  {
   "cell_type": "markdown",
   "metadata": {
    "id": "clTk4dy-DZte"
   },
   "source": [
    "## Initial Condition\n",
    "To get a specify solution to a first order initial value problem, an __initial condition__ is required.\n",
    "\n",
    "For our population problem the intial condition is:\n",
    "\\begin{equation}\n",
    "y(0)=10.\n",
    "\\end{equation}\n",
    "This gives the analytic solution\n",
    "\\begin{equation}\n",
    "y=10e^{\\epsilon t}.\n",
    "\\end{equation}\n",
    "### Growth rate \n",
    "Let the growth rate\n",
    "\\begin{equation}\n",
    "\\epsilon=0.5\n",
    "\\end{equation}\n",
    "giving the analytic solution.\n",
    "\\begin{equation}\n",
    "y=10e^{0.5 t}.\n",
    "\\end{equation}\n",
    "The plot below shows the exact solution on the discrete time steps."
   ]
  },
  {
   "cell_type": "code",
   "execution_count": 3,
   "metadata": {
    "colab": {
     "base_uri": "https://localhost:8080/",
     "height": 295
    },
    "id": "sn9blzcGDZtf",
    "outputId": "3b552b52-5b1e-4f1c-c825-2a06da11e891"
   },
   "outputs": [
    {
     "data": {
      "image/png": "[encoded data removed]",
      "text/plain": [
       "<Figure size 720x288 with 1 Axes>"
      ]
     },
     "metadata": {
      "needs_background": "light"
     },
     "output_type": "display_data"
    }
   ],
   "source": [
    "## Analytic Solution y\n",
    "y=10*np.exp(0.5*time)\n",
    "\n",
    "fig = plt.figure(figsize=(10,4))\n",
    "plt.plot(time,y,'o:',color='black')\n",
    "plt.xlim((0,2))\n",
    "plt.xlabel('time')\n",
    "plt.ylabel('y')\n",
    "plt.title('Analytic (Exact) solution')\n",
    "plt.plot();"
   ]
  },
  {
   "cell_type": "markdown",
   "metadata": {
    "id": "GnFTxKeADZtf"
   },
   "source": [
    "## Numerical approximation of Population growth\n",
    "The differential equation is transformed using the Euler method into a difference equation of the form\n",
    "\\begin{equation} w_{i+1}=w_{i}+h \\epsilon w_i. \\end{equation}\n",
    "This approximates a series of of values $w_0, \\ w_1, \\ ..., w_{N}$.\n",
    "For the specific example of the population equation the difference equation is\n",
    "     \\begin{equation} w_{i+1}=w_{i}+h 0.5 w_i. \\end{equation}\n",
    "where $w_0=10$. From this initial condition the series is approximated.\n",
    "The plot below shows the exact solution $y$ in black circles and Euler approximation $w$ in blue squares. "
   ]
  },
  {
   "cell_type": "code",
   "execution_count": 4,
   "metadata": {
    "colab": {
     "base_uri": "https://localhost:8080/",
     "height": 295
    },
    "id": "Pl9nDiWrDZtg",
    "outputId": "5e9beb39-22b2-42a0-85a9-5c10fdfaa945"
   },
   "outputs": [
    {
     "data": {
      "image/png": "[encoded data removed]",
      "text/plain": [
       "<Figure size 720x288 with 1 Axes>"
      ]
     },
     "metadata": {
      "needs_background": "light"
     },
     "output_type": "display_data"
    }
   ],
   "source": [
    "w=np.zeros(N+1)\n",
    "w[0]=10\n",
    "for i in range (0,N):\n",
    "    w[i+1]=w[i]+h*(0.5)*w[i]\n",
    "\n",
    "fig = plt.figure(figsize=(10,4))\n",
    "plt.plot(time,y,'o:',color='black',label='exact')\n",
    "plt.plot(time,w,'s:',color='blue',label='Euler')\n",
    "plt.xlim((0,2))\n",
    "plt.xlabel('time')\n",
    "plt.legend(loc='best')\n",
    "plt.title('Analytic and Euler solution')\n",
    "plt.plot();"
   ]
  },
  {
   "cell_type": "markdown",
   "metadata": {
    "id": "zY0_-apQDZth"
   },
   "source": [
    "## Numerical Error\n",
    "With a numerical solution there are two types of error: \n",
    "* local truncation error at one time step; \n",
    "* global error which is the propagation of local error. \n",
    "\n",
    "### Derivation of  Euler Local truncation error\n",
    "The left hand side of a initial value problem $\\frac{dy}{dt}$ is approximated by __Taylors theorem__ expand about a point $t_0$ giving:\n",
    "\\begin{equation}\n",
    "y(t_1) = y(t_0)+(t_1-t_0)y^{'}(t_0) + \\frac{(t_1-t_0)^2}{2!}y^{''}(\\xi), \\ \\ \\ \\ \\ \\ \\xi \\in [t_0,t_1]. \n",
    "\\end{equation}\n",
    "Rearranging and letting $h=t_1-t_0$ the equation becomes\n",
    "\\begin{equation}\n",
    "y^{'}(t_0)=\\frac{y(t_1)-y(t_0)}{h}-\\frac{h}{2}y^{''}(\\xi). \n",
    "\\end{equation}\n",
    "From this the local truncation error is\n",
    "\\begin{equation}\n",
    "\\tau y^{'}(t_0)\\leq \\frac{h}{2}M  \n",
    "\\end{equation}\n",
    "where $y^{''}(t) \\leq M $.\n",
    "#### Derivation of  Euler Local truncation error for the Population Growth\n",
    "In most cases $y$ is unknown but in our example problem there is an exact solution which can be used to estimate the local truncation\n",
    "\\begin{equation}\n",
    "y'(t)=5e^{0.5 t},\n",
    "\\end{equation}\n",
    "\\begin{equation}\n",
    "y''(t)=2.5e^{0.5 t}.\n",
    "\\end{equation}\n",
    "From this a maximum upper limit can be calculated for $y^{''} $ on the interval $[t_0,t_1]=[0,0.1]$\n",
    "\\begin{equation}\n",
    "y''(0.1)=2.5e^{0.1\\times 0.5}=2.63=M,\n",
    "\\end{equation}\n",
    "\\begin{equation}\n",
    "\\tau=\\frac{h}{2}2.63=0.1315. \n",
    "\\end{equation}\n",
    "The plot below shows the exact local truncation error $|y-w|$ (red triangle) and the upper limit of the Truncation error (black v) for the first two time points $t_0$ and $t_1$."
   ]
  },
  {
   "cell_type": "code",
   "execution_count": 5,
   "metadata": {
    "colab": {
     "base_uri": "https://localhost:8080/",
     "height": 295
    },
    "id": "SSrzg2xODZth",
    "outputId": "b901cf51-153c-47cf-a034-5ee1d4464f7b"
   },
   "outputs": [
    {
     "data": {
      "image/png": "[encoded data removed]",
      "text/plain": [
       "<Figure size 720x288 with 1 Axes>"
      ]
     },
     "metadata": {
      "needs_background": "light"
     },
     "output_type": "display_data"
    }
   ],
   "source": [
    "fig = plt.figure(figsize=(10,4))\n",
    "plt.plot(time[0:2],np.abs(w[0:2]-y[0:2]),'^:'\n",
    "         ,color='red',label='Error |y-w|')\n",
    "plt.plot(time[0:2],0.1*2.63/2*np.ones(2),'v:'\n",
    "         ,color='black',label='Upper Local Truncation')\n",
    "plt.xlim((0,.15))\n",
    "plt.xlabel('time')\n",
    "plt.legend(loc='best')\n",
    "plt.title('Local Truncation Error')\n",
    "plt.plot();"
   ]
  },
  {
   "cell_type": "markdown",
   "metadata": {
    "id": "HleTTv83DZti"
   },
   "source": [
    "## Global Error\n",
    "The error does not stay constant accross the time this is illustrated in the figure below for the population growth equation. The actual error (red triangles) increases over time while the local truncation error (black v) remains constant."
   ]
  },
  {
   "cell_type": "code",
   "execution_count": 6,
   "metadata": {
    "colab": {
     "base_uri": "https://localhost:8080/",
     "height": 295
    },
    "id": "pSNanPNoDZti",
    "outputId": "56c35420-212d-4e3a-b2e1-e7c9564efabc"
   },
   "outputs": [
    {
     "data": {
      "image/png": "[encoded data removed]",
      "text/plain": [
       "<Figure size 720x288 with 1 Axes>"
      ]
     },
     "metadata": {
      "needs_background": "light"
     },
     "output_type": "display_data"
    }
   ],
   "source": [
    "fig = plt.figure(figsize=(10,4))\n",
    "plt.plot(time,np.abs(w-y),'^:'\n",
    "         ,color='red',label='Error |y-w|')\n",
    "plt.plot(time,0.1*2.63/2*np.ones(N+1),'v:'\n",
    "         ,color='black',label='Upper Local Truncation')\n",
    "plt.xlim((0,2))\n",
    "plt.xlabel('time')\n",
    "plt.legend(loc='best')\n",
    "plt.title('Why Local Truncation does not extend to global')\n",
    "plt.plot();"
   ]
  },
  {
   "cell_type": "markdown",
   "metadata": {
    "id": "IQop9PYdDZti"
   },
   "source": [
    "## Theorems\n",
    "To theorem below proves an upper limit of the global truncation error."
   ]
  },
  {
   "cell_type": "code",
   "execution_count": 3,
   "metadata": {},
   "outputs": [
    {
     "data": {
      "text/html": [
       "<iframe width=\"560\" height=\"315\" src=\"https://www.youtube.com/embed/9ZIx7y2s11k?si=yymAEzoxWp9pvWTN\" title=\"YouTube video player\" frameborder=\"0\" allow=\"accelerometer; autoplay; clipboard-write; encrypted-media; gyroscope; picture-in-picture; web-share\" allowfullscreen></iframe>"
      ],
      "text/plain": [
       "<IPython.core.display.HTML object>"
      ]
     },
     "execution_count": 3,
     "metadata": {},
     "output_type": "execute_result"
    }
   ],
   "source": [
    "HTML('<iframe width=\"560\" height=\"315\" src=\"https://www.youtube.com/embed/9ZIx7y2s11k?si=yymAEzoxWp9pvWTN\" title=\"YouTube video player\" frameborder=\"0\" allow=\"accelerometer; autoplay; clipboard-write; encrypted-media; gyroscope; picture-in-picture; web-share\" allowfullscreen></iframe>')"
   ]
  },
  {
   "cell_type": "markdown",
   "metadata": {
    "id": "IQop9PYdDZti"
   },
   "source": [
    "### Euler Global Error\n",
    "__Theorem Global Error__\n",
    "\n",
    "Suppose $f$ is continuous and satisfies a Lipschitz Condition with constant\n",
    "L on $D=\\{(t,y)|a\\leq t \\leq b, -\\infty < y < \\infty \\}$ and that a constant M\n",
    "exists with the property that \n",
    "\\begin{equation}\n",
    "|y^{''}(t)|\\leq M. \n",
    "\\end{equation}\n",
    "Let $y(t)$ denote the unique solution of the Initial Value Problem\n",
    "\n",
    "\\begin{equation}\n",
    "y^{'}=f(t,y) \\ \\ \\ a\\leq t \\leq b, \\ \\ \\ y(a)=\\alpha, \n",
    "\\end{equation}\n",
    "and $w_0,w_1,...,w_N$ be the approx generated by the Euler method for some\n",
    "positive integer N.  Then for $i=0,1,...,N$\n",
    "\\begin{equation}\n",
    "|y(t_i)-w_i| \\leq \\frac{Mh}{2L}|e^{L(t_i-a)}-1|. \n",
    "\\end{equation}\n",
    "\n",
    "### Theorems about Ordinary Differential Equations\n",
    "__Definition__\n",
    "\n",
    "A function $f(t,y)$ is said to satisfy a __Lipschitz Condition__ in the variable $y$ on \n",
    "the set $D \\subset R^2$ if a constant $L>0$ exist with the property that\n",
    "\\begin{equation}\n",
    "|f(t,y_1)-f(t,y_2)| < L|y_1-y_2| \n",
    "\\end{equation}\n",
    "whenever $(t,y_1),(t,y_2) \\in D$.  The constant L is call the Lipschitz Condition\n",
    "of $f$.\n",
    "\n",
    "__Theorem__\n",
    "Suppose $f(t,y)$ is defined on a convex set $D \\subset R^2$. If a constant\n",
    "$L>0$ exists with\n",
    "\\begin{equation}\n",
    "L\\leq \\left|\\frac{\\partial f(t,y)}{\\partial y}\\right|,\n",
    "\\end{equation}\n",
    "then $f$ satisfies a Lipschitz Condition an $D$ in the variable $y$ with\n",
    "Lipschitz constant L."
   ]
  },
  {
   "cell_type": "markdown",
   "metadata": {
    "collapsed": true,
    "id": "3zrqaCFmDZtj"
   },
   "source": [
    "### Global truncation error for the population equation\n",
    "For the population equation specific values $L$ and $M$ can be calculated.\n",
    "\n",
    "In this case $f(t,y)=\\epsilon y$ is continuous and satisfies a Lipschitz Condition with constant\n",
    "L\\leq \\begin{equation} \\left|\\frac{\\partial f(t,y)}{\\partial y}\\right|, \\end{equation}\n",
    "\\begin{equation} \\left|\\frac{\\partial \\epsilon y}{\\partial y}\\right|= \\epsilon=0.5=L, \\end{equation}\n",
    "\n",
    "on $D=\\{(t,y)|0\\leq t \\leq 2, 10 < y < 30 \\}$ and that a constant $M$\n",
    "exists with the property that \n",
    "\\begin{equation} |y^{''}(t)|\\leq M. \\end{equation}\n",
    "\\begin{equation} |y^{''}(t)|=2.5e^{0.5\\times 2} \\leq 2.5 e=6.8. \\end{equation}\n",
    "\n",
    "__Specific Theorem Global Error__\n",
    "\n",
    "Let $y(t)$ denote the unique solution of the Initial Value Problem\n",
    "\\begin{equation} y^{'}=0.5 y \\ \\ \\ 0\\leq t \\leq 10 \\ \\ \\ y(0)=10 \\end{equation}\n",
    "and $w_0,w_1,...,w_N$ be the approx generated by the Euler method for some\n",
    "positive integer N.  Then for $i=0,1,...,N$\n",
    "\\begin{equation} |y(t_i)-w_i| \\leq \\frac{6.8 h}{2\\times 0.5}|e^{0.5(t_i-0)}-1| \\end{equation}\n",
    "\n",
    "The figure below shows the exact error $y-w$ in red triangles and the upper global error in black x's."
   ]
  },
  {
   "cell_type": "code",
   "execution_count": 7,
   "metadata": {
    "colab": {
     "base_uri": "https://localhost:8080/",
     "height": 295
    },
    "id": "qqiuoTubDZtj",
    "outputId": "b61db6c1-0fef-4e9f-99d7-4505a0c13fa3"
   },
   "outputs": [
    {
     "data": {
      "image/png": "[encoded data removed]",
      "text/plain": [
       "<Figure size 720x288 with 1 Axes>"
      ]
     },
     "metadata": {
      "needs_background": "light"
     },
     "output_type": "display_data"
    }
   ],
   "source": [
    "fig = plt.figure(figsize=(10,4))\n",
    "plt.plot(time,np.abs(w-y),'^:'\n",
    "         ,color='red',label='Error |y-w|')\n",
    "plt.plot(time,0.1*6.8*(np.exp(0.5*time)-1),'x:'\n",
    "         ,color='black',label='Upper Global Truncation')\n",
    "plt.xlim((0,2))\n",
    "plt.xlabel('time')\n",
    "plt.legend(loc='best')\n",
    "plt.title('Global Truncation Error')\n",
    "plt.plot();"
   ]
  },
  {
   "cell_type": "markdown",
   "metadata": {
    "id": "MfU9ysZqDZtj"
   },
   "source": [
    "### Table\n",
    "The table below shows the iteration $i$, the discrete time point t[i], the Euler approximation w[i] of the solution $y$, the exact error $|y-w|$ and the upper limit of the global error for the linear population equation."
   ]
  },
  {
   "cell_type": "code",
   "execution_count": 8,
   "metadata": {
    "colab": {
     "base_uri": "https://localhost:8080/",
     "height": 357
    },
    "id": "5Bfy2oKdDZtk",
    "outputId": "90902e25-b8bc-4a7c-8a10-951fc6a9c0ae"
   },
   "outputs": [
    {
     "data": {
      "text/html": [
       "<div>\n",
       "<style scoped>\n",
       "    .dataframe tbody tr th:only-of-type {\n",
       "        vertical-align: middle;\n",
       "    }\n",
       "\n",
       "    .dataframe tbody tr th {\n",
       "        vertical-align: top;\n",
       "    }\n",
       "\n",
       "    .dataframe thead th {\n",
       "        text-align: right;\n",
       "    }\n",
       "</style>\n",
       "<table border=\"1\" class=\"dataframe\">\n",
       "  <thead>\n",
       "    <tr style=\"text-align: right;\">\n",
       "      <th></th>\n",
       "      <th>time t_i</th>\n",
       "      <th>Euler (w_i)</th>\n",
       "      <th>Exact (y)</th>\n",
       "      <th>Exact Error (|y_i-w_i|)</th>\n",
       "      <th>Global Error</th>\n",
       "    </tr>\n",
       "  </thead>\n",
       "  <tbody>\n",
       "    <tr>\n",
       "      <th>0</th>\n",
       "      <td>0.0</td>\n",
       "      <td>10.000000</td>\n",
       "      <td>10.000000</td>\n",
       "      <td>0.000000</td>\n",
       "      <td>0.000000</td>\n",
       "    </tr>\n",
       "    <tr>\n",
       "      <th>1</th>\n",
       "      <td>0.1</td>\n",
       "      <td>10.500000</td>\n",
       "      <td>10.512711</td>\n",
       "      <td>0.012711</td>\n",
       "      <td>0.034864</td>\n",
       "    </tr>\n",
       "    <tr>\n",
       "      <th>2</th>\n",
       "      <td>0.2</td>\n",
       "      <td>11.025000</td>\n",
       "      <td>11.051709</td>\n",
       "      <td>0.026709</td>\n",
       "      <td>0.071516</td>\n",
       "    </tr>\n",
       "    <tr>\n",
       "      <th>3</th>\n",
       "      <td>0.3</td>\n",
       "      <td>11.576250</td>\n",
       "      <td>11.618342</td>\n",
       "      <td>0.042092</td>\n",
       "      <td>0.110047</td>\n",
       "    </tr>\n",
       "    <tr>\n",
       "      <th>4</th>\n",
       "      <td>0.4</td>\n",
       "      <td>12.155062</td>\n",
       "      <td>12.214028</td>\n",
       "      <td>0.058965</td>\n",
       "      <td>0.150554</td>\n",
       "    </tr>\n",
       "    <tr>\n",
       "      <th>5</th>\n",
       "      <td>0.5</td>\n",
       "      <td>12.762816</td>\n",
       "      <td>12.840254</td>\n",
       "      <td>0.077439</td>\n",
       "      <td>0.193137</td>\n",
       "    </tr>\n",
       "    <tr>\n",
       "      <th>6</th>\n",
       "      <td>0.6</td>\n",
       "      <td>13.400956</td>\n",
       "      <td>13.498588</td>\n",
       "      <td>0.097632</td>\n",
       "      <td>0.237904</td>\n",
       "    </tr>\n",
       "    <tr>\n",
       "      <th>7</th>\n",
       "      <td>0.7</td>\n",
       "      <td>14.071004</td>\n",
       "      <td>14.190675</td>\n",
       "      <td>0.119671</td>\n",
       "      <td>0.284966</td>\n",
       "    </tr>\n",
       "    <tr>\n",
       "      <th>8</th>\n",
       "      <td>0.8</td>\n",
       "      <td>14.774554</td>\n",
       "      <td>14.918247</td>\n",
       "      <td>0.143693</td>\n",
       "      <td>0.334441</td>\n",
       "    </tr>\n",
       "    <tr>\n",
       "      <th>9</th>\n",
       "      <td>0.9</td>\n",
       "      <td>15.513282</td>\n",
       "      <td>15.683122</td>\n",
       "      <td>0.169840</td>\n",
       "      <td>0.386452</td>\n",
       "    </tr>\n",
       "  </tbody>\n",
       "</table>\n",
       "</div>"
      ],
      "text/plain": [
       "   time t_i  Euler (w_i)   Exact (y)  Exact Error (|y_i-w_i|)  Global Error \n",
       "0       0.0     10.000000  10.000000                 0.000000       0.000000\n",
       "1       0.1     10.500000  10.512711                 0.012711       0.034864\n",
       "2       0.2     11.025000  11.051709                 0.026709       0.071516\n",
       "3       0.3     11.576250  11.618342                 0.042092       0.110047\n",
       "4       0.4     12.155062  12.214028                 0.058965       0.150554\n",
       "5       0.5     12.762816  12.840254                 0.077439       0.193137\n",
       "6       0.6     13.400956  13.498588                 0.097632       0.237904\n",
       "7       0.7     14.071004  14.190675                 0.119671       0.284966\n",
       "8       0.8     14.774554  14.918247                 0.143693       0.334441\n",
       "9       0.9     15.513282  15.683122                 0.169840       0.386452"
      ]
     },
     "execution_count": 8,
     "metadata": {},
     "output_type": "execute_result"
    }
   ],
   "source": [
    "\n",
    "d = {'time t_i': time[0:10],    'Euler (w_i) ':w[0:10],'Exact (y)':y[0:10],'Exact Error (|y_i-w_i|)':np.round(np.abs(w[0:10]-y[0:10]),10),r'Global Error ':np.round(0.1*6.8*(np.exp(0.5*time[0:10])-1),20)}\n",
    "df = pd.DataFrame(data=d)\n",
    "df"
   ]
  },
  {
   "cell_type": "code",
   "execution_count": null,
   "metadata": {
    "id": "_dSUUYJWDZtk"
   },
   "outputs": [],
   "source": []
  }
 ],
 "metadata": {
  "colab": {
   "include_colab_link": true,
   "name": "101_Euler_method_with_Theorems_Growth_function.ipynb",
   "provenance": []
  },
  "kernelspec": {
   "display_name": "Python 3 (ipykernel)",
   "language": "python",
   "name": "python3"
  },
  "language_info": {
   "codemirror_mode": {
    "name": "ipython",
    "version": 3
   },
   "file_extension": ".py",
   "mimetype": "text/x-python",
   "name": "python",
   "nbconvert_exporter": "python",
   "pygments_lexer": "ipython3",
   "version": "3.11.4"
  }
 },
 "nbformat": 4,
 "nbformat_minor": 1
}
