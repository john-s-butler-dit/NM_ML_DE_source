{
  "nbformat": 4,
  "nbformat_minor": 0,
  "metadata": {
    "kernelspec": {
      "display_name": "Python 3",
      "language": "python",
      "name": "python3"
    },
    "language_info": {
      "codemirror_mode": {
        "name": "ipython",
        "version": 3
      },
      "file_extension": ".py",
      "mimetype": "text/x-python",
      "name": "python",
      "nbconvert_exporter": "python",
      "pygments_lexer": "ipython3",
      "version": "3.7.9"
    },
    "colab": {
      "name": "02_RK Mid point Example - Review Question 7b.ipynb",
      "provenance": [],
      "include_colab_link": true
    }
  },
  "cells": [
    {
      "cell_type": "markdown",
      "metadata": {
        "id": "view-in-github",
        "colab_type": "text"
      },
      "source": [
        "<a href=\"https://colab.research.google.com/github/john-s-butler-dit/Numerical-Analysis-Python/blob/master/Chapter%2003%20-%20Runge%20Kutta/Supplementary/02_RK%20Mid%20point%20Example%20-%20Review%20Question%207b.ipynb\" target=\"_parent\"><img src=\"https://colab.research.google.com/assets/colab-badge.svg\" alt=\"Open In Colab\"/></a>"
      ]
    },
    {
      "cell_type": "markdown",
      "metadata": {
        "id": "QoETHtBnjCiM"
      },
      "source": [
        "## Problem Sheet 3 Question 7b\n",
        "\n",
        "The general form of the population growth differential equation\n",
        "\\begin{equation} y^{'}-y+x=0, \\ \\ (0 \\leq x \\leq 1) \\end{equation}\n",
        "with the initial condition\n",
        "\\begin{equation}y(0)=0\\end{equation}\n",
        "For h=0.2.\n",
        "# Midpoint method Solution\n",
        "\\begin{equation}\n",
        "\\frac{w_{i+1}-w_i}{h}=f(x_i+\\frac{h}{2},w_i+\\frac{h}{2}f(x_i,w_i))\n",
        "\\end{equation}\n",
        "Rearranging \n",
        "\\begin{equation}\n",
        "w_{i+1}=w_i+hf(x_i+\\frac{h}{2},w_i+\\frac{h}{2}f(x_i,w_i))\n",
        "\\end{equation}\n",
        "\\begin{equation}\n",
        "w_{i+1}=w_i+h(k_2)\n",
        "\\end{equation}\n",
        "\\begin{equation}\n",
        "k_1=w_i-x_i+2\n",
        "\\end{equation}\n",
        "\\begin{equation}\n",
        "k_2=w_i+\\frac{h}{2}k_1-(x_i+\\frac{h}{2})+2)\n",
        "\\end{equation}"
      ]
    },
    {
      "cell_type": "code",
      "metadata": {
        "id": "n99haWpQjCiP"
      },
      "source": [
        "import numpy as np\n",
        "import math \n",
        "%matplotlib inline\n",
        "import matplotlib.pyplot as plt # side-stepping mpl backend\n",
        "import matplotlib.gridspec as gridspec # subplots\n",
        "import warnings\n",
        "warnings.filterwarnings(\"ignore\")"
      ],
      "execution_count": 1,
      "outputs": []
    },
    {
      "cell_type": "code",
      "metadata": {
        "id": "L538FCiUjCiR"
      },
      "source": [
        "def myfun_xy(x,y):\n",
        "    return y-x+2\n",
        "\n",
        "#PLOTS\n",
        "def Midpoint_Question2(N,IC):\n",
        "\n",
        "    x_start=0\n",
        "    INTITIAL_CONDITION=IC\n",
        "    h=0.2\n",
        "    N=N+1\n",
        "    x=np.zeros(N)\n",
        "    w=np.zeros(N)\n",
        "    k_mat=np.zeros((2,N))\n",
        "    k=0\n",
        "    w[0]=INTITIAL_CONDITION\n",
        "    x[0]=x_start\n",
        "    \n",
        "    for k in range (0,N-1):\n",
        "        k_mat[0,k]=myfun_xy(x[k],w[k])\n",
        "        k_mat[1,k]=myfun_xy(x[k]+h/2,w[k]+h/2*k_mat[0,k])\n",
        "        w[k+1]=w[k]+h*(k_mat[1,k])\n",
        "        x[k+1]=x[k]+h\n",
        "\n",
        "\n",
        "    fig = plt.figure(figsize=(10,4))\n",
        "    plt.plot(x,w,'-.o',color='blue')\n",
        "    plt.title('Numerical Solution h=%s'%(h))\n",
        "\n",
        "    # --- title, explanatory text and save\n",
        "    fig.suptitle(r\"$y'=y-x+2$\", fontsize=20)\n",
        "    plt.tight_layout()\n",
        "    plt.subplots_adjust(top=0.85)    \n",
        "    print('x')\n",
        "    print(x)\n",
        "    print('k1')\n",
        "    print(k_mat[0,:])\n",
        "    print('k2')\n",
        "    print(k_mat[1,:])\n",
        "    print('w')\n",
        "    print(w)"
      ],
      "execution_count": 2,
      "outputs": []
    },
    {
      "cell_type": "code",
      "metadata": {
        "id": "tKYx2zjfjCiR",
        "outputId": "0879d7a5-a19e-41ae-c11b-a2417db7fc6a",
        "colab": {
          "base_uri": "https://localhost:8080/",
          "height": 437
        }
      },
      "source": [
        "# Midpoint_Question2(N,IC)\n",
        "Midpoint_Question2(5,1)"
      ],
      "execution_count": 3,
      "outputs": [
        {
          "output_type": "stream",
          "name": "stdout",
          "text": [
            "x\n",
            "[0.  0.2 0.4 0.6 0.8 1. ]\n",
            "k1\n",
            "[3.         3.44       3.9768     4.631696   5.43066912 0.        ]\n",
            "k2\n",
            "[3.2        3.684      4.27448    4.9948656  5.87373603 0.        ]\n",
            "w\n",
            "[1.         1.64       2.3768     3.231696   4.23066912 5.40541633]\n"
          ]
        },
        {
          "output_type": "display_data",
          "data": {
            "image/png": "[encoded data removed]",
            "text/plain": [
              "<Figure size 720x288 with 1 Axes>"
            ]
          },
          "metadata": {
            "needs_background": "light"
          }
        }
      ]
    },
    {
      "cell_type": "code",
      "metadata": {
        "collapsed": true,
        "id": "9fSe4Z56jCiS"
      },
      "source": [
        ""
      ],
      "execution_count": 3,
      "outputs": []
    },
    {
      "cell_type": "code",
      "metadata": {
        "collapsed": true,
        "id": "fEDshkBQjCiT"
      },
      "source": [
        ""
      ],
      "execution_count": 3,
      "outputs": []
    }
  ]
}