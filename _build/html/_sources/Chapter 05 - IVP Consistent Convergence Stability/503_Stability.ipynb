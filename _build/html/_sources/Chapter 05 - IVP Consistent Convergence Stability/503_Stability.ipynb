{
  "nbformat": 4,
  "nbformat_minor": 0,
  "metadata": {
    "kernelspec": {
      "display_name": "Python 3",
      "language": "python",
      "name": "python3"
    },
    "language_info": {
      "codemirror_mode": {
        "name": "ipython",
        "version": 3
      },
      "file_extension": ".py",
      "mimetype": "text/x-python",
      "name": "python",
      "nbconvert_exporter": "python",
      "pygments_lexer": "ipython3",
      "version": "3.7.9"
    },
    "colab": {
      "name": "503_Stability.ipynb",
      "provenance": [],
      "include_colab_link": true
    }
  },
  "cells": [
    {
      "cell_type": "markdown",
      "metadata": {
        "id": "view-in-github",
        "colab_type": "text"
      },
      "source": [
        "<a href=\"https://colab.research.google.com/github/john-s-butler-dit/Numerical-Analysis-Python/blob/master/Chapter%2005%20-%20IVP%20Consistent%20Convergence%20Stability/503_Stability.ipynb\" target=\"_parent\"><img src=\"https://colab.research.google.com/assets/colab-badge.svg\" alt=\"Open In Colab\"/></a>"
      ]
    },
    {
      "cell_type": "markdown",
      "metadata": {
        "id": "Slm9La2lQd_y"
      },
      "source": [
        "# Stability of a Multistep method\n",
        "\n",
        "#### John S Butler \n",
        "john.s.butler@tudublin.ie \n",
        "\n",
        "[Course Notes](https://johnsbutler.netlify.com/files/Teaching/Numerical_Analysis_for_Differential_Equations.pdf)    [Github](https://github.com/john-s-butler-dit/Numerical-Analysis-Python)"
      ]
    },
    {
      "cell_type": "markdown",
      "metadata": {
        "id": "rjz9aQfcQd_z"
      },
      "source": [
        "## Overview\n",
        "A one-step or multistep method is used to approximate the solution of an initial value problem of the form\n",
        "\\begin{equation} \\frac{dy}{dt}=f(t,y),\\end{equation}\n",
        "with the initial condition\n",
        "\\begin{equation} y(a)=\\alpha.\\end{equation}\n",
        "The method should only be used if it satisfies the three criteria:\n",
        "1. that difference equation is consistent with the differential equation;\n",
        "2. that the numerical solution converges to the exact answer of the differential equation;\n",
        "3. that the numerical solution is stable.\n",
        "\n",
        "In the notebooks in this folder we will illustate examples of consistent and inconsistent, convergent and non-convergent, and stable and unstable methods. \n",
        "\n",
        "This notebook focuses on stable and unstable methods. The video below outlines the notebook."
      ]
    },
    {
      "cell_type": "code",
      "metadata": {
        "id": "tSDjdyrIQd_1",
        "colab": {
          "base_uri": "https://localhost:8080/",
          "height": 336
        },
        "outputId": "6bdde7a4-1e2b-4398-a499-f3aadf47856c"
      },
      "source": [
        "from IPython.display import HTML\n",
        "HTML('<iframe width=\"560\" height=\"315\" src=\"https://www.youtube.com/embed/c0Gr5mM3Np0\" frameborder=\"0\" allow=\"accelerometer; autoplay; clipboard-write; encrypted-media; gyroscope; picture-in-picture\" allowfullscreen></iframe>')"
      ],
      "execution_count": 1,
      "outputs": [
        {
          "output_type": "execute_result",
          "data": {
            "text/html": [
              "<iframe width=\"560\" height=\"315\" src=\"https://www.youtube.com/embed/c0Gr5mM3Np0\" frameborder=\"0\" allow=\"accelerometer; autoplay; clipboard-write; encrypted-media; gyroscope; picture-in-picture\" allowfullscreen></iframe>"
            ],
            "text/plain": [
              "<IPython.core.display.HTML object>"
            ]
          },
          "metadata": {},
          "execution_count": 1
        }
      ]
    },
    {
      "cell_type": "markdown",
      "metadata": {
        "id": "BQw_0RUEQd_5"
      },
      "source": [
        "## Introduction to unstable\n",
        "This notebook illustrates an unstable multistep method for numerically approximating an initial value problem\n",
        "\\begin{equation} \\frac{dy}{dt}=f(t,y), \\end{equation}\n",
        "with the initial condition\n",
        "\\begin{equation} y(a)=\\alpha,\\end{equation}\n",
        "using the Modified Abysmal Kramer-Butler method. The method is named after the great [Cosmo Kramer]( https://en.wikipedia.org/wiki/Cosmo_Kramer) and myself [John Butler](https://johnsbutler.netlify.com).\n",
        "\n",
        "## 2-step Abysmal Kramer-Butler Method\n",
        "\n",
        "The 2-step Abysmal Kramer-Butler difference equation is given by\n",
        "\\begin{equation}w_{i+1} = w_{i-1} + h(4f(t_i,w_i)-2f(t_{i-1},w_{i-1})) \\end{equation}\n",
        "by changing $F$, the Modified Abysmal Butler Method (see convergent and consistent notebooks), the Abysmal Kramer-Butler method is consistent with the differential equation and convergent with the exact solution (see below for proof).\n",
        "But the most important thing is that method is weakly stable, it fluctuates widely around the exact answer, just like it's name sake Kramer (for examples see any Seinfeld episode)."
      ]
    },
    {
      "cell_type": "markdown",
      "metadata": {
        "id": "E0xiYTTnQd_6"
      },
      "source": [
        "## Definition of Stability\n",
        "The stability of a numerical method is not as tangable as consistency and convergence but when you see an unstable solution it is obvious.\n",
        "\n",
        "\n",
        "To determine the stabilty of a multistep method we need three definitions:\n",
        "\n",
        "\n",
        "### Definition: Characteristic Equation\n",
        "Associated with the difference equation \n",
        "\\begin{equation} w_0=\\alpha \\ \\ \\ w_1=\\alpha_1 \\ \\ \\ ... \\ \\ \\ w_{m-1}=\\alpha_{m-1} \\end{equation}\n",
        "\\begin{equation}w_{i+1} = a_{m-1}w_{i}+a_{m-2}w_{i-1}+...+a_{0}w_{i+1-m} +hF(t_i,h,w_{i+1},...,w_{i+1-m}),\\end{equation}\n",
        "is the __characteristic equation__ given by\n",
        "\\begin{equation}\\lambda^{m} - a_{m-1}\\lambda^{m-1}-a_{m-2}\\lambda^{m-2}-...-a_{0} =0. \\end{equation}\n",
        "\n",
        "### Definition: Root Condition \n",
        "\n",
        "Let $\\lambda_1,...,\\lambda_m$ denote the roots of the that characteristic equation\n",
        "\\begin{equation}\\lambda^{m} - a_{m-1}\\lambda^{m-1}-a_{m-2}\\lambda^{m-2}-...-a_{0} =0 \\end{equation}\n",
        "associated with the multi-step difference method\n",
        "\\begin{equation} w_0=\\alpha \\ \\ \\ w_1=\\alpha_1 \\ \\ \\ ... \\ \\ \\ w_{m-1}=\\alpha_{m-1} \\end{equation}\n",
        "\\begin{equation} w_{i+1} = a_{m-1}w_{i}+a_{m-2}w_{i-1}+...+a_{0}w_{i+1-m} +hF(t_i,h,w_{i+1},...,w_{i+1-m}),\\end{equation}\n",
        "If $|\\lambda_{i}|\\leq 1$ for each $i=1,...,m$ and all roots with absolute value 1\n",
        "are simple roots then the difference equation is said to satisfy the __root condition__.\n",
        "\n",
        "### Definition: Stability\n",
        "1. Methods that satisfy the root condition and have $\\lambda=1$ as the only root \n",
        "of the characteristic equation of magnitude one and all other roots are 0 are called __strongly stable__;\n",
        "2. Methods that satisfy the root condition and have more than one distinct root\n",
        "with magnitude one are called __weakly stable__;\n",
        "3. Methods that do not satisfy the root condition are called __unstable__.\n",
        "\n",
        "All one step methods, Adams-Bashforth and Adams-Moulton methods are all stongly stable.\n",
        "\n",
        "\n",
        "\n",
        "## Intial Value Problem\n",
        "To illustrate stability we will apply the method to a linear intial value problem given by\n",
        "\\begin{equation}y^{'}=t-y, \\ \\ (0 \\leq t \\leq 2), \\end{equation}\n",
        "with the initial condition\n",
        "\\begin{equation}y(0)=1,\\end{equation}\n",
        "with the exact solution\n",
        "\\begin{equation}y(t)= 2e^{-t}+t-1.\\end{equation}"
      ]
    },
    {
      "cell_type": "markdown",
      "metadata": {
        "id": "9UpHqoOlQd_7"
      },
      "source": [
        "## Python Libraries"
      ]
    },
    {
      "cell_type": "code",
      "metadata": {
        "id": "OrZM8puGQd_8"
      },
      "source": [
        "import numpy as np\n",
        "\n",
        "\n",
        "%matplotlib inline\n",
        "import matplotlib.pyplot as plt # side-stepping mpl backend\n",
        "import matplotlib.gridspec as gridspec # subplots\n",
        "import warnings\n",
        "import pandas as pd\n",
        "\n",
        "warnings.filterwarnings(\"ignore\")"
      ],
      "execution_count": 2,
      "outputs": []
    },
    {
      "cell_type": "markdown",
      "metadata": {
        "id": "ULRF_gMZQd__"
      },
      "source": [
        "### Defining the function\n",
        "$$ f(t,y)=t-y.\\end{equation}"
      ]
    },
    {
      "cell_type": "code",
      "metadata": {
        "id": "JendtjxoQd__"
      },
      "source": [
        "def myfun_ty(t,y):\n",
        "    return t-y"
      ],
      "execution_count": 3,
      "outputs": []
    },
    {
      "cell_type": "markdown",
      "metadata": {
        "id": "C3FvO2V8QeAB"
      },
      "source": [
        "## Discrete Interval\n",
        "Defining the step size  $h$  from the interval range  $a \\leq t \\leq b$  and number of steps  $N$ \n",
        "\\begin{equation}h=\\frac{b-a}{N}.\\end{equation}\n",
        " \n",
        "This gives the discrete time steps,\n",
        "\\begin{equation}t_i=t_0+ih,\\end{equation}\n",
        "where  $t_0=a.$"
      ]
    },
    {
      "cell_type": "code",
      "metadata": {
        "id": "MG1dErxRQeAC",
        "colab": {
          "base_uri": "https://localhost:8080/",
          "height": 281
        },
        "outputId": "8683ff93-fe31-4523-e980-c224eb19979a"
      },
      "source": [
        "# Start and end of interval\n",
        "b=2\n",
        "a=0\n",
        "# Step size\n",
        "N=16\n",
        "h=(b-a)/(N)\n",
        "t=np.arange(a,b+h,h)\n",
        "fig = plt.figure(figsize=(10,4))\n",
        "plt.plot(t,0*t,'o:',color='red',label='Coarse Mesh')\n",
        "plt.xlim((0,2))\n",
        "plt.ylim((-0.1,.1))\n",
        "\n",
        "plt.legend()\n",
        "plt.title('Illustration of discrete time points')\n",
        "plt.show()"
      ],
      "execution_count": 4,
      "outputs": [
        {
          "output_type": "display_data",
          "data": {
            "image/png": "[encoded data removed]",
            "text/plain": [
              "<Figure size 720x288 with 1 Axes>"
            ]
          },
          "metadata": {
            "needs_background": "light"
          }
        }
      ]
    },
    {
      "cell_type": "markdown",
      "metadata": {
        "id": "1V_764XPQeAE"
      },
      "source": [
        "## 2-step  Abysmal Kramer-Butler Method\n",
        "\n",
        "For this initial value problem 2-step Abysmal Kramer-Butler difference equation is\n",
        "\\begin{equation}w_{i+1} = w_{i-1} + h(4(t_i- w_i)-2(t_{i-1}-w_{i-1})) \\end{equation}\n",
        "by changing $F$, the Modified Abysmal Butler Method, is consistent and convergent.\n",
        "\n",
        "For $i=0$ the system of difference equation is:\n",
        "\\begin{equation}w_{1} = w_{-1} + h(4(t_0-w_0)-2(t_{-1}-w_{-1})) \\end{equation}\n",
        "this is not solvable as <font color='red'> $w_{-1}$ </font> is unknown.\n",
        "\n",
        "For $i=1$ the difference equation is:\n",
        "\\begin{equation}w_{2} = w_{0} + h(4(t_1-w_1)-2(t_{0}-w_{0})) \\end{equation}\n",
        "this is not solvable as <font color='red'> $w_{1}$  </font> is unknown. $w_1$ can be  approximated using a one step method. Here, as the exact solution is known,\n",
        "\\begin{equation}w_1=2e^{-t_1}+t_1-1.\\end{equation}\n"
      ]
    },
    {
      "cell_type": "code",
      "metadata": {
        "id": "duQPu0rrQeAE"
      },
      "source": [
        "### Initial conditions\n",
        "IC=1\n",
        "w=np.zeros(len(t))\n",
        "y=(2)*np.exp(-t)+t-1\n",
        "w[0]=IC\n",
        "w[1]=y[1]"
      ],
      "execution_count": 5,
      "outputs": []
    },
    {
      "cell_type": "markdown",
      "metadata": {
        "id": "mS-2OWTOQeAG"
      },
      "source": [
        "### Loop"
      ]
    },
    {
      "cell_type": "code",
      "metadata": {
        "id": "s5h0LwfOQeAG"
      },
      "source": [
        "for i in range (1,N):\n",
        "    w[i+1]=(w[i-1]+h*(4*myfun_ty(t[i],w[i])-2*myfun_ty(t[i-1],w[i-1])))   \n"
      ],
      "execution_count": 6,
      "outputs": []
    },
    {
      "cell_type": "markdown",
      "metadata": {
        "id": "OGxetHJ1QeAI"
      },
      "source": [
        "### Plotting solution"
      ]
    },
    {
      "cell_type": "code",
      "metadata": {
        "id": "33atL94wQeAI"
      },
      "source": [
        "def plotting(t,w,y):\n",
        "    \n",
        "    fig = plt.figure(figsize=(10,4))\n",
        "    plt.plot(t,w,'^:',color='red',label='Abysmal Kramer-Butler (N)')\n",
        "    plt.plot(t,y, 'o-',color='black',label='Exact')\n",
        "    plt.xlabel('time')\n",
        "    plt.legend()\n",
        "    plt.title(' Abysmal Kramer-Butler')\n",
        "    plt.show "
      ],
      "execution_count": 7,
      "outputs": []
    },
    {
      "cell_type": "markdown",
      "metadata": {
        "id": "KrDezp2bQeAK"
      },
      "source": [
        "The plot below shows the Abysmal Kramer-Butler approximation $w_i$ (red) and the exact solution $y(t_i)$ (black) of the intial value problem. \n",
        "\n",
        "The numerically solution initially approximates the exact solution $(t<.5)$ reasonably but then the instability creeps in such that the numerical approximation starts to widely oscilate around the exact solution."
      ]
    },
    {
      "cell_type": "code",
      "metadata": {
        "id": "s46QiSk4QeAK",
        "colab": {
          "base_uri": "https://localhost:8080/",
          "height": 295
        },
        "outputId": "100d6c8f-ebc7-4736-817a-a69b5c09d610"
      },
      "source": [
        "plotting(t,w,y)"
      ],
      "execution_count": 8,
      "outputs": [
        {
          "output_type": "display_data",
          "data": {
            "image/png": "[encoded data removed]",
            "text/plain": [
              "<Figure size 720x288 with 1 Axes>"
            ]
          },
          "metadata": {
            "needs_background": "light"
          }
        }
      ]
    },
    {
      "cell_type": "markdown",
      "metadata": {
        "id": "dztvJY33QeAM"
      },
      "source": [
        "The table below illustrates the absolute error and the signed error of the numerical method."
      ]
    },
    {
      "cell_type": "code",
      "metadata": {
        "id": "Mb3KtEjTQeAM",
        "colab": {
          "base_uri": "https://localhost:8080/",
          "height": 357
        },
        "outputId": "28a671f5-41db-4806-fe04-2885b1e1177c"
      },
      "source": [
        "n=10\n",
        "d = {'time': t[0:n], 'Abysmal Kramer-Butler w': w[0:n],'Exact Error abs':np.abs(y[0:n]-w[0:n]),\n",
        "     'Exact Error':(y[0:n]-w[0:n])}\n",
        "df = pd.DataFrame(data=d)\n",
        "df"
      ],
      "execution_count": 9,
      "outputs": [
        {
          "output_type": "execute_result",
          "data": {
            "text/html": [
              "<div>\n",
              "<style scoped>\n",
              "    .dataframe tbody tr th:only-of-type {\n",
              "        vertical-align: middle;\n",
              "    }\n",
              "\n",
              "    .dataframe tbody tr th {\n",
              "        vertical-align: top;\n",
              "    }\n",
              "\n",
              "    .dataframe thead th {\n",
              "        text-align: right;\n",
              "    }\n",
              "</style>\n",
              "<table border=\"1\" class=\"dataframe\">\n",
              "  <thead>\n",
              "    <tr style=\"text-align: right;\">\n",
              "      <th></th>\n",
              "      <th>time</th>\n",
              "      <th>Abysmal Kramer-Butler w</th>\n",
              "      <th>Exact Error abs</th>\n",
              "      <th>Exact Error</th>\n",
              "    </tr>\n",
              "  </thead>\n",
              "  <tbody>\n",
              "    <tr>\n",
              "      <th>0</th>\n",
              "      <td>0.000</td>\n",
              "      <td>1.000000</td>\n",
              "      <td>0.000000</td>\n",
              "      <td>0.000000</td>\n",
              "    </tr>\n",
              "    <tr>\n",
              "      <th>1</th>\n",
              "      <td>0.125</td>\n",
              "      <td>0.889994</td>\n",
              "      <td>0.000000</td>\n",
              "      <td>0.000000</td>\n",
              "    </tr>\n",
              "    <tr>\n",
              "      <th>2</th>\n",
              "      <td>0.250</td>\n",
              "      <td>0.867503</td>\n",
              "      <td>0.059902</td>\n",
              "      <td>-0.059902</td>\n",
              "    </tr>\n",
              "    <tr>\n",
              "      <th>3</th>\n",
              "      <td>0.375</td>\n",
              "      <td>0.772491</td>\n",
              "      <td>0.022912</td>\n",
              "      <td>-0.022912</td>\n",
              "    </tr>\n",
              "    <tr>\n",
              "      <th>4</th>\n",
              "      <td>0.500</td>\n",
              "      <td>0.823134</td>\n",
              "      <td>0.110072</td>\n",
              "      <td>-0.110072</td>\n",
              "    </tr>\n",
              "    <tr>\n",
              "      <th>5</th>\n",
              "      <td>0.625</td>\n",
              "      <td>0.710297</td>\n",
              "      <td>0.014774</td>\n",
              "      <td>-0.014774</td>\n",
              "    </tr>\n",
              "    <tr>\n",
              "      <th>6</th>\n",
              "      <td>0.750</td>\n",
              "      <td>0.861269</td>\n",
              "      <td>0.166535</td>\n",
              "      <td>-0.166535</td>\n",
              "    </tr>\n",
              "    <tr>\n",
              "      <th>7</th>\n",
              "      <td>0.875</td>\n",
              "      <td>0.675986</td>\n",
              "      <td>0.032738</td>\n",
              "      <td>0.032738</td>\n",
              "    </tr>\n",
              "    <tr>\n",
              "      <th>8</th>\n",
              "      <td>1.000</td>\n",
              "      <td>0.988592</td>\n",
              "      <td>0.252834</td>\n",
              "      <td>-0.252834</td>\n",
              "    </tr>\n",
              "    <tr>\n",
              "      <th>9</th>\n",
              "      <td>1.125</td>\n",
              "      <td>0.631937</td>\n",
              "      <td>0.142368</td>\n",
              "      <td>0.142368</td>\n",
              "    </tr>\n",
              "  </tbody>\n",
              "</table>\n",
              "</div>"
            ],
            "text/plain": [
              "    time  Abysmal Kramer-Butler w  Exact Error abs  Exact Error\n",
              "0  0.000                 1.000000         0.000000     0.000000\n",
              "1  0.125                 0.889994         0.000000     0.000000\n",
              "2  0.250                 0.867503         0.059902    -0.059902\n",
              "3  0.375                 0.772491         0.022912    -0.022912\n",
              "4  0.500                 0.823134         0.110072    -0.110072\n",
              "5  0.625                 0.710297         0.014774    -0.014774\n",
              "6  0.750                 0.861269         0.166535    -0.166535\n",
              "7  0.875                 0.675986         0.032738     0.032738\n",
              "8  1.000                 0.988592         0.252834    -0.252834\n",
              "9  1.125                 0.631937         0.142368     0.142368"
            ]
          },
          "metadata": {},
          "execution_count": 9
        }
      ]
    },
    {
      "cell_type": "markdown",
      "metadata": {
        "id": "kDv2ORvuQeAN"
      },
      "source": [
        "# Theory\n",
        "## Consistent \n",
        "The Abysmal Kramer-Butler method does satisfy the consistency condition\n",
        "\\begin{equation}\\tau_{i}(h)=\\frac{y_{i+1}-y_{i-1}}{2h}-\\frac{1}{2}[4(f(t_i,y_i)-2f(t_{i-1},y_{i-1})] \\end{equation}\n",
        "As $h \\rightarrow 0$  \n",
        "\\begin{equation}\\frac{1}{2}[4(f(t_i,y_i)-2f(t_{i-1},y_{i-1})] \\rightarrow f(t_i,y_i).\\end{equation}\n",
        "While as $h \\rightarrow 0$  \n",
        "\\begin{equation}\\frac{y_{i+1}-y_{i-1}}{2h} \\rightarrow \\frac{y^{'}}{1}=\\frac{f(t_i,y_i)}{1}.\\end{equation}\n",
        "Hence as $h \\rightarrow 0$ $$\\frac{y_{i+1}-y_{i}}{h}-\\frac{1}{2}[4(f(t_i,y_i)-2f(t_{i-1},y_{i-1})]\\rightarrow f(t_i,y_i)-f(t_i,y_i)=0,\\end{equation}\n",
        "which means it is consistent.\n",
        "\n",
        "## Convergent \n",
        "The Abysmal Kramer-Butler method does satisfy the Lipschitz condition:\n",
        "\\begin{equation}F(t,w:h)-F(t,\\hat{w}:h)=\\frac{4}{2}f(t,w_i)-\\frac{2}{2}f(t-h,w_{i-1}))-(\\frac{4}{2}f(t,\\hat{w}_{i})-\\frac{2}{2}f(t-h,\\hat{w}_{i-1}))),\\end{equation}\n",
        "\\begin{equation}F(t,w:h)-F(t,\\hat{w}:h)=\\frac{4}{2}(f(t,w_i)-f(t,\\hat{w}_i))-\\frac{2}{2}(f(t-h,w_{i-1}))-f(t-h,\\hat{w}_{i-1}))),\\end{equation}\n",
        "\\begin{equation}F(t,w:h)-F(t,\\hat{w}:h)\\leq\\frac{4}{2}L|w_i-\\hat{w_i}|+\\frac{2}{2}L|w-\\hat{w}|\\leq \\frac{6}{2} L|w_i-\\hat{w_i}|,\\end{equation}\n",
        "This means it is internally convergent,\n",
        "\\begin{equation}|w_i-\\hat{w_i}|\\rightarrow 0\\end{equation}\n",
        "as $h \\rightarrow 0$.\n",
        "## Stability\n",
        "The Abysmal Kramer-Butler method does __not__ satisfy the stability condition.\n",
        "The characteristic equation of the \n",
        "\\begin{equation}w_{i+1} = w_{i-1} + h(4f(t_i,w_i)-2f(t_{i-1},w_{i-1})) \\end{equation}\n",
        "is\n",
        "\\begin{equation}\\lambda^2 = 1, \\end{equation}\n",
        "This has two roots $\\lambda=1$ and   $\\lambda=-1$, hence the method is weakly stable."
      ]
    },
    {
      "cell_type": "code",
      "metadata": {
        "id": "WeAzaYK2QeAO"
      },
      "source": [
        ""
      ],
      "execution_count": 9,
      "outputs": []
    }
  ]
}