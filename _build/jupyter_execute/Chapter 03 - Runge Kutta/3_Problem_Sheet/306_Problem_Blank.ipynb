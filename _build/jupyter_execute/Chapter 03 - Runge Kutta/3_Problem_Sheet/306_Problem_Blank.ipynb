{
 "cells": [
  {
   "cell_type": "markdown",
   "metadata": {
    "colab_type": "text",
    "id": "view-in-github"
   },
   "source": [
    "<a href=\"https://colab.research.google.com/github/john-s-butler-dit/Numerical-Analysis-Python/blob/master/Chapter%2003%20-%20Runge%20Kutta/Supplementary/02_RK%20Mid%20point%20Example%20-%20Review%20Question%207b.ipynb\" target=\"_parent\"><img src=\"https://colab.research.google.com/assets/colab-badge.svg\" alt=\"Open In Colab\"/></a>"
   ]
  },
  {
   "cell_type": "markdown",
   "metadata": {
    "id": "QoETHtBnjCiM"
   },
   "source": [
    "# Problem Sheet 3 Question 6 Blank\n",
    "\n",
    "## Heun’s second order Runge-Kutta method \n",
    "\n",
    "\n",
    "Thus Heun's second order Runge-Kutta for the initial value problem\n",
    "\\begin{equation}y'=f(t,y)\\end{equation}\n",
    "with the initial condition $y(t_0)=\\alpha$ is given by\n",
    "\\begin{equation}w_0=\\alpha, \\end{equation}\n",
    "\\begin{equation}w_{i+1}=w_i+\\frac{h}{2}[f(t_i,w_i)+f(t_i+h,y_i+hf(t_i,w_i))] \\end{equation}\n",
    "with an error of order $O(h^2)$.\n",
    "\n",
    "For ease of calculation this can be rewritten as:\n",
    "\\begin{equation}k_1=f(t_i,w_i),\\end{equation}\n",
    "\\begin{equation}k_2=f(t_i+h,w_i+hk_1),\\end{equation}\n",
    "\\begin{equation}w_{i+1}=w_i+\\frac{h}{2}[k_1+k_2]. \\end{equation}\n"
   ]
  },
  {
   "cell_type": "code",
   "execution_count": 1,
   "metadata": {
    "id": "n99haWpQjCiP"
   },
   "outputs": [],
   "source": [
    "## Library\n",
    "import numpy as np\n",
    "import math \n",
    "\n",
    "%matplotlib inline\n",
    "import matplotlib.pyplot as plt # side-stepping mpl backend\n",
    "import matplotlib.gridspec as gridspec # subplots\n",
    "import warnings\n",
    "import pandas as pd\n",
    "\n",
    "warnings.filterwarnings(\"ignore\")"
   ]
  },
  {
   "cell_type": "markdown",
   "metadata": {},
   "source": [
    "## The Equation\n",
    "\n",
    "\\begin{equation}   \\tau_m\\frac{dV}{dt} = -(V-E_L) + R_mI(t), \\ \\ -50\\leq t \\leq 400, \\end{equation}\n",
    "\n",
    "where $E_L = -75$, $\\tau_m = 10$,\n",
    "$R_m = 10$ and $I(t)=0.01t$\n",
    "and the initial condition\n",
    "$V(-50) = -75$ using a stepsize of $h=0.5$.\n",
    "    \n",
    "    \n",
    "## Discrete Interval\n",
    "The continuous time $a\\leq t \\leq b $ is discretised with stepsize $h=0.5$ gives\n",
    "\\begin{equation} \n",
    "N=\\frac{b-a}{h}.\n",
    "\\end{equation}\n",
    "Here the N is $-50\\leq t \\leq 400$ \n",
    "\\begin{equation}\n",
    " N=\\frac{400--50}{0.5}=900,\n",
    "\\end{equation}\n",
    "this gives the 901 discrete points:\n",
    "\\begin{equation}\n",
    " t_0=-400, \\ t_1=-399.5, \\ ... t_{900}=400. \n",
    "\\end{equation}\n",
    "This is generalised to \n",
    "\\begin{equation}\n",
    "t_i=-50+i0.1, \\ \\ \\ i=0,1,...,900.\n",
    "\\end{equation}\n",
    "The plot below shows the discrete time steps."
   ]
  },
  {
   "cell_type": "code",
   "execution_count": 2,
   "metadata": {},
   "outputs": [
    {
     "data": {
      "image/png": "[encoded data removed]",
      "text/plain": [
       "<Figure size 1000x400 with 1 Axes>"
      ]
     },
     "metadata": {},
     "output_type": "display_data"
    }
   ],
   "source": [
    "### Setting up time\n",
    "a=-50\n",
    "b=400\n",
    "h=0.5\n",
    "\n",
    "\n",
    "N=int((b-a)/(h))\n",
    "time=np.arange(a,b+h/2,h)\n",
    "fig = plt.figure(figsize=(10,4))\n",
    "plt.plot(time,0*time,'o:',color='red')\n",
    "plt.xlim((a,b))\n",
    "plt.title('Illustration of discrete time points for h=%s'%(h))\n",
    "plt.plot();"
   ]
  },
  {
   "cell_type": "markdown",
   "metadata": {},
   "source": [
    "## Specific Huen Method\n",
    "The 2nd order method is given by\n",
    "\\begin{equation}w_{i+1}=w_i+\\frac{h}{2}[f(t_i,w_i)+f(t_i+h,y_i+hf(t_i,w_i))] \\end{equation}\n",
    "with an error of order $O(h^2)$.\n",
    "\n",
    "For ease of calculation this can be rewritten as:\n",
    "\\begin{equation}k_1=f(t_i,w_i)=\\frac{-(w_i-E_L) + R_mI(t_i)}{\\tau_m},\\end{equation}\n",
    "\\begin{equation}k_2=f(t_i+h,w_i+hk_1)=\\frac{-(w_i+hk_1-E_L) + R_mI(t_i+h)}{\\tau_m},\\end{equation}\n",
    "\\begin{equation}w_{i+1}=w_i+\\frac{h}{2}[k_1+k_2]. \\end{equation}\n",
    "for $i=0,1,...,899$ and\n",
    "where $E_L = -75$, $\\tau_m = 10$,\n",
    "$R_m = 10$ and $I(t_i)=0.01t_i$\n",
    "and the initial condition\n",
    "$V(t_0=-50) = -75$ using a stepsize of $h=0.5$.\n",
    "Putting in the values the difference equation is \n",
    "\\begin{equation}k1=\\frac{-(w[i]+75) + 0.1*time[i]}{10},\\end{equation}\n",
    "\\begin{equation}k2=\\frac{-(w[i]+0.5*k1+75) + 0.1*(time[i]+0.5)}{10},\\end{equation}\n",
    "\\begin{equation}w[i+1]=w[i]+\\frac{h}{2}[k_1+k_2]. \\end{equation}\n",
    "\n"
   ]
  },
  {
   "cell_type": "code",
   "execution_count": 3,
   "metadata": {
    "id": "L538FCiUjCiR"
   },
   "outputs": [],
   "source": [
    "def myfun_f(t,V):\n",
    "    return 1"
   ]
  },
  {
   "cell_type": "code",
   "execution_count": 4,
   "metadata": {
    "id": "L538FCiUjCiR"
   },
   "outputs": [
    {
     "ename": "NameError",
     "evalue": "name 'x' is not defined",
     "output_type": "error",
     "traceback": [
      "\u001b[0;31m---------------------------------------------------------------------------\u001b[0m",
      "\u001b[0;31mNameError\u001b[0m                                 Traceback (most recent call last)",
      "\u001b[0;32m/var/folders/1r/rb8x65yn57q68x042jv2vgx80000gn/T/ipykernel_19910/981539468.py\u001b[0m in \u001b[0;36m<module>\u001b[0;34m\u001b[0m\n\u001b[1;32m      3\u001b[0m \u001b[0;34m\u001b[0m\u001b[0m\n\u001b[1;32m      4\u001b[0m \u001b[0;32mfor\u001b[0m \u001b[0mi\u001b[0m \u001b[0;32min\u001b[0m \u001b[0mrange\u001b[0m \u001b[0;34m(\u001b[0m\u001b[0;36m0\u001b[0m\u001b[0;34m,\u001b[0m\u001b[0mN\u001b[0m\u001b[0;34m)\u001b[0m\u001b[0;34m:\u001b[0m\u001b[0;34m\u001b[0m\u001b[0;34m\u001b[0m\u001b[0m\n\u001b[0;32m----> 5\u001b[0;31m     \u001b[0mk1\u001b[0m\u001b[0;34m=\u001b[0m\u001b[0mmyfun_f\u001b[0m\u001b[0;34m(\u001b[0m\u001b[0mx\u001b[0m\u001b[0;34m[\u001b[0m\u001b[0mi\u001b[0m\u001b[0;34m]\u001b[0m\u001b[0;34m,\u001b[0m\u001b[0mw\u001b[0m\u001b[0;34m[\u001b[0m\u001b[0mi\u001b[0m\u001b[0;34m]\u001b[0m\u001b[0;34m)\u001b[0m\u001b[0;34m\u001b[0m\u001b[0;34m\u001b[0m\u001b[0m\n\u001b[0m\u001b[1;32m      6\u001b[0m     \u001b[0mk2\u001b[0m\u001b[0;34m=\u001b[0m\u001b[0mmyfun_f\u001b[0m\u001b[0;34m(\u001b[0m\u001b[0mx\u001b[0m\u001b[0;34m[\u001b[0m\u001b[0mi\u001b[0m\u001b[0;34m]\u001b[0m\u001b[0;34m+\u001b[0m\u001b[0mh\u001b[0m\u001b[0;34m,\u001b[0m\u001b[0mw\u001b[0m\u001b[0;34m[\u001b[0m\u001b[0mi\u001b[0m\u001b[0;34m]\u001b[0m\u001b[0;34m+\u001b[0m\u001b[0mh\u001b[0m\u001b[0;34m*\u001b[0m\u001b[0mk1\u001b[0m\u001b[0;34m)\u001b[0m\u001b[0;34m\u001b[0m\u001b[0;34m\u001b[0m\u001b[0m\n\u001b[1;32m      7\u001b[0m     \u001b[0mw\u001b[0m\u001b[0;34m[\u001b[0m\u001b[0mi\u001b[0m\u001b[0;34m+\u001b[0m\u001b[0;36m1\u001b[0m\u001b[0;34m]\u001b[0m\u001b[0;34m=\u001b[0m\u001b[0mw\u001b[0m\u001b[0;34m[\u001b[0m\u001b[0mi\u001b[0m\u001b[0;34m]\u001b[0m\u001b[0;34m+\u001b[0m\u001b[0mh\u001b[0m\u001b[0;34m/\u001b[0m\u001b[0;36m2\u001b[0m\u001b[0;34m*\u001b[0m\u001b[0;34m(\u001b[0m\u001b[0mk1\u001b[0m\u001b[0;34m+\u001b[0m\u001b[0mk2\u001b[0m\u001b[0;34m)\u001b[0m\u001b[0;34m\u001b[0m\u001b[0;34m\u001b[0m\u001b[0m\n",
      "\u001b[0;31mNameError\u001b[0m: name 'x' is not defined"
     ]
    }
   ],
   "source": [
    "w=np.zeros(N+1)\n",
    "w[0]=-75\n",
    "\n",
    "for i in range (0,N):\n",
    "    k1=myfun_f(x[i],w[i])\n",
    "    k2=myfun_f(x[i]+h,w[i]+h*k1)\n",
    "    w[i+1]=w[i]+h/2*(k1+k2)\n"
   ]
  },
  {
   "cell_type": "code",
   "execution_count": 5,
   "metadata": {
    "id": "L538FCiUjCiR"
   },
   "outputs": [
    {
     "data": {
      "image/png": "[encoded data removed]",
      "text/plain": [
       "<Figure size 400x500 with 1 Axes>"
      ]
     },
     "metadata": {},
     "output_type": "display_data"
    }
   ],
   "source": [
    "fig = plt.figure(figsize=(4,5))\n",
    "# --- left hand plot\n",
    "#ax = fig.add_subplot(1,4,1)\n",
    "plt.plot(time,w,'o:',color='k')\n",
    "plt.plot(time[0],w[0],'o',color='green')\n",
    "\n",
    "\n",
    "#ax.legend(loc='best')\n",
    "plt.title('Numerical Solution (w) h=%s'%(h))\n",
    "plt.show()\n"
   ]
  },
  {
   "cell_type": "code",
   "execution_count": 6,
   "metadata": {
    "colab": {
     "base_uri": "https://localhost:8080/",
     "height": 437
    },
    "id": "tKYx2zjfjCiR",
    "outputId": "0879d7a5-a19e-41ae-c11b-a2417db7fc6a"
   },
   "outputs": [
    {
     "data": {
      "text/html": [
       "<div>\n",
       "<style scoped>\n",
       "    .dataframe tbody tr th:only-of-type {\n",
       "        vertical-align: middle;\n",
       "    }\n",
       "\n",
       "    .dataframe tbody tr th {\n",
       "        vertical-align: top;\n",
       "    }\n",
       "\n",
       "    .dataframe thead th {\n",
       "        text-align: right;\n",
       "    }\n",
       "</style>\n",
       "<table border=\"1\" class=\"dataframe\">\n",
       "  <thead>\n",
       "    <tr style=\"text-align: right;\">\n",
       "      <th></th>\n",
       "      <th>time t_i</th>\n",
       "      <th>Heun (w_i)</th>\n",
       "    </tr>\n",
       "  </thead>\n",
       "  <tbody>\n",
       "    <tr>\n",
       "      <th>0</th>\n",
       "      <td>-50.0</td>\n",
       "      <td>-75.0</td>\n",
       "    </tr>\n",
       "    <tr>\n",
       "      <th>1</th>\n",
       "      <td>-49.5</td>\n",
       "      <td>0.0</td>\n",
       "    </tr>\n",
       "    <tr>\n",
       "      <th>2</th>\n",
       "      <td>-49.0</td>\n",
       "      <td>0.0</td>\n",
       "    </tr>\n",
       "    <tr>\n",
       "      <th>3</th>\n",
       "      <td>-48.5</td>\n",
       "      <td>0.0</td>\n",
       "    </tr>\n",
       "    <tr>\n",
       "      <th>4</th>\n",
       "      <td>-48.0</td>\n",
       "      <td>0.0</td>\n",
       "    </tr>\n",
       "    <tr>\n",
       "      <th>...</th>\n",
       "      <td>...</td>\n",
       "      <td>...</td>\n",
       "    </tr>\n",
       "    <tr>\n",
       "      <th>896</th>\n",
       "      <td>398.0</td>\n",
       "      <td>0.0</td>\n",
       "    </tr>\n",
       "    <tr>\n",
       "      <th>897</th>\n",
       "      <td>398.5</td>\n",
       "      <td>0.0</td>\n",
       "    </tr>\n",
       "    <tr>\n",
       "      <th>898</th>\n",
       "      <td>399.0</td>\n",
       "      <td>0.0</td>\n",
       "    </tr>\n",
       "    <tr>\n",
       "      <th>899</th>\n",
       "      <td>399.5</td>\n",
       "      <td>0.0</td>\n",
       "    </tr>\n",
       "    <tr>\n",
       "      <th>900</th>\n",
       "      <td>400.0</td>\n",
       "      <td>0.0</td>\n",
       "    </tr>\n",
       "  </tbody>\n",
       "</table>\n",
       "<p>901 rows × 2 columns</p>\n",
       "</div>"
      ],
      "text/plain": [
       "     time t_i  Heun (w_i) \n",
       "0       -50.0        -75.0\n",
       "1       -49.5          0.0\n",
       "2       -49.0          0.0\n",
       "3       -48.5          0.0\n",
       "4       -48.0          0.0\n",
       "..        ...          ...\n",
       "896     398.0          0.0\n",
       "897     398.5          0.0\n",
       "898     399.0          0.0\n",
       "899     399.5          0.0\n",
       "900     400.0          0.0\n",
       "\n",
       "[901 rows x 2 columns]"
      ]
     },
     "execution_count": 6,
     "metadata": {},
     "output_type": "execute_result"
    }
   ],
   "source": [
    "\n",
    "d = {'time t_i': time,      'Heun (w_i) ':w}\n",
    "df = pd.DataFrame(data=d)\n",
    "df"
   ]
  },
  {
   "cell_type": "code",
   "execution_count": 3,
   "metadata": {
    "collapsed": true,
    "id": "9fSe4Z56jCiS"
   },
   "outputs": [],
   "source": []
  },
  {
   "cell_type": "code",
   "execution_count": 3,
   "metadata": {
    "collapsed": true,
    "id": "fEDshkBQjCiT"
   },
   "outputs": [],
   "source": []
  }
 ],
 "metadata": {
  "colab": {
   "include_colab_link": true,
   "name": "02_RK Mid point Example - Review Question 7b.ipynb",
   "provenance": []
  },
  "kernelspec": {
   "display_name": "Python 3 (ipykernel)",
   "language": "python",
   "name": "python3"
  },
  "language_info": {
   "codemirror_mode": {
    "name": "ipython",
    "version": 3
   },
   "file_extension": ".py",
   "mimetype": "text/x-python",
   "name": "python",
   "nbconvert_exporter": "python",
   "pygments_lexer": "ipython3",
   "version": "3.8.13"
  }
 },
 "nbformat": 4,
 "nbformat_minor": 1
}