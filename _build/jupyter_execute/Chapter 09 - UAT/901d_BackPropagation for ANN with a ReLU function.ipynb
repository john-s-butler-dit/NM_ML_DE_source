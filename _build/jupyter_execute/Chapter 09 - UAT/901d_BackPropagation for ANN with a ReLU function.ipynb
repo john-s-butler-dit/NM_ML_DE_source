{
 "cells": [
  {
   "cell_type": "markdown",
   "id": "4460921e",
   "metadata": {},
   "source": [
    "## Gradient Descent for ANN with a ReLU function"
   ]
  },
  {
   "cell_type": "markdown",
   "id": "f326b280",
   "metadata": {},
   "source": [
    "Certainly! Let's illustrate gradient descent for training a simple neural network with ReLU (Rectified Linear Unit) activation functions. In this example, we'll use a neural network with a single input neuron, one hidden layer with one neuron, and a single output neuron.\n",
    "\n",
    "Here's the architecture of the neural network:\n",
    "\n",
    "1. Input layer: One neuron with input $x$.\n",
    "2. Hidden layer: One neuron with weight $w$ and bias $b$, applying the ReLU activation function.\n",
    "3. Output layer: One neuron with weight $v$ and bias $c$, applying the linear (identity) activation function.\n",
    "\n",
    "The network's output $y$ can be expressed as:\n",
    "\n",
    "$$y = v \\cdot \\text{ReLU}(w \\cdot x + b) + c.$$\n",
    "\n",
    "Your goal is to use gradient descent to train the network by updating the weights and biases to minimize a cost function $J(\\theta)$, where $\\theta$ represents all the network parameters ($w$, $b$, $v$, and $c$).\n",
    "\n",
    "**Initialization**:\n",
    "- Initialize the parameters randomly or with predetermined values, e.g., $w = 0.5$, $b = 0.2$, $v = 0.3$, $c = 0.1$.\n",
    "- Set the learning rate $\\alpha$ (e.g., $\\alpha = 0.1$).\n",
    "\n",
    "**Training**:\n",
    "1. For each training example, compute the predicted output $y$ using the current network parameters:\n",
    "\n",
    "   $y = v \\cdot \\text{ReLU}(w \\cdot x + b) + c$\n",
    "\n",
    "2. Compute the cost function $J(\\theta)$ (e.g., mean squared error) between the predicted output $y$ and the actual target output $y_{\\text{target}}$:\n",
    "\n",
    "   $J(\\theta) = \\frac{1}{2}(y - y_{\\text{target}})^2$\n",
    "\n",
    "3. Compute the gradients of the cost function with respect to the parameters $\\theta$ using backpropagation. For example:\n",
    "\n",
    "   - $\\frac{\\partial J}{\\partial v} = y - y_{\\text{target}}$\n",
    "   - $\\frac{\\partial J}{\\partial c} = y - y_{\\text{target}}$\n",
    "   - $\\frac{\\partial J}{\\partial w}$ and $\\frac{\\partial J}{\\partial b}$ require special handling because of the ReLU activation function. You can compute these gradients as follows:\n",
    "\n",
    "     $\\frac{\\partial J}{\\partial w} = \\begin{cases}\n",
    "     \\frac{\\partial J}{\\partial y} \\cdot x & \\text{if } w \\cdot x + b > 0 \\\\\n",
    "     0 & \\text{otherwise}\n",
    "     \\end{cases}$\n",
    "\n",
    "     $\\frac{\\partial J}{\\partial b} = \\begin{cases}\n",
    "     \\frac{\\partial J}{\\partial y} & \\text{if } w \\cdot x + b > 0 \\\\\n",
    "     0 & \\text{otherwise}\n",
    "     \\end{cases}$\n",
    "\n",
    "4. Update the parameters using gradient descent:\n",
    "\n",
    "   - $v = v - \\alpha \\cdot \\frac{\\partial J}{\\partial v}$\n",
    "   - $c = c - \\alpha \\cdot \\frac{\\partial J}{\\partial c}$\n",
    "   - $w = w - \\alpha \\cdot \\frac{\\partial J}{\\partial w}$\n",
    "   - $b = b - \\alpha \\cdot \\frac{\\partial J}{\\partial b}$\n",
    "\n",
    "Repeat steps 1-4 for multiple iterations and examples until the cost function converges to a minimum, indicating that the network has been trained.\n"
   ]
  },
  {
   "cell_type": "code",
   "execution_count": null,
   "id": "bacb14b8",
   "metadata": {},
   "outputs": [],
   "source": []
  }
 ],
 "metadata": {
  "kernelspec": {
   "display_name": "Python 3 (ipykernel)",
   "language": "python",
   "name": "python3"
  },
  "language_info": {
   "codemirror_mode": {
    "name": "ipython",
    "version": 3
   },
   "file_extension": ".py",
   "mimetype": "text/x-python",
   "name": "python",
   "nbconvert_exporter": "python",
   "pygments_lexer": "ipython3",
   "version": "3.8.13"
  }
 },
 "nbformat": 4,
 "nbformat_minor": 5
}