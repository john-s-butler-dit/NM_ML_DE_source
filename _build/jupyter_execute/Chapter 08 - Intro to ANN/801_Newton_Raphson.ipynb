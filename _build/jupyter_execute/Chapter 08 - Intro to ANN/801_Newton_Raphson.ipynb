{
 "cells": [
  {
   "cell_type": "markdown",
   "id": "587d31dc",
   "metadata": {},
   "source": [
    "# Introduction to Newton Raphson"
   ]
  },
  {
   "cell_type": "markdown",
   "id": "87ba0e77",
   "metadata": {},
   "source": [
    "The Newton-Raphson method, also known as the Newton method, is an iterative numerical technique used to find approximate roots to a real-valued function $f(x)$. \n",
    "\n",
    "The method starts with an initial guess for the root of the function, denoted as $x_0$. The iterative formula for finding better approximations to the root is as follows:\n",
    "\n",
    "\\begin{equation} x_{n+1} = x_{n} - \\frac{f(x_{n})}{f'(x_{n})}\\end{equation}\n",
    "\n",
    "Where:\n",
    "- $x_{n+1}$ is the next approximation of the root.\n",
    "- $x_{n}$ is the current approximation of the root.\n",
    "- $f(x_{n})$ is the value of the function at the current approximation.\n",
    "- $f'(x_{n})$ is the derivative of the function with respect to x at the current approximation.\n",
    "\n",
    "The process is repeated until $|x_{n+1} - x_{n}| < \\epsilon$, where $\\epsilon$ is a small positive value, such as the desired level of accuracy.\n",
    "\n",
    "The Newton-Raphson method is based on the idea that it approximates the function locally by its tangent line and uses the root of the tangent line as a better approximation of the function's root. This process is repeated until the approximation converges to the actual root. It's important to note that the method may not always converge or may converge to a local extremum, depending on the choice of the initial guess and the properties of the function.\n",
    "\n",
    "**Strengths**:\n",
    "\n",
    "1. **Rapid Convergence**: The Newton-Raphson method typically converges quickly when the initial guess is close to the actual root. It often exhibits quadratic convergence, meaning that the number of correct digits in the approximation roughly doubles with each iteration, making it highly efficient.\n",
    "\n",
    "2. **Local Accuracy**: It provides highly accurate results when it converges, making it suitable for applications that require high precision, such as scientific and engineering calculations.\n",
    "\n",
    "3. **Versatility**: The method can be applied to a wide range of functions, including nonlinear equations and optimization problems. It is not limited to specific types of equations.\n",
    "\n",
    "4. **Efficiency**: The Newton-Raphson method requires evaluating the function and its derivative, and these evaluations can often be efficiently computed in practice. This makes it a favorable choice for situations where computation time is a concern.\n",
    "\n",
    "5. **Deterministic**: The method's behavior is deterministic, meaning that for a given initial guess, it will always produce the same result, making it predictable.\n",
    "\n",
    "**Weaknesses**:\n",
    "\n",
    "1. **Sensitivity to Initial Guess**: The Newton-Raphson method can be sensitive to the choice of the initial guess. If the initial guess is far from the actual root or near a point of inflection, the method may fail to converge or converge to a different root or a local extremum.\n",
    "\n",
    "2. **Need for Derivatives**: The method requires the calculation of the derivative of the function, which may not always be straightforward, especially when the function is complex or expensive to differentiate.\n",
    "\n",
    "3. **Non-Convergence**: In some cases, the Newton-Raphson method may fail to converge or converge slowly. For functions with multiple roots or near singularities, it can be challenging to find suitable initial guesses.\n",
    "\n",
    "4. **Local Method**: It finds a solution in the vicinity of the initial guess, making it primarily a local method. If there are multiple roots or a global minimum or maximum in the function, the method may not find them unless different initial guesses are used.\n",
    "\n",
    "5. **Inapplicability to Discontinuous Functions**: The Newton-Raphson method is not suitable for functions with discontinuities or sharp turns since it relies on the differentiability of the function.\n",
    "\n",
    "6. **Complexity for Multivariate Functions**: The extension of the Newton-Raphson method to multivariate functions (Newton's method for optimization) is more complex and computationally intensive compared to its univariate counterpart.\n",
    "\n"
   ]
  },
  {
   "cell_type": "code",
   "execution_count": 1,
   "id": "cecf0d88",
   "metadata": {},
   "outputs": [],
   "source": [
    "import numpy as np\n",
    "import matplotlib.pyplot as plt\n"
   ]
  },
  {
   "cell_type": "markdown",
   "id": "db1ce633",
   "metadata": {},
   "source": [
    "## Example Newton Raphson\n",
    "\n",
    "Here's a step-by-step example of the Newton-Raphson method:\n",
    "\n",
    "1. Choose an initial guess, $x_0$."
   ]
  },
  {
   "cell_type": "code",
   "execution_count": 2,
   "id": "68442774",
   "metadata": {},
   "outputs": [],
   "source": [
    "x_0=-0.5"
   ]
  },
  {
   "cell_type": "markdown",
   "id": "1a8ae751",
   "metadata": {},
   "source": [
    "2. Define the function \n",
    "\n",
    "$$f(x)=x^2-9 $$ \n",
    "\n",
    "and calculate the derivative \n",
    "\n",
    "$$f'(x)=2x.$$"
   ]
  },
  {
   "cell_type": "code",
   "execution_count": 3,
   "id": "421d9679",
   "metadata": {},
   "outputs": [],
   "source": [
    "# Define the function\n",
    "def f(x):\n",
    "    return x**2-9\n",
    "\n",
    "# Define the derivative of the function\n",
    "def df(x):\n",
    "    return 2*x\n"
   ]
  },
  {
   "cell_type": "markdown",
   "id": "0e53fab1",
   "metadata": {},
   "source": [
    "3. Write the Newton-Raphson formula \n",
    "$$x_{n+1} = x_n - \\frac{f(x_n)}{f'(x_n)}$$ \n",
    "for the function specific function\n",
    "$$x_{n+1} = x_n - \\frac{x^2-9}{2x}$$."
   ]
  },
  {
   "cell_type": "code",
   "execution_count": 4,
   "id": "3b78fe58",
   "metadata": {},
   "outputs": [],
   "source": [
    "# Define the Newton-Raphson method\n",
    "def newton_raphson(x, tol=0.0001, max_iter=100):\n",
    "    X=[x]\n",
    "    for i in range(max_iter):\n",
    "        fx = f(x)\n",
    "        dfx = df(x)\n",
    "       # step if tollerence is reached\n",
    "        if abs(fx) < tol:\n",
    "            return x, i, X\n",
    "        ## stop if dividing by 0\n",
    "        if dfx == 0:\n",
    "            break\n",
    "        ## Newton Raphson\n",
    "        \n",
    "        x = x - fx / dfx\n",
    "        X=np.append(X,x)\n",
    "    return x, i, X"
   ]
  },
  {
   "cell_type": "markdown",
   "id": "f0f0056f",
   "metadata": {},
   "source": [
    "4. State the stopping criteria:\n",
    "  \n",
    "i. $|x_{n+1} - x_n| < tol$, where $\\epsilon$ is the desired level of accuracy;\n",
    "\n",
    "ii. maximum number of iterations.\n",
    "\n",
    "iii. if f'(x)=0 as the formula would be dividing by 0."
   ]
  },
  {
   "cell_type": "code",
   "execution_count": 5,
   "id": "d60fff5e",
   "metadata": {},
   "outputs": [],
   "source": [
    "tol=1e-6\n",
    "max_iter=100"
   ]
  },
  {
   "cell_type": "markdown",
   "id": "dcbe25c5",
   "metadata": {},
   "source": [
    "\n",
    "5. Run the function and print the root value found by Newton-Raphson method of $x $ and the  number of iterations $I$.\n"
   ]
  },
  {
   "cell_type": "code",
   "execution_count": 6,
   "id": "2f1cbcdf",
   "metadata": {},
   "outputs": [
    {
     "name": "stdout",
     "output_type": "stream",
     "text": [
      "The root of the function is: -3.0000000026665945\n",
      "Number of iterations: 6\n",
      "X [-0.5        -9.25       -5.11148649 -3.43611337 -3.02767587 -3.00012649\n",
      " -3.        ]\n"
     ]
    }
   ],
   "source": [
    "# Find the root of the function\n",
    "root, I, X = newton_raphson(x_0,tol=tol,max_iter=max_iter)\n",
    "\n",
    "# Print the result\n",
    "print('The root of the function is:', root)\n",
    "print('Number of iterations:', I)\n",
    "print('X', X)\n",
    "\n"
   ]
  },
  {
   "cell_type": "markdown",
   "id": "b5fd6ead",
   "metadata": {},
   "source": [
    "6. Plotting the function $$ f(x) $$ and the iterations $x_i$ and final root of the Newton-Raphson method."
   ]
  },
  {
   "cell_type": "code",
   "execution_count": 7,
   "id": "e6e2d24f",
   "metadata": {},
   "outputs": [
    {
     "data": {
      "image/png": "[encoded data removed]",
      "text/plain": [
       "<Figure size 640x480 with 1 Axes>"
      ]
     },
     "metadata": {},
     "output_type": "display_data"
    }
   ],
   "source": [
    "# Plot the function and the root\n",
    "x = np.linspace(-5, 5, 100)\n",
    "y = f(x)\n",
    "plt.plot(x, y, label='f(x)')\n",
    "plt.plot(x_0, f(x_0), 'go', label='Initial Guess')\n",
    "\n",
    "plt.plot(X[1:-1], f(X[1:-1]), 'bo:', label='Interations')\n",
    "plt.plot(root, f(root), 'ko', label='Root')\n",
    "plt.xlabel('x')\n",
    "plt.ylabel('f(x)')\n",
    "plt.legend()\n",
    "plt.show()"
   ]
  },
  {
   "cell_type": "markdown",
   "id": "48065cda",
   "metadata": {},
   "source": [
    "7. Plotting  $ x_i $ as a function of itertations (i)."
   ]
  },
  {
   "cell_type": "code",
   "execution_count": 8,
   "id": "e9916250",
   "metadata": {},
   "outputs": [
    {
     "data": {
      "image/png": "[encoded data removed]",
      "text/plain": [
       "<Figure size 640x480 with 1 Axes>"
      ]
     },
     "metadata": {},
     "output_type": "display_data"
    }
   ],
   "source": [
    "# Plot the function and the root\n",
    "plt.plot(X, 'go', label='Interations')\n",
    "plt.xlabel('Iterations (i)')\n",
    "plt.ylabel(r'$x_i$')\n",
    "plt.legend()\n",
    "plt.show()"
   ]
  },
  {
   "cell_type": "markdown",
   "id": "f242e96e",
   "metadata": {},
   "source": [
    "8. Showing the converge of $x$ by plotting $|x_{i+1}-x_{i}|$ as a function of itertations (i)."
   ]
  },
  {
   "cell_type": "code",
   "execution_count": 9,
   "id": "cd8b49fc",
   "metadata": {},
   "outputs": [
    {
     "data": {
      "image/png": "[encoded data removed]",
      "text/plain": [
       "<Figure size 640x480 with 1 Axes>"
      ]
     },
     "metadata": {},
     "output_type": "display_data"
    }
   ],
   "source": [
    "# Plot the function and the root\n",
    "x = np.linspace(-5, 5, 100)\n",
    "y = f(x)\n",
    "plt.plot(np.abs(np.diff(X)), 'go', label='Interations')\n",
    "plt.plot([0,I],[tol,tol],label='Tolerence')\n",
    "\n",
    "plt.ylabel(r' $|x_{i+1}-x_{i}|$')\n",
    "plt.xlabel('Iterations')\n",
    "\n",
    "plt.show()"
   ]
  },
  {
   "cell_type": "code",
   "execution_count": null,
   "id": "e768b43d",
   "metadata": {},
   "outputs": [],
   "source": []
  }
 ],
 "metadata": {
  "kernelspec": {
   "display_name": "Python 3 (ipykernel)",
   "language": "python",
   "name": "python3"
  },
  "language_info": {
   "codemirror_mode": {
    "name": "ipython",
    "version": 3
   },
   "file_extension": ".py",
   "mimetype": "text/x-python",
   "name": "python",
   "nbconvert_exporter": "python",
   "pygments_lexer": "ipython3",
   "version": "3.8.13"
  }
 },
 "nbformat": 4,
 "nbformat_minor": 5
}