{
 "cells": [
  {
   "cell_type": "markdown",
   "id": "fd668a55",
   "metadata": {},
   "source": [
    "## McCulloch-Pitts Neuron"
   ]
  },
  {
   "cell_type": "markdown",
   "id": "8731790d",
   "metadata": {},
   "source": [
    "The McCulloch-Pitts neuron, developed by Warren McCulloch and Walter Pitts in the 1940s, is a simplified mathematical model of a biological neuron. It forms the basis for understanding the concept of artificial neurons and, eventually, artificial neural networks. Here's a summary of the McCulloch-Pitts neuron with equations:\n",
    "\n",
    "**Structure**:\n",
    "The McCulloch-Pitts neuron consists of several components:\n",
    "\n",
    "1. **Input Weights** ($w_1, w_2, \\ldots, w_n$): Each input is associated with a weight that represents the strength of the connection to the neuron.\n",
    "\n",
    "2. **Input Values** ($x_1, x_2, \\ldots, x_n$): These are the values of the inputs to the neuron.\n",
    "\n",
    "3. **Threshold ($T$)**: A threshold value that determines the neuron's firing condition.\n",
    "\n",
    "4. **Activation Function**: The McCulloch-Pitts neuron uses a simple threshold activation function, typically a step function, to make a binary decision about whether the neuron should fire.\n",
    "\n",
    "**Activation Function**:\n",
    "The activation function of the McCulloch-Pitts neuron can be defined as follows:\n",
    "\n",
    "$$\n",
    "f(\\mathbf{x}; \\mathbf{w}, T) =\n",
    "\\begin{cases}\n",
    "1 & \\text{if } \\sum_{i=1}^{n} w_i x_i \\geq T \\\\\n",
    "0 & \\text{if } \\sum_{i=1}^{n} w_i x_i < T\n",
    "\\end{cases}\n",
    "$$\n",
    "\n",
    "Where:\n",
    "- $f(\\mathbf{x}; \\mathbf{w}, T)$ is the output of the neuron.\n",
    "- $\\mathbf{x}$ is the input vector.\n",
    "- $\\mathbf{w}$ is the weight vector.\n",
    "- $T$ is the threshold.\n",
    "\n",
    "**Operation**:\n",
    "1. The neuron receives input values $x_1, x_2, \\ldots, x_n$.\n",
    "2. Each input value is associated with a weight $w_1, w_2, \\ldots, w_n$.\n",
    "3. The weighted sum of the inputs is calculated: $\\sum_{i=1}^{n} w_i x_i$.\n",
    "4. If the weighted sum is greater than or equal to the threshold ($T$), the neuron fires and outputs 1; otherwise, it remains inactive and outputs 0.\n",
    "\n",
    "**Summary**:\n",
    "The McCulloch-Pitts neuron is a binary threshold unit that operates on weighted inputs. It makes a binary decision based on the sum of the weighted inputs compared to a threshold. This simple model laid the foundation for more complex artificial neural networks, where activation functions are continuous and often differentiable, allowing for more versatile and powerful computations. The McCulloch-Pitts neuron is a significant historical contribution to the field of neural network theory and artificial intelligence."
   ]
  },
  {
   "cell_type": "code",
   "execution_count": 1,
   "id": "33343754",
   "metadata": {},
   "outputs": [
    {
     "name": "stdout",
     "output_type": "stream",
     "text": [
      "The output of the McCulloch-Pitts neuron is: 0\n"
     ]
    }
   ],
   "source": [
    "import numpy as np\n",
    "\n",
    "# Define the McCulloch-Pitts neuron\n",
    "def mp_neuron(x, w, threshold):\n",
    "    if np.dot(x, w) >= threshold:\n",
    "        return 1\n",
    "    else:\n",
    "        return 0\n",
    "\n",
    "# Define the inputs, weights, and threshold\n",
    "x = np.array([0, 0, 0])\n",
    "w = np.array([0.5, -0.5, 0.5])\n",
    "threshold = 0.5\n",
    "\n",
    "# Compute the output of the McCulloch-Pitts neuron\n",
    "output = mp_neuron(x, w, threshold)\n",
    "\n",
    "# Print the output\n",
    "print('The output of the McCulloch-Pitts neuron is:', output)"
   ]
  },
  {
   "cell_type": "code",
   "execution_count": null,
   "id": "0298f289",
   "metadata": {},
   "outputs": [],
   "source": []
  }
 ],
 "metadata": {
  "kernelspec": {
   "display_name": "Python 3 (ipykernel)",
   "language": "python",
   "name": "python3"
  },
  "language_info": {
   "codemirror_mode": {
    "name": "ipython",
    "version": 3
   },
   "file_extension": ".py",
   "mimetype": "text/x-python",
   "name": "python",
   "nbconvert_exporter": "python",
   "pygments_lexer": "ipython3",
   "version": "3.8.13"
  }
 },
 "nbformat": 4,
 "nbformat_minor": 5
}