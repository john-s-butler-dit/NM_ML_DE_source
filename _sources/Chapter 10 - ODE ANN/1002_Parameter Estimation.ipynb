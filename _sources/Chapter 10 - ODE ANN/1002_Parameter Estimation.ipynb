{
 "cells": [
  {
   "cell_type": "markdown",
   "id": "2317bf56",
   "metadata": {},
   "source": [
    "# Parameter Estimation\n",
    "\n",
    "To find the parameter $ a $ in the differential equation \n",
    "\n",
    "$$ \\frac{dy}{dt} = ay $$\n",
    "\n",
    "with the initial condition $ y(0) = 1 $, you can use PyTorch to train a neural network to approximate $ a $. \n",
    "\n",
    "\n",
    "\n",
    "In this code:\n",
    "\n",
    "1. We generate training data by defining the time points `t` and computing the true solution `y` based on the differential equation.\n",
    "\n",
    "2. We convert the NumPy arrays to PyTorch tensors, as PyTorch is used for building and training the neural network.\n",
    "\n",
    "3. We define a neural network class `ParameterEstimationNN` with one input layer, one hidden layer with ReLU activation, and one output layer.\n",
    "\n",
    "4. We create an instance of the neural network, define the loss function (mean squared error), and set up the optimizer (Adam).\n",
    "\n",
    "5. The model is trained to estimate the value of 'a' that minimizes the mean squared error between the estimated 'a' and the true 'a'.\n",
    "\n",
    "6. After training, we extract the estimated 'a' from the model's output and compare it to the true 'a'.\n",
    "\n",
    "This code provides an example of using a neural network with PyTorch to estimate the parameter 'a' in a given differential equation. The estimated 'a' should be close to the true 'a' (0.5) if the model has learned the relationship accurately."
   ]
  },
  {
   "cell_type": "code",
   "execution_count": 8,
   "id": "d42641aa",
   "metadata": {},
   "outputs": [
    {
     "name": "stdout",
     "output_type": "stream",
     "text": [
      "Estimated 'a': 0.48498088121414185\n",
      "True 'a': 0.5\n"
     ]
    }
   ],
   "source": [
    "import torch\n",
    "import torch.nn as nn\n",
    "import torch.optim as optim\n",
    "import numpy as np\n",
    "import matplotlib.pyplot as plt\n",
    "# Generate training data\n",
    "t = np.linspace(0, 5, 100)  # Time points from 0 to 5\n",
    "true_a = 0.5  # True value of parameter 'a'\n",
    "y = np.exp(true_a * t) +np.random.randn(len(t))  # True solution of dy/dt = ay\n",
    "\n",
    "# Convert NumPy arrays to PyTorch tensors\n",
    "t_tensor = torch.tensor(t, dtype=torch.float32).view(-1, 1)\n",
    "y_tensor = torch.tensor(y, dtype=torch.float32).view(-1, 1)\n",
    "\n",
    "# Define a neural network to approximate 'a'\n",
    "class ParameterEstimationNN(nn.Module):\n",
    "    def __init__(self):\n",
    "        super(ParameterEstimationNN, self).__init__()\n",
    "        self.fc1 = nn.Linear(1, 10)\n",
    "        self.fc2 = nn.Linear(10, 1)\n",
    "\n",
    "    def forward(self, x):\n",
    "        x = torch.relu(self.fc1(x))\n",
    "        x = self.fc2(x)\n",
    "        return x\n",
    "\n",
    "# Create an instance of the neural network\n",
    "model = ParameterEstimationNN()\n",
    "\n",
    "# Define the loss function and optimizer\n",
    "criterion = nn.MSELoss()\n",
    "optimizer = optim.Adam(model.parameters(), lr=0.01)\n",
    "A=[]\n",
    "# Training the model to estimate 'a'\n",
    "for epoch in range(1000):\n",
    "    # Forward pass\n",
    "    estimated_a = model(t_tensor)\n",
    "    A.append(estimated_a.detach().numpy()[0, 0])\n",
    "    # Compute the loss\n",
    "    loss = criterion(estimated_a, true_a * torch.ones_like(estimated_a))\n",
    "    \n",
    "    # Backpropagation and optimization\n",
    "    optimizer.zero_grad()\n",
    "    loss.backward()\n",
    "    optimizer.step()\n",
    "\n",
    "# Extract the estimated 'a'\n",
    "estimated_a = model(t_tensor).detach().numpy()[0, 0]\n",
    "\n",
    "# Print the estimated 'a'\n",
    "print(f\"Estimated 'a': {estimated_a}\")\n",
    "\n",
    "# Print the true 'a'\n",
    "print(f\"True 'a': {true_a}\")\n"
   ]
  },
  {
   "cell_type": "code",
   "execution_count": 12,
   "id": "3a83354d",
   "metadata": {},
   "outputs": [
    {
     "data": {
      "image/png": "[encoded data removed]",
      "text/plain": [
       "<Figure size 640x480 with 1 Axes>"
      ]
     },
     "metadata": {},
     "output_type": "display_data"
    }
   ],
   "source": [
    "plt.plot(A,'ro:',label='Estimates of a')\n",
    "plt.axhline(true_a,label='True a')\n",
    "plt.legend()\n",
    "plt.xlabel('Epochs')\n",
    "plt.ylabel('a')\n",
    "plt.show()"
   ]
  },
  {
   "cell_type": "code",
   "execution_count": null,
   "id": "ad2dd05b",
   "metadata": {},
   "outputs": [],
   "source": []
  }
 ],
 "metadata": {
  "kernelspec": {
   "display_name": "Python 3 (ipykernel)",
   "language": "python",
   "name": "python3"
  },
  "language_info": {
   "codemirror_mode": {
    "name": "ipython",
    "version": 3
   },
   "file_extension": ".py",
   "mimetype": "text/x-python",
   "name": "python",
   "nbconvert_exporter": "python",
   "pygments_lexer": "ipython3",
   "version": "3.11.4"
  }
 },
 "nbformat": 4,
 "nbformat_minor": 5
}
