{
 "cells": [
  {
   "cell_type": "markdown",
   "metadata": {
    "colab_type": "text",
    "id": "view-in-github"
   },
   "source": [
    "<a href=\"https://colab.research.google.com/github/john-s-butler-dit/Numerical-Analysis-Python/blob/master/Chapter%2001%20-%20Euler%20Methods/1_Problem%20Sheet/102b_Problem_Sheet.ipynb\" target=\"_parent\"><img src=\"https://colab.research.google.com/assets/colab-badge.svg\" alt=\"Open In Colab\"/></a>"
   ]
  },
  {
   "cell_type": "markdown",
   "metadata": {
    "id": "HjUe8oJGwXp3"
   },
   "source": [
    "# Problem Sheet 1 Question 2b\n",
    "\n",
    "The general form of the population growth differential equation\n",
    " \\begin{equation} y^{'}=y-t, \\ \\ (0 \\leq t \\leq 2)  \\end{equation}\n",
    "with the initial condition\n",
    " \\begin{equation}y(0)=2\\end{equation}\n",
    "For N=4\n",
    "with the analytic (exact) solution\n",
    " \\begin{equation} y= e^{t}+t+1.\\end{equation}\n",
    "\n",
    "Apply __Euler’s Method__ to approximate the solution of the given initial value problems using the indicated number of time steps. Compare the approximate solution with the given exact solution, and compare the actual error with the theoretical error."
   ]
  },
  {
   "cell_type": "code",
   "execution_count": null,
   "metadata": {
    "id": "i35ykQeWwXp5"
   },
   "outputs": [],
   "source": [
    "## Library\n",
    "import numpy as np\n",
    "import math \n",
    "\n",
    "%matplotlib inline\n",
    "import matplotlib.pyplot as plt # side-stepping mpl backend\n",
    "import matplotlib.gridspec as gridspec # subplots\n",
    "import warnings\n",
    "import pandas as pd\n",
    "\n",
    "warnings.filterwarnings(\"ignore\")"
   ]
  },
  {
   "cell_type": "markdown",
   "metadata": {
    "id": "LPD9UzWXwXp9"
   },
   "source": [
    "## General Discrete Interval\n",
    "The continuous time $a\\leq t \\leq b $ is discretised into $N$ points seperated by a constant stepsize\n",
    " \\begin{equation} h=\\frac{b-a}{N}.\\end{equation}\n",
    "## Specific Discrete Interval\n",
    "Here the interval is $0\\leq t \\leq 2$ with $N=4$ \n",
    " \\begin{equation} h=\\frac{2-0}{4}=0.5.\\end{equation}\n",
    "This gives the 5 discrete points with stepsize h=0.5:\n",
    " \\begin{equation} t_0=0, \\ t_1=0.5, \\ ... t_{4}=2. \\end{equation}\n",
    "This is generalised to \n",
    " \\begin{equation} t_i=0+i0.5, \\ \\ \\ i=0,1,...,4.\\end{equation}\n",
    "The plot below illustrates the discrete time steps from 0 to 2."
   ]
  },
  {
   "cell_type": "code",
   "execution_count": null,
   "metadata": {
    "colab": {
     "base_uri": "https://localhost:8080/",
     "height": 281
    },
    "id": "UuBME-W5wXp-",
    "outputId": "571941ec-edfd-4dde-f32b-dd333ec605a5"
   },
   "outputs": [
    {
     "data": {
      "image/png": "[encoded data removed]",
      "text/plain": [
       "<Figure size 720x288 with 1 Axes>"
      ]
     },
     "metadata": {
      "needs_background": "light"
     },
     "output_type": "display_data"
    }
   ],
   "source": [
    "### Setting up time\n",
    "t_end=2\n",
    "t_start=0\n",
    "N=4\n",
    "h=(t_end-t_start)/(N)\n",
    "t=np.arange(t_start,t_end+0.01,h)\n",
    "fig = plt.figure(figsize=(10,4))\n",
    "plt.plot(t,0*t,'o:',color='red')\n",
    "plt.plot(t[0],0*t[0],'o',color='green')\n",
    "\n",
    "\n",
    "plt.title('Illustration of discrete time points for h=%s'%(h))\n",
    "plt.plot();"
   ]
  },
  {
   "cell_type": "markdown",
   "metadata": {
    "id": "OqTZ5VdPwXqB"
   },
   "source": [
    "\n",
    "## Euler Solution\n",
    "\n",
    "The Euler difference equation is\n",
    " \\begin{equation} w_{i+1}=w_i+h(w_i-t_i), \\end{equation}\n",
    "for $i=0,1,2,3$\n",
    "with\n",
    "$w_0=2.$\n",
    "\n"
   ]
  },
  {
   "cell_type": "code",
   "execution_count": null,
   "metadata": {
    "id": "PEFBfPCAwXqC"
   },
   "outputs": [],
   "source": [
    "IC=2\n",
    "\n",
    "INTITIAL_CONDITION=IC\n",
    "w=np.zeros(N+1)\n",
    "w[0]=INTITIAL_CONDITION\n",
    "for i in range (0,N):\n",
    "    w[i+1]=w[i]+h*(w[i]-t[i])"
   ]
  },
  {
   "cell_type": "code",
   "execution_count": null,
   "metadata": {
    "id": "gMaEg7tWwXqE"
   },
   "outputs": [],
   "source": [
    "y=np.exp(t)+t+1 # Exact Solution"
   ]
  },
  {
   "cell_type": "markdown",
   "metadata": {
    "id": "Eljg8py0wXqG"
   },
   "source": [
    "## Global Error\n",
    "The upper bound of the global error is:\n",
    " \\begin{equation} |y(t_i)-w_i|\\leq\\frac{Mh}{2L} |e^{Lt_i}-1| \\end{equation}\n",
    "where\n",
    "$|y''(t)|\\leq M $ for $t \\in (0,2)$ and $L$ is the Lipschitz constant.\n",
    "Generally we do not have access to $M$ or $L$, but as we have the exact solution we can find $M$ and $L$.\n",
    "### Local Error\n",
    "The global error consistent of an exponential term and the local error.\n",
    "The local error for the Euler method is\n",
    " \\begin{equation} |y(t_1)-w_1|<\\tau=\\frac{Mh}{2}, \\end{equation}\n",
    "\n",
    "by differentiation the exact solution \n",
    "$ y= y= e^{t}+t+1$\n",
    "twice\n",
    " \\begin{equation}y'= e^{t}+1,\\end{equation}\n",
    " \\begin{equation}y''=e^{t}.\\end{equation}\n",
    "Then we choose the largest possible value of $y''$ on the interval of interest $(0,2)$, which gives,\n",
    "\n",
    " \\begin{equation}|y''(t)|\\leq e^{2}=7.38<8, \\end{equation}\n",
    "therefore\n",
    " \\begin{equation}M=8.\\end{equation}\n",
    "This gives the local error\n",
    " \\begin{equation}|y(t_1)-w_1|<\\tau=\\frac{Mh}{2}=\\frac{8h}{2}=4h.\\end{equation}\n",
    "### Lipschitz constant\n",
    "The Lipschitz constant $L$ is from the Lipschitz condition,\n",
    " \\begin{equation}\\left| \\frac{\\partial f(t,y)}{\\partial y}\\right|\\leq L. \\end{equation}\n",
    "The constant can be found by taking partical derivative of $f(t,y)=y-t$ with respect to $y$\n",
    " \\begin{equation}\\frac{\\partial f(t,y)}{\\partial y}=1\\end{equation}\n",
    " \\begin{equation}L=1.\\end{equation}\n",
    "\n",
    "### Specific Global Upper Bound Formula\n",
    "Puting these values into the upper bound gives:\n",
    " \\begin{equation} |y(t_i)-w_i|\\leq\\frac{8h}{2} |e^{t_i}-1|.  \\end{equation}"
   ]
  },
  {
   "cell_type": "code",
   "execution_count": null,
   "metadata": {
    "id": "X4VuMRpvwXqG"
   },
   "outputs": [],
   "source": [
    "Upper_bound=8*h/(2*1)*(np.exp(t)-1) # Upper Bound"
   ]
  },
  {
   "cell_type": "markdown",
   "metadata": {
    "id": "njPmcun1wXqI"
   },
   "source": [
    "## Results"
   ]
  },
  {
   "cell_type": "code",
   "execution_count": null,
   "metadata": {
    "colab": {
     "base_uri": "https://localhost:8080/",
     "height": 373
    },
    "id": "j1jcb-x6wXqI",
    "outputId": "51a1ea33-60b2-4865-fa64-62acdcefe38f"
   },
   "outputs": [
    {
     "data": {
      "image/png": "[encoded data removed]",
      "text/plain": [
       "<Figure size 864x360 with 4 Axes>"
      ]
     },
     "metadata": {
      "needs_background": "light"
     },
     "output_type": "display_data"
    }
   ],
   "source": [
    "fig = plt.figure(figsize=(12,5))\n",
    "# --- left hand plot\n",
    "ax = fig.add_subplot(1,4,1)\n",
    "plt.plot(t,w,'o:',color='k')\n",
    "plt.plot(t[0],w[0],'o',color='green')\n",
    "\n",
    "#ax.legend(loc='best')\n",
    "plt.title('Numerical Solution (w) h=%s'%(h))\n",
    "\n",
    "# --- right hand plot\n",
    "ax = fig.add_subplot(1,4,2)\n",
    "plt.plot(t,y,color='blue')\n",
    "plt.title('Analytic Solution (y)')\n",
    "\n",
    "#ax.legend(loc='best')\n",
    "ax = fig.add_subplot(1,4,3)\n",
    "plt.plot(t,np.abs(w-y),'o:',color='red')\n",
    "plt.title('Exact Error |w-y|')\n",
    "\n",
    "# --- title, explanatory text and save\n",
    "\n",
    "\n",
    "ax = fig.add_subplot(1,4,4)\n",
    "plt.plot(t,np.abs(w-y),'o:',color='red')\n",
    "plt.plot(t,Upper_bound,color='purple')\n",
    "plt.title('Upper Bound')\n",
    "\n",
    "# --- title, explanatory text and save\n",
    "fig.suptitle(r\"$y'=y-t$\", fontsize=20)\n",
    "plt.tight_layout()\n",
    "plt.subplots_adjust(top=0.85)    "
   ]
  },
  {
   "cell_type": "code",
   "execution_count": null,
   "metadata": {
    "colab": {
     "base_uri": "https://localhost:8080/",
     "height": 203
    },
    "id": "wOFTuhuQwXqL",
    "outputId": "fb187745-3f11-4bda-8d04-73f00bb6dbcd"
   },
   "outputs": [
    {
     "data": {
      "text/html": [
       "<div>\n",
       "<style scoped>\n",
       "    .dataframe tbody tr th:only-of-type {\n",
       "        vertical-align: middle;\n",
       "    }\n",
       "\n",
       "    .dataframe tbody tr th {\n",
       "        vertical-align: top;\n",
       "    }\n",
       "\n",
       "    .dataframe thead th {\n",
       "        text-align: right;\n",
       "    }\n",
       "</style>\n",
       "<table border=\"1\" class=\"dataframe\">\n",
       "  <thead>\n",
       "    <tr style=\"text-align: right;\">\n",
       "      <th></th>\n",
       "      <th>time t_i</th>\n",
       "      <th>Euler (w_i)</th>\n",
       "      <th>Exact (y_i)</th>\n",
       "      <th>Exact Error( |y_i-w_i|)</th>\n",
       "      <th>Upper Bound</th>\n",
       "    </tr>\n",
       "  </thead>\n",
       "  <tbody>\n",
       "    <tr>\n",
       "      <th>0</th>\n",
       "      <td>0.0</td>\n",
       "      <td>2.0000</td>\n",
       "      <td>2.000000</td>\n",
       "      <td>0.000000</td>\n",
       "      <td>0.000000</td>\n",
       "    </tr>\n",
       "    <tr>\n",
       "      <th>1</th>\n",
       "      <td>0.5</td>\n",
       "      <td>3.0000</td>\n",
       "      <td>3.148721</td>\n",
       "      <td>0.148721</td>\n",
       "      <td>1.297443</td>\n",
       "    </tr>\n",
       "    <tr>\n",
       "      <th>2</th>\n",
       "      <td>1.0</td>\n",
       "      <td>4.2500</td>\n",
       "      <td>4.718282</td>\n",
       "      <td>0.468282</td>\n",
       "      <td>3.436564</td>\n",
       "    </tr>\n",
       "    <tr>\n",
       "      <th>3</th>\n",
       "      <td>1.5</td>\n",
       "      <td>5.8750</td>\n",
       "      <td>6.981689</td>\n",
       "      <td>1.106689</td>\n",
       "      <td>6.963378</td>\n",
       "    </tr>\n",
       "    <tr>\n",
       "      <th>4</th>\n",
       "      <td>2.0</td>\n",
       "      <td>8.0625</td>\n",
       "      <td>10.389056</td>\n",
       "      <td>2.326556</td>\n",
       "      <td>12.778112</td>\n",
       "    </tr>\n",
       "  </tbody>\n",
       "</table>\n",
       "</div>"
      ],
      "text/plain": [
       "   time t_i  Euler (w_i)   Exact (y_i)   Exact Error( |y_i-w_i|)   Upper Bound\n",
       "0       0.0        2.0000      2.000000                  0.000000     0.000000\n",
       "1       0.5        3.0000      3.148721                  0.148721     1.297443\n",
       "2       1.0        4.2500      4.718282                  0.468282     3.436564\n",
       "3       1.5        5.8750      6.981689                  1.106689     6.963378\n",
       "4       2.0        8.0625     10.389056                  2.326556    12.778112"
      ]
     },
     "execution_count": 14,
     "metadata": {},
     "output_type": "execute_result"
    }
   ],
   "source": [
    "\n",
    "d = {'time t_i': t,    'Euler (w_i) ':w,    'Exact (y_i) ':y,    'Exact Error( |y_i-w_i|) ':np.abs(y-w),'Upper Bound':Upper_bound}\n",
    "df = pd.DataFrame(data=d)\n",
    "df"
   ]
  },
  {
   "cell_type": "code",
   "execution_count": null,
   "metadata": {
    "id": "f2rmTfNowXqN"
   },
   "outputs": [],
   "source": []
  }
 ],
 "metadata": {
  "colab": {
   "include_colab_link": true,
   "name": "01_Problem Sheet 1 Question 2b.ipynb",
   "provenance": []
  },
  "kernelspec": {
   "display_name": "Python 3 (ipykernel)",
   "language": "python",
   "name": "python3"
  },
  "language_info": {
   "codemirror_mode": {
    "name": "ipython",
    "version": 3
   },
   "file_extension": ".py",
   "mimetype": "text/x-python",
   "name": "python",
   "nbconvert_exporter": "python",
   "pygments_lexer": "ipython3",
   "version": "3.11.4"
  }
 },
 "nbformat": 4,
 "nbformat_minor": 1
}
