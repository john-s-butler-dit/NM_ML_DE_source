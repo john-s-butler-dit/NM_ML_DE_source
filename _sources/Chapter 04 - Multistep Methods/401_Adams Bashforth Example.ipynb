{
  "nbformat": 4,
  "nbformat_minor": 0,
  "metadata": {
    "kernelspec": {
      "display_name": "Python 3",
      "language": "python",
      "name": "python3"
    },
    "language_info": {
      "codemirror_mode": {
        "name": "ipython",
        "version": 3
      },
      "file_extension": ".py",
      "mimetype": "text/x-python",
      "name": "python",
      "nbconvert_exporter": "python",
      "pygments_lexer": "ipython3",
      "version": "3.7.9"
    },
    "colab": {
      "name": "401_Adams Bashforth Example.ipynb",
      "provenance": [],
      "include_colab_link": true
    }
  },
  "cells": [
    {
      "cell_type": "markdown",
      "metadata": {
        "id": "view-in-github",
        "colab_type": "text"
      },
      "source": [
        "<a href=\"https://colab.research.google.com/github/john-s-butler-dit/Numerical-Analysis-Python/blob/master/Chapter%2004%20-%20Multistep%20Methods/401_Adams%20Bashforth%20Example.ipynb\" target=\"_parent\"><img src=\"https://colab.research.google.com/assets/colab-badge.svg\" alt=\"Open In Colab\"/></a>"
      ]
    },
    {
      "cell_type": "markdown",
      "metadata": {
        "id": "I3Ze-AJLbVQR"
      },
      "source": [
        "# Adams Bashforth\n",
        "#### John S Butler \n",
        "john.s.butler@tudublin.ie  \n",
        "[Course Notes](https://johnsbutler.netlify.com/files/Teaching/Numerical_Analysis_for_Differential_Equations.pdf)    [Github](https://github.com/john-s-butler-dit/Numerical-Analysis-Python)\n",
        "\n",
        "\n",
        "\n",
        "The Adams Bashforth method is an explicit multistep method. This notebook illustrates the 2 step Adams Bashforth method for a linear initial value problem, given by\n",
        "\n",
        "\\begin{equation}y^{'}=t-y, \\ \\ (0 \\leq t \\leq 2) \\end{equation}\n",
        "with the initial condition\n",
        "\\begin{equation}y(0)=1.\\end{equation}\n",
        "The video below walks through the notebook."
      ]
    },
    {
      "cell_type": "code",
      "metadata": {
        "id": "rMDVFNpRbVQT",
        "outputId": "68da9c6d-130f-42d7-8b71-34011d3645ce"
      },
      "source": [
        "from IPython.display import HTML\n",
        "HTML('<iframe width=\"560\" height=\"315\" src=\"https://www.youtube.com/embed/etob5sngUUc\" frameborder=\"0\" allow=\"accelerometer; autoplay; clipboard-write; encrypted-media; gyroscope; picture-in-picture\" allowfullscreen></iframe>')"
      ],
      "execution_count": null,
      "outputs": [
        {
          "output_type": "stream",
          "text": [
            "/Users/johnbutler/anaconda3/lib/python3.7/site-packages/IPython/core/display.py:717: UserWarning: Consider using IPython.display.IFrame instead\n",
            "  warnings.warn(\"Consider using IPython.display.IFrame instead\")\n"
          ],
          "name": "stderr"
        },
        {
          "output_type": "execute_result",
          "data": {
            "text/html": [
              "<iframe width=\"560\" height=\"315\" src=\"https://www.youtube.com/embed/etob5sngUUc\" frameborder=\"0\" allow=\"accelerometer; autoplay; clipboard-write; encrypted-media; gyroscope; picture-in-picture\" allowfullscreen></iframe>"
            ],
            "text/plain": [
              "<IPython.core.display.HTML object>"
            ]
          },
          "metadata": {
            "tags": []
          },
          "execution_count": 1
        }
      ]
    },
    {
      "cell_type": "markdown",
      "metadata": {
        "id": "w2lET9kIbVQa"
      },
      "source": [
        "## Python Libraries"
      ]
    },
    {
      "cell_type": "code",
      "metadata": {
        "id": "gZOAG1ijbVQb"
      },
      "source": [
        "import numpy as np\n",
        "import math \n",
        "import pandas as pd\n",
        "%matplotlib inline\n",
        "import matplotlib.pyplot as plt # side-stepping mpl backend\n",
        "import matplotlib.gridspec as gridspec # subplots\n",
        "import warnings\n",
        "\n",
        "warnings.filterwarnings(\"ignore\")\n"
      ],
      "execution_count": null,
      "outputs": []
    },
    {
      "cell_type": "markdown",
      "metadata": {
        "id": "HhsS6PbbbVQf"
      },
      "source": [
        "### Defining the function\n",
        "\\begin{equation} f(t,y)=t-y.\\end{equation}"
      ]
    },
    {
      "cell_type": "code",
      "metadata": {
        "id": "tGq5h9O2bVQg"
      },
      "source": [
        "def myfun_ty(t,y):\n",
        "    return t-y"
      ],
      "execution_count": null,
      "outputs": []
    },
    {
      "cell_type": "markdown",
      "metadata": {
        "id": "qQa7YsftbVQj"
      },
      "source": [
        "## Discrete Interval\n",
        "Defining the step size  $h$  from the interval range  $a\\leq t \\leq b$  and number of steps  $N$ \n",
        "\\begin{equation}h=\\frac{b−a}{N}.\\end{equation}\n",
        " \n",
        "This gives the discrete time steps,\n",
        "\\begin{equation}t_i=t_0+ih,\\end{equation}\n",
        "where  $t0=a.$\n",
        "\n",
        "Here the interval is  $0≤t≤2$  and number of step  4 \n",
        "\\begin{equation}h=\\frac{2−0}{4}=0.5.\\end{equation}\n",
        " \n",
        "This gives the discrete time steps,\n",
        "\\begin{equation}t_i=0+i0.5,\\end{equation}\n",
        "for  $i=0,1,⋯,4.$"
      ]
    },
    {
      "cell_type": "code",
      "metadata": {
        "id": "DMV0kXM5bVQk",
        "outputId": "938b863c-d658-4ab3-cc3c-8aceed8ea94c"
      },
      "source": [
        "# Start and end of interval\n",
        "b=2\n",
        "a=0\n",
        "# Step size\n",
        "N=4\n",
        "h=(b-a)/(N)\n",
        "t=np.arange(a,b+h,h)\n",
        "fig = plt.figure(figsize=(10,4))\n",
        "plt.plot(t,0*t,'o:',color='red')\n",
        "plt.xlim((0,2))\n",
        "plt.title('Illustration of discrete time points for h=%s'%(h))"
      ],
      "execution_count": null,
      "outputs": [
        {
          "output_type": "execute_result",
          "data": {
            "text/plain": [
              "Text(0.5, 1.0, 'Illustration of discrete time points for h=0.5')"
            ]
          },
          "metadata": {
            "tags": []
          },
          "execution_count": 3
        },
        {
          "output_type": "display_data",
          "data": {
            "image/png": "[encoded data removed]",
            "text/plain": [
              "<Figure size 720x288 with 1 Axes>"
            ]
          },
          "metadata": {
            "tags": [],
            "needs_background": "light"
          }
        }
      ]
    },
    {
      "cell_type": "markdown",
      "metadata": {
        "id": "wdFMNXnSbVQn"
      },
      "source": [
        "## Exact Solution\n",
        "THe initial value problem has the exact solution\n",
        "\\begin{equation}y(t)=2e^{-t}+t-1.\\end{equation}\n",
        "The figure below plots the exact solution."
      ]
    },
    {
      "cell_type": "code",
      "metadata": {
        "id": "sGmWzAKrbVQn",
        "outputId": "f3999685-7c03-448c-869f-8b370ecb7dbe"
      },
      "source": [
        "IC=1 # Intial condtion\n",
        "y=(IC+1)*np.exp(-t)+t-1\n",
        "fig = plt.figure(figsize=(6,4))\n",
        "plt.plot(t,y,'o-',color='black')\n",
        "plt.title('Exact Solution ')\n",
        "plt.xlabel('time')"
      ],
      "execution_count": null,
      "outputs": [
        {
          "output_type": "execute_result",
          "data": {
            "text/plain": [
              "Text(0.5, 0, 'time')"
            ]
          },
          "metadata": {
            "tags": []
          },
          "execution_count": 4
        },
        {
          "output_type": "display_data",
          "data": {
            "image/png": "[encoded data removed]",
            "text/plain": [
              "<Figure size 432x288 with 1 Axes>"
            ]
          },
          "metadata": {
            "tags": [],
            "needs_background": "light"
          }
        }
      ]
    },
    {
      "cell_type": "markdown",
      "metadata": {
        "id": "V91-l3YzbVQq"
      },
      "source": [
        "## 2-step Adams Bashforth\n",
        "\n",
        "The general 2-step Adams Bashforth difference equation is\n",
        "\\begin{equation}w_{i+1} = w_{i} + \\frac{h}{2}(3f(t_i,w_i)-f(t_{i-1},w_{i-1})). \\end{equation}\n",
        "For the specific intial value problem the 2-step Adams Bashforth difference equation is\n",
        "\\begin{equation}w_{i+1} = w_{i} + \\frac{h}{2}(3(t_i-w_i)-(t_{i-1}-w_{i-1})). \\end{equation}\n",
        "\n",
        "for $i=0$ the difference equation is:\n",
        "\\begin{equation}w_{1} = w_{0} + \\frac{h}{2}(3(t_0-w_0)-(t_{-1}-w_{-1})), \\end{equation}\n",
        "this is not solvable as <font color='red'> $w_{-1}$ </font>is unknown.\n",
        "for $i=1$ the difference equation is:\n",
        "\\begin{equation}w_{2} = w_{1} + \\frac{h}{2}(3(t_1-w_1)-(t_{0}-w_{0})), \\end{equation}\n",
        "this is not solvable as <font color='red'> $w_{1}$ </font>is unknown, but it can be approximated using a one step method.\n",
        "Here, as the exact solution is known,\n",
        "\\begin{equation}w_1=2e^{-t_1}+t_1-1.\\end{equation}"
      ]
    },
    {
      "cell_type": "code",
      "metadata": {
        "id": "A3mFbuf6bVQq"
      },
      "source": [
        "### Initial conditions\n",
        "w=np.zeros(len(t))\n",
        "w[0]=IC\n",
        "w[1]=y[1] # NEED FOR THE METHOD"
      ],
      "execution_count": null,
      "outputs": []
    },
    {
      "cell_type": "markdown",
      "metadata": {
        "id": "XelJoDUcbVQs"
      },
      "source": [
        "### Loop"
      ]
    },
    {
      "cell_type": "code",
      "metadata": {
        "id": "uX_cZAj_bVQt"
      },
      "source": [
        "for k in range (1,N):\n",
        "    w[k+1]=w[k]+h/2.0*(3*myfun_ty(t[k],w[k])-myfun_ty(t[k-1],w[k-1]))   "
      ],
      "execution_count": null,
      "outputs": []
    },
    {
      "cell_type": "markdown",
      "metadata": {
        "id": "apgJ8EZHbVQu"
      },
      "source": [
        "### Plotting solution"
      ]
    },
    {
      "cell_type": "code",
      "metadata": {
        "id": "41bxcOCObVQu"
      },
      "source": [
        "def plotting(t,w,y):\n",
        "    fig = plt.figure(figsize=(10,4))\n",
        "    plt.plot(t,y, 'o-',color='black',label='Exact')\n",
        "    plt.plot(t,w,'s:',color='blue',label='Adams-Bashforth')\n",
        "    plt.xlabel('time')\n",
        "    plt.legend()\n",
        "    plt.show "
      ],
      "execution_count": null,
      "outputs": []
    },
    {
      "cell_type": "markdown",
      "metadata": {
        "id": "LDg9CIYhbVQw"
      },
      "source": [
        "The plot below shows the exact solution (black) and the 2 step Adams-Bashforth approximation (red) of the intial value problem"
      ]
    },
    {
      "cell_type": "code",
      "metadata": {
        "id": "yRUWg92dbVQw",
        "outputId": "2a7378ef-e0fb-476b-c577-fd132e3803e2"
      },
      "source": [
        "plotting(t,w,y)"
      ],
      "execution_count": null,
      "outputs": [
        {
          "output_type": "display_data",
          "data": {
            "image/png": "[encoded data removed]",
            "text/plain": [
              "<Figure size 720x288 with 1 Axes>"
            ]
          },
          "metadata": {
            "tags": [],
            "needs_background": "light"
          }
        }
      ]
    },
    {
      "cell_type": "markdown",
      "metadata": {
        "id": "5GQLL-VobVQy"
      },
      "source": [
        "## Local Error \n",
        "The Error for the 2 step Adams Bashforth is:\n",
        "\\begin{equation}y_{n+1}=y_n+\\frac{h}{2}[3f(t_{n},w_{n})-f(t_{n-1},w_{n-1})] +\\frac{5h^3}{12}y'''(\\eta),\\end{equation}\n",
        "where $\\eta \\in [t_{n-1},t_{n+1}]$.\n",
        "\n",
        "Rearranging the equations gives \n",
        "\\begin{equation}\\frac{y_{n+1}-y_n}{h}=\\frac{1}{2}[3f(t_{n},w_{n})-f(t_{n-1},w_{n-1})] +\\frac{5h^2}{12}y'''(\\eta).\\end{equation}\n",
        "\n",
        "For our specific initial value problem the error is of the form:\n",
        "\\begin{equation}\\frac{5h^2}{12}y'''(\\eta)=\\frac{5h^2}{12}2e^{-\\eta} \\leq\\frac{5(0.5)^2}{12} 2\\leq 0.208 \\end{equation}"
      ]
    },
    {
      "cell_type": "code",
      "metadata": {
        "id": "XlS3V2-abVQy",
        "outputId": "254aa474-540b-4615-b99c-07452ce24e04"
      },
      "source": [
        "\n",
        "d = {'time t_i': t, 'Adams Bashforth, w_i': w,'Exact':y,'Error |w-y|':np.round(np.abs(y-w),5),'LTE':round(2*0.5**2/12*5,5)}\n",
        "df = pd.DataFrame(data=d)\n",
        "df"
      ],
      "execution_count": null,
      "outputs": [
        {
          "output_type": "execute_result",
          "data": {
            "text/html": [
              "<div>\n",
              "<style scoped>\n",
              "    .dataframe tbody tr th:only-of-type {\n",
              "        vertical-align: middle;\n",
              "    }\n",
              "\n",
              "    .dataframe tbody tr th {\n",
              "        vertical-align: top;\n",
              "    }\n",
              "\n",
              "    .dataframe thead th {\n",
              "        text-align: right;\n",
              "    }\n",
              "</style>\n",
              "<table border=\"1\" class=\"dataframe\">\n",
              "  <thead>\n",
              "    <tr style=\"text-align: right;\">\n",
              "      <th></th>\n",
              "      <th>time t_i</th>\n",
              "      <th>Adams Bashforth, w_i</th>\n",
              "      <th>Exact</th>\n",
              "      <th>Error |w-y|</th>\n",
              "      <th>LTE</th>\n",
              "    </tr>\n",
              "  </thead>\n",
              "  <tbody>\n",
              "    <tr>\n",
              "      <th>0</th>\n",
              "      <td>0.0</td>\n",
              "      <td>1.000000</td>\n",
              "      <td>1.000000</td>\n",
              "      <td>0.00000</td>\n",
              "      <td>0.20833</td>\n",
              "    </tr>\n",
              "    <tr>\n",
              "      <th>1</th>\n",
              "      <td>0.5</td>\n",
              "      <td>0.713061</td>\n",
              "      <td>0.713061</td>\n",
              "      <td>0.00000</td>\n",
              "      <td>0.20833</td>\n",
              "    </tr>\n",
              "    <tr>\n",
              "      <th>2</th>\n",
              "      <td>1.0</td>\n",
              "      <td>0.803265</td>\n",
              "      <td>0.735759</td>\n",
              "      <td>0.06751</td>\n",
              "      <td>0.20833</td>\n",
              "    </tr>\n",
              "    <tr>\n",
              "      <th>3</th>\n",
              "      <td>1.5</td>\n",
              "      <td>1.004082</td>\n",
              "      <td>0.946260</td>\n",
              "      <td>0.05782</td>\n",
              "      <td>0.20833</td>\n",
              "    </tr>\n",
              "    <tr>\n",
              "      <th>4</th>\n",
              "      <td>2.0</td>\n",
              "      <td>1.326837</td>\n",
              "      <td>1.270671</td>\n",
              "      <td>0.05617</td>\n",
              "      <td>0.20833</td>\n",
              "    </tr>\n",
              "  </tbody>\n",
              "</table>\n",
              "</div>"
            ],
            "text/plain": [
              "   time t_i  Adams Bashforth, w_i     Exact  Error |w-y|      LTE\n",
              "0       0.0              1.000000  1.000000      0.00000  0.20833\n",
              "1       0.5              0.713061  0.713061      0.00000  0.20833\n",
              "2       1.0              0.803265  0.735759      0.06751  0.20833\n",
              "3       1.5              1.004082  0.946260      0.05782  0.20833\n",
              "4       2.0              1.326837  1.270671      0.05617  0.20833"
            ]
          },
          "metadata": {
            "tags": []
          },
          "execution_count": 11
        }
      ]
    },
    {
      "cell_type": "code",
      "metadata": {
        "id": "P_8H3vglbVQ0"
      },
      "source": [
        ""
      ],
      "execution_count": null,
      "outputs": []
    }
  ]
}