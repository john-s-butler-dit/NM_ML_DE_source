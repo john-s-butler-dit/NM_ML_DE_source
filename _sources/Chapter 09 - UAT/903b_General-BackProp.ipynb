{
 "cells": [
  {
   "cell_type": "markdown",
   "id": "1e576e3d",
   "metadata": {},
   "source": [
    "## General Back Propagation for a Deep ANN\n",
    "\n",
    "Notation:\n",
    "\n",
    "- $ L $: the number of layers in the network\n",
    "- $ w_{ij}^{(l)} $: the weight associated with the connection between neuron $ i $ in layer $ l-1 $ and neuron $ j $ in layer $ l $\n",
    "- $ a_i^{(l)} $: the activation (output) of neuron $ i $ in layer $ l $\n",
    "- $ z_i^{(l)} $: the weighted input to neuron $ i $ in layer $ l $ (before activation function is applied)\n",
    "- $ \\delta_i^{(l)} $: the error of neuron $ i $ in layer $ l $\n",
    "\n",
    "The steps for backpropagation in a deep neural network are as follows:\n",
    "\n",
    "1. **Forward Pass:**\n",
    "   - Compute the activation $ a_i^{(l)} $ for each neuron in each layer using the input features and current weights.\n",
    "   - Compute the error $ \\delta_i^{(L)} $ for each neuron in the output layer $ L $ using the specified loss function.\n",
    "\n",
    "2. **Backward Pass:**\n",
    "   - For each layer $ l = L-1, L-2, \\ldots, 2 $:\n",
    "      - Compute $ \\delta_i^{(l)} $ for each neuron in layer $ l $:\n",
    "        $$ \\delta_i^{(l)} = \\left(\\sum_{k} w_{ki}^{(l+1)} \\delta_k^{(l+1)}\\right) \\cdot f'(z_i^{(l)}) $$\n",
    "        where $ f'(\\cdot) $ is the derivative of the activation function.\n",
    "\n",
    "3. **Weight Update:**\n",
    "   - Update the weights using the computed errors:\n",
    "        $$ w_{ij}^{(l)} = w_{ij}^{(l)} - \\alpha \\cdot \\frac{\\partial J}{\\partial w_{ij}^{(l)}} $$\n",
    "        where $ \\alpha $ is the learning rate, and $ J $ is the total cost function.\n",
    "\n",
    "   - The partial derivative with respect to a weight is given by:\n",
    "        $$ \\frac{\\partial J}{\\partial w_{ij}^{(l)}} = a_i^{(l-1)} \\delta_j^{(l)} $$\n",
    "\n",
    "   - Update biases in a similar manner.\n",
    "\n",
    "Repeat the forward and backward passes for a number of iterations or until convergence.\n",
    "\n",
    "It's important to note that the activation function, loss function, and learning rate are design choices that depend on the specific problem being solved. Additionally, regularization techniques and optimization algorithms (like Adam, RMSprop, etc.) are often used to improve training stability and convergence speed."
   ]
  },
  {
   "cell_type": "code",
   "execution_count": null,
   "id": "2e6346ce",
   "metadata": {},
   "outputs": [],
   "source": []
  }
 ],
 "metadata": {
  "kernelspec": {
   "display_name": "Python 3 (ipykernel)",
   "language": "python",
   "name": "python3"
  },
  "language_info": {
   "codemirror_mode": {
    "name": "ipython",
    "version": 3
   },
   "file_extension": ".py",
   "mimetype": "text/x-python",
   "name": "python",
   "nbconvert_exporter": "python",
   "pygments_lexer": "ipython3",
   "version": "3.11.4"
  }
 },
 "nbformat": 4,
 "nbformat_minor": 5
}
