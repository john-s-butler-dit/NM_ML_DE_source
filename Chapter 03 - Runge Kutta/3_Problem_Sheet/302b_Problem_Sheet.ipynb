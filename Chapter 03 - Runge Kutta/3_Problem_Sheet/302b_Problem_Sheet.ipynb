{
  "nbformat": 4,
  "nbformat_minor": 0,
  "metadata": {
    "kernelspec": {
      "display_name": "Python 3",
      "language": "python",
      "name": "python3"
    },
    "language_info": {
      "codemirror_mode": {
        "name": "ipython",
        "version": 3
      },
      "file_extension": ".py",
      "mimetype": "text/x-python",
      "name": "python",
      "nbconvert_exporter": "python",
      "pygments_lexer": "ipython3",
      "version": "3.7.9"
    },
    "colab": {
      "name": "04_4th Runge Kutta Example Problem Sheet Question 2b.ipynb",
      "provenance": [],
      "include_colab_link": true
    }
  },
  "cells": [
    {
      "cell_type": "markdown",
      "metadata": {
        "id": "view-in-github",
        "colab_type": "text"
      },
      "source": [
        "<a href=\"https://colab.research.google.com/github/john-s-butler-dit/Numerical-Analysis-Python/blob/master/Chapter%2003%20-%20Runge%20Kutta/Supplementary/04_4th%20Runge%20Kutta%20Example%20Problem%20Sheet%20Question%202b.ipynb\" target=\"_parent\"><img src=\"https://colab.research.google.com/assets/colab-badge.svg\" alt=\"Open In Colab\"/></a>"
      ]
    },
    {
      "cell_type": "markdown",
      "metadata": {
        "id": "kiHgQ5PzjEGi"
      },
      "source": [
        "## Problem Sheet 3 Question 2b\n",
        "\n",
        "The general form of the population growth differential equation\n",
        "\\begin{equation} y^{'}=y-t, \\ \\ (0 \\leq t \\leq 2) \\end{equation}\n",
        "with the initial condition\n",
        "\\begin{equation}y(0)=2\\end{equation}\n",
        "For N=4\n",
        "with the analytic (exact) solution\n",
        "\\begin{equation} y= e^{t}+t+1.\\end{equation}\n",
        "\n",
        "# Runge Kutta Solution\n",
        "\n",
        "The Runge Kutta difference equation is\n",
        "\\begin{equation}w_{i+1} = w_{i} + \\frac{1}{6}(k_1+2k_2+2k_3+k_4) \\end{equation}\n",
        "where\n",
        "\\begin{equation}k_1=h(w_i-t_i)\\end{equation}\n",
        "\\begin{equation}k_2=h((w_i+\\frac{1}{2}k_1)-(t_i+\\frac{h}{2}))\\end{equation}\n",
        "\\begin{equation}k_3=h((w_i+\\frac{1}{2}k_2)-(t_i+\\frac{h}{2}))\\end{equation}\n",
        "\\begin{equation}k_4=h((w_i+k_3)-(t_i+h))\\end{equation}"
      ]
    },
    {
      "cell_type": "code",
      "metadata": {
        "id": "dAdX8JNCjEGl"
      },
      "source": [
        "import numpy as np\n",
        "import math \n",
        "%matplotlib inline\n",
        "import matplotlib.pyplot as plt # side-stepping mpl backend\n",
        "import matplotlib.gridspec as gridspec # subplots\n",
        "import pandas as pd\n",
        "\n",
        "import warnings\n",
        "#from ipywidgets import *\n"
      ],
      "execution_count": 1,
      "outputs": []
    },
    {
      "cell_type": "code",
      "metadata": {
        "id": "zaFAfKytjEGm"
      },
      "source": [
        "def myfun_ty(t,y):\n",
        "    return y-t#+3*y\n",
        "\n",
        "\n",
        "\n",
        "#PLOTS\n",
        "def RK4_Question2(N,IC):\n",
        "\n",
        "    x_end=4\n",
        "    x_start=0\n",
        "    INTITIAL_CONDITION=IC\n",
        "    h=x_end/(N)\n",
        "    N=N+2;\n",
        "    k_list=np.zeros(N)\n",
        "    t=np.zeros(N)\n",
        "    w=np.zeros(N)\n",
        "    k_mat=np.zeros((4,N))\n",
        "    Analytic_Solution=np.zeros(N)\n",
        "    k=0\n",
        "    w[0]=INTITIAL_CONDITION\n",
        "    Analytic_Solution[0]=INTITIAL_CONDITION\n",
        "    t[0]=x_start\n",
        "    k_list[k]=k\n",
        "    for k in range (0,N-1):\n",
        "        k_mat[0,k]=myfun_ty(t[k],w[k])\n",
        "        k_mat[1,k]=myfun_ty(t[k]+h/2.0,w[k]+h/2.0*k_mat[0,k])\n",
        "        k_mat[2,k]=myfun_ty(t[k]+h/2.0,w[k]+h/2.0*k_mat[1,k])\n",
        "        k_mat[3,k]=myfun_ty(t[k]+h,w[k]+h*k_mat[2,k])\n",
        "        w[k+1]=w[k]+h/6.0*(k_mat[0,k]+2*k_mat[1,k]+2*k_mat[2,k]+k_mat[3,k])\n",
        "        t[k+1]=t[k]+h\n",
        "        k_list[k+1]=k+1\n",
        "        Analytic_Solution[k+1]=math.exp(t[k+1])+t[k+1]+1\n",
        "\n",
        "    fig = plt.figure(figsize=(10,4))\n",
        "    # --- left hand plot\n",
        "    ax = fig.add_subplot(1,3,1)\n",
        "    plt.plot(t,w,color='k')\n",
        "    #ax.legend(loc='best')\n",
        "    plt.title('Numerical Solution h=%s'%(h))\n",
        "\n",
        "    # --- right hand plot\n",
        "    ax = fig.add_subplot(1,3,2)\n",
        "    plt.plot(t,Analytic_Solution,'-.o',color='blue')\n",
        "    plt.title('Analytic Solution')\n",
        "\n",
        "    #ax.legend(loc='best')\n",
        "    ax = fig.add_subplot(1,3,3)\n",
        "    plt.plot(t,Analytic_Solution-w,':o',color='red')\n",
        "    plt.title('Error')\n",
        "\n",
        "    # --- title, explanatory text and save\n",
        "\n",
        "\n",
        "\n",
        "    # --- title, explanatory text and save\n",
        "    fig.suptitle(r\"$y'=y-t$\", fontsize=20)\n",
        "    plt.tight_layout()\n",
        "    plt.subplots_adjust(top=0.85)    "
      ],
      "execution_count": null,
      "outputs": []
    },
    {
      "cell_type": "code",
      "metadata": {
        "id": "5Jx9lnlUjEGn",
        "colab": {
          "base_uri": "https://localhost:8080/",
          "height": 302
        },
        "outputId": "1120db0c-9c05-4400-dbb9-31675789bc97"
      },
      "source": [
        "RK4_Question2(4,2)"
      ],
      "execution_count": null,
      "outputs": [
        {
          "output_type": "display_data",
          "data": {
            "image/png": "[encoded data removed]",
            "text/plain": [
              "<Figure size 720x288 with 3 Axes>"
            ]
          },
          "metadata": {
            "needs_background": "light"
          }
        }
      ]
    },
    {
      "cell_type": "code",
      "metadata": {
        "id": "Tk27QHRKjEGo"
      },
      "source": [
        ""
      ],
      "execution_count": null,
      "outputs": []
    }
  ]
}