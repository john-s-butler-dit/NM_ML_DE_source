{
 "cells": [
  {
   "cell_type": "markdown",
   "metadata": {},
   "source": [
    "# Example 4th order Runge Kutta\n",
    "\n",
    "The general form of the population growth differential equation\n",
    "$$ y^{'}=t-y, \\ \\ (0 \\leq t \\leq 4) $$\n",
    "with the initial condition\n",
    "$$y(0)=1,$$\n",
    "Has the exact soulation. $$ y= 2e^{-t}+t-1$$\n",
    "\n"
   ]
  },
  {
   "cell_type": "markdown",
   "metadata": {},
   "source": [
    "#### Setting up Libraries"
   ]
  },
  {
   "cell_type": "code",
   "execution_count": 1,
   "metadata": {
    "collapsed": true
   },
   "outputs": [],
   "source": [
    "import numpy as np\n",
    "import math \n",
    "\n",
    "%matplotlib inline\n",
    "import matplotlib.pyplot as plt # side-stepping mpl backend\n",
    "import matplotlib.gridspec as gridspec # subplots\n",
    "import warnings\n",
    "\n",
    "warnings.filterwarnings(\"ignore\")\n"
   ]
  },
  {
   "cell_type": "markdown",
   "metadata": {},
   "source": [
    "## Defining the function\n",
    "$$f(t,y)=t-y$$ "
   ]
  },
  {
   "cell_type": "code",
   "execution_count": 2,
   "metadata": {
    "collapsed": true
   },
   "outputs": [],
   "source": [
    "def myfun_ty(t,y):\n",
    "    return t-y"
   ]
  },
  {
   "cell_type": "markdown",
   "metadata": {},
   "source": [
    "## Initial Setup\n",
    "Defining the step size $h$ from the interval range $a\\leq t \\leq b$ and number of steps $N$\n",
    "$$h=\\frac{b-a}{h}.$$\n",
    "This gives the discrete time steps,\n",
    "$$t_{i}=t_0+ih,$$\n",
    "where $t_0=a$."
   ]
  },
  {
   "cell_type": "code",
   "execution_count": 3,
   "metadata": {},
   "outputs": [],
   "source": [
    "# Start and end of interval\n",
    "b=4\n",
    "a=0\n",
    "# Step size\n",
    "N=8\n",
    "h=(b-a)/(N)\n",
    "t=np.arange(a,b+h,h)"
   ]
  },
  {
   "cell_type": "markdown",
   "metadata": {},
   "source": [
    "## Setting up the initial conditions of the equation\n",
    "$$w_0=IC$$\n"
   ]
  },
  {
   "cell_type": "code",
   "execution_count": 4,
   "metadata": {
    "collapsed": true
   },
   "outputs": [],
   "source": [
    "# Initial Condition\n",
    "IC=1\n",
    "w=np.zeros(N+1)\n",
    "y=(IC+1)*np.exp(-t)+t-1#np.zeros(N+1)\n",
    "w[0]=IC"
   ]
  },
  {
   "cell_type": "markdown",
   "metadata": {},
   "source": [
    "## 4th Order Runge Kutta \n",
    "$$k_1=f(t,y),$$\n",
    "$$k_2=f(t+\\frac{h}{2},y+\\frac{h}{2}k_2),$$\n",
    "$$k_3=f(t+\\frac{h}{2},y+\\frac{h}{2}k_2),$$\n",
    "$$k_4=f(t+\\frac{h}{2},y+\\frac{h}{2}k_3),$$\n",
    "$$w_{i+1}=w_{i}+\\frac{h}{6}(k_1+2k_2+2k_3+k_4).$$"
   ]
  },
  {
   "cell_type": "code",
   "execution_count": 5,
   "metadata": {
    "collapsed": true
   },
   "outputs": [],
   "source": [
    "for k in range (0,N):\n",
    "    k1=myfun_ty(t[k],w[k])\n",
    "    k2=myfun_ty(t[k]+h/2,w[k]+h/2*k1)\n",
    "    k3=myfun_ty(t[k]+h/2,w[k]+h/2*k2)\n",
    "    k4=myfun_ty(t[k]+h,w[k]+h*k3)\n",
    "    w[k+1]=w[k]+h/6*(k1+2*k2+2*k3+k4)"
   ]
  },
  {
   "cell_type": "markdown",
   "metadata": {},
   "source": [
    "## Plotting Results"
   ]
  },
  {
   "cell_type": "code",
   "execution_count": 6,
   "metadata": {},
   "outputs": [
    {
     "data": {
      "image/png": "[encoded data removed]",
      "text/plain": [
       "<matplotlib.figure.Figure at 0x7fdea587bac8>"
      ]
     },
     "metadata": {},
     "output_type": "display_data"
    }
   ],
   "source": [
    "fig = plt.figure(figsize=(10,4))\n",
    "# --- left hand plot\n",
    "ax = fig.add_subplot(1,3,1)\n",
    "plt.plot(t,w, '--',color='green')\n",
    "#ax.legend(loc='best')\n",
    "plt.title('Numerical Solution h=%s'%(h))\n",
    "\n",
    "ax = fig.add_subplot(1,3,2)\n",
    "plt.plot(t,y,color='black')\n",
    "plt.title('Exact Solution ')\n",
    "\n",
    "ax = fig.add_subplot(1,3,3)\n",
    "plt.plot(t,y-w, 'o',color='red')\n",
    "plt.title('Error')\n",
    "# --- title, explanatory text and save\n",
    "fig.suptitle(r\"$y'=t-y,   y(0)=%s$\"%(IC), fontsize=20)\n",
    "plt.tight_layout()\n",
    "plt.subplots_adjust(top=0.85)    "
   ]
  }
 ],
 "metadata": {
  "kernelspec": {
   "display_name": "Python 3",
   "language": "python",
   "name": "python3"
  },
  "language_info": {
   "codemirror_mode": {
    "name": "ipython",
    "version": 3
   },
   "file_extension": ".py",
   "mimetype": "text/x-python",
   "name": "python",
   "nbconvert_exporter": "python",
   "pygments_lexer": "ipython3",
   "version": "3.7.9"
  }
 },
 "nbformat": 4,
 "nbformat_minor": 1
}
