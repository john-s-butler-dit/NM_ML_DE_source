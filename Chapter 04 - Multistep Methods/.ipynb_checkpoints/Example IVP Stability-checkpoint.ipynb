{
 "cells": [
  {
   "cell_type": "markdown",
   "metadata": {},
   "source": [
    "# Stability\n",
    "This notebook will illustrate an unstable method using the  Abysmal Kramer-Butler method. The method is named after the great [Cosmo Kramer]( https://en.wikipedia.org/wiki/Cosmo_Kramer).\n",
    "\n",
    "\n",
    "To determine stabilty we need three definitions:\n",
    "\n",
    "#### Definition: Characteristic Equation\n",
    "Associated with the difference equation \n",
    "$$ w_0=\\alpha \\ \\ \\ w_1=\\alpha_1 \\ \\ \\ ... \\ \\ \\ w_{m-1}=\\alpha_{m-1} $$\n",
    "$$w_{i+1} = a_{m-1}w_{i}+a_{m-2}w_{i-1}+...+a_{0}w_{i+1-m} +hF(t_i,h,w_{i+1},...,w_{i+1-m}),$$\n",
    "is the __characteristic equation__ given by\n",
    "$$\\lambda^{m} - a_{m-1}\\lambda^{m-1}-a_{m-2}\\lambda^{m-2}-...-a_{0} =0. $$\n",
    "\n",
    "#### Definition: Root Condition \n",
    "\n",
    "Let $\\lambda_1,...,\\lambda_m$ denote the roots of the that characteristic equation\n",
    "$$\\lambda^{m} - a_{m-1}\\lambda^{m-1}-a_{m-2}\\lambda^{m-2}-...-a_{0} =0 $$\n",
    "associated with the multi-step difference method\n",
    "$$ w_0=\\alpha \\ \\ \\ w_1=\\alpha_1 \\ \\ \\ ... \\ \\ \\ w_{m-1}=\\alpha_{m-1} $$\n",
    "$$ w_{i+1} = a_{m-1}w_{i}+a_{m-2}w_{i-1}+...+a_{0}w_{i+1-m} +hF(t_i,h,w_{i+1},...,w_{i+1-m}),$$\n",
    "If $|\\lambda_{i}|\\leq 1$ for each $i=1,...,m$ and all roots with absolute value 1\n",
    "are simple roots then the difference equation is said to satisfy the __root condition__.\n",
    "\n",
    "#### Definition: Stability\n",
    "1. Methods that satisfy the root condition and have $\\lambda=1$ as the only root \n",
    "of the characteristic equation of magnitude one are called __strongly stable__;\n",
    "2. Methods that satisfy the root condition and have more than one distinct root\n",
    "with magnitude one are called __weakly stable__;\n",
    "3. Methods that do not satisfy the root condition are called __unstable__.\n",
    "\n",
    "All one step methods, Adams-Bashforth and Adams-Moulton methods are stongly stable\n",
    "## Intial Value Problem\n",
    "The differential equation\n",
    "$$ y^{'}=t-y, \\ \\ (0 \\leq t \\leq 2) $$\n",
    "with the initial condition\n",
    "$$y(0)=1,$$\n",
    "will be the used to illustrate this."
   ]
  },
  {
   "cell_type": "markdown",
   "metadata": {},
   "source": [
    "## Python Libraries"
   ]
  },
  {
   "cell_type": "code",
   "execution_count": 1,
   "metadata": {
    "collapsed": true
   },
   "outputs": [],
   "source": [
    "import numpy as np\n",
    "import math \n",
    "\n",
    "%matplotlib inline\n",
    "import matplotlib.pyplot as plt # side-stepping mpl backend\n",
    "import matplotlib.gridspec as gridspec # subplots\n",
    "import warnings\n",
    "\n",
    "warnings.filterwarnings(\"ignore\")\n",
    "class ListTable(list):\n",
    "    \"\"\" Overridden list class which takes a 2-dimensional list of \n",
    "        the form [[1,2,3],[4,5,6]], and renders an HTML Table in \n",
    "        IPython Notebook. \"\"\"\n",
    "    \n",
    "    def _repr_html_(self):\n",
    "        html = [\"<table>\"]\n",
    "        for row in self:\n",
    "            html.append(\"<tr>\")\n",
    "            \n",
    "            for col in row:\n",
    "                html.append(\"<td>{0}</td>\".format(col))\n",
    "            \n",
    "            html.append(\"</tr>\")\n",
    "        html.append(\"</table>\")\n",
    "        return ''.join(html)"
   ]
  },
  {
   "cell_type": "markdown",
   "metadata": {},
   "source": [
    "### Defining the function\n",
    "$$ f(t,y)=t-y.$$"
   ]
  },
  {
   "cell_type": "code",
   "execution_count": 2,
   "metadata": {
    "collapsed": true
   },
   "outputs": [],
   "source": [
    "def myfun_ty(t,y):\n",
    "    return t-y"
   ]
  },
  {
   "cell_type": "markdown",
   "metadata": {},
   "source": [
    "## Discrete Interval\n",
    "Defining the step size  $h$  from the interval range  $a≤t≤b$  and number of steps  $N$ \n",
    "$$h=b−ah.$$\n",
    " \n",
    "This gives the discrete time steps,\n",
    "$$t_i=t_0+ih,$$\n",
    "where  $t_0=a.$"
   ]
  },
  {
   "cell_type": "code",
   "execution_count": 3,
   "metadata": {
    "collapsed": false
   },
   "outputs": [
    {
     "data": {
      "text/plain": [
       "<matplotlib.text.Text at 0x7fd388763e48>"
      ]
     },
     "execution_count": 3,
     "metadata": {},
     "output_type": "execute_result"
    },
    {
     "data": {
      "image/png": "[encoded data removed]",
      "text/plain": [
       "<matplotlib.figure.Figure at 0x7fd3897a4860>"
      ]
     },
     "metadata": {},
     "output_type": "display_data"
    }
   ],
   "source": [
    "# Start and end of interval\n",
    "b=2\n",
    "a=0\n",
    "# Step size\n",
    "N=16\n",
    "h=(b-a)/(N)\n",
    "t=np.arange(a,b+h,h)\n",
    "fig = plt.figure(figsize=(10,4))\n",
    "plt.plot(t,0*t,'o:',color='red',label='Coarse Mesh')\n",
    "plt.xlim((0,2))\n",
    "plt.ylim((-0.1,.1))\n",
    "\n",
    "plt.legend()\n",
    "plt.title('Illustration of discrete time points')"
   ]
  },
  {
   "cell_type": "markdown",
   "metadata": {},
   "source": [
    "## 2-step Modified Abysmal Kramer-Butler Method\n",
    "\n",
    "The 2-step Abysmal Kramer-Butler difference equation is\n",
    "$$w_{i+1} = w_{i-1} + h(4f(t_i,w_i)-2f(t_{i-1},w_{i-1})) $$\n",
    "by changing $F$, the Modified Abysmal Butler Method, is consistent and convergent.\n",
    "\n",
    "For $i=0$ the system of difference equation is:\n",
    "$$w_{1} = w_{-1} + h(4(t_0-w_0)-2(t_{-1}-w_{-1})) $$\n",
    "this is not solvable as <font color='red'> $w_{-1}$ </font> is unknown.\n",
    "\n",
    "For $i=1$ the difference equation is:\n",
    "$$w_{2} = w_{0} + h(4(t_1-w_1)-2(t_{0}-w_{0})) $$\n",
    "this is not solvable as <font color='red'> $w_{1}$  </font> is unknown. $w_1$ can be  approximated using a one step method. Here, as the exact solution is known,\n",
    "$$w_1=2e^{-t_1}+t_1-1.$$\n"
   ]
  },
  {
   "cell_type": "code",
   "execution_count": 4,
   "metadata": {
    "collapsed": false
   },
   "outputs": [],
   "source": [
    "### Initial conditions\n",
    "IC=1\n",
    "w=np.zeros(len(t))\n",
    "y=(2)*np.exp(-t)+t-1\n",
    "w[0]=IC\n",
    "w[1]=y[1]"
   ]
  },
  {
   "cell_type": "markdown",
   "metadata": {},
   "source": [
    "### Loop"
   ]
  },
  {
   "cell_type": "code",
   "execution_count": 18,
   "metadata": {
    "collapsed": false
   },
   "outputs": [],
   "source": [
    "for k in range (1,N):\n",
    "    w[k+1]=(w[k-1]+h*(4*myfun_ty(t[k],w[k])-2*myfun_ty(t[k-1],w[k-1])))   \n"
   ]
  },
  {
   "cell_type": "markdown",
   "metadata": {},
   "source": [
    "### Plotting solution"
   ]
  },
  {
   "cell_type": "code",
   "execution_count": 19,
   "metadata": {
    "collapsed": false
   },
   "outputs": [],
   "source": [
    "def plotting(t,w,y):\n",
    "    \n",
    "    fig = plt.figure(figsize=(10,4))\n",
    "    plt.plot(t,w,'^:',color='red',label='Abysmal Kramer-Butler (N)')\n",
    "    plt.plot(t,y, 'o-',color='black',label='Exact?')\n",
    "    plt.xlabel('time')\n",
    "    plt.legend()\n",
    "    plt.title('Abysmal Abysmal Kramer-Butler')\n",
    "    plt.show "
   ]
  },
  {
   "cell_type": "markdown",
   "metadata": {},
   "source": [
    "The plot below shows the Abysmal Kramer-Butler approximation for a low N (red) and the exact solution (black) of the intial value problem."
   ]
  },
  {
   "cell_type": "code",
   "execution_count": 20,
   "metadata": {
    "collapsed": false
   },
   "outputs": [
    {
     "data": {
      "image/png": "[encoded data removed]",
      "text/plain": [
       "<matplotlib.figure.Figure at 0x7fd38862e390>"
      ]
     },
     "metadata": {},
     "output_type": "display_data"
    }
   ],
   "source": [
    "plotting(t,w,y)"
   ]
  },
  {
   "cell_type": "markdown",
   "metadata": {},
   "source": [
    "\n",
    "## Consistent \n",
    "The Modified Abysmal Kramer-Butler method does satisfy the consistency condition\n",
    "$$\\tau_{i}(h)=\\frac{y_{i+1}-y_{i-1}}{2h}-\\frac{1}{2}[4(f(t_i,y_i)-32(t_{i-1},y_{i-1})] $$\n",
    "As $h \\rightarrow 0$  $$\\frac{1}{2}[4(f(t_i,y_i)-2f(t_{i-1},y_{i-1})] \\rightarrow f(t_i,y_i).$$\n",
    "While as $h \\rightarrow 0$  $$\\frac{y_{i+1}-y_{i-1}}{2h} \\rightarrow \\frac{y^{'}}{2}=\\frac{f(t_i,y_i)}{2}.$$\n",
    "Hence as $h \\rightarrow 0$ $$\\frac{y_{i+1}-y_{i}}{h}-\\frac{1}{2}[4(f(t_i,y_i)-2f(t_{i-1},y_{i-1})]\\rightarrow f(t_i,y_i)-f(t_i,y_i)=\\frac{f(t_i,y_i)}{2},$$\n",
    "which means it is consistent.\n",
    "\n",
    "## Convergent \n",
    "The Modified Abysmal Kramer-Butler method does satisfy the Lipschitz condition:\n",
    "$$F(t,w:h)-F(t,\\hat{w}:h)=\\frac{4}{2}f(t,w_i)-\\frac{2}{2}f(t-h,w_{i-1}))-(\\frac{4}{2}f(t,\\hat{w}_{i})-\\frac{2}{2}f(t-h,\\hat{w}_{i-1})))$$\n",
    "$$F(t,w:h)-F(t,\\hat{w}:h)=\\frac{4}{2}(f(t,w_i)-f(t,\\hat{w}_i))-\\frac{2}{2}(f(t-h,w_{i-1}))-f(t-h,\\hat{w}_{i-1})))$$\n",
    "$$F(t,w:h)-F(t,\\hat{w}:h)\\leq\\frac{4}{2}L|w_i-\\hat{w_i}|+\\frac{2}{2}L|w-\\hat{w}|\\leq \\frac{6}{2} L|w_i-\\hat{w_i}|$$\n",
    "This means it is internally convergent,\n",
    "$$|w_i-w^2_i|\\rightarrow 0$$ \n",
    "as $h \\rightarrow 0$.\n",
    "## Stability\n",
    "The Modified Abysmal Kramer-Butler method does __not__ satisfy the stability condition.\n",
    "The characteristic equation of the \n",
    "$$w_{i+1} = w_{i-1} + h(4f(t_i,w_i)-2f(t_{i-1},w_{i-1})) $$\n",
    "is\n",
    "$$\\lambda^2 = 1, $$\n",
    "This has two roots $\\lambda=1$ and   $\\lambda=-1$, hence the method is weakly stable."
   ]
  },
  {
   "cell_type": "code",
   "execution_count": 21,
   "metadata": {
    "collapsed": false
   },
   "outputs": [
    {
     "data": {
      "text/html": [
       "<table><tr><td>time</td><td>Modified Abysmal Butler w</td><td>|y-w|</td></tr><tr><td>0.0</td><td>1.0</td><td>0.0</td></tr><tr><td>0.5</td><td>0.909</td><td>0.19624</td></tr><tr><td>1.0</td><td>0.98</td><td>0.24439</td></tr><tr><td>1.5</td><td>1.218</td><td>0.27141</td></tr><tr><td>2.0</td><td>1.666</td><td>0.39517</td></tr></table>"
      ],
      "text/plain": [
       "[['time', 'Modified Abysmal Butler w', '|y-w|'],\n",
       " [0.0, 1.0, 0.0],\n",
       " [0.5, 0.90900000000000003, 0.19624],\n",
       " [1.0, 0.97999999999999998, 0.24439],\n",
       " [1.5, 1.218, 0.27140999999999998],\n",
       " [2.0, 1.6659999999999999, 0.39517000000000002]]"
      ]
     },
     "execution_count": 21,
     "metadata": {},
     "output_type": "execute_result"
    }
   ],
   "source": [
    "table = ListTable()\n",
    "table.append(['time', 'Abysmal Kramer-Butler w','|y-w|'])\n",
    "for i in range (0,len(t),4):\n",
    "    table.append([round(t[i],3), round(w[i],3),round(abs(w[i]-y[i]),5)])\n",
    "table"
   ]
  },
  {
   "cell_type": "code",
   "execution_count": null,
   "metadata": {
    "collapsed": true
   },
   "outputs": [],
   "source": []
  }
 ],
 "metadata": {
  "kernelspec": {
   "display_name": "Python 3",
   "language": "python",
   "name": "python3"
  },
  "language_info": {
   "codemirror_mode": {
    "name": "ipython",
    "version": 3
   },
   "file_extension": ".py",
   "mimetype": "text/x-python",
   "name": "python",
   "nbconvert_exporter": "python",
   "pygments_lexer": "ipython3",
   "version": "3.4.1"
  }
 },
 "nbformat": 4,
 "nbformat_minor": 0
}
