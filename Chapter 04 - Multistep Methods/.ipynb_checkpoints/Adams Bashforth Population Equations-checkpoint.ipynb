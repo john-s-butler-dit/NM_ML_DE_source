{
 "cells": [
  {
   "cell_type": "markdown",
   "metadata": {},
   "source": [
    "# 2 Step Adam Bashforth \n",
    "This notebook implements the 2 step Adams Bashforth method for three different population intial value problems.\n",
    "\n",
    "# Formula\n",
    "The general 2 step Adams-Bashforth method for the first order differential equation\n",
    "$$ y^{'} = f(t,y) $$\n",
    "numerical approximates $y$ the at time point $t_i$ as $w_i$\n",
    "with the  formula:\n",
    "$$ w_{i+1}=w_i+\\frac{h}{2}\\big[3f(t_i,w_i)-f(t_{i-1},w_{i-1})],$$\n",
    "for $i=0,...,N-1$, where \n",
    "\n",
    "and $h$ is the stepsize.\n",
    "\n",
    "To illustrate the method we will apply it to three intial value problems:\n",
    "## 1. Linear \n",
    "Consider the linear population Differential Equation\n",
    "$$ y^{'}=0.1y, \\ \\ (2000 \\leq t \\leq 2020), $$\n",
    "with the initial condition,\n",
    "$$y(2000)=6.$$\n",
    "\n",
    "## 2. Non-Linear Population Equation \n",
    "Consider the non-linear population Differential Equation\n",
    "$$ y^{'}=0.2y-0.01y^2, \\ \\ (2000 \\leq t \\leq 2020), $$\n",
    "with the initial condition,\n",
    "$$y(2000)=6.$$\n",
    "\n",
    "## 3. Non-Linear Population Equation with an oscillation \n",
    "Consider the non-linear population Differential Equation with an oscillation \n",
    "$$ y^{'}=0.2y-0.01y^2+\\sin(2\\pi t), \\ \\ (2000 \\leq t \\leq 2020), $$\n",
    "with the initial condition,\n",
    "$$y(2000)=6.$$"
   ]
  },
  {
   "cell_type": "markdown",
   "metadata": {},
   "source": [
    "#### Setting up Libraries"
   ]
  },
  {
   "cell_type": "code",
   "execution_count": 2,
   "metadata": {},
   "outputs": [],
   "source": [
    "## Library\n",
    "import numpy as np\n",
    "import math \n",
    "\n",
    "%matplotlib inline\n",
    "import matplotlib.pyplot as plt # side-stepping mpl backend\n",
    "import matplotlib.gridspec as gridspec # subplots\n",
    "import warnings\n",
    "\n",
    "warnings.filterwarnings(\"ignore\")"
   ]
  },
  {
   "cell_type": "code",
   "execution_count": 3,
   "metadata": {},
   "outputs": [],
   "source": [
    "from IPython.display import HTML\n",
    "\n",
    "class ListTable(list):\n",
    "    \"\"\" Overridden list class which takes a 2-dimensional list of \n",
    "        the form [[1,2,3],[4,5,6]], and renders an HTML Table in \n",
    "        IPython Notebook. \"\"\"\n",
    "    \n",
    "    def _repr_html_(self):\n",
    "        html = [\"<table>\"]\n",
    "        for row in self:\n",
    "            html.append(\"<tr>\")\n",
    "            \n",
    "            for col in row:\n",
    "                html.append(\"<td>{0}</td>\".format(col))\n",
    "            \n",
    "            html.append(\"</tr>\")\n",
    "        html.append(\"</table>\")\n",
    "        return ''.join(html)"
   ]
  },
  {
   "cell_type": "code",
   "execution_count": 4,
   "metadata": {},
   "outputs": [
    {
     "data": {
      "text/html": [
       "<script>\n",
       "code_show=true; \n",
       "function code_toggle() {\n",
       " if (code_show){\n",
       " $('div.input').hide();\n",
       " } else {\n",
       " $('div.input').show();\n",
       " }\n",
       " code_show = !code_show\n",
       "} \n",
       "$( document ).ready(code_toggle);\n",
       "</script>\n",
       "<form action=\"javascript:code_toggle()\"><input type=\"submit\" value=\"Click here to toggle on/off the raw code.\"></form>"
      ],
      "text/plain": [
       "<IPython.core.display.HTML object>"
      ]
     },
     "execution_count": 4,
     "metadata": {},
     "output_type": "execute_result"
    }
   ],
   "source": [
    " \n",
    "HTML('''<script>\n",
    "code_show=true; \n",
    "function code_toggle() {\n",
    " if (code_show){\n",
    " $('div.input').hide();\n",
    " } else {\n",
    " $('div.input').show();\n",
    " }\n",
    " code_show = !code_show\n",
    "} \n",
    "$( document ).ready(code_toggle);\n",
    "</script>\n",
    "<form action=\"javascript:code_toggle()\"><input type=\"submit\" value=\"Click here to toggle on/off the raw code.\"></form>''')"
   ]
  },
  {
   "cell_type": "markdown",
   "metadata": {},
   "source": [
    "## Discrete Interval\n",
    "The continuous time $a\\leq t \\leq b $ is discretised into $N$ points seperated by a constant stepsize\n",
    "$$ h=\\frac{b-a}{N}.$$\n",
    "Here the interval is $2000\\leq t \\leq 2020,$ \n",
    "$$ h=\\frac{2020-2000}{200}=0.1.$$\n",
    "This gives the 201 discrete points:\n",
    "$$ t_0=2000, \\ t_1=2000.1, \\ ... t_{200}=2020. $$\n",
    "This is generalised to \n",
    "$$ t_i=2000+i0.1, \\ \\ \\ i=0,1,...,200.$$\n",
    "The plot below shows the discrete time steps:"
   ]
  },
  {
   "cell_type": "code",
   "execution_count": 8,
   "metadata": {},
   "outputs": [
    {
     "data": {
      "image/png": "[encoded data removed]",
      "text/plain": [
       "<Figure size 720x288 with 1 Axes>"
      ]
     },
     "metadata": {
      "needs_background": "light"
     },
     "output_type": "display_data"
    },
    {
     "data": {
      "text/plain": [
       "201"
      ]
     },
     "execution_count": 8,
     "metadata": {},
     "output_type": "execute_result"
    }
   ],
   "source": [
    "### DISCRETE TIME\n",
    "N=200\n",
    "t_end=2020.0\n",
    "t_start=2000.0\n",
    "h=((t_end-t_start)/N)\n",
    "t=np.arange(t_start,t_end+h/2,h)\n",
    "\n",
    "## PLOTS TIME\n",
    "fig = plt.figure(figsize=(10,4))\n",
    "plt.plot(t,0*t,'o:',color='red')\n",
    "plt.title('Illustration of discrete time points for h=%s'%(h))\n",
    "plt.show()\n",
    "len(t)"
   ]
  },
  {
   "cell_type": "markdown",
   "metadata": {},
   "source": [
    "# 1. Linear Population Equation\n",
    "## Exact Solution \n",
    "The linear population equation\n",
    "$$ y^{'}=0.1y, \\ \\ (2000 \\leq t \\leq 2020), $$\n",
    "with the initial condition,\n",
    "$$y(2000)=6.$$\n",
    "has a known exact (analytic) solution\n",
    "$$ y(t)=6e^{0.1(t-2000)}. $$\n",
    "\n",
    "## Specific 2 step Adams Bashforth\n",
    "The specific 2 step Adams Bashforth for the linear population equation is:\n",
    "\n",
    "$$w_{i+1}=w_{i}+\\frac{h}{2}\\big[3(f(t_i,w_i))-f(t_{i-1},w_{i-1}))\\big] $$\n",
    "where\n",
    "$$f(t,y)=0.1y,$$"
   ]
  },
  {
   "cell_type": "code",
   "execution_count": 6,
   "metadata": {},
   "outputs": [],
   "source": [
    "## THIS IS THE RIGHT HANDSIDE OF THE LINEAR POPULATION DIFFERENTIAL \n",
    "## EQUATION\n",
    "def linfun(t,w):\n",
    "    ftw=0.1*w\n",
    "    return ftw"
   ]
  },
  {
   "cell_type": "markdown",
   "metadata": {},
   "source": [
    "this gives\n",
    "\n",
    "$$ w_{i+1}=w_{i}+\\frac{0.1}{2}\\big[ 3(0.1w_i)-0.1w_{i-1} \\big]$$\n",
    "for $i=1,...,199$, where $w_i$ is the numerical approximation of $y$ at time $t_i$, with step size $h$ and the initial condition\n",
    "$$w_0=6.$$"
   ]
  },
  {
   "cell_type": "code",
   "execution_count": 13,
   "metadata": {},
   "outputs": [],
   "source": [
    "### INSERT METHOD HERE\n",
    "w=np.zeros(N+1) # a list of 2000+1 zeros\n",
    "w[0]=6 # INITIAL CONDITION\n",
    "w[1]=6.06\n",
    "for i in range(1,N):\n",
    "    w[i+1]=w[i]+h/2*(3*linfun(t[i],w[i])-linfun(t[i-1],w[i-1]))\n"
   ]
  },
  {
   "cell_type": "markdown",
   "metadata": {},
   "source": [
    "## Plotting Results"
   ]
  },
  {
   "cell_type": "code",
   "execution_count": 14,
   "metadata": {},
   "outputs": [
    {
     "data": {
      "image/png": "[encoded data removed]",
      "text/plain": [
       "<Figure size 576x288 with 1 Axes>"
      ]
     },
     "metadata": {
      "needs_background": "light"
     },
     "output_type": "display_data"
    }
   ],
   "source": [
    "## PLOTTING METHOD\n",
    "y=6*np.exp(0.1*(t-2000)) # EXACT SOLUTION\n",
    "fig = plt.figure(figsize=(8,4))\n",
    "plt.plot(t,w,'o:',color='purple',label='Taylor')\n",
    "plt.plot(t,y,'s:',color='black',label='Exact')\n",
    "plt.legend(loc='best')\n",
    "plt.show()"
   ]
  },
  {
   "cell_type": "markdown",
   "metadata": {},
   "source": [
    "## Table\n",
    "The table below shows the time, the numerical approximation, $w$,  the exact solution, $y$, and the exact error $|y(t_i)-w_i|$ for the linear population equation:"
   ]
  },
  {
   "cell_type": "code",
   "execution_count": 15,
   "metadata": {},
   "outputs": [
    {
     "data": {
      "text/html": [
       "<table><tr><td>time</td><td> Adams (w)</td><td>Exact (y)</td><td>Exact Error</td></tr><tr><td>2000.0</td><td>6.0</td><td>6.0</td><td>0.0</td></tr><tr><td>2000.1</td><td>6.06</td><td>6.060301003</td><td>0.0003010025</td></tr><tr><td>2000.2</td><td>6.1209</td><td>6.12120804</td><td>0.0003080402</td></tr><tr><td>2000.3</td><td>6.1824135</td><td>6.182727204</td><td>0.0003137037</td></tr><tr><td>2000.4</td><td>6.244545202</td><td>6.244864645</td><td>0.0003194427</td></tr><tr><td>2000.5</td><td>6.307301313</td><td>6.307626578</td><td>0.0003252652</td></tr><tr><td>2000.6</td><td>6.370688107</td><td>6.371019279</td><td>0.0003311726</td></tr><tr><td>2000.7</td><td>6.434711922</td><td>6.435049088</td><td>0.0003371658</td></tr><tr><td>2000.8</td><td>6.49937916</td><td>6.499722406</td><td>0.000343246</td></tr><tr><td>2000.9</td><td>6.564696288</td><td>6.565045702</td><td>0.0003494144</td></tr></table>"
      ],
      "text/plain": [
       "[['time', ' Adams (w)', 'Exact (y)', 'Exact Error'],\n",
       " [2000.0, 6.0, 6.0, 0.0],\n",
       " [2000.1, 6.06, 6.060301003, 0.0003010025],\n",
       " [2000.2, 6.1209, 6.12120804, 0.0003080402],\n",
       " [2000.3, 6.1824135, 6.182727204, 0.0003137037],\n",
       " [2000.4, 6.244545202, 6.244864645, 0.0003194427],\n",
       " [2000.5, 6.307301313, 6.307626578, 0.0003252652],\n",
       " [2000.6, 6.370688107, 6.371019279, 0.0003311726],\n",
       " [2000.7, 6.434711922, 6.435049088, 0.0003371658],\n",
       " [2000.8, 6.49937916, 6.499722406, 0.000343246],\n",
       " [2000.9, 6.564696288, 6.565045702, 0.0003494144]]"
      ]
     },
     "execution_count": 15,
     "metadata": {},
     "output_type": "execute_result"
    }
   ],
   "source": [
    "table = ListTable()\n",
    "table.append(['time', ' Adams (w)',  'Exact (y)','Exact Error'])\n",
    "for i in range (0,10):\n",
    "    table.append([round(t[i],2),  round(w[i],9), round(y[i],9),np.abs(round(y[i]-w[i],10))])\n",
    "    \n",
    "table"
   ]
  },
  {
   "cell_type": "markdown",
   "metadata": {},
   "source": [
    "## 2. Non-Linear Population Equation \n",
    "$$ y^{'}=0.2y-0.01y^2, \\ \\ (2000 \\leq t \\leq 2020), $$\n",
    "with the initial condition,\n",
    "$$y(2000)=6.$$\n",
    "## Specific 2 step Adams-Bashforth method for the Non-Linear Population Equation\n",
    "The specific Adams-Bashforth difference equation for the non-linear population equations is:\n",
    "\n",
    "$$w_{i+1}=w_{i}+\\frac{0.1}{2}\\big[3(0.2w_{i}-0.01w_{i}^2)-\n",
    "(0.2w_{i-1}-0.01w_{i-1}^2)\\big], $$\n",
    "\n",
    "for $i=1,...,199$, where $w_i$ is the numerical approximation of $y$ at time $t_i$, with step size $h$ and the initial condition\n",
    "$$w_0=6.$$\n",
    "To solve the 2 step method we need a value for $w_1$, here, we will use the approximation from the 2nd order Taylor method (see other notebook),\n",
    "$$w_1=6.084.$$"
   ]
  },
  {
   "cell_type": "code",
   "execution_count": 16,
   "metadata": {},
   "outputs": [],
   "source": [
    "def nonlinfun(t,w):\n",
    "    ftw=0.2*w-0.01*w*w\n",
    "    return ftw"
   ]
  },
  {
   "cell_type": "code",
   "execution_count": 17,
   "metadata": {},
   "outputs": [],
   "source": [
    "### INSERT METHOD HERE\n",
    "w=np.zeros(N+1)\n",
    "w[0]=6\n",
    "w[1]=6.084 # FROM THE THE TAYLOR METHOD\n",
    "for n in range(1,N):\n",
    "    w[n+1]=w[n]+h/2*(3*nonlinfun(t[n],w[n])-nonlinfun(t[n-1],w[n-1]))"
   ]
  },
  {
   "cell_type": "markdown",
   "metadata": {},
   "source": [
    "## Results\n",
    "The plot below shows the numerical approximation, $w$ (circles) for the non-linear population equation:"
   ]
  },
  {
   "cell_type": "code",
   "execution_count": 20,
   "metadata": {},
   "outputs": [
    {
     "data": {
      "image/png": "[encoded data removed]",
      "text/plain": [
       "<Figure size 576x288 with 1 Axes>"
      ]
     },
     "metadata": {
      "needs_background": "light"
     },
     "output_type": "display_data"
    }
   ],
   "source": [
    "fig = plt.figure(figsize=(8,4))\n",
    "plt.plot(t,w,'o:',color='purple',label='2 step Adams Method ')\n",
    "plt.title('Non Linear Population Equation')\n",
    "plt.legend(loc='best')\n",
    "plt.xlabel('time (yrs)')\n",
    "plt.ylabel('Population in billions')\n",
    "plt.show()"
   ]
  },
  {
   "cell_type": "markdown",
   "metadata": {},
   "source": [
    "## Table\n",
    "The table below shows the time and the numerical approximation, $w$,  for the non-linear population equation:"
   ]
  },
  {
   "cell_type": "code",
   "execution_count": 21,
   "metadata": {},
   "outputs": [
    {
     "data": {
      "text/html": [
       "<table><tr><td>time</td><td>2 step Adams Bashforth Population (w)</td></tr><tr><td>2000.0</td><td>6.0</td></tr><tr><td>2000.1</td><td>6.084</td></tr><tr><td>2000.2</td><td>6.168997416</td></tr><tr><td>2000.3</td><td>6.254650073</td></tr><tr><td>2000.4</td><td>6.340946894</td></tr><tr><td>2000.5</td><td>6.427877713</td></tr><tr><td>2000.6</td><td>6.515431961</td></tr><tr><td>2000.7</td><td>6.603598668</td></tr><tr><td>2000.8</td><td>6.692366462</td></tr><tr><td>2000.9</td><td>6.781723574</td></tr></table>"
      ],
      "text/plain": [
       "[['time', '2 step Adams Bashforth Population (w)'],\n",
       " [2000.0, 6.0],\n",
       " [2000.1, 6.084],\n",
       " [2000.2, 6.168997416],\n",
       " [2000.3, 6.254650073],\n",
       " [2000.4, 6.340946894],\n",
       " [2000.5, 6.427877713],\n",
       " [2000.6, 6.515431961],\n",
       " [2000.7, 6.603598668],\n",
       " [2000.8, 6.692366462],\n",
       " [2000.9, 6.781723574]]"
      ]
     },
     "execution_count": 21,
     "metadata": {},
     "output_type": "execute_result"
    }
   ],
   "source": [
    "table = ListTable()\n",
    "table.append(['time', '2 step Adams Bashforth Population (w)'])\n",
    "for i in range (0,10):\n",
    "    table.append([round(t[i],2),  round(w[i],9)])\n",
    "    \n",
    "table"
   ]
  },
  {
   "cell_type": "markdown",
   "metadata": {},
   "source": [
    "## 3. Non-Linear Population Equation with an oscilation \n",
    "$$ y^{'}=0.2y-0.01y^2+\\sin(2\\pi t), \\ \\ (2000 \\leq t \\leq 2020), $$\n",
    "with the initial condition,\n",
    "$$y(2000)=6.$$\n",
    "\n",
    "## Specific 2 Step Adams Bashforth for the Non-Linear Population Equation with an oscilation\n",
    "To write the specific \n",
    "\n",
    "$$ w_{i+1}=w_{i}+\\frac{0.1}{2} \\big[ 3(0.2w_{i}-0.01w_{i}^2+\\sin(2\\pi t_{i}))- (0.2w_{i-1}-0.01w_{i-1}^2+\\sin(2\\pi t_{i-1}))\\big] $$\n",
    "            \n",
    "for $i=1,...,199$, where $w_i$ is the numerical approximation of $y$ at time $t_i$, with step size $h$ and the initial condition\n",
    "$$w_0=6.$$ As $w_1$ is required for the method but unknown we will use the numerical solution of a one step method to approximate the value. Here, we use the 2nd order Runge Kutta approximation (see [Runge Kutta notebook](https://github.com/john-s-butler-dit/Numerical-Analysis-Python/blob/master/Chapter%2003%20-%20Runge%20Kutta/01_2nd%20Order%20Runge%20Kutta%20Population%20Equations.ipynb) )\n",
    "$$w_1=6.11.$$"
   ]
  },
  {
   "cell_type": "code",
   "execution_count": 22,
   "metadata": {},
   "outputs": [],
   "source": [
    "def nonlin_oscfun(t,w):\n",
    "    ftw=0.2*w-0.01*w*w+np.sin(2*np.math.pi*t)\n",
    "    return ftw"
   ]
  },
  {
   "cell_type": "code",
   "execution_count": 24,
   "metadata": {},
   "outputs": [],
   "source": [
    "## INSERT METHOD HERE\n",
    "w=np.zeros(N+1)\n",
    "w[0]=6\n",
    "w[1]=6.11\n",
    "for n in range(1,N):\n",
    "    w[n+1]=w[n]+h/2*(3*nonlin_oscfun(t[n],w[n])\n",
    "                     -nonlin_oscfun(t[n-1],w[n-1]))"
   ]
  },
  {
   "cell_type": "markdown",
   "metadata": {},
   "source": [
    "## Results\n",
    "The plot below shows the  numerical approximation, $w$ (circles) for the non-linear population equation:"
   ]
  },
  {
   "cell_type": "code",
   "execution_count": 25,
   "metadata": {},
   "outputs": [
    {
     "data": {
      "image/png": "[encoded data removed]",
      "text/plain": [
       "<Figure size 576x288 with 1 Axes>"
      ]
     },
     "metadata": {
      "needs_background": "light"
     },
     "output_type": "display_data"
    }
   ],
   "source": [
    "fig = plt.figure(figsize=(8,4))\n",
    "plt.plot(t,w,'o:',color='purple',label='Adams-Bashforth')\n",
    "plt.title('Population Equation with seasonal oscilation')\n",
    "plt.xlabel('time (yrs)')\n",
    "plt.ylabel('Population in Billions')\n",
    "plt.legend(loc='best')\n",
    "plt.show()"
   ]
  },
  {
   "cell_type": "markdown",
   "metadata": {},
   "source": [
    "## Table\n",
    "The table below shows the time and the numerical approximation, $w$,  for the non-linear population equation:"
   ]
  },
  {
   "cell_type": "code",
   "execution_count": 26,
   "metadata": {},
   "outputs": [
    {
     "data": {
      "text/html": [
       "<table><tr><td>time</td><td>Adams-Bashforth (w)</td></tr><tr><td>2000.0</td><td>6.0</td></tr><tr><td>2000.1</td><td>6.11</td></tr><tr><td>2000.2</td><td>6.283469638</td></tr><tr><td>2000.3</td><td>6.483586006</td></tr><tr><td>2000.4</td><td>6.667050205</td></tr><tr><td>2000.5</td><td>6.79718492</td></tr><tr><td>2000.6</td><td>6.857962897</td></tr><tr><td>2000.7</td><td>6.860115526</td></tr><tr><td>2000.8</td><td>6.836994198</td></tr><tr><td>2000.9</td><td>6.831811075</td></tr></table>"
      ],
      "text/plain": [
       "[['time', 'Adams-Bashforth (w)'],\n",
       " [2000.0, 6.0],\n",
       " [2000.1, 6.11],\n",
       " [2000.2, 6.283469638],\n",
       " [2000.3, 6.483586006],\n",
       " [2000.4, 6.667050205],\n",
       " [2000.5, 6.79718492],\n",
       " [2000.6, 6.857962897],\n",
       " [2000.7, 6.860115526],\n",
       " [2000.8, 6.836994198],\n",
       " [2000.9, 6.831811075]]"
      ]
     },
     "execution_count": 26,
     "metadata": {},
     "output_type": "execute_result"
    }
   ],
   "source": [
    "table = ListTable()\n",
    "table.append(['time', 'Adams-Bashforth (w)'])\n",
    "for i in range (0,10):\n",
    "    table.append([round(t[i],2),  round(w[i],9)])\n",
    "    \n",
    "table\n"
   ]
  },
  {
   "cell_type": "code",
   "execution_count": null,
   "metadata": {},
   "outputs": [],
   "source": []
  }
 ],
 "metadata": {
  "kernelspec": {
   "display_name": "Python 3",
   "language": "python",
   "name": "python3"
  },
  "language_info": {
   "codemirror_mode": {
    "name": "ipython",
    "version": 3
   },
   "file_extension": ".py",
   "mimetype": "text/x-python",
   "name": "python",
   "nbconvert_exporter": "python",
   "pygments_lexer": "ipython3",
   "version": "3.7.3"
  }
 },
 "nbformat": 4,
 "nbformat_minor": 1
}
