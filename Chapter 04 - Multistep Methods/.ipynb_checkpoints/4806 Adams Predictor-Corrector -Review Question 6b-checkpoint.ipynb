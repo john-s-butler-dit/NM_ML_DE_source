{
 "cells": [
  {
   "cell_type": "markdown",
   "metadata": {},
   "source": [
    "## Problem Sheet Question 2a\n",
    "\n",
    "The general form of the population growth differential equation\n",
    "$$ y^{'}=ty^3-y, \\ \\ (0 \\leq t \\leq 2) $$\n",
    "with the initial condition\n",
    "$$y(0)=1$$\n",
    "For N=4\n",
    "$$ y(x_1)= 0.5$$\n",
    "\n",
    "### 2-step Adams Bashforth\n",
    "\n",
    "The 2-step Adams Bashforth difference equation is\n",
    "$$w^{0}_{i+1} = w_{i} + \\frac{h}{2}(3f(t_i,w_i)-f(t_{i-1},w_{i-1})) $$\n",
    "$$w^{0}_{i+1} = w_{i} + \\frac{h}{2}(3(t_iw_i^3-w_i)-(t_{i-1}w_{i-1}^3-w_{i-1})) $$\n",
    "### 3-step Adams Moulton\n",
    "$$w^{1}_{i+1} = w_{i} + \\frac{h}{12}(5f(t_{i+1},w^{0}_{i+1})+8f(t_{i},w_{i})-f(t_{i-1},w_{i-1})) $$\n",
    "\n",
    "$$ w^{1}_{i+1} = w_{i} + \\frac{h}{12}(5(t_{i+1}(w^0_{i+1})^3-w^0_{i+1})+8(t_{i}w_{i}^3-w_{i})-(t_{i-1}w_{i-1}^3-w_{i-1})) $$\n"
   ]
  },
  {
   "cell_type": "code",
   "execution_count": 1,
   "metadata": {
    "collapsed": true
   },
   "outputs": [],
   "source": [
    "import numpy as np\n",
    "import math \n",
    "\n",
    "%matplotlib inline\n",
    "import matplotlib.pyplot as plt # side-stepping mpl backend\n",
    "import matplotlib.gridspec as gridspec # subplots\n",
    "import warnings\n",
    "\n",
    "warnings.filterwarnings(\"ignore\")\n"
   ]
  },
  {
   "cell_type": "code",
   "execution_count": 2,
   "metadata": {
    "collapsed": true
   },
   "outputs": [],
   "source": [
    "def myfun_ty(t,y):\n",
    "    return y*y*y*t-y\n",
    "\n",
    "\n",
    "\n",
    "#PLOTS\n",
    "def Adams_Bashforth_Predictor_Corrector(N,IC):\n",
    "\n",
    "    x_end=2\n",
    "    x_start=0\n",
    "    INTITIAL_CONDITION=IC\n",
    "    h=x_end/(N)\n",
    "    N=N+2;\n",
    "    t=np.zeros(N)\n",
    "    w_predictor=np.zeros(N)\n",
    "    w_corrector=np.zeros(N)\n",
    "   \n",
    "    Analytic_Solution=np.zeros(N)\n",
    "    k=0\n",
    "    w_predictor[0]=INTITIAL_CONDITION\n",
    "    w_corrector[0]=INTITIAL_CONDITION\n",
    "    Analytic_Solution[0]=INTITIAL_CONDITION\n",
    "    t[0]=x_start\n",
    "    t[1]=x_start+1*h\n",
    "    t[2]=x_start+2*h\n",
    "    w_predictor[1]=0.5\n",
    "    w_corrector[1]=0.5\n",
    "   \n",
    "    for k in range (2,N-1):\n",
    "        w_predictor[k+1]=w_corrector[k]+h/2.0*(3*myfun_ty(t[k],w_corrector[k])-myfun_ty(t[k-1],w_corrector[k-1]))\n",
    "        w_corrector[k+1]=w_corrector[k]+h/12.0*(5*myfun_ty(t[k+1],w_predictor[k+1])+8*myfun_ty(t[k],w_corrector[k])-myfun_ty(t[k-1],w_corrector[k-1]))\n",
    "        t[k+1]=t[k]+h\n",
    "   \n",
    "    fig = plt.figure(figsize=(10,4))\n",
    "    # --- left hand plot\n",
    "    ax = fig.add_subplot(1,2,1)\n",
    "    plt.plot(t,w_predictor,color='red')\n",
    "    #ax.legend(loc='best')\n",
    "    plt.title('Predictor h=%s'%(h))\n",
    "\n",
    "    # --- right hand plot\n",
    "    ax = fig.add_subplot(1,2,2)\n",
    "    plt.plot(t,w_corrector,color='blue')\n",
    "    plt.title('Corrector')\n",
    "\n",
    "    # --- titled , explanatory text and save\n",
    "    fig.suptitle(r\"$y'=ty^3-y$\", fontsize=20)\n",
    "    plt.tight_layout()\n",
    "    plt.subplots_adjust(top=0.85)    \n",
    "    print('time')\n",
    "    print(t)\n",
    "    print('Predictor')\n",
    "    print(w_predictor)\n",
    "    print('Corrector')\n",
    "    print(w_corrector)"
   ]
  },
  {
   "cell_type": "code",
   "execution_count": 4,
   "metadata": {
    "collapsed": false,
    "scrolled": true
   },
   "outputs": [
    {
     "name": "stdout",
     "output_type": "stream",
     "text": [
      "time\n",
      "[ 0.   0.2  0.4  0.6  0.8  1.   1.2  1.4  1.6  1.8  2.   2.2]\n",
      "Predictor\n",
      "[  1.00000000e+00   5.00000000e-01   0.00000000e+00   4.75000000e-02\n",
      "   2.77084450e-03   2.63559724e-03   2.15353298e-03   1.76273674e-03\n",
      "   1.44282559e-03   1.18097388e-03   9.66644343e-04   7.91212442e-04]\n",
      "Corrector\n",
      "[  1.00000000e+00   5.00000000e-01   0.00000000e+00   3.95833333e-03\n",
      "   3.19965681e-03   2.61937789e-03   2.14399600e-03   1.75489271e-03\n",
      "   1.43640563e-03   1.17571911e-03   9.62343270e-04   7.87691972e-04]\n"
     ]
    },
    {
     "data": {
      "image/png": "[encoded data removed]",
      "text/plain": [
       "<matplotlib.figure.Figure at 0x7f882bd442b0>"
      ]
     },
     "metadata": {},
     "output_type": "display_data"
    }
   ],
   "source": [
    "Adams_Bashforth_Predictor_Corrector(10,1)"
   ]
  },
  {
   "cell_type": "code",
   "execution_count": null,
   "metadata": {
    "collapsed": true
   },
   "outputs": [],
   "source": []
  }
 ],
 "metadata": {
  "kernelspec": {
   "display_name": "Python 3",
   "language": "python",
   "name": "python3"
  },
  "language_info": {
   "codemirror_mode": {
    "name": "ipython",
    "version": 3
   },
   "file_extension": ".py",
   "mimetype": "text/x-python",
   "name": "python",
   "nbconvert_exporter": "python",
   "pygments_lexer": "ipython3",
   "version": "3.4.1"
  }
 },
 "nbformat": 4,
 "nbformat_minor": 0
}
