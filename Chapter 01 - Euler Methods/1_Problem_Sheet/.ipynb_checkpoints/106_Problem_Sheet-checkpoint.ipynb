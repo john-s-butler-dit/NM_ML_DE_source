{
 "cells": [
  {
   "cell_type": "markdown",
   "metadata": {
    "colab_type": "text",
    "id": "view-in-github"
   },
   "source": [
    "<a href=\"https://colab.research.google.com/github/john-s-butler-dit/Numerical-Analysis-Python/blob/master/Chapter%2001%20-%20Euler%20Methods/101_Euler_method_with_Theorems_Growth_function.ipynb\" target=\"_parent\"><img src=\"https://colab.research.google.com/assets/colab-badge.svg\" alt=\"Open In Colab\"/></a>"
   ]
  },
  {
   "cell_type": "markdown",
   "metadata": {
    "id": "hkJ1MEvODZtZ"
   },
   "source": [
    "# Blank Euler Method\n",
    " \n",
    "\n",
    "The more general form of a first order Ordinary Differential Equation is: \n",
    "\\begin{equation}\n",
    "y^{'}=f(t,y).\n",
    "\\end{equation}\n",
    "This can be solved analytically by integrating both sides but this is not straight forward for most problems.\n",
    "Numerical methods can be used to approximate the solution at discrete points.\n"
   ]
  },
  {
   "cell_type": "markdown",
   "metadata": {
    "id": "DZGV6y7NDZtb"
   },
   "source": [
    "## Euler method\n",
    "\n",
    "The simplest one step numerical method is the Euler Method named after the most prolific of mathematicians [Leonhard Euler](https://en.wikipedia.org/wiki/Leonhard_Euler) (15 April 1707 – 18 September 1783) .\n",
    "\n",
    "The general Euler formula for the first order differential equation\n",
    "\\begin{equation}\n",
    "y^{'} = f(t,y), \n",
    "\\end{equation}\n",
    "\n",
    "approximates the derivative at time point $t_i$,\n",
    "\n",
    "\\begin{equation}\n",
    "y^{'}(t_i) \\approx \\frac{w_{i+1}-w_i}{t_{i+1}-t_{i}},\n",
    "\\end{equation}\n",
    "\n",
    "where $w_i$ is the approximate solution of $y$ at time $t_i$.\n",
    "\n",
    "This substitution changes the differential equation  into a __difference__ equation of the form \n",
    "\n",
    "\\begin{equation}\n",
    "\\frac{w_{i+1}-w_i}{t_{i+1}-t_{i}}=f(t_i,w_i). \n",
    "\\end{equation}\n",
    "\n",
    "Assuming uniform stepsize $t_{i+1}-t_{i}$ is replaced by $h$, re-arranging the equation gives\n",
    "\\begin{equation} \n",
    "w_{i+1}=w_i+hf(t_i,w_i).\n",
    "\\end{equation}\n",
    " This can be read as the future $w_{i+1}$ can be approximated by the present $w_i$ and the addition of the input to the system $f(t,y)$ times the time step.\n"
   ]
  },
  {
   "cell_type": "code",
   "execution_count": 4,
   "metadata": {
    "id": "mRGCHqPADZtc"
   },
   "outputs": [],
   "source": [
    "## Library\n",
    "import numpy as np\n",
    "import math \n",
    "import pandas as pd\n",
    "%matplotlib inline\n",
    "import matplotlib.pyplot as plt # side-stepping mpl backend\n",
    "import matplotlib.gridspec as gridspec # subplots\n",
    "import warnings\n",
    "\n",
    "warnings.filterwarnings(\"ignore\")\n"
   ]
  },
  {
   "cell_type": "markdown",
   "metadata": {
    "id": "Z-L1qD6FDZtd"
   },
   "source": [
    "      \n",
    "## Discrete Interval\n",
    "The continuous time $a\\leq t \\leq b $ is discretised into $N$ points seperated by a constant stepsize\n",
    "\\begin{equation} \n",
    "h=\\frac{b-a}{N}.\n",
    "\\end{equation}\n",
    "Here the interval is $0\\leq t \\leq 2$ \n",
    "\\begin{equation}\n",
    " h=\\frac{2-0}{20}=0.1,\n",
    "\\end{equation}\n",
    "this gives the 21 discrete points:\n",
    "\\begin{equation}\n",
    " t_0=0, \\ t_1=0.1, \\ ... t_{20}=2. \n",
    "\\end{equation}\n",
    "This is generalised to \n",
    "\\begin{equation}\n",
    "t_i=0+i0.1, \\ \\ \\ i=0,1,...,20.\n",
    "\\end{equation}\n",
    "The plot below shows the discrete time steps."
   ]
  },
  {
   "cell_type": "code",
   "execution_count": 3,
   "metadata": {
    "colab": {
     "base_uri": "https://localhost:8080/",
     "height": 281
    },
    "id": "3DIfCuFGDZtd",
    "outputId": "85e5b927-fc65-4f6b-bc71-9016e82f605f"
   },
   "outputs": [
    {
     "ename": "NameError",
     "evalue": "name 'np' is not defined",
     "output_type": "error",
     "traceback": [
      "\u001b[0;31m---------------------------------------------------------------------------\u001b[0m",
      "\u001b[0;31mNameError\u001b[0m                                 Traceback (most recent call last)",
      "Cell \u001b[0;32mIn[3], line 8\u001b[0m\n\u001b[1;32m      4\u001b[0m N\u001b[38;5;241m=\u001b[39m\u001b[38;5;241m20\u001b[39m\n\u001b[1;32m      7\u001b[0m h\u001b[38;5;241m=\u001b[39m(t_end\u001b[38;5;241m-\u001b[39mt_start)\u001b[38;5;241m/\u001b[39m(N)\n\u001b[0;32m----> 8\u001b[0m time\u001b[38;5;241m=\u001b[39mnp\u001b[38;5;241m.\u001b[39marange(t_start,t_end\u001b[38;5;241m+\u001b[39m\u001b[38;5;241m0.01\u001b[39m,h)\n\u001b[1;32m      9\u001b[0m fig \u001b[38;5;241m=\u001b[39m plt\u001b[38;5;241m.\u001b[39mfigure(figsize\u001b[38;5;241m=\u001b[39m(\u001b[38;5;241m10\u001b[39m,\u001b[38;5;241m4\u001b[39m))\n\u001b[1;32m     10\u001b[0m plt\u001b[38;5;241m.\u001b[39mplot(time,\u001b[38;5;241m0\u001b[39m\u001b[38;5;241m*\u001b[39mtime,\u001b[38;5;124m'\u001b[39m\u001b[38;5;124mo:\u001b[39m\u001b[38;5;124m'\u001b[39m,color\u001b[38;5;241m=\u001b[39m\u001b[38;5;124m'\u001b[39m\u001b[38;5;124mred\u001b[39m\u001b[38;5;124m'\u001b[39m)\n",
      "\u001b[0;31mNameError\u001b[0m: name 'np' is not defined"
     ]
    }
   ],
   "source": [
    "### Setting up time\n",
    "a=0\n",
    "b=2.0\n",
    "N=20\n",
    "\n",
    "\n",
    "h=(b-a)/(N)\n",
    "time=np.arange(a,b+h/2,h)\n",
    "fig = plt.figure(figsize=(10,4))\n",
    "plt.plot(time,0*time,'o:',color='red')\n",
    "plt.xlim((a,b))\n",
    "plt.title('Illustration of discrete time points for h=%s'%(h))\n",
    "plt.plot();"
   ]
  },
  {
   "cell_type": "markdown",
   "metadata": {
    "id": "clTk4dy-DZte"
   },
   "source": [
    "## Initial Condition\n",
    "To get a specify solution to a first order initial value problem, an __initial condition__ is required.\n",
    "\n",
    "For our population problem the intial condition is:\n",
    "\\begin{equation}\n",
    "y(a)=A.\n",
    "\\end{equation}\n"
   ]
  },
  {
   "cell_type": "markdown",
   "metadata": {
    "id": "GnFTxKeADZtf"
   },
   "source": [
    "## Numerical approximation of Population growth\n",
    "The differential equation is transformed using the Euler method into a difference equation of the form\n",
    "\\begin{equation} w_{i+1}=w_{i}+h f(t_i,w_i). \\end{equation}\n",
    "This approximates a series of of values $w_0, \\ w_1, \\ ..., w_{N}$.\n",
    " "
   ]
  },
  {
   "cell_type": "code",
   "execution_count": 2,
   "metadata": {
    "colab": {
     "base_uri": "https://localhost:8080/",
     "height": 295
    },
    "id": "Pl9nDiWrDZtg",
    "outputId": "5e9beb39-22b2-42a0-85a9-5c10fdfaa945"
   },
   "outputs": [
    {
     "ename": "SyntaxError",
     "evalue": "incomplete input (967930414.py, line 5)",
     "output_type": "error",
     "traceback": [
      "\u001b[0;36m  Cell \u001b[0;32mIn[2], line 5\u001b[0;36m\u001b[0m\n\u001b[0;31m    ##    w[i+1]=w[i]+h*\u001b[0m\n\u001b[0m                        ^\u001b[0m\n\u001b[0;31mSyntaxError\u001b[0m\u001b[0;31m:\u001b[0m incomplete input\n"
     ]
    }
   ],
   "source": [
    "w=np.zeros(N+1)\n",
    "w[0]=A ## INITIAL CONDITION\n",
    "for i in range (0,N):\n",
    "## ADD EQUATION DYNAMICS TO EQUATION\n",
    "##    w[i+1]=w[i]+h*"
   ]
  },
  {
   "cell_type": "code",
   "execution_count": null,
   "metadata": {},
   "outputs": [],
   "source": []
  }
 ],
 "metadata": {
  "colab": {
   "include_colab_link": true,
   "name": "101_Euler_method_with_Theorems_Growth_function.ipynb",
   "provenance": []
  },
  "kernelspec": {
   "display_name": "Python 3 (ipykernel)",
   "language": "python",
   "name": "python3"
  },
  "language_info": {
   "codemirror_mode": {
    "name": "ipython",
    "version": 3
   },
   "file_extension": ".py",
   "mimetype": "text/x-python",
   "name": "python",
   "nbconvert_exporter": "python",
   "pygments_lexer": "ipython3",
   "version": "3.11.4"
  }
 },
 "nbformat": 4,
 "nbformat_minor": 1
}
