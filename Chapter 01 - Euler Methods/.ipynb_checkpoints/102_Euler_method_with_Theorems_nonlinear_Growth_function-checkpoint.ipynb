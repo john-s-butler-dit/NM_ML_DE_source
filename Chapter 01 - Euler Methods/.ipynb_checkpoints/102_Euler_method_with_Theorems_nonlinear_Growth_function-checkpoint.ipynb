{
 "cells": [
  {
   "cell_type": "markdown",
   "metadata": {},
   "source": [
    "# First Order Initial Value Problem\n",
    " \n",
    "\n",
    "The more general form of a first order Ordinary Differential Equation is: \n",
    "\\begin{equation}\n",
    "\\label{general ODE}\n",
    "y^{'}=f(t,y).\n",
    "\\end{equation}\n",
    "This can be solved analytically by integrating both sides but this is not straight forward for most problems.\n",
    "Numerical methods can be used to approximate the solution at discrete points.\n"
   ]
  },
  {
   "cell_type": "markdown",
   "metadata": {},
   "source": [
    "## Euler method\n",
    "\n",
    "The simplest one step numerical method is the Euler Method named after the most prolific of mathematicians [Leonhard Euler](https://en.wikipedia.org/wiki/Leonhard_Euler) (15 April 1707 – 18 September 1783) .\n",
    "\n",
    "The general Euler formula to the first order equation\n",
    "$$ y^{'} = f(t,y) $$\n",
    "approximates the derivative at time point $t_i$\n",
    "$$y^{'}(t_i) \\approx \\frac{w_{i+1}-w_i}{t_{i+1}-t_{i}} $$\n",
    "where $w_i$ is the approximate solution of $y$ at time $t_i$.\n",
    "This substitution changes the differential equation  into a __difference__ equation of the form \n",
    "$$ \n",
    "\\frac{w_{i+1}-w_i}{t_{i+1}-t_{i}}=f(t_i,w_i) $$\n",
    "Assuming uniform stepsize $t_{i+1}-t_{i}$ is replaced by $h$, re-arranging the equation gives\n",
    "$$ w_{i+1}=w_i+hf(t_i,w_i),$$\n",
    " This can be read as the future $w_{i+1}$ can be approximated by the present $w_i$ and the addition of the input to the system $f(t,y)$ times the time step.\n"
   ]
  },
  {
   "cell_type": "code",
   "execution_count": 1,
   "metadata": {},
   "outputs": [],
   "source": [
    "## Library\n",
    "import numpy as np\n",
    "import math \n",
    "\n",
    "%matplotlib inline\n",
    "import matplotlib.pyplot as plt # side-stepping mpl backend\n",
    "import matplotlib.gridspec as gridspec # subplots\n",
    "import warnings\n",
    "import pandas as pd\n",
    "\n",
    "warnings.filterwarnings(\"ignore\")"
   ]
  },
  {
   "cell_type": "markdown",
   "metadata": {},
   "source": [
    "## Population growth\n",
    "\n",
    "The general form of the non-linear population growth differential equation is: \n",
    "$$ y^{'}=\\alpha y-\\beta y^2 $$\n",
    "where $\\alpha$ is the growth rate and $\\beta$ is the death rate. The initial population at time $ a $ is \n",
    "$$ y(a)=A $$\n",
    "$$ a\\leq t \\leq b. $$\n",
    "\n",
    "      \n",
    "## Discrete Interval\n",
    "The continuous time $a\\leq t \\leq b $ is discretised into $N$ points seperated by a constant stepsize\n",
    "$$ h=\\frac{b-a}{N}.$$\n",
    "Here the interval is $2000\\leq t \\leq 2002$ \n",
    "$$ h=\\frac{2020-2000}{200}=0.1.$$\n",
    "This gives the 21 discrete points:\n",
    "$$ t_0=2000, \\ t_1=0.1, \\ ... t_{200}=2020. $$\n",
    "This is generalised to \n",
    "$$ t_i=2000+i0.1, \\ \\ \\ i=0,1,...,200.$$\n",
    "The plot below shows the discrete time steps."
   ]
  },
  {
   "cell_type": "code",
   "execution_count": 2,
   "metadata": {},
   "outputs": [
    {
     "data": {
      "image/png": "[encoded data removed]",
      "text/plain": [
       "<Figure size 720x288 with 1 Axes>"
      ]
     },
     "metadata": {
      "needs_background": "light"
     },
     "output_type": "display_data"
    }
   ],
   "source": [
    "### Setting up time\n",
    "t_end=2020.0\n",
    "t_start=2000.0\n",
    "N=200\n",
    "h=(t_end-t_start)/(N)\n",
    "time=np.arange(t_start,t_end+0.01,h)\n",
    "fig = plt.figure(figsize=(10,4))\n",
    "plt.plot(time,0*time,'o:',color='red')\n",
    "plt.title('Illustration of discrete time points for h=%s'%(h))\n",
    "plt.xlim((2000,2002))\n",
    "plt.plot();"
   ]
  },
  {
   "cell_type": "markdown",
   "metadata": {},
   "source": [
    "## Initial Condition\n",
    "To get a specify solution to a first order initial value problem, an __initial condition__ is required.\n",
    "For our population problem the intial condition is:\n",
    "$$y(2000)=6.$$\n",
    "### Growth rate \n",
    "Given the growth rate $$\\alpha=0.2,$$ and death rate $$\\beta=0.01,$$ giving the specific differential equation,\n",
    "$$ y^{'}=0.2 y-0.01 y^2 $$\n",
    "The initial population at time $2000$ is \n",
    "$$ y(2000)=6, $$\n",
    "$$ 2000\\leq t \\leq 2020. $$\n"
   ]
  },
  {
   "cell_type": "markdown",
   "metadata": {},
   "source": [
    "## Numerical approximation of Population growth\n",
    "The differential equation is transformed using the Euler method into a difference equation of the form\n",
    "      $$ w_{i+1}=w_{i}+h (\\alpha w_i-\\beta w_i\\times w_i). $$\n",
    "This approximates a series of of values $w_0, \\ w_1, \\ ..., w_{N}$.\n",
    "For the specific example of the population equation the difference equation is,\n",
    "      $$ w_{i+1}=w_{i}+h 0.1 [0.2 w_i-0.01 w_i\\times w_i], $$\n",
    "where $i=0,1,2,...,199$, and $w_0=6$. From this initial condition the series is approximated.\n",
    "The plot below shows the Euler approximation $w$ in blue squares. "
   ]
  },
  {
   "cell_type": "code",
   "execution_count": 3,
   "metadata": {},
   "outputs": [
    {
     "data": {
      "image/png": "[encoded data removed]",
      "text/plain": [
       "<Figure size 720x288 with 1 Axes>"
      ]
     },
     "metadata": {
      "needs_background": "light"
     },
     "output_type": "display_data"
    }
   ],
   "source": [
    "w=np.zeros(N+1)\n",
    "w[0]=6\n",
    "for i in range (0,N):\n",
    "    w[i+1]=w[i]+h*(0.2*w[i]-0.01*w[i]*w[i])\n",
    "\n",
    "fig = plt.figure(figsize=(10,4))\n",
    "plt.plot(time,w,'s:',color='blue',label='Euler')\n",
    "plt.xlim((min(time),max(time)))\n",
    "plt.xlabel('time')\n",
    "plt.legend(loc='best')\n",
    "plt.title('Euler solution')\n",
    "plt.plot();"
   ]
  },
  {
   "cell_type": "markdown",
   "metadata": {},
   "source": [
    "### Table\n",
    "The table below shows the iteration $i$, the discrete time point t[i], and the Euler approximation w[i] of the solution $y$ at time point t[i] for the non-linear population equation."
   ]
  },
  {
   "cell_type": "code",
   "execution_count": 4,
   "metadata": {},
   "outputs": [
    {
     "data": {
      "text/html": [
       "<div>\n",
       "<style scoped>\n",
       "    .dataframe tbody tr th:only-of-type {\n",
       "        vertical-align: middle;\n",
       "    }\n",
       "\n",
       "    .dataframe tbody tr th {\n",
       "        vertical-align: top;\n",
       "    }\n",
       "\n",
       "    .dataframe thead th {\n",
       "        text-align: right;\n",
       "    }\n",
       "</style>\n",
       "<table border=\"1\" class=\"dataframe\">\n",
       "  <thead>\n",
       "    <tr style=\"text-align: right;\">\n",
       "      <th></th>\n",
       "      <th>time t_i</th>\n",
       "      <th>Euler (w_i)</th>\n",
       "    </tr>\n",
       "  </thead>\n",
       "  <tbody>\n",
       "    <tr>\n",
       "      <th>0</th>\n",
       "      <td>2000.0</td>\n",
       "      <td>6.000000</td>\n",
       "    </tr>\n",
       "    <tr>\n",
       "      <th>1</th>\n",
       "      <td>2000.1</td>\n",
       "      <td>6.084000</td>\n",
       "    </tr>\n",
       "    <tr>\n",
       "      <th>2</th>\n",
       "      <td>2000.2</td>\n",
       "      <td>6.168665</td>\n",
       "    </tr>\n",
       "    <tr>\n",
       "      <th>3</th>\n",
       "      <td>2000.3</td>\n",
       "      <td>6.253986</td>\n",
       "    </tr>\n",
       "    <tr>\n",
       "      <th>4</th>\n",
       "      <td>2000.4</td>\n",
       "      <td>6.339953</td>\n",
       "    </tr>\n",
       "    <tr>\n",
       "      <th>5</th>\n",
       "      <td>2000.5</td>\n",
       "      <td>6.426557</td>\n",
       "    </tr>\n",
       "    <tr>\n",
       "      <th>6</th>\n",
       "      <td>2000.6</td>\n",
       "      <td>6.513788</td>\n",
       "    </tr>\n",
       "    <tr>\n",
       "      <th>7</th>\n",
       "      <td>2000.7</td>\n",
       "      <td>6.601634</td>\n",
       "    </tr>\n",
       "    <tr>\n",
       "      <th>8</th>\n",
       "      <td>2000.8</td>\n",
       "      <td>6.690085</td>\n",
       "    </tr>\n",
       "    <tr>\n",
       "      <th>9</th>\n",
       "      <td>2000.9</td>\n",
       "      <td>6.779130</td>\n",
       "    </tr>\n",
       "  </tbody>\n",
       "</table>\n",
       "</div>"
      ],
      "text/plain": [
       "   time t_i  Euler (w_i) \n",
       "0    2000.0      6.000000\n",
       "1    2000.1      6.084000\n",
       "2    2000.2      6.168665\n",
       "3    2000.3      6.253986\n",
       "4    2000.4      6.339953\n",
       "5    2000.5      6.426557\n",
       "6    2000.6      6.513788\n",
       "7    2000.7      6.601634\n",
       "8    2000.8      6.690085\n",
       "9    2000.9      6.779130"
      ]
     },
     "execution_count": 4,
     "metadata": {},
     "output_type": "execute_result"
    }
   ],
   "source": [
    "d = {'time t_i': time[0:10],    'Euler (w_i) ':w[0:10]}\n",
    "df = pd.DataFrame(data=d)\n",
    "df"
   ]
  },
  {
   "cell_type": "markdown",
   "metadata": {},
   "source": [
    "## Numerical Error\n",
    "With a numerical solution there are two types of error: \n",
    "* local truncation error at one time step; \n",
    "* global error which is the propagation of local error. \n",
    "\n",
    "### Derivation of  Euler Local truncation error\n",
    "The left hand side of a initial value problem $\\frac{dy}{dt}$ is approximated by __Taylors theorem__ expand about a point $t_0$ giving:\n",
    "\\begin{equation}y(t_1) = y(t_0)+(t_1-t_0)y^{'}(t_0) + \\frac{(t_1-t_0)^2}{2!}y^{''}(\\xi), \\ \\ \\ \\ \\ \\ \\xi \\in [t_0,t_1]. \\end{equation}\n",
    "Rearranging and letting $h=t_1-t_0$ the equation becomes\n",
    "$$y^{'}(t_0)=\\frac{y(t_1)-y(t_0)}{h}-\\frac{h}{2}y^{''}(\\xi). $$\n",
    "From this the local truncation error is\n",
    "$$\\tau y^{'}(t_0)\\leq \\frac{h}{2}M  $$\n",
    "where $y^{''}(t) \\leq M $.\n",
    "#### Derivation of  Euler Local truncation error for the Population Growth\n",
    "As the exact solution $y$ is unknown we cannot get an exact estimate of the second derivative\n",
    "$$y'(t)=0.2 y-0.01 y^2,$$\n",
    "differentiate with respect to $t$,\n",
    "$$y''(t)=0.2 y'-0.01 (2yy'),$$\n",
    "subbing the original equation gives \n",
    "$$y''(t)=0.2 (0.2 y-0.01 y^2)-0.01 \\big(2y(0.2 y-0.01 y^2)\\big),$$\n",
    "which expresses the second derivative as a function of the exact solution $y$, this is still a problem as the value of $y$ is unknown, assuming,\n",
    "$$max|y''|=M\\leq 40,$$\n",
    "this gives a local trucation for $h=0.1$ for our non-linear equation is\n",
    "$$\\tau=\\frac{h}{2}40=2. $$\n"
   ]
  },
  {
   "cell_type": "code",
   "execution_count": 5,
   "metadata": {},
   "outputs": [
    {
     "data": {
      "image/png": "[encoded data removed]",
      "text/plain": [
       "<Figure size 720x288 with 1 Axes>"
      ]
     },
     "metadata": {
      "needs_background": "light"
     },
     "output_type": "display_data"
    }
   ],
   "source": [
    "M=40\n",
    "fig = plt.figure(figsize=(10,4))\n",
    "plt.plot(time[0:2],0.1*M/2*np.ones(2),'v:'\n",
    "         ,color='black',label='Upper Local Truncation')\n",
    "plt.xlabel('time')\n",
    "plt.legend(loc='best')\n",
    "plt.title('Local Truncation Error')\n",
    "plt.plot();"
   ]
  },
  {
   "cell_type": "markdown",
   "metadata": {
    "collapsed": true
   },
   "source": [
    "### Global truncation error for the population equation\n",
    "For the population equation specific values $L$ and $M$ can be calculated.\n",
    "\n",
    "In this case $f(t,y)=\\epsilon y$ is continuous and satisfies a Lipschitz Condition with constant\n",
    "$$ \\left|\\frac{\\partial f(t,y)}{\\partial y}\\right|\\leq L $$\n",
    "$$ \\left|\\frac{\\partial (0.2 y-0.01 y^2)}{\\partial y}\\right|\\leq |0.2-0.01(2\\times y)| \\leq |0.2-0.01(2\\times 50)|\\leq 0.8 $$\n",
    "\n",
    "on $D=\\{(t,y)|2000\\leq t \\leq 2015, 0 < y < 50 \\}$ and that a constant $M$\n",
    "exists with the property that \n",
    "$$ |y^{''}(t)|\\leq M\\leq 6. $$\n",
    "\n",
    "__ Specific Theorem Global Error__\n",
    "\n",
    "Let $y(t)$ denote the unique solution of the Initial Value Problem\n",
    "$$ y^{'}=0.2 y-0.01 y^2, \\ \\ \\ 2000\\leq t \\leq 2020, \\ \\ \\ y(0)=6, $$\n",
    "and $w_0,w_1,...,w_N$ be the approx generated by the Euler method for some\n",
    "positive integer N.  Then for $i=0,1,...,N$ the error is:\n",
    "$$ |y(t_i)-w_i| \\leq \\frac{6 h}{2\\times 0.8}|e^{0.8(t_i-2000)}-1|. $$\n"
   ]
  },
  {
   "cell_type": "markdown",
   "metadata": {},
   "source": [
    "## Non-linear population equation with a temporal oscilation \n",
    "Given the specific population differential equation with a wiggle,\n",
    "$$ y^{'}=0.2 y-0.01 y^2+sin(2\\pi t), $$\n",
    "with the initial population at time $2000$ is \n",
    "$$ y(2000)=6, $$\n",
    "$$ 2000\\leq t \\leq 2020. $$\n",
    "\n",
    "For the specific example of the population equation the difference equation is\n",
    "      $$ w_{i+1}=w_{i}+h 0.5 (0.2 w_i-0.02 w_i\\times w_i+sin(2 \\pi t), $$\n",
    "for $i=0,1,...,199$,\n",
    "where $w_0=6$. From this initial condition the series is approximated.\n",
    "The figure below shows the discrete solution."
   ]
  },
  {
   "cell_type": "code",
   "execution_count": 6,
   "metadata": {},
   "outputs": [
    {
     "data": {
      "image/png": "[encoded data removed]",
      "text/plain": [
       "<Figure size 720x288 with 1 Axes>"
      ]
     },
     "metadata": {
      "needs_background": "light"
     },
     "output_type": "display_data"
    }
   ],
   "source": [
    "w=np.zeros(N+1)\n",
    "w[0]=6\n",
    "for i in range (0,N):\n",
    "    w[i+1]=w[i]+h*(0.2*w[i]-0.01*w[i]*w[i]+np.sin(2*np.pi*time[i]))\n",
    "\n",
    "fig = plt.figure(figsize=(10,4))\n",
    "plt.plot(time,w,'s:',color='blue',label='Euler')\n",
    "plt.xlim((min(time),max(time)))\n",
    "plt.xlabel('time')\n",
    "plt.legend(loc='best')\n",
    "plt.title('Euler solution')\n",
    "plt.plot();"
   ]
  },
  {
   "cell_type": "markdown",
   "metadata": {},
   "source": [
    "### Table\n",
    "The table below shows the iteration $i$, the discrete time point t[i], and the Euler approximation w[i] of the solution $y$ at time point t[i] for the non-linear population equation with a temporal oscilation."
   ]
  },
  {
   "cell_type": "code",
   "execution_count": 7,
   "metadata": {},
   "outputs": [
    {
     "ename": "NameError",
     "evalue": "name 'ListTable' is not defined",
     "output_type": "error",
     "traceback": [
      "\u001b[0;31m---------------------------------------------------------------------------\u001b[0m",
      "\u001b[0;31mNameError\u001b[0m                                 Traceback (most recent call last)",
      "\u001b[0;32m<ipython-input-7-e87411fcc70f>\u001b[0m in \u001b[0;36m<module>\u001b[0;34m\u001b[0m\n\u001b[0;32m----> 1\u001b[0;31m \u001b[0mtable\u001b[0m \u001b[0;34m=\u001b[0m \u001b[0mListTable\u001b[0m\u001b[0;34m(\u001b[0m\u001b[0;34m)\u001b[0m\u001b[0;34m\u001b[0m\u001b[0;34m\u001b[0m\u001b[0m\n\u001b[0m\u001b[1;32m      2\u001b[0m \u001b[0mtable\u001b[0m\u001b[0;34m.\u001b[0m\u001b[0mappend\u001b[0m\u001b[0;34m(\u001b[0m\u001b[0;34m[\u001b[0m\u001b[0;34m'i'\u001b[0m\u001b[0;34m,\u001b[0m\u001b[0;34m'time'\u001b[0m\u001b[0;34m,\u001b[0m \u001b[0;34m'Euler'\u001b[0m\u001b[0;34m]\u001b[0m\u001b[0;34m)\u001b[0m\u001b[0;34m\u001b[0m\u001b[0;34m\u001b[0m\u001b[0m\n\u001b[1;32m      3\u001b[0m \u001b[0;32mfor\u001b[0m \u001b[0mi\u001b[0m \u001b[0;32min\u001b[0m \u001b[0mrange\u001b[0m \u001b[0;34m(\u001b[0m\u001b[0;36m0\u001b[0m\u001b[0;34m,\u001b[0m\u001b[0;36m8\u001b[0m\u001b[0;34m)\u001b[0m\u001b[0;34m:\u001b[0m\u001b[0;34m\u001b[0m\u001b[0;34m\u001b[0m\u001b[0m\n\u001b[1;32m      4\u001b[0m     \u001b[0mtable\u001b[0m\u001b[0;34m.\u001b[0m\u001b[0mappend\u001b[0m\u001b[0;34m(\u001b[0m\u001b[0;34m[\u001b[0m\u001b[0mround\u001b[0m\u001b[0;34m(\u001b[0m\u001b[0mi\u001b[0m\u001b[0;34m,\u001b[0m\u001b[0;36m3\u001b[0m\u001b[0;34m)\u001b[0m\u001b[0;34m,\u001b[0m\u001b[0mround\u001b[0m\u001b[0;34m(\u001b[0m\u001b[0mtime\u001b[0m\u001b[0;34m[\u001b[0m\u001b[0mi\u001b[0m\u001b[0;34m]\u001b[0m\u001b[0;34m,\u001b[0m\u001b[0;36m3\u001b[0m\u001b[0;34m)\u001b[0m\u001b[0;34m,\u001b[0m \u001b[0mround\u001b[0m\u001b[0;34m(\u001b[0m\u001b[0mw\u001b[0m\u001b[0;34m[\u001b[0m\u001b[0mi\u001b[0m\u001b[0;34m]\u001b[0m\u001b[0;34m,\u001b[0m\u001b[0;36m3\u001b[0m\u001b[0;34m)\u001b[0m\u001b[0;34m]\u001b[0m\u001b[0;34m)\u001b[0m\u001b[0;34m\u001b[0m\u001b[0;34m\u001b[0m\u001b[0m\n\u001b[1;32m      5\u001b[0m \u001b[0mtable\u001b[0m\u001b[0;34m\u001b[0m\u001b[0;34m\u001b[0m\u001b[0m\n",
      "\u001b[0;31mNameError\u001b[0m: name 'ListTable' is not defined"
     ]
    }
   ],
   "source": [
    "table = ListTable()\n",
    "table.append(['i','time', 'Euler'])\n",
    "for i in range (0,8):\n",
    "    table.append([round(i,3),round(time[i],3), round(w[i],3)])\n",
    "table\n",
    "d = {'time t_i': time[0:10],    'Euler (w_i) ':w[0:10]}\n",
    "df = pd.DataFrame(data=d)\n",
    "df"
   ]
  }
 ],
 "metadata": {
  "kernelspec": {
   "display_name": "Python 3",
   "language": "python",
   "name": "python3"
  },
  "language_info": {
   "codemirror_mode": {
    "name": "ipython",
    "version": 3
   },
   "file_extension": ".py",
   "mimetype": "text/x-python",
   "name": "python",
   "nbconvert_exporter": "python",
   "pygments_lexer": "ipython3",
   "version": "3.7.9"
  }
 },
 "nbformat": 4,
 "nbformat_minor": 1
}
