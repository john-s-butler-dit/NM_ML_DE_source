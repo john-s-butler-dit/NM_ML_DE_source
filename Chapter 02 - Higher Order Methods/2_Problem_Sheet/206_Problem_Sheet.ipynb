{
 "cells": [
  {
   "cell_type": "markdown",
   "metadata": {
    "colab_type": "text",
    "id": "view-in-github"
   },
   "source": [
    "<a href=\"https://colab.research.google.com/github/john-s-butler-dit/Numerical-Analysis-Python/blob/master/Chapter%2002%20-%20Higher%20Order%20Methods/2_Problem%20Sheet/02_PS%20Question%203.ipynb\" target=\"_parent\"><img src=\"https://colab.research.google.com/assets/colab-badge.svg\" alt=\"Open In Colab\"/></a>"
   ]
  },
  {
   "cell_type": "markdown",
   "metadata": {
    "id": "HjUe8oJGwXp3"
   },
   "source": [
    "# Problem Sheet 2 Question 6 - 2nd Order Taylor\n",
    "\n",
    "The general form of the population growth differential equation\n",
    "\\begin{equation}  y^{'}=f(t,y), \\ \\ (a \\leq t \\leq b)\\end{equation}\n",
    "with the initial condition\n",
    "\\begin{equation} y(a)=A .\\end{equation}\n",
    "\n",
    "Apply __2nd Order Taylor__ to approximate the solution of the given initial value problems using the indicated number of time steps. Compare the approximate solution with the given exact solution, and compare the actual error with the theoretical error."
   ]
  },
  {
   "cell_type": "code",
   "execution_count": 4,
   "metadata": {
    "id": "i35ykQeWwXp5"
   },
   "outputs": [],
   "source": [
    "## Library\n",
    "import numpy as np\n",
    "import math \n",
    "\n",
    "%matplotlib inline\n",
    "import matplotlib.pyplot as plt # side-stepping mpl backend\n",
    "import matplotlib.gridspec as gridspec # subplots\n",
    "import warnings\n",
    "import pandas as pd\n",
    "\n",
    "warnings.filterwarnings(\"ignore\")"
   ]
  },
  {
   "cell_type": "markdown",
   "metadata": {
    "id": "LPD9UzWXwXp9"
   },
   "source": [
    "## General Discrete Interval\n",
    "The continuous time $a\\leq t \\leq b $ is discretised into $N$ points seperated by a constant stepsize\n",
    "\\begin{equation}  h=\\frac{b-a}{N}.\\end{equation}\n",
    "## Specific Discrete Interval\n",
    "Here the interval is $0\\leq t \\leq 2$ with $N=4$ \n",
    "\\begin{equation}  h=\\frac{2-0}{4}=0.5.\\end{equation}\n",
    "This gives the 5 discrete points with stepsize h=0.5:\n",
    "\\begin{equation}  t_0=0, \\ t_1=0.5, \\ ... t_{4}=2. \\end{equation}\n",
    "This is generalised to \n",
    "\\begin{equation}  t_i=0+i0.5, \\ \\ \\ i=0,1,...,4.\\end{equation}\n",
    "The plot below illustrates the discrete time steps from 0 to 2."
   ]
  },
  {
   "cell_type": "code",
   "execution_count": 5,
   "metadata": {
    "id": "UuBME-W5wXp-",
    "outputId": "8d00136b-c541-4b47-cf0e-44728fd5eae6"
   },
   "outputs": [
    {
     "data": {
      "image/png": "[encoded data removed]",
      "text/plain": [
       "<Figure size 1000x400 with 1 Axes>"
      ]
     },
     "metadata": {},
     "output_type": "display_data"
    }
   ],
   "source": [
    "### Setting up time\n",
    "t_end=2\n",
    "t_start=0\n",
    "N=4\n",
    "h=(t_end-t_start)/(N)\n",
    "t=np.arange(t_start,t_end+0.01,h)\n",
    "fig = plt.figure(figsize=(10,4))\n",
    "plt.plot(t,0*t,'o:',color='red')\n",
    "plt.plot(t[0],0*t[0],'o',color='green')\n",
    "\n",
    "\n",
    "plt.title('Illustration of discrete time points for h=%s'%(h))\n",
    "plt.plot();"
   ]
  },
  {
   "cell_type": "markdown",
   "metadata": {
    "id": "OqTZ5VdPwXqB"
   },
   "source": [
    "## 2nd Order Taylor Solution\n",
    "The 2nd Order Taylor difference equation is given by\n",
    "\\begin{equation}  w_{i+1}=w_i+h\\left[f(t_i,w_i)+\\frac{h}{2}f'(t_i,w_i)\\right],\\end{equation}\n",
    "where\n",
    "\\begin{equation}  f(t_i,w_i)=????,\\end{equation}\n",
    "and\n",
    "\\begin{equation}  f'(t_i,w_i)=???,\\end{equation}\n",
    "which gives\n",
    "\\begin{equation} w_{i+1}=w_i+h????,\\end{equation}\n",
    "\n",
    "for $i=0,1,2,N-1$\n",
    "with\n",
    "$w_0=A$\n",
    "\n"
   ]
  },
  {
   "cell_type": "code",
   "execution_count": 1,
   "metadata": {
    "id": "PEFBfPCAwXqC"
   },
   "outputs": [
    {
     "ename": "SyntaxError",
     "evalue": "incomplete input (3898663725.py, line 8)",
     "output_type": "error",
     "traceback": [
      "\u001b[0;36m  Cell \u001b[0;32mIn[1], line 8\u001b[0;36m\u001b[0m\n\u001b[0;31m    ##    w[i+1]=w[i]+h*(????)\u001b[0m\n\u001b[0m                              ^\u001b[0m\n\u001b[0;31mSyntaxError\u001b[0m\u001b[0;31m:\u001b[0m incomplete input\n"
     ]
    }
   ],
   "source": [
    "IC=-75\n",
    "w=np.zeros(N+1)\n",
    "e=np.zeros(N+1)\n",
    "w[0]=IC\n",
    "\n",
    "for i in range (0,N):\n",
    "    ###\n",
    "##    w[i+1]=w[i]+h*(????)"
   ]
  },
  {
   "cell_type": "code",
   "execution_count": 2,
   "metadata": {
    "id": "gMaEg7tWwXqE",
    "outputId": "988dead6-8102-44ce-a1bf-936e72f37258"
   },
   "outputs": [
    {
     "ename": "NameError",
     "evalue": "name 'plt' is not defined",
     "output_type": "error",
     "traceback": [
      "\u001b[0;31m---------------------------------------------------------------------------\u001b[0m",
      "\u001b[0;31mNameError\u001b[0m                                 Traceback (most recent call last)",
      "Cell \u001b[0;32mIn[2], line 1\u001b[0m\n\u001b[0;32m----> 1\u001b[0m fig \u001b[38;5;241m=\u001b[39m plt\u001b[38;5;241m.\u001b[39mfigure(figsize\u001b[38;5;241m=\u001b[39m(\u001b[38;5;241m4\u001b[39m,\u001b[38;5;241m5\u001b[39m))\n\u001b[1;32m      2\u001b[0m \u001b[38;5;66;03m# --- left hand plot\u001b[39;00m\n\u001b[1;32m      3\u001b[0m \u001b[38;5;66;03m#ax = fig.add_subplot(1,4,1)\u001b[39;00m\n\u001b[1;32m      4\u001b[0m plt\u001b[38;5;241m.\u001b[39mplot(time,w,\u001b[38;5;124m'\u001b[39m\u001b[38;5;124mo:\u001b[39m\u001b[38;5;124m'\u001b[39m,color\u001b[38;5;241m=\u001b[39m\u001b[38;5;124m'\u001b[39m\u001b[38;5;124mk\u001b[39m\u001b[38;5;124m'\u001b[39m)\n",
      "\u001b[0;31mNameError\u001b[0m: name 'plt' is not defined"
     ]
    }
   ],
   "source": [
    "fig = plt.figure(figsize=(4,5))\n",
    "# --- left hand plot\n",
    "#ax = fig.add_subplot(1,4,1)\n",
    "plt.plot(time,w,'o:',color='k')\n",
    "plt.plot(time[0],w[0],'o',color='green')\n",
    "\n",
    "\n",
    "#ax.legend(loc='best')\n",
    "plt.title('Numerical Solution (w) h=%s'%(h))\n",
    "plt.show()\n"
   ]
  },
  {
   "cell_type": "code",
   "execution_count": 3,
   "metadata": {
    "id": "wOFTuhuQwXqL",
    "outputId": "52831746-b8c4-4714-e5a2-cb200a81aaea"
   },
   "outputs": [
    {
     "ename": "NameError",
     "evalue": "name 'time' is not defined",
     "output_type": "error",
     "traceback": [
      "\u001b[0;31m---------------------------------------------------------------------------\u001b[0m",
      "\u001b[0;31mNameError\u001b[0m                                 Traceback (most recent call last)",
      "Cell \u001b[0;32mIn[3], line 1\u001b[0m\n\u001b[0;32m----> 1\u001b[0m d \u001b[38;5;241m=\u001b[39m {\u001b[38;5;124m'\u001b[39m\u001b[38;5;124mtime t_i\u001b[39m\u001b[38;5;124m'\u001b[39m: time,      \u001b[38;5;124m'\u001b[39m\u001b[38;5;124mTaylor (w_i) \u001b[39m\u001b[38;5;124m'\u001b[39m:w}\n\u001b[1;32m      2\u001b[0m df \u001b[38;5;241m=\u001b[39m pd\u001b[38;5;241m.\u001b[39mDataFrame(data\u001b[38;5;241m=\u001b[39md)\n\u001b[1;32m      3\u001b[0m df\n",
      "\u001b[0;31mNameError\u001b[0m: name 'time' is not defined"
     ]
    }
   ],
   "source": [
    "\n",
    "d = {'time t_i': time,      'Taylor (w_i) ':w}\n",
    "df = pd.DataFrame(data=d)\n",
    "df"
   ]
  },
  {
   "cell_type": "code",
   "execution_count": null,
   "metadata": {
    "id": "f2rmTfNowXqN"
   },
   "outputs": [],
   "source": []
  }
 ],
 "metadata": {
  "colab": {
   "include_colab_link": true,
   "name": "01_Problem Sheet 1 Question 2b.ipynb",
   "provenance": []
  },
  "kernelspec": {
   "display_name": "Python 3 (ipykernel)",
   "language": "python",
   "name": "python3"
  },
  "language_info": {
   "codemirror_mode": {
    "name": "ipython",
    "version": 3
   },
   "file_extension": ".py",
   "mimetype": "text/x-python",
   "name": "python",
   "nbconvert_exporter": "python",
   "pygments_lexer": "ipython3",
   "version": "3.11.4"
  }
 },
 "nbformat": 4,
 "nbformat_minor": 1
}
