{
 "cells": [
  {
   "cell_type": "markdown",
   "metadata": {},
   "source": [
    "# Convergent\n",
    "A one step method difference equation is said to be __convergent__ with respect to\n",
    "the differential equation and $w_i$, the approximation obtained from the difference\n",
    "method at the ith step.\n",
    "$$ \\max_{h \\rightarrow 0}\\max_{1 \\leq i \\leq N}|y(t_i)-w_i|=0$$\n",
    "All the Runge Kutta, and Adams methods are convergent in this course.\n",
    "\n",
    "This notebook will illustrate a non-convergent method using the Abysmal-Butler method.\n",
    "\n",
    "## Intial Value Problem\n",
    "The differential equation\n",
    "$$ y^{'}=t-y, \\ \\ (0 \\leq t \\leq 2) $$\n",
    "with the initial condition\n",
    "$$y(0)=1,$$\n",
    "will be the used to illustrate this."
   ]
  },
  {
   "cell_type": "markdown",
   "metadata": {},
   "source": [
    "## Python Libraries"
   ]
  },
  {
   "cell_type": "code",
   "execution_count": 1,
   "metadata": {
    "collapsed": true
   },
   "outputs": [],
   "source": [
    "import numpy as np\n",
    "import math \n",
    "\n",
    "%matplotlib inline\n",
    "import matplotlib.pyplot as plt # side-stepping mpl backend\n",
    "import matplotlib.gridspec as gridspec # subplots\n",
    "import warnings\n",
    "\n",
    "warnings.filterwarnings(\"ignore\")\n",
    "class ListTable(list):\n",
    "    \"\"\" Overridden list class which takes a 2-dimensional list of \n",
    "        the form [[1,2,3],[4,5,6]], and renders an HTML Table in \n",
    "        IPython Notebook. \"\"\"\n",
    "    \n",
    "    def _repr_html_(self):\n",
    "        html = [\"<table>\"]\n",
    "        for row in self:\n",
    "            html.append(\"<tr>\")\n",
    "            \n",
    "            for col in row:\n",
    "                html.append(\"<td>{0}</td>\".format(col))\n",
    "            \n",
    "            html.append(\"</tr>\")\n",
    "        html.append(\"</table>\")\n",
    "        return ''.join(html)"
   ]
  },
  {
   "cell_type": "markdown",
   "metadata": {},
   "source": [
    "### Defining the function\n",
    "$$ f(t,y)=t-y.$$"
   ]
  },
  {
   "cell_type": "code",
   "execution_count": 2,
   "metadata": {
    "collapsed": true
   },
   "outputs": [],
   "source": [
    "def myfun_ty(t,y):\n",
    "    return t-y"
   ]
  },
  {
   "cell_type": "markdown",
   "metadata": {},
   "source": [
    "## Discrete Interval\n",
    "Defining the step size  $h$  from the interval range  $a≤t≤b$  and number of steps  $N$ \n",
    "$$h=b−ah.$$\n",
    " \n",
    "This gives the discrete time steps,\n",
    "$$t_i=t_0+ih,$$\n",
    "where  $t_0=a.$"
   ]
  },
  {
   "cell_type": "code",
   "execution_count": 3,
   "metadata": {},
   "outputs": [
    {
     "data": {
      "text/plain": [
       "<matplotlib.text.Text at 0x7fe40c180a20>"
      ]
     },
     "execution_count": 3,
     "metadata": {},
     "output_type": "execute_result"
    },
    {
     "data": {
      "text/plain": [
       "<matplotlib.figure.Figure at 0x7fe40cf67780>"
      ]
     },
     "metadata": {},
     "output_type": "display_data"
    },
    {
     "data": {
      "image/png": "[encoded data removed]",
      "text/plain": [
       "<matplotlib.figure.Figure at 0x7fe40cf67cf8>"
      ]
     },
     "metadata": {},
     "output_type": "display_data"
    }
   ],
   "source": [
    "# Start and end of interval\n",
    "b=2\n",
    "a=0\n",
    "# Step size\n",
    "N=16\n",
    "h=(b-a)/(N)\n",
    "t=np.arange(a,b+h,h)\n",
    "N2=N*2\n",
    "h2=(b-a)/(N2)\n",
    "t2=np.arange(a,b+h2,h2)\n",
    "w2=np.zeros(len(t2))\n",
    "fig = plt.figure(figsize=(10,4))\n",
    "fig = plt.figure(figsize=(10,4))\n",
    "plt.plot(t2,0.01*np.ones(len(t2)),'o:',color='green',label='Fine Mesh')\n",
    "plt.plot(t,0*t,'o:',color='red',label='Coarse Mesh')\n",
    "plt.xlim((0,2))\n",
    "plt.ylim((-0.1,.1))\n",
    "\n",
    "plt.legend()\n",
    "plt.title('Illustration of discrete time points')"
   ]
  },
  {
   "cell_type": "markdown",
   "metadata": {},
   "source": [
    "\n",
    "\n",
    "## 2-step Abysmal Butler Method \n",
    "\n",
    "The 2-step Abysmal Butler difference equation is\n",
    "$$w_{i+1} = w_{i} + \\frac{h}{2}(4f(t_i,w_i)-3f(t_{i-1},w_{i-1})) $$\n",
    "\n",
    "For $i=0$ the system of difference equation is:\n",
    "$$w_{1} = w_{0} + \\frac{h}{2}(4(t_0-w_0)-3(t_{-1}-w_{-1})) $$\n",
    "this is not solvable as <font color='red'> $w_{-1}$ </font> is unknown.\n",
    "\n",
    "For $i=1$ the difference equation is:\n",
    "$$w_{2} = w_{1} + \\frac{h}{2}(4(t_1-w_1)-3(t_{0}-w_{0})) $$\n",
    "this is not solvable as <font color='red'> $w_{1}$  </font> is unknown. $w_1$ can be  approximated using a one step method. Here, as the exact solution is known,\n",
    "$$w_1=2e^{-t_1}+t_1-1.$$\n"
   ]
  },
  {
   "cell_type": "code",
   "execution_count": 5,
   "metadata": {},
   "outputs": [],
   "source": [
    "### Initial conditions\n",
    "IC=1\n",
    "w=np.zeros(len(t))\n",
    "w[0]=IC\n",
    "\n",
    "w2=np.zeros(len(t2))\n",
    "w2[0]=IC\n",
    "w2[1]=(IC+1)*np.exp(-t2[1])+t2[1]-1"
   ]
  },
  {
   "cell_type": "markdown",
   "metadata": {},
   "source": [
    "### Loop"
   ]
  },
  {
   "cell_type": "code",
   "execution_count": 6,
   "metadata": {},
   "outputs": [],
   "source": [
    "\n",
    "\n",
    "# Fine Mesh\n",
    "for k in range (1,N2):\n",
    "    w2[k+1]=(w2[k]+h2/2.0*(4*myfun_ty(t2[k],w2[k])-3*myfun_ty(t2[k-1],w2[k-1]))) \n",
    "    \n",
    "    \n",
    "w[1]=w2[2]\n",
    "\n",
    "# Coarse Mesh\n",
    "for k in range (1,N):\n",
    "    w[k+1]=(w[k]+h/2.0*(4*myfun_ty(t[k],w[k])-3*myfun_ty(t[k-1],w[k-1])))   \n"
   ]
  },
  {
   "cell_type": "markdown",
   "metadata": {},
   "source": [
    "### Plotting solution"
   ]
  },
  {
   "cell_type": "code",
   "execution_count": 9,
   "metadata": {},
   "outputs": [],
   "source": [
    "def plotting(t,w,t2,w2):\n",
    "    y=(2)*np.exp(-t2)+t2-1\n",
    "    fig = plt.figure(figsize=(10,4))\n",
    "    plt.plot(t,w,'^:',color='red',label='Coarse Mesh (N)')\n",
    "    plt.plot(t2,w2, 'v-',color='green',label='Fine Mesh (2N)')\n",
    "    plt.plot(t2,y, 'o-',color='black',label='Exact?')\n",
    "    plt.xlabel('time')\n",
    "    plt.legend()\n",
    "    plt.title('Abysmal Butler')\n",
    "    plt.show "
   ]
  },
  {
   "cell_type": "markdown",
   "metadata": {},
   "source": [
    "The plot below shows the Abysmal-Butler approximation for a low N (red) and $N\\times2$ (green) and the exact solution (black) of the intial value problem"
   ]
  },
  {
   "cell_type": "code",
   "execution_count": 10,
   "metadata": {},
   "outputs": [
    {
     "data": {
      "image/png": "[encoded data removed]",
      "text/plain": [
       "<matplotlib.figure.Figure at 0x7fe40c027ef0>"
      ]
     },
     "metadata": {},
     "output_type": "display_data"
    }
   ],
   "source": [
    "plotting(t,w,t2,w2)"
   ]
  },
  {
   "cell_type": "markdown",
   "metadata": {},
   "source": [
    "## Convergent \n",
    "The Abysmal-Butler method does satisfy the Lipschitz condition:\n",
    "$$F(t,w:h)-F(t,\\hat{w}:h)=\\frac{4}{2}f(t,w_i)-\\frac{3}{2}f(t-h,w_{i-1}))-(\\frac{4}{2}f(t,\\hat{w}_{i})-\\frac{3}{2}f(t-h,\\hat{w}_{i-1})))$$\n",
    "$$F(t,w:h)-F(t,\\hat{w}:h)=\\frac{4}{2}(f(t,w_i)-f(t,\\hat{w}_i))-\\frac{3}{2}(f(t-h,w_{i-1}))-f(t-h,\\hat{w}_{i-1})))$$\n",
    "$$F(t,w:h)-F(t,\\hat{w}:h)\\leq\\frac{4}{2}L|w_i-\\hat{w_i}|+\\frac{3}{2}L|w-\\hat{w}|\\leq \\frac{7}{2} L|w_i-\\hat{w_i}|$$\n",
    "This means it is internally convergent,\n",
    "$$|w_i-w^2_i|\\rightarrow 0$$ \n",
    "as $h \\rightarrow 0$,\n",
    "but as it is not consistent it will never converge to the exact solution\n",
    "$$ |y_i-w_i| \\not= 0$$.\n"
   ]
  },
  {
   "cell_type": "code",
   "execution_count": 11,
   "metadata": {},
   "outputs": [
    {
     "data": {
      "text/html": [
       "<table><tr><td>time</td><td>Abysmal Butler w</td><td>Abysmal Butler w2 N*2</td><td>|w-w2|</td></tr><tr><td>0.0</td><td>1.0</td><td>1.0</td><td>0.0</td></tr><tr><td>0.5</td><td>0.891</td><td>0.854</td><td>0.03681</td></tr><tr><td>1.0</td><td>0.929</td><td>0.868</td><td>0.0616</td></tr><tr><td>1.5</td><td>1.057</td><td>0.982</td><td>0.07506</td></tr><tr><td>2.0</td><td>1.257</td><td>1.176</td><td>0.08069</td></tr></table>"
      ],
      "text/plain": [
       "[['time', 'Abysmal Butler w', 'Abysmal Butler w2 N*2', '|w-w2|'],\n",
       " [0.0, 1.0, 1.0, 0.0],\n",
       " [0.5, 0.89100000000000001, 0.85399999999999998, 0.036810000000000002],\n",
       " [1.0, 0.92900000000000005, 0.86799999999999999, 0.061600000000000002],\n",
       " [1.5, 1.0569999999999999, 0.98199999999999998, 0.075060000000000002],\n",
       " [2.0, 1.2569999999999999, 1.1759999999999999, 0.080689999999999998]]"
      ]
     },
     "execution_count": 11,
     "metadata": {},
     "output_type": "execute_result"
    }
   ],
   "source": [
    "table = ListTable()\n",
    "table.append(['time', 'Abysmal Butler w','Abysmal Butler w2 N*2','|w-w2|'])\n",
    "for i in range (0,len(t),4):\n",
    "    table.append([round(t[i],3), round(w[i],3), round(w2[2*i],3),round(abs(w[i]-w2[2*i]),5)])\n",
    "table"
   ]
  }
 ],
 "metadata": {
  "kernelspec": {
   "display_name": "Python 3",
   "language": "python",
   "name": "python3"
  },
  "language_info": {
   "codemirror_mode": {
    "name": "ipython",
    "version": 3
   },
   "file_extension": ".py",
   "mimetype": "text/x-python",
   "name": "python",
   "nbconvert_exporter": "python",
   "pygments_lexer": "ipython3",
   "version": "3.7.3"
  }
 },
 "nbformat": 4,
 "nbformat_minor": 1
}
