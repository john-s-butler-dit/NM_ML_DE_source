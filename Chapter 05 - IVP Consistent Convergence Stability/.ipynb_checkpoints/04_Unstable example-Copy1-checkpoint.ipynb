{
 "cells": [
  {
   "cell_type": "markdown",
   "metadata": {},
   "source": [
    "Solving the Initial Value Problem \n",
    "$$ y^{'}=0.5y \\ \\ y(0)=3 \\ \\ \\  0\\leq t \\leq 10 $$\n",
    "\n",
    "Using a weakly stable method\n",
    "$$ w_{i+1}=w_{i}+\\frac{h}{2}[3(0.5w_{i})-(0.5w_{i-1})] $$\n",
    "Using an two different unstable method\n",
    "$$ w_{i+1}=1.0001w_{i}+\\frac{h}{2}[2f(t_i,w_{i})-f(t_{i-1},w_{i-1})+f(t_{i-2},w_{i-2})] $$\n",
    "$$ w_{i+1}=1.5w_{i}+\\frac{4h}{3}[2f(t_i,w_{i})-f(t_{i-1},w_{i-1})+f(t_{i-2},w_{i-2})] $$\n"
   ]
  },
  {
   "cell_type": "code",
   "execution_count": null,
   "metadata": {
    "collapsed": true
   },
   "outputs": [],
   "source": [
    "import numpy as np\n",
    "import math \n",
    "\n",
    "%matplotlib inline\n",
    "import matplotlib.pyplot as plt # side-stepping mpl backend\n",
    "import matplotlib.gridspec as gridspec # subplots\n",
    "import warnings\n",
    "\n",
    "warnings.filterwarnings(\"ignore\")"
   ]
  },
  {
   "cell_type": "code",
   "execution_count": null,
   "metadata": {
    "collapsed": true
   },
   "outputs": [],
   "source": [
    "tau=-0.5\n",
    "N=10000\n",
    "h=1/N\n",
    "\n",
    "time=np.linspace(0,1,N)\n",
    "\n",
    "Numerical_Solution=np.zeros(N)\n",
    "Numerical_Solution1=np.zeros(N)\n",
    "Numerical_Solution2=np.zeros(N)\n",
    "\n",
    "x=np.zeros(N)\n",
    "# Initial Conditions\n",
    "Numerical_Solution[0]=1\n",
    "Numerical_Solution1[0]=1\n",
    "Numerical_Solution2[0]=1\n",
    "x[0]=0"
   ]
  },
  {
   "cell_type": "code",
   "execution_count": null,
   "metadata": {
    "collapsed": true
   },
   "outputs": [],
   "source": [
    "# INTIAL SOLUTIONS ONE STEP METHOD\n",
    "for i in range (1,4):\n",
    "    Numerical_Solution[i]=Numerical_Solution[i-1]+h*tau*(Numerical_Solution[i-1]*Numerical_Solution[i-1])\n",
    "    Numerical_Solution1[i]=Numerical_Solution[i]#+h*tau*(-Numerical_Solution[i-1]*Numerical_Solution[i-1])\n",
    "    Numerical_Solution2[i]=Numerical_Solution[i]#+h*tau*(-Numerical_Solution[i-1]*Numerical_Solution[i-1])\n",
    "    \n",
    "\n",
    "# MULTISTEP METHODS\n",
    "for i in range (4,N):\n",
    "    Numerical_Solution[i]=1*Numerical_Solution[i-4]+4*h/3*tau*(2*Numerical_Solution[i-1]*Numerical_Solution[i-1]\n",
    "                                                               -Numerical_Solution[i-2]*Numerical_Solution[i-2]\n",
    "                                                               +Numerical_Solution[i-3]*Numerical_Solution[i-3])\n",
    "    Numerical_Solution1[i]=1.001*Numerical_Solution1[i-4]+4*h/3*tau*(2*Numerical_Solution1[i-1]*Numerical_Solution1[i-1]\n",
    "                                                                     -Numerical_Solution1[i-2]*Numerical_Solution1[i-2]\n",
    "                                                                     +Numerical_Solution1[i-3]*Numerical_Solution1[i-3])\n",
    "    Numerical_Solution2[i]=1.5*Numerical_Solution2[i-4]+4*h/3*tau*(2*Numerical_Solution2[i-1]*Numerical_Solution2[i-1]\n",
    "                                                                   -Numerical_Solution2[i-2]*Numerical_Solution2[i-2]\n",
    "                                                                   +Numerical_Solution2[i-3]*Numerical_Solution2[i-3])"
   ]
  },
  {
   "cell_type": "code",
   "execution_count": 7,
   "metadata": {
    "scrolled": false
   },
   "outputs": [
    {
     "data": {
      "image/png": "[encoded data removed]",
      "text/plain": [
       "<matplotlib.figure.Figure at 0x7f78a4cd2898>"
      ]
     },
     "metadata": {},
     "output_type": "display_data"
    }
   ],
   "source": [
    "fig = plt.figure(figsize=(10,4))\n",
    "# --- left hand plot\n",
    "ax = fig.add_subplot(1,3,1)\n",
    "plt.plot(time,Numerical_Solution,color='red')\n",
    "#ax.legend(loc='best')\n",
    "plt.title('Weakly Stable')\n",
    "ax = fig.add_subplot(1,3,2)\n",
    "plt.plot(time,Numerical_Solution1)\n",
    "plt.title('Not Stable')\n",
    "ax = fig.add_subplot(1,3,3)\n",
    "plt.plot(time,Numerical_Solution2)\n",
    "plt.title('Not Stable')\n",
    "fig.suptitle(r\"Stability $y'=-0.5y^2, \\ \\  y(0)=1$\", fontsize=20)\n",
    "plt.tight_layout()\n",
    "plt.subplots_adjust(top=0.85)"
   ]
  },
  {
   "cell_type": "code",
   "execution_count": null,
   "metadata": {
    "collapsed": true
   },
   "outputs": [],
   "source": []
  }
 ],
 "metadata": {
  "kernelspec": {
   "display_name": "Python 3",
   "language": "python",
   "name": "python3"
  },
  "language_info": {
   "codemirror_mode": {
    "name": "ipython",
    "version": 3
   },
   "file_extension": ".py",
   "mimetype": "text/x-python",
   "name": "python",
   "nbconvert_exporter": "python",
   "pygments_lexer": "ipython3",
   "version": "3.7.3"
  }
 },
 "nbformat": 4,
 "nbformat_minor": 1
}
