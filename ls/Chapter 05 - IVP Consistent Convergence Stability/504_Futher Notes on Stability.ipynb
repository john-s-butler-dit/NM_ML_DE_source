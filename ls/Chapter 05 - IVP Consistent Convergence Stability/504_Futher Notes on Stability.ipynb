{
  "nbformat": 4,
  "nbformat_minor": 0,
  "metadata": {
    "kernelspec": {
      "display_name": "Python 3",
      "language": "python",
      "name": "python3"
    },
    "language_info": {
      "codemirror_mode": {
        "name": "ipython",
        "version": 3
      },
      "file_extension": ".py",
      "mimetype": "text/x-python",
      "name": "python",
      "nbconvert_exporter": "python",
      "pygments_lexer": "ipython3",
      "version": "3.7.9"
    },
    "colab": {
      "name": "504_Futher Notes on Stability.ipynb",
      "provenance": [],
      "include_colab_link": true
    }
  },
  "cells": [
    {
      "cell_type": "markdown",
      "metadata": {
        "id": "view-in-github",
        "colab_type": "text"
      },
      "source": [
        "<a href=\"https://colab.research.google.com/github/john-s-butler-dit/Numerical-Analysis-Python/blob/master/Chapter%2005%20-%20IVP%20Consistent%20Convergence%20Stability/504_Futher%20Notes%20on%20Stability.ipynb\" target=\"_parent\"><img src=\"https://colab.research.google.com/assets/colab-badge.svg\" alt=\"Open In Colab\"/></a>"
      ]
    },
    {
      "cell_type": "markdown",
      "metadata": {
        "id": "z3nFEkNZvZZs"
      },
      "source": [
        "# Further Notes on Stability\n",
        "\n",
        "In this notebook I will discuss stability for a multistep methods."
      ]
    },
    {
      "cell_type": "code",
      "metadata": {
        "id": "qAa3Cen9vZZu",
        "outputId": "a5254fc6-9d4c-48b5-f59a-4c75afcd64c5",
        "colab": {
          "base_uri": "https://localhost:8080/",
          "height": 336
        }
      },
      "source": [
        "from IPython.display import HTML\n",
        "HTML('<iframe width=\"560\" height=\"315\" src=\"https://www.youtube.com/embed/1BviXbmtXo4\" frameborder=\"0\" allow=\"accelerometer; autoplay; clipboard-write; encrypted-media; gyroscope; picture-in-picture\" allowfullscreen></iframe>')"
      ],
      "execution_count": 6,
      "outputs": [
        {
          "output_type": "execute_result",
          "data": {
            "text/html": [
              "<iframe width=\"560\" height=\"315\" src=\"https://www.youtube.com/embed/1BviXbmtXo4\" frameborder=\"0\" allow=\"accelerometer; autoplay; clipboard-write; encrypted-media; gyroscope; picture-in-picture\" allowfullscreen></iframe>"
            ],
            "text/plain": [
              "<IPython.core.display.HTML object>"
            ]
          },
          "metadata": {},
          "execution_count": 6
        }
      ]
    },
    {
      "cell_type": "markdown",
      "metadata": {
        "id": "aRu2sinnvZZ0"
      },
      "source": [
        "## Definition of Stability\n",
        "The stability of a numerical method is not as tangable as consistency and convergence but when you see an unstable solution it is obvious.\n",
        "\n",
        "To determine the stabilty of a multistep method we need three definitions:\n",
        "\n",
        "\n",
        "### Definition: Characteristic Equation\n",
        "Associated with the difference equation \n",
        "\\begin{equation} w_0=\\alpha \\ \\ \\ w_1=\\alpha_1 \\ \\ \\ ... \\ \\ \\ w_{m-1}=\\alpha_{m-1} \\end{equation}\n",
        "\\begin{equation}w_{i+1} = a_{m-1}w_{i}+a_{m-2}w_{i-1}+...+a_{0}w_{i+1-m} +hF(t_i,h,w_{i+1},...,w_{i+1-m}),\\end{equation}\n",
        "is the __characteristic equation__ given by\n",
        "\\begin{equation}\\lambda^{m} - a_{m-1}\\lambda^{m-1}-a_{m-2}\\lambda^{m-2}-...-a_{0} =0. \\end{equation}\n",
        "\n",
        "### Definition: Root Condition \n",
        "\n",
        "Let $\\lambda_1,...,\\lambda_m$ denote the roots of the that characteristic equation\n",
        "\\begin{equation}\\lambda^{m} - a_{m-1}\\lambda^{m-1}-a_{m-2}\\lambda^{m-2}-...-a_{0} =0 \\end{equation}\n",
        "associated with the multi-step difference method\n",
        "\\begin{equation} w_0=\\alpha \\ \\ \\ w_1=\\alpha_1 \\ \\ \\ ... \\ \\ \\ w_{m-1}=\\alpha_{m-1} \\end{equation}\n",
        "\\begin{equation} w_{i+1} = a_{m-1}w_{i}+a_{m-2}w_{i-1}+...+a_{0}w_{i+1-m} +hF(t_i,h,w_{i+1},...,w_{i+1-m}),\\end{equation}\n",
        "If $|\\lambda_{i}|\\leq 1$ for each $i=1,...,m$ and all roots with absolute value 1\n",
        "are simple roots then the difference equation is said to satisfy the __root condition__.\n",
        "\n",
        "### Definition: Stability\n",
        "1. Methods that satisfy the root condition and have $\\lambda=1$ as the only root \n",
        "of the characteristic equation of magnitude one and all other roots are 0 are called __strongly stable__;\n",
        "2. Methods that satisfy the root condition and have more than one distinct root\n",
        "with magnitude one are called __weakly stable__;\n",
        "3. Methods that do not satisfy the root condition are called __unstable__.\n",
        "\n",
        "All one step methods, Adams-Bashforth and Adams-Moulton methods are all stongly stable."
      ]
    },
    {
      "cell_type": "code",
      "metadata": {
        "id": "m7_2tkuFvZZ1"
      },
      "source": [
        "## LIBRARIES\n",
        "\n",
        "import numpy as np\n",
        "\n",
        "%matplotlib inline\n",
        "import matplotlib.pyplot as plt # side-stepping mpl backend\n",
        "import matplotlib.gridspec as gridspec # subplots\n",
        "import warnings\n",
        "\n",
        "warnings.filterwarnings(\"ignore\")"
      ],
      "execution_count": 7,
      "outputs": []
    },
    {
      "cell_type": "markdown",
      "metadata": {
        "id": "Y0AsWyENvZZ4"
      },
      "source": [
        "## Initial Value Problem\n",
        "To illustrate stability of a method we will use the given the non-linear Initial Value Problem, \n",
        "\\begin{equation} y^{'}=-0.5y^2, \\ \\ y(0)=3, \\ \\ \\  0\\leq t \\leq 10.\\end{equation}\n",
        "For the methods we will use $N=100$, which give $h=\\frac{1}{10}$ and \n",
        "\\begin{equation}t_i=0+0.1 i,\\end{equation}\n",
        "where $i=0,...100.$"
      ]
    },
    {
      "cell_type": "code",
      "metadata": {
        "id": "wxEoRSeGvZZ5"
      },
      "source": [
        "tau=-0.5\n",
        "N=100\n",
        "h=1/N\n",
        "\n",
        "time=np.linspace(0,10,N)\n",
        "## INITIAL CONDITIONS\n",
        "NS=np.ones(N)\n",
        "NS1=np.ones(N)\n",
        "NS2=np.ones(N)"
      ],
      "execution_count": 8,
      "outputs": []
    },
    {
      "cell_type": "markdown",
      "metadata": {
        "id": "KLUPHRwmvZZ8"
      },
      "source": [
        "We will apply the three following methods to the above initial value problem:\n",
        "1. A stable method,\n",
        " \\begin{equation} w_{i+1}=w_{i}+\\frac{h}{2}[3(-0.5w^2_{i})-(-0.5w^2_{i-1})], \\end{equation}\n",
        "    with the characteristic equation\n",
        "\\begin{equation}\\lambda^2=\\lambda,\\end{equation}\n",
        "    which satisfies the root condition $\\lambda=1$ and $\\lambda=0$, hence it is strongly stable.\n",
        "2. A weakly stable method\n",
        "\\begin{equation} w_{i+1}=1.0w_{i-2}+h[3(-0.5w^2_{i})-(-0.5w^2_{i-1})], \\end{equation}\n",
        "    with the characteristic equation\n",
        "  \\begin{equation}\\lambda^4=1,\\end{equation}\n",
        "    which does  satisfies the root condition  with roots $\\lambda=\\pm1$ and $\\lambda=\\pm \\sqrt{-1}$ but as it has more than one root $|\\lambda|=1$ it is weakly stable.\n",
        "3. An unstable method\n",
        " \\begin{equation} w_{i+1}=1.01w_{i}+\\frac{h}{2}[3(-0.5w^2_{i})-(-0.5w^2_{i-1})] \\end{equation}\n",
        "    with the characteristic equation\n",
        "   \\begin{equation}\\lambda^2=1.01\\lambda,\\end{equation}\n",
        "    which does not satisfies the root condition, as it has the roots $\\lambda=1.01$ and $\\lambda=0$, hence it is unstable."
      ]
    },
    {
      "cell_type": "code",
      "metadata": {
        "id": "GgFH94LZvZZ9"
      },
      "source": [
        "# INITIAL SOLUTIONS ONE STEP METHOD\n",
        "for i in range (0,3):\n",
        "    NS[i+1]=NS[i]+h*tau*(NS[i]*NS[i])\n",
        "    NS1[i+1]=NS[i+1]#+h*tau*(-NS[i-1]*NS[i-1])\n",
        "    NS2[i+1]=NS[i+1]#+h*tau*(-NS[i-1]*NS[i-1])\n",
        "    \n",
        "\n",
        "# MULTISTEP METHODS\n",
        "for i in range (3,N-1):\n",
        "    NS[i+1]=NS[i]+h/2*tau*(3*NS[i]*NS[i]-NS[i-1]*NS[i-1])\n",
        "    NS1[i+1]=NS1[i-2]+h*tau*(3*NS1[i]*NS1[i]-NS1[i-1]*NS1[i-1])\n",
        "    NS2[i+1]=1.01*NS2[i]+h/2*tau*(3*NS2[i]*NS2[i]-NS2[i-1]*NS2[i-1])\n",
        "                                                                 "
      ],
      "execution_count": 9,
      "outputs": []
    },
    {
      "cell_type": "markdown",
      "metadata": {
        "id": "FB48aypZvZZ_"
      },
      "source": [
        "## Results\n",
        "The below plot shows the solutions for the stable method (left), the weakly stable method (middle) and unstable method (right).\n",
        "1. The stable results show a monotonically decreasing function.  \n",
        "2. The weakly stable results have a oscilation which is a by product of the method being unstable that is not part of the exact solution.\n",
        "3. The unstable method is nothing like stable solution it is monotonically increasing after the initial conditons. "
      ]
    },
    {
      "cell_type": "code",
      "metadata": {
        "scrolled": false,
        "id": "fnwvfQWKvZaA",
        "outputId": "eca7f30f-2329-40db-9a38-3a932bfe71c8",
        "colab": {
          "base_uri": "https://localhost:8080/",
          "height": 302
        }
      },
      "source": [
        "fig = plt.figure(figsize=(12,4))\n",
        "# --- left hand plot\n",
        "ax = fig.add_subplot(1,3,1)\n",
        "plt.plot(time,NS,color='red')\n",
        "#ax.legend(loc='best')\n",
        "plt.title('Stable')\n",
        "ax = fig.add_subplot(1,3,2)\n",
        "plt.plot(time,NS1)\n",
        "plt.title('Weakly Stable')\n",
        "ax = fig.add_subplot(1,3,3)\n",
        "plt.plot(time,NS2)\n",
        "plt.title('Not Stable')\n",
        "fig.suptitle(r\"Stability $y'=-0.5y^2, \\ \\  y(0)=1$\", fontsize=20)\n",
        "plt.tight_layout()\n",
        "plt.subplots_adjust(top=0.85)"
      ],
      "execution_count": 10,
      "outputs": [
        {
          "output_type": "display_data",
          "data": {
            "image/png": "[encoded data removed]",
            "text/plain": [
              "<Figure size 864x288 with 3 Axes>"
            ]
          },
          "metadata": {
            "needs_background": "light"
          }
        }
      ]
    },
    {
      "cell_type": "markdown",
      "metadata": {
        "collapsed": true,
        "id": "xqYLscbgvZaC"
      },
      "source": [
        "\n"
      ]
    },
    {
      "cell_type": "code",
      "metadata": {
        "id": "VGckxWgYvZaC"
      },
      "source": [
        ""
      ],
      "execution_count": 10,
      "outputs": []
    }
  ]
}