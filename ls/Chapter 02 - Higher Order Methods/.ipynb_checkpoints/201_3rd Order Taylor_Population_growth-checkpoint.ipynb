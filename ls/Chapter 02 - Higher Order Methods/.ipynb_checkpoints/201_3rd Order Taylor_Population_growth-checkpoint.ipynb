{
 "cells": [
  {
   "cell_type": "markdown",
   "metadata": {},
   "source": [
    "# Taylor Method\n",
    "\n",
    "This notebook implements the 3rd order Taylor method for three different population intial value problems.\n",
    "\n",
    "# 3rd Order Taylor\n",
    "The general 3rd Order Taylor method for to the first order differential equation\n",
    "$$ y^{'} = f(t,y) $$\n",
    "numerical approximates $y$ the at time point $t_i$ as $w_i$\n",
    "with the  formula:\n",
    "$$ w_{i+1}=w_i+h\\big[f(t_i,w_i)+\\frac{h}{2}f'(t_i,w_i)+\\frac{h^2}{6}f''(t_i,w_i)\\big],$$\n",
    "where $h$ is the stepsize.\n",
    "for $i=0,...,N-1$.\n",
    "With the local truncation error of \n",
    "$$\\tau=\\frac{h^3}{24}y^{''''}(\\xi_i),$$\n",
    "where $\\xi \\in [t_i,t_{i+1}]$.\n",
    "To illustrate the method we will apply it to three intial value problems:\n",
    "## 1. Linear \n",
    "Consider the linear population Differential Equation\n",
    "$$ y^{'}=0.1y, \\ \\ (2000 \\leq t \\leq 2020), $$\n",
    "with the initial condition,\n",
    "$$y(2000)=6.$$\n",
    "\n",
    "## 2. Non-Linear Population Equation \n",
    "Consider the non-linear population Differential Equation\n",
    "$$ y^{'}=0.2y-0.01y^2, \\ \\ (2000 \\leq t \\leq 2020), $$\n",
    "with the initial condition,\n",
    "$$y(2000)=6.$$\n",
    "\n",
    "## 3. Non-Linear Population Equation with an oscillation \n",
    "Consider the non-linear population Differential Equation with an oscillation \n",
    "$$ y^{'}=0.2y-0.01y^2+\\sin(2\\pi t), \\ \\ (2000 \\leq t \\leq 2020), $$\n",
    "with the initial condition,\n",
    "$$y(2000)=6.$$"
   ]
  },
  {
   "cell_type": "markdown",
   "metadata": {},
   "source": [
    "## Read in Libraries "
   ]
  },
  {
   "cell_type": "code",
   "execution_count": 1,
   "metadata": {},
   "outputs": [],
   "source": [
    "## Library\n",
    "import numpy as np\n",
    "import math \n",
    "\n",
    "%matplotlib inline\n",
    "import matplotlib.pyplot as plt # side-stepping mpl backend\n",
    "import matplotlib.gridspec as gridspec # subplots\n",
    "import warnings\n",
    "\n",
    "warnings.filterwarnings(\"ignore\")\n"
   ]
  },
  {
   "cell_type": "markdown",
   "metadata": {},
   "source": [
    "## Discrete Interval\n",
    "The continuous time $a\\leq t \\leq b $ is discretised into $N$ points seperated by a constant stepsize\n",
    "$$ h=\\frac{b-a}{N}.$$\n",
    "Here the interval is $2000\\leq t \\leq 2020,$ \n",
    "$$ h=\\frac{2020-2000}{200}=0.1.$$\n",
    "This gives the 201 discrete points:\n",
    "$$ t_0=2000, \\ t_1=2000.1, \\ ... t_{200}=2020. $$\n",
    "This is generalised to \n",
    "$$ t_i=2000+i0.1, \\ \\ \\ i=0,1,...,200.$$\n",
    "The plot below shows the discrete time steps:"
   ]
  },
  {
   "cell_type": "code",
   "execution_count": 3,
   "metadata": {},
   "outputs": [
    {
     "data": {
      "image/png": "[encoded data removed]",
      "text/plain": [
       "<Figure size 720x288 with 1 Axes>"
      ]
     },
     "metadata": {
      "needs_background": "light"
     },
     "output_type": "display_data"
    }
   ],
   "source": [
    "N=200\n",
    "t_end=2020.0\n",
    "t_start=2000.0\n",
    "h=((t_end-t_start)/N)\n",
    "t=np.arange(t_start,t_end+h/2,h)\n",
    "fig = plt.figure(figsize=(10,4))\n",
    "plt.plot(t,0*t,'o:',color='red')\n",
    "plt.title('Illustration of discrete time points for h=%s'%(h))\n",
    "plt.show()"
   ]
  },
  {
   "cell_type": "markdown",
   "metadata": {},
   "source": [
    "# 1. Linear Population Equation\n",
    "## Exact Solution \n",
    "The linear population equation\n",
    "$$ y^{'}=0.1y, \\ \\ (2000 \\leq t \\leq 2020), $$\n",
    "with the initial condition,\n",
    "$$y(2000)=6.$$\n",
    "has a known exact (analytic) solution\n",
    "$$ y=6e^{0.1(t-2000)}. $$\n",
    "\n",
    "## Specific 3rd Order Taylor for the Linear Population Equation\n",
    "To write the specific 3rd Order Taylor difference equation for the intial value problem we need to calculate the first derivative of \n",
    "$$f(t,y)=0.1y,$$"
   ]
  },
  {
   "cell_type": "code",
   "execution_count": 4,
   "metadata": {},
   "outputs": [],
   "source": [
    "def linfun(t,w):\n",
    "    ftw=0.1*w\n",
    "    return ftw"
   ]
  },
  {
   "cell_type": "markdown",
   "metadata": {},
   "source": [
    "with respect to t\n",
    "$$ f'(t,y)=0.1y'=0.1(0.1y)=0.01y $$"
   ]
  },
  {
   "cell_type": "code",
   "execution_count": 5,
   "metadata": {},
   "outputs": [],
   "source": [
    "def linfun_d(t,w):\n",
    "    ftw=0.01*w\n",
    "    return ftw"
   ]
  },
  {
   "cell_type": "markdown",
   "metadata": {},
   "source": [
    "and the second derivative of $f$ with respect to $t$,\n",
    "$$f'(t,y)=0.01y'=0.01(0.1y)=0.001y.$$"
   ]
  },
  {
   "cell_type": "code",
   "execution_count": 6,
   "metadata": {},
   "outputs": [],
   "source": [
    "def linfun_dd(t,w):\n",
    "    ftw=0.001*w\n",
    "    return ftw"
   ]
  },
  {
   "cell_type": "markdown",
   "metadata": {},
   "source": [
    "### Linear Population 3rd Order Taylor Difference equation\n",
    "Substituting the derivatives of the linear population equation into the 3rd order Taylor equation gives the difference equation \n",
    "$$ w_{i+1}= w_{i} + h\\big[0.1 w_i+\\frac{h}{2}(0.01 w_i)+\\frac{h^2}{6}(0.001w_i)\\big], $$\n",
    "for $i=0,...,199$, where $w_i$ is the numerical approximation of $y$ at time $t_i$, with the initial condition\n",
    "$$w_0=6.$$"
   ]
  },
  {
   "cell_type": "markdown",
   "metadata": {},
   "source": [
    "## Method"
   ]
  },
  {
   "cell_type": "code",
   "execution_count": 7,
   "metadata": {},
   "outputs": [],
   "source": [
    "w=np.zeros(N+1)\n",
    "w[0]=6.0\n",
    "for i in range (0,N):\n",
    "    w[i+1]=w[i]+h*(linfun(t[i],w[i])+h/2*linfun_d(t[i],w[i])+h*h/6*linfun_dd(t[i],w[i]))"
   ]
  },
  {
   "cell_type": "markdown",
   "metadata": {},
   "source": [
    "## Results\n",
    "The plot below shows the exact solution, $y$ (squares) and the 3rd order numberical approximation, $w$ (circles) for the linear population equation:"
   ]
  },
  {
   "cell_type": "code",
   "execution_count": 8,
   "metadata": {},
   "outputs": [
    {
     "data": {
      "image/png": "[encoded data removed]",
      "text/plain": [
       "<Figure size 576x288 with 1 Axes>"
      ]
     },
     "metadata": {
      "needs_background": "light"
     },
     "output_type": "display_data"
    }
   ],
   "source": [
    "y=6*np.exp(0.1*(t-2000))\n",
    "fig = plt.figure(figsize=(8,4))\n",
    "plt.plot(t,w,'o:',color='purple',label='Taylor')\n",
    "plt.plot(t,y,'s:',color='black',label='Exact')\n",
    "plt.legend(loc='best')\n",
    "plt.show()"
   ]
  },
  {
   "cell_type": "markdown",
   "metadata": {
    "collapsed": true
   },
   "source": [
    "## Table\n",
    "The table below shows the time, the 3rd order numerical approximation, $w$,  the exact solution, $y$, and the exact error $|y(t_i)-w_i|$ for the linear population equation:"
   ]
  },
  {
   "cell_type": "code",
   "execution_count": 9,
   "metadata": {},
   "outputs": [
    {
     "data": {
      "text/html": [
       "<table><tr><td>time</td><td>Taylor (w)</td><td>Exact (y)</td><td>Exact Error</td></tr><tr><td>2000.0</td><td>6.0</td><td>6.0</td><td>0.0</td></tr><tr><td>2000.1</td><td>6.060301</td><td>6.060301003</td><td>2.5e-09</td></tr><tr><td>2000.2</td><td>6.121208035</td><td>6.12120804</td><td>5.1e-09</td></tr><tr><td>2000.3</td><td>6.182727196</td><td>6.182727204</td><td>7.7e-09</td></tr><tr><td>2000.4</td><td>6.244864635</td><td>6.244864645</td><td>1.03e-08</td></tr><tr><td>2000.5</td><td>6.307626565</td><td>6.307626578</td><td>1.3e-08</td></tr><tr><td>2000.6</td><td>6.371019263</td><td>6.371019279</td><td>1.58e-08</td></tr><tr><td>2000.7</td><td>6.435049069</td><td>6.435049088</td><td>1.86e-08</td></tr><tr><td>2000.8</td><td>6.499722385</td><td>6.499722406</td><td>2.15e-08</td></tr><tr><td>2000.9</td><td>6.565045678</td><td>6.565045702</td><td>2.44e-08</td></tr></table>"
      ],
      "text/plain": [
       "[['time', 'Taylor (w)', 'Exact (y)', 'Exact Error'],\n",
       " [2000.0, 6.0, 6.0, 0.0],\n",
       " [2000.1, 6.060301, 6.060301003, 2.5e-09],\n",
       " [2000.2, 6.121208035, 6.12120804, 5.1e-09],\n",
       " [2000.3, 6.182727196, 6.182727204, 7.7e-09],\n",
       " [2000.4, 6.244864635, 6.244864645, 1.03e-08],\n",
       " [2000.5, 6.307626565, 6.307626578, 1.3e-08],\n",
       " [2000.6, 6.371019263, 6.371019279, 1.58e-08],\n",
       " [2000.7, 6.435049069, 6.435049088, 1.86e-08],\n",
       " [2000.8, 6.499722385, 6.499722406, 2.15e-08],\n",
       " [2000.9, 6.565045678, 6.565045702, 2.44e-08]]"
      ]
     },
     "execution_count": 9,
     "metadata": {},
     "output_type": "execute_result"
    }
   ],
   "source": [
    "table = ListTable()\n",
    "table.append(['time', 'Taylor (w)',  'Exact (y)','Exact Error'])\n",
    "for i in range (0,10):\n",
    "    table.append([round(t[i],2),  round(w[i],9), round(y[i],9),np.abs(round(y[i]-w[i],10))])\n",
    "    \n",
    "table\n",
    "\n",
    "\n"
   ]
  },
  {
   "cell_type": "markdown",
   "metadata": {},
   "source": [
    "## 2. Non-Linear Population Equation \n",
    "$$ y^{'}=0.2y-0.01y^2, \\ \\ (2000 \\leq t \\leq 2020), $$\n",
    "with the initial condition,\n",
    "$$y(2000)=6.$$\n",
    "## Specific 3rd Order Taylor for the Non-Linear Population Equation\n",
    "To write the specific 3rd Order Taylor difference equation for the intial value problem we need to calculate the first derivative of \n",
    "$$f(t,y)=0.2y-0.01y^2,$$"
   ]
  },
  {
   "cell_type": "code",
   "execution_count": 10,
   "metadata": {},
   "outputs": [],
   "source": [
    "def nonlinfun(t,w):\n",
    "    ftw=0.2*w-0.01*w*w\n",
    "    return ftw"
   ]
  },
  {
   "cell_type": "markdown",
   "metadata": {},
   "source": [
    "with respect to $t$\n",
    "$$ f'(t,y)=0.2y'-0.02y'y=0.2(0.2y-0.01y^2)-0.02(0.2y-0.01y^2)y$$\n",
    "$$=(0.2-0.02y)(0.2y-0.01y^2)=(0.2-0.02y)f(t,y) $$"
   ]
  },
  {
   "cell_type": "code",
   "execution_count": 11,
   "metadata": {},
   "outputs": [],
   "source": [
    "def nonlinfun_d(t,w):\n",
    "    ftw=0.2*nonlinfun(t,w)-0.02*nonlinfun(t,w)*w\n",
    "    return ftw"
   ]
  },
  {
   "cell_type": "markdown",
   "metadata": {},
   "source": [
    "and the second derivative with respect to $t$\n",
    "$$ f''(t,y)=-0.02y'(0.2y-0.01y^2)+(0.2-0.02y)(0.2y'-0.02y'y)\n",
    "$$=-0.02(0.2y-0.01y^2)^2+(0.2-0.02y)^2(0.2y-0.01y^2) $$"
   ]
  },
  {
   "cell_type": "code",
   "execution_count": 12,
   "metadata": {},
   "outputs": [],
   "source": [
    "def nonlinfun_dd(t,w):\n",
    "    ftw=-0.02*nonlinfun(t,w)*nonlinfun(t,w)+(0.2-0.02*w)*nonlinfun_d(t,w)\n",
    "    return ftw"
   ]
  },
  {
   "cell_type": "markdown",
   "metadata": {},
   "source": [
    "###  Non-Linear Population 3rd Order Taylor Difference equation\n",
    "Substituting the derivatives of the non-linear population equation into the 3rd order Taylor equation gives the difference equation \n",
    "$$ w_{i+1}= w_{i} + h\\big[\\big(0.2w_i-0.01w_i^2\\big)+\\frac{h}{2}\\big((0.2-0.02w_i)(0.2w_i-0.01w_i^2)\\big)+$$\n",
    "$$\\frac{h^2}{6}\\big(-0.02(0.2w_i-0.01w_i^2)^2+(0.2-0.02w_i)^2(0.2w_i-0.01w_i^2)\\big)\\big], $$\n",
    "for $i=0,...,199$, where $w_i$ is the numerical approximation of $y$ at time $t_i$, with the initial condition\n",
    "$$w_0=6.$$"
   ]
  },
  {
   "cell_type": "code",
   "execution_count": 13,
   "metadata": {},
   "outputs": [],
   "source": [
    "w=np.zeros(N+1)\n",
    "w[0]=6.0\n",
    "for i in range (0,N):\n",
    "    w[i+1]=w[i]+h*(nonlinfun(t[i],w[i])+h/2*nonlinfun_d(t[i],w[i])+h*h/6*nonlinfun_dd(t[i],w[i]))"
   ]
  },
  {
   "cell_type": "markdown",
   "metadata": {},
   "source": [
    "## Results\n",
    "The plot below shows the 3rd order numerical approximation, $w$ (circles) for the non-linear population equation:"
   ]
  },
  {
   "cell_type": "code",
   "execution_count": 14,
   "metadata": {},
   "outputs": [
    {
     "data": {
      "image/png": "[encoded data removed]",
      "text/plain": [
       "<Figure size 576x288 with 1 Axes>"
      ]
     },
     "metadata": {
      "needs_background": "light"
     },
     "output_type": "display_data"
    }
   ],
   "source": [
    "fig = plt.figure(figsize=(8,4))\n",
    "plt.plot(t,w,'o:',color='purple',label='Taylor')\n",
    "plt.legend(loc='best')\n",
    "plt.show()"
   ]
  },
  {
   "cell_type": "markdown",
   "metadata": {},
   "source": [
    "## Table\n",
    "The table below shows the time and the 3rd order numerical approximation, $w$,  for the non-linear population equation:"
   ]
  },
  {
   "cell_type": "code",
   "execution_count": 15,
   "metadata": {},
   "outputs": [
    {
     "data": {
      "text/html": [
       "<table><tr><td>time</td><td>Taylor (w)</td></tr><tr><td>2000.0</td><td>6.0</td></tr><tr><td>2000.1</td><td>6.084334544</td></tr><tr><td>2000.2</td><td>6.169332114</td></tr><tr><td>2000.3</td><td>6.254983361</td></tr><tr><td>2000.4</td><td>6.341278528</td></tr><tr><td>2000.5</td><td>6.428207453</td></tr><tr><td>2000.6</td><td>6.515759568</td></tr><tr><td>2000.7</td><td>6.6039239</td></tr><tr><td>2000.8</td><td>6.692689078</td></tr><tr><td>2000.9</td><td>6.782043333</td></tr></table>"
      ],
      "text/plain": [
       "[['time', 'Taylor (w)'],\n",
       " [2000.0, 6.0],\n",
       " [2000.1, 6.084334544],\n",
       " [2000.2, 6.169332114],\n",
       " [2000.3, 6.254983361],\n",
       " [2000.4, 6.341278528],\n",
       " [2000.5, 6.428207453],\n",
       " [2000.6, 6.515759568],\n",
       " [2000.7, 6.6039239],\n",
       " [2000.8, 6.692689078],\n",
       " [2000.9, 6.782043333]]"
      ]
     },
     "execution_count": 15,
     "metadata": {},
     "output_type": "execute_result"
    }
   ],
   "source": [
    "table = ListTable()\n",
    "table.append(['time', 'Taylor (w)'])\n",
    "for i in range (0,10):\n",
    "    table.append([round(t[i],2),  round(w[i],9)])\n",
    "    \n",
    "table\n"
   ]
  },
  {
   "cell_type": "markdown",
   "metadata": {},
   "source": [
    "## 3. Non-Linear Population Equation with an oscilation \n",
    "$$ y^{'}=0.2y-0.01y^2+\\sin(2\\pi t), \\ \\ (2000 \\leq t \\leq 2020), $$\n",
    "with the initial condition,\n",
    "$$y(2000)=6.$$\n",
    "\n",
    "## Specific 3rd Order Taylor for the Non-Linear Population Equation with an oscilation\n",
    "To write the specific 3rd Order Taylor difference equation for the intial value problem we need calculate the first derivative of \n",
    "$$f(t,y)=0.2y-0.01y^2+\\sin(2\\pi t),$$"
   ]
  },
  {
   "cell_type": "code",
   "execution_count": 16,
   "metadata": {},
   "outputs": [],
   "source": [
    "def nonlin_oscfun(t,w):\n",
    "    ftw=0.2*w-0.01*w*w+np.sin(2*np.math.pi*t)\n",
    "    return ftw"
   ]
  },
  {
   "cell_type": "markdown",
   "metadata": {},
   "source": [
    "with respect to $t$\n",
    "$$ f'(t,y)=0.2y'-0.02y'y+2\\pi\\cos(2\\pi t)$$\n",
    "$$=(0.2-0.02y)\\big(0.2y-0.01y^2+\\sin(2\\pi t)\\big)+2\\pi\\cos(2\\pi t) $$"
   ]
  },
  {
   "cell_type": "code",
   "execution_count": 17,
   "metadata": {},
   "outputs": [],
   "source": [
    "def nonlin_oscfun_d(t,w):\n",
    "    ftw=0.2*nonlinfun(t,w)-0.02*nonlinfun(t,w)*w+2*np.math.pi*np.cos(2*np.math.pi*t)\n",
    "    return ftw"
   ]
  },
  {
   "cell_type": "markdown",
   "metadata": {},
   "source": [
    "and the second derivative with respect to $t$\n",
    "$$ f''(t,y)=-0.02y'(0.2y-0.01y^2+\\sin(2\\pi t))$$\n",
    "$$+(0.2-0.02y)\\big(0.2y'-0.02y'y+2\\pi\\cos(2\\pi t)\\big)-(2\\pi)^2\\sin(2\\pi t)$$\n",
    "$$=-0.02(0.2y-0.01y^2+2\\pi\\sin(2\\pi t))^2$$\n",
    "$$+(0.2-0.02y)\\big((0.2-0.02y)(0.2y-0.01y^2+\\sin(2\\pi t))+ 2\\pi\\cos(2\\pi t) \\big)-(2\\pi)^2\\sin(2\\pi t) $$"
   ]
  },
  {
   "cell_type": "code",
   "execution_count": 18,
   "metadata": {},
   "outputs": [],
   "source": [
    "def nonlin_oscfun_dd(t,w):\n",
    "    ftw=-0.02*nonlin_oscfun(t,w)*nonlin_oscfun(t,w)+(0.2-0.02*w)*((0.2-0.02*w)*nonlin_oscfun(t,w)+2*np.math.pi*np.cos(2*np.math.pi*t))#-2*np.math.pi*2*np.math.pi*np.sin(2*np.math.pi*t)\n",
    "    return ftw"
   ]
  },
  {
   "cell_type": "markdown",
   "metadata": {},
   "source": [
    "###  Non-Linear Population with oscilation 3rd Order Taylor Difference equation\n",
    "Substituting the derivatives of the non-linear population equation with oscilation into the 3rd order Taylor equation gives the difference equation \n",
    "$$ w_{i+1}= w_{i} + h\\big[\\big(0.2w_i-0.01w_i^2+\\sin(2\\pi t_i)\\big)$$\n",
    "$$+\\frac{h}{2}\\big((0.2-0.02w_i)\\big(0.2w_i-0.01w_i^2+\\sin(2\\pi t_i)\\big)+2\\pi\\cos(2\\pi t_i)\\big)+$$\n",
    "$$\\frac{h^2}{6}\\big(-0.02(0.2w_i-0.01w_i^2+2\\pi\\sin(2\\pi t_i))^2$$ \n",
    "$$+(0.2-0.02w_i)\\big((0.2-0.02w_i)[0.2w_i-0.01w_i^2+\\sin(2\\pi t_i)]$$\n",
    "$$+ 2\\pi\\cos(2\\pi t_i) \\big)-(2\\pi)^2\\sin(2\\pi t_i) \\big)\\big], $$\n",
    "for $i=0,...,199$, where $w_i$ is the numerical approximation of $y$ at time $t_i$, with the initial condition\n",
    "$$w_0=6.$$"
   ]
  },
  {
   "cell_type": "code",
   "execution_count": 19,
   "metadata": {},
   "outputs": [],
   "source": [
    "w=np.zeros(N+1)\n",
    "w[0]=6.0\n",
    "for i in range (0,N):\n",
    "    w[i+1]=w[i]+h*(nonlin_oscfun(t[i],w[i])+h/2*nonlin_oscfun_d(t[i],w[i])+h*h/6*nonlin_oscfun_dd(t[i],w[i]))"
   ]
  },
  {
   "cell_type": "markdown",
   "metadata": {},
   "source": [
    "## Results\n",
    "The plot below shows the 3rd order numerical approximation, $w$ (circles) for the non-linear population equation:"
   ]
  },
  {
   "cell_type": "code",
   "execution_count": 20,
   "metadata": {},
   "outputs": [
    {
     "data": {
      "image/png": "[encoded data removed]",
      "text/plain": [
       "<Figure size 576x288 with 1 Axes>"
      ]
     },
     "metadata": {
      "needs_background": "light"
     },
     "output_type": "display_data"
    }
   ],
   "source": [
    "fig = plt.figure(figsize=(8,4))\n",
    "plt.plot(t,w,'o:',color='purple',label='Taylor')\n",
    "plt.legend(loc='best')\n",
    "plt.show()"
   ]
  },
  {
   "cell_type": "markdown",
   "metadata": {},
   "source": [
    "## Table\n",
    "The table below shows the time and the 3rd order numerical approximation, $w$,  for the non-linear population equation:"
   ]
  },
  {
   "cell_type": "code",
   "execution_count": 21,
   "metadata": {},
   "outputs": [
    {
     "data": {
      "text/html": [
       "<table><tr><td>time</td><td>Taylor (w)</td></tr><tr><td>2000.0</td><td>6.0</td></tr><tr><td>2000.1</td><td>6.115834246</td></tr><tr><td>2000.2</td><td>6.28533224</td></tr><tr><td>2000.3</td><td>6.476682151</td></tr><tr><td>2000.4</td><td>6.649942156</td></tr><tr><td>2000.5</td><td>6.772316267</td></tr><tr><td>2000.6</td><td>6.830701887</td></tr><tr><td>2000.7</td><td>6.836694173</td></tr><tr><td>2000.8</td><td>6.822138124</td></tr><tr><td>2000.9</td><td>6.826947938</td></tr></table>"
      ],
      "text/plain": [
       "[['time', 'Taylor (w)'],\n",
       " [2000.0, 6.0],\n",
       " [2000.1, 6.115834246],\n",
       " [2000.2, 6.28533224],\n",
       " [2000.3, 6.476682151],\n",
       " [2000.4, 6.649942156],\n",
       " [2000.5, 6.772316267],\n",
       " [2000.6, 6.830701887],\n",
       " [2000.7, 6.836694173],\n",
       " [2000.8, 6.822138124],\n",
       " [2000.9, 6.826947938]]"
      ]
     },
     "execution_count": 21,
     "metadata": {},
     "output_type": "execute_result"
    }
   ],
   "source": [
    "table = ListTable()\n",
    "table.append(['time', 'Taylor (w)'])\n",
    "for i in range (0,10):\n",
    "    table.append([round(t[i],2),  round(w[i],9)])\n",
    "    \n",
    "table\n"
   ]
  },
  {
   "cell_type": "code",
   "execution_count": null,
   "metadata": {},
   "outputs": [],
   "source": []
  }
 ],
 "metadata": {
  "kernelspec": {
   "display_name": "Python 3",
   "language": "python",
   "name": "python3"
  },
  "language_info": {
   "codemirror_mode": {
    "name": "ipython",
    "version": 3
   },
   "file_extension": ".py",
   "mimetype": "text/x-python",
   "name": "python",
   "nbconvert_exporter": "python",
   "pygments_lexer": "ipython3",
   "version": "3.7.3"
  }
 },
 "nbformat": 4,
 "nbformat_minor": 1
}
