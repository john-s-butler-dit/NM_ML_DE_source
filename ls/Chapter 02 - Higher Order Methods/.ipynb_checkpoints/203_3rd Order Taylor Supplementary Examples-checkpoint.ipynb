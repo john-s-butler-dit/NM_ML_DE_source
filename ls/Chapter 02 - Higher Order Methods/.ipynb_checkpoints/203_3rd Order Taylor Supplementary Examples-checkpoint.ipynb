{
 "cells": [
  {
   "cell_type": "markdown",
   "metadata": {},
   "source": [
    "# Taylor Method\n",
    "\n",
    "This notebook illustrates the 3rd order Taylor method using the initial value problem\n",
    "$$ y^{'}=t-y, \\ \\ (1 \\leq t \\leq 3) $$\n",
    "with the initial condition\n",
    "$$y(1)=\\frac{2}{e}$$\n",
    "\n",
    "\n",
    "\n",
    "### 3rd Order Taylor:\n",
    "The general form of the 3rd order Taylor is:\n",
    "$$ w_{i+1}=w_i+h\\left[f(t_i,w_i)+\\frac{h}{2}f'(t_i,w_i)+\\frac{h^2}{6}f''(t_i,w_i)\\right]$$"
   ]
  },
  {
   "cell_type": "markdown",
   "metadata": {},
   "source": [
    "## Read in Libraries "
   ]
  },
  {
   "cell_type": "code",
   "execution_count": 1,
   "metadata": {},
   "outputs": [],
   "source": [
    "import numpy as np\n",
    "import math \n",
    "\n",
    "%matplotlib inline\n",
    "import matplotlib.pyplot as plt # side-stepping mpl backend\n",
    "import matplotlib.gridspec as gridspec # subplots\n",
    "import warnings\n",
    "warnings.filterwarnings(\"ignore\")\n",
    "\n",
    "class ListTable(list):\n",
    "    \"\"\" Overridden list class which takes a 2-dimensional list of \n",
    "        the form [[1,2,3],[4,5,6]], and renders an HTML Table in \n",
    "        IPython Notebook. \"\"\"\n",
    "    \n",
    "    def _repr_html_(self):\n",
    "        html = [\"<table>\"]\n",
    "        for row in self:\n",
    "            html.append(\"<tr>\")\n",
    "            \n",
    "            for col in row:\n",
    "                html.append(\"<td>{0}</td>\".format(col))\n",
    "            \n",
    "            html.append(\"</tr>\")\n",
    "        html.append(\"</table>\")\n",
    "        return ''.join(html)"
   ]
  },
  {
   "cell_type": "markdown",
   "metadata": {},
   "source": [
    "## Setting up the discrete time axis\n",
    "$$ h=\\frac{t_{end}-t_{start}}{N} $$\n",
    "$$ h=\\frac{3-1}{10}=0.2 $$\n",
    "$$t_i=t_0+ih$$\n",
    "$$t_i=0+0.2i$$\n",
    "for $i=0,1,2,...,5.$"
   ]
  },
  {
   "cell_type": "code",
   "execution_count": 2,
   "metadata": {},
   "outputs": [
    {
     "data": {
      "text/plain": [
       "Text(0.5,1,'Illustration of discrete time points for h=0.2')"
      ]
     },
     "execution_count": 2,
     "metadata": {},
     "output_type": "execute_result"
    },
    {
     "data": {
      "image/png": "[encoded data removed]",
      "text/plain": [
       "<Figure size 720x288 with 1 Axes>"
      ]
     },
     "metadata": {},
     "output_type": "display_data"
    }
   ],
   "source": [
    "N=10\n",
    "t_end=3.0\n",
    "t_start=1.0\n",
    "h=((t_end-t_start)/N)\n",
    "\n",
    "IC=2/np.exp(1)\n",
    "t=np.arange(t_start,t_end+h/2,h)\n",
    "fig = plt.figure(figsize=(10,4))\n",
    "plt.plot(t,0*t,'o:',color='red')\n",
    "plt.xlim((1,3))\n",
    "plt.title('Illustration of discrete time points for h=%s'%(h))"
   ]
  },
  {
   "cell_type": "markdown",
   "metadata": {},
   "source": [
    "## Specific 3rd Order Taylor\n",
    "To write the specific difference equation for the intial value problem we need derive $f$, $f'$ and $f''$.\n",
    "\n",
    "$$f(t,y)=t-y$$\n"
   ]
  },
  {
   "cell_type": "code",
   "execution_count": 3,
   "metadata": {},
   "outputs": [],
   "source": [
    "def myfun(t,w):\n",
    "    ftw=t-w\n",
    "    return ftw"
   ]
  },
  {
   "cell_type": "markdown",
   "metadata": {
    "collapsed": true
   },
   "source": [
    "$$f'(t,y)=1-y'=1-t+y$$"
   ]
  },
  {
   "cell_type": "code",
   "execution_count": 4,
   "metadata": {},
   "outputs": [],
   "source": [
    "def myfund(t,w):\n",
    "    ftw=1-t+w\n",
    "    return ftw"
   ]
  },
  {
   "cell_type": "markdown",
   "metadata": {
    "collapsed": true
   },
   "source": [
    "$$f''(t,y)=-1+y'=-1+t-y$$"
   ]
  },
  {
   "cell_type": "code",
   "execution_count": 5,
   "metadata": {},
   "outputs": [],
   "source": [
    "def myfundd(t,w):\n",
    "    ftw=-1+t-w\n",
    "    return ftw"
   ]
  },
  {
   "cell_type": "markdown",
   "metadata": {},
   "source": [
    "### Specific Difference equation\n",
    "This gives the difference equation\n",
    "$$ w_{i+1}= w_{i} + h(t_i-w_i+\\frac{h}{2}(1-t_i+w_i)+\\frac{h^2}{6}(-1+t_i-w_i)) $$\n"
   ]
  },
  {
   "cell_type": "markdown",
   "metadata": {},
   "source": [
    "## Method"
   ]
  },
  {
   "cell_type": "code",
   "execution_count": 6,
   "metadata": {},
   "outputs": [],
   "source": [
    "Taylor=np.zeros(N+1)\n",
    "Taylor[0]=IC\n",
    "y=(2)*np.exp(-t)+t-1\n",
    "for i in range (0,N):\n",
    "    Taylor[i+1]=Taylor[i]+h*(myfun(t[i],Taylor[i])+h/2*myfund(t[i],Taylor[i])+h*h/6*myfundd(t[i],Taylor[i]))"
   ]
  },
  {
   "cell_type": "markdown",
   "metadata": {},
   "source": [
    "## Results"
   ]
  },
  {
   "cell_type": "code",
   "execution_count": 7,
   "metadata": {},
   "outputs": [
    {
     "data": {
      "text/plain": [
       "<matplotlib.legend.Legend at 0x824c160>"
      ]
     },
     "execution_count": 7,
     "metadata": {},
     "output_type": "execute_result"
    },
    {
     "data": {
      "image/png": "[encoded data removed]",
      "text/plain": [
       "<Figure size 576x288 with 1 Axes>"
      ]
     },
     "metadata": {},
     "output_type": "display_data"
    }
   ],
   "source": [
    "fig = plt.figure(figsize=(8,4))\n",
    "plt.plot(t,Taylor,'o:',color='purple',label='Taylor')\n",
    "plt.plot(t,y,'s:',color='black',label='Exact')\n",
    "plt.legend(loc='best')"
   ]
  },
  {
   "cell_type": "markdown",
   "metadata": {
    "collapsed": true
   },
   "source": [
    "## Table"
   ]
  },
  {
   "cell_type": "code",
   "execution_count": 9,
   "metadata": {},
   "outputs": [
    {
     "data": {
      "text/html": [
       "<table><tr><td>time</td><td>Taylor</td><td>Exact</td><td>Exact Error</td></tr><tr><td>1.0</td><td>0.736</td><td>0.736</td><td>0.0</td></tr><tr><td>1.2</td><td>0.802</td><td>0.802</td><td>5e-05</td></tr><tr><td>1.4</td><td>0.893</td><td>0.893</td><td>8e-05</td></tr><tr><td>1.6</td><td>1.004</td><td>1.004</td><td>9e-05</td></tr><tr><td>1.8</td><td>1.13</td><td>1.131</td><td>0.0001</td></tr><tr><td>2.0</td><td>1.271</td><td>1.271</td><td>0.00011</td></tr><tr><td>2.2</td><td>1.422</td><td>1.422</td><td>0.0001</td></tr><tr><td>2.4</td><td>1.581</td><td>1.581</td><td>0.0001</td></tr><tr><td>2.6</td><td>1.748</td><td>1.749</td><td>9e-05</td></tr><tr><td>2.8</td><td>1.922</td><td>1.922</td><td>9e-05</td></tr><tr><td>3.0</td><td>2.099</td><td>2.1</td><td>8e-05</td></tr></table>"
      ],
      "text/plain": [
       "[['time', 'Taylor', 'Exact', 'Exact Error'],\n",
       " [1.0, 0.736, 0.736, 0.0],\n",
       " [1.2, 0.802, 0.802, 5e-05],\n",
       " [1.4, 0.893, 0.893, 8e-05],\n",
       " [1.6, 1.004, 1.004, 9e-05],\n",
       " [1.8, 1.13, 1.131, 0.0001],\n",
       " [2.0, 1.271, 1.271, 0.00011],\n",
       " [2.2, 1.422, 1.422, 0.0001],\n",
       " [2.4, 1.581, 1.581, 0.0001],\n",
       " [2.6, 1.748, 1.749, 9e-05],\n",
       " [2.8, 1.922, 1.922, 9e-05],\n",
       " [3.0, 2.099, 2.1, 8e-05]]"
      ]
     },
     "execution_count": 9,
     "metadata": {},
     "output_type": "execute_result"
    }
   ],
   "source": [
    "table = ListTable()\n",
    "table.append(['time', 'Taylor',  'Exact','Exact Error'])\n",
    "for i in range (0,N+1):\n",
    "    table.append([round(t[i],3),  round(Taylor[i],3), round(y[i],3),np.abs(round(y[i]-Taylor[i],5))])\n",
    "    \n",
    "table\n",
    "\n"
   ]
  },
  {
   "cell_type": "code",
   "execution_count": null,
   "metadata": {},
   "outputs": [],
   "source": []
  }
 ],
 "metadata": {
  "kernelspec": {
   "display_name": "Python 3",
   "language": "python",
   "name": "python3"
  },
  "language_info": {
   "codemirror_mode": {
    "name": "ipython",
    "version": 3
   },
   "file_extension": ".py",
   "mimetype": "text/x-python",
   "name": "python",
   "nbconvert_exporter": "python",
   "pygments_lexer": "ipython3",
   "version": "3.6.8"
  }
 },
 "nbformat": 4,
 "nbformat_minor": 1
}
