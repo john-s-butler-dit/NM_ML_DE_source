{
  "nbformat": 4,
  "nbformat_minor": 0,
  "metadata": {
    "colab": {
      "name": "01_Problem Sheet 1 Question 2b.ipynb",
      "provenance": [],
      "include_colab_link": true
    },
    "kernelspec": {
      "display_name": "Python 3",
      "language": "python",
      "name": "python3"
    },
    "language_info": {
      "codemirror_mode": {
        "name": "ipython",
        "version": 3
      },
      "file_extension": ".py",
      "mimetype": "text/x-python",
      "name": "python",
      "nbconvert_exporter": "python",
      "pygments_lexer": "ipython3",
      "version": "3.7.9"
    }
  },
  "cells": [
    {
      "cell_type": "markdown",
      "metadata": {
        "id": "view-in-github",
        "colab_type": "text"
      },
      "source": [
        "<a href=\"https://colab.research.google.com/github/john-s-butler-dit/Numerical-Analysis-Python/blob/master/Chapter%2002%20-%20Higher%20Order%20Methods/2_Problem%20Sheet/02_PS%20Question%203.ipynb\" target=\"_parent\"><img src=\"https://colab.research.google.com/assets/colab-badge.svg\" alt=\"Open In Colab\"/></a>"
      ]
    },
    {
      "cell_type": "markdown",
      "metadata": {
        "id": "HjUe8oJGwXp3"
      },
      "source": [
        "# Problem Sheet 2 Question 3 - 2nd Order Taylor\n",
        "\n",
        "The general form of the population growth differential equation\n",
        "\\begin{equation}  y^{'}=ty-ty^2, \\ \\ (0 \\leq t \\leq 2)\\end{equation}\n",
        "with the initial condition\n",
        "\\begin{equation} y(0)=\\frac{1}{2}.\\end{equation}\n",
        "\n",
        "Apply __2nd Order Taylor__ to approximate the solution of the given initial value problems using the indicated number of time steps. Compare the approximate solution with the given exact solution, and compare the actual error with the theoretical error."
      ]
    },
    {
      "cell_type": "code",
      "metadata": {
        "id": "i35ykQeWwXp5"
      },
      "source": [
        "## Library\n",
        "import numpy as np\n",
        "import math \n",
        "\n",
        "%matplotlib inline\n",
        "import matplotlib.pyplot as plt # side-stepping mpl backend\n",
        "import matplotlib.gridspec as gridspec # subplots\n",
        "import warnings\n",
        "import pandas as pd\n",
        "\n",
        "warnings.filterwarnings(\"ignore\")"
      ],
      "execution_count": null,
      "outputs": []
    },
    {
      "cell_type": "markdown",
      "metadata": {
        "id": "LPD9UzWXwXp9"
      },
      "source": [
        "## General Discrete Interval\n",
        "The continuous time $a\\leq t \\leq b $ is discretised into $N$ points seperated by a constant stepsize\n",
        "\\begin{equation}  h=\\frac{b-a}{N}.\\end{equation}\n",
        "## Specific Discrete Interval\n",
        "Here the interval is $0\\leq t \\leq 2$ with $N=4$ \n",
        "\\begin{equation}  h=\\frac{2-0}{4}=0.5.\\end{equation}\n",
        "This gives the 5 discrete points with stepsize h=0.5:\n",
        "\\begin{equation}  t_0=0, \\ t_1=0.5, \\ ... t_{4}=2. \\end{equation}\n",
        "This is generalised to \n",
        "\\begin{equation}  t_i=0+i0.5, \\ \\ \\ i=0,1,...,4.\\end{equation}\n",
        "The plot below illustrates the discrete time steps from 0 to 2."
      ]
    },
    {
      "cell_type": "code",
      "metadata": {
        "id": "UuBME-W5wXp-",
        "outputId": "8d00136b-c541-4b47-cf0e-44728fd5eae6"
      },
      "source": [
        "### Setting up time\n",
        "t_end=2\n",
        "t_start=0\n",
        "N=4\n",
        "h=(t_end-t_start)/(N)\n",
        "t=np.arange(t_start,t_end+0.01,h)\n",
        "fig = plt.figure(figsize=(10,4))\n",
        "plt.plot(t,0*t,'o:',color='red')\n",
        "plt.plot(t[0],0*t[0],'o',color='green')\n",
        "\n",
        "\n",
        "plt.title('Illustration of discrete time points for h=%s'%(h))\n",
        "plt.plot();"
      ],
      "execution_count": null,
      "outputs": [
        {
          "output_type": "display_data",
          "data": {
            "image/png": "[encoded data removed]",
            "text/plain": [
              "<Figure size 720x288 with 1 Axes>"
            ]
          },
          "metadata": {
            "tags": [],
            "needs_background": "light"
          }
        }
      ]
    },
    {
      "cell_type": "markdown",
      "metadata": {
        "id": "OqTZ5VdPwXqB"
      },
      "source": [
        "## 2nd Order Taylor Solution\n",
        "The 2nd Order Taylor difference equation is given by\n",
        "\\begin{equation}  w_{i+1}=w_i+h\\left[f(t_i,w_i)+\\frac{h}{2}f'(t_i,w_i)\\right],\\end{equation}\n",
        "where\n",
        "\\begin{equation}  f(t_i,w_i)=t_iw_i-t_iw_i^2,\\end{equation}\n",
        "and\n",
        "\\begin{equation}  f'(t_i,w_i)=w_i+t_i(t_iw_i-t_iw_i^2)-w_i^2-t_i(2w_i(t_iw_i-t_iw_i^2)),\\end{equation}\n",
        "which gives\n",
        "\\begin{equation} w_{i+1}=w_i+h(t_iw_i-t_iw_i^2)+\\frac{h^2}{2}(w_i+t_i(t_iw_i-t_iw_i^2)-w_i^2-t_i(2w_i(t_iw_i-t_iw_i^2))),\\end{equation}\n",
        "\n",
        "for $i=0,1,2,3$\n",
        "with\n",
        "$w_0=0.5$\n",
        "\n"
      ]
    },
    {
      "cell_type": "code",
      "metadata": {
        "id": "PEFBfPCAwXqC"
      },
      "source": [
        "IC=0.5\n",
        "w=np.zeros(N+1)\n",
        "e=np.zeros(N+1)\n",
        "w[0]=IC\n",
        "\n",
        "#e[0]=IC\n",
        "for i in range (0,N):\n",
        "  #  e[i+1]=e[i]+h*(t[i]*e[i]-t[i]*e[i]*e[i])\n",
        "    w[i+1]=w[i]+h*(t[i]*w[i]-t[i]*w[i]*w[i])+h*h/2*(w[i]+t[i]*(t[i]*w[i]-t[i]*w[i]*w[i])-w[i]*w[i]-t[i]*(2*w[i]*(t[i]*w[i]-t[i]*w[i]*w[i])))"
      ],
      "execution_count": null,
      "outputs": []
    },
    {
      "cell_type": "code",
      "metadata": {
        "id": "gMaEg7tWwXqE",
        "outputId": "988dead6-8102-44ce-a1bf-936e72f37258"
      },
      "source": [
        "fig = plt.figure(figsize=(4,5))\n",
        "# --- left hand plot\n",
        "#ax = fig.add_subplot(1,4,1)\n",
        "plt.plot(t,w,'o:',color='k')\n",
        "plt.plot(t[0],w[0],'o',color='green')\n",
        "plt.plot(t,e,'o:',color='r')\n",
        "\n",
        "\n",
        "#ax.legend(loc='best')\n",
        "plt.title('Numerical Solution (w) h=%s'%(h))\n",
        "plt.show()\n"
      ],
      "execution_count": null,
      "outputs": [
        {
          "output_type": "display_data",
          "data": {
            "image/png": "[encoded data removed]",
            "text/plain": [
              "<Figure size 288x360 with 1 Axes>"
            ]
          },
          "metadata": {
            "tags": [],
            "needs_background": "light"
          }
        }
      ]
    },
    {
      "cell_type": "code",
      "metadata": {
        "id": "wOFTuhuQwXqL",
        "outputId": "52831746-b8c4-4714-e5a2-cb200a81aaea"
      },
      "source": [
        "\n",
        "d = {'time t_i': t,    'Euler (w_i) ':w,    'Taylor (w_i) ':y,    'Exact Error( |y_i-w_i|) ':np.abs(y-w)}\n",
        "df = pd.DataFrame(data=d)\n",
        "df"
      ],
      "execution_count": null,
      "outputs": [
        {
          "output_type": "execute_result",
          "data": {
            "text/html": [
              "<div>\n",
              "<style scoped>\n",
              "    .dataframe tbody tr th:only-of-type {\n",
              "        vertical-align: middle;\n",
              "    }\n",
              "\n",
              "    .dataframe tbody tr th {\n",
              "        vertical-align: top;\n",
              "    }\n",
              "\n",
              "    .dataframe thead th {\n",
              "        text-align: right;\n",
              "    }\n",
              "</style>\n",
              "<table border=\"1\" class=\"dataframe\">\n",
              "  <thead>\n",
              "    <tr style=\"text-align: right;\">\n",
              "      <th></th>\n",
              "      <th>time t_i</th>\n",
              "      <th>Euler (w_i)</th>\n",
              "      <th>Exact (y_i)</th>\n",
              "      <th>Exact Error( |y_i-w_i|)</th>\n",
              "      <th>Upper Bound</th>\n",
              "    </tr>\n",
              "  </thead>\n",
              "  <tbody>\n",
              "    <tr>\n",
              "      <th>0</th>\n",
              "      <td>0.0</td>\n",
              "      <td>2.000000</td>\n",
              "      <td>2.000000</td>\n",
              "      <td>0.000000</td>\n",
              "      <td>0.000000</td>\n",
              "    </tr>\n",
              "    <tr>\n",
              "      <th>1</th>\n",
              "      <td>0.5</td>\n",
              "      <td>3.145833</td>\n",
              "      <td>3.148721</td>\n",
              "      <td>0.002888</td>\n",
              "      <td>0.027030</td>\n",
              "    </tr>\n",
              "    <tr>\n",
              "      <th>2</th>\n",
              "      <td>1.0</td>\n",
              "      <td>4.708767</td>\n",
              "      <td>4.718282</td>\n",
              "      <td>0.009514</td>\n",
              "      <td>0.071595</td>\n",
              "    </tr>\n",
              "    <tr>\n",
              "      <th>3</th>\n",
              "      <td>1.5</td>\n",
              "      <td>6.958180</td>\n",
              "      <td>6.981689</td>\n",
              "      <td>0.023509</td>\n",
              "      <td>0.145070</td>\n",
              "    </tr>\n",
              "    <tr>\n",
              "      <th>4</th>\n",
              "      <td>2.0</td>\n",
              "      <td>10.337421</td>\n",
              "      <td>10.389056</td>\n",
              "      <td>0.051635</td>\n",
              "      <td>0.266211</td>\n",
              "    </tr>\n",
              "  </tbody>\n",
              "</table>\n",
              "</div>"
            ],
            "text/plain": [
              "   time t_i  Euler (w_i)   Exact (y_i)   Exact Error( |y_i-w_i|)   Upper Bound\n",
              "0       0.0      2.000000      2.000000                  0.000000     0.000000\n",
              "1       0.5      3.145833      3.148721                  0.002888     0.027030\n",
              "2       1.0      4.708767      4.718282                  0.009514     0.071595\n",
              "3       1.5      6.958180      6.981689                  0.023509     0.145070\n",
              "4       2.0     10.337421     10.389056                  0.051635     0.266211"
            ]
          },
          "metadata": {
            "tags": []
          },
          "execution_count": 7
        }
      ]
    },
    {
      "cell_type": "code",
      "metadata": {
        "id": "f2rmTfNowXqN"
      },
      "source": [
        ""
      ],
      "execution_count": null,
      "outputs": []
    }
  ]
}