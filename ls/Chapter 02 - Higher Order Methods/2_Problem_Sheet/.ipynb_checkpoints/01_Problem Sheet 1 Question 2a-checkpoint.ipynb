{
 "cells": [
  {
   "cell_type": "markdown",
   "metadata": {},
   "source": [
    "## Problem Sheet Question 2a\n",
    "\n",
    "The general form of the population growth differential equation\n",
    "$$ y^{'}=t-y, \\ \\ (0 \\leq t \\leq 4) $$\n",
    "with the initial condition\n",
    "$$y(0)=1$$\n",
    "For N=4\n",
    "with the analytic (exact) solution\n",
    "$$ y= 2e^{-t}+t+1$$\n",
    "\n",
    "# Euler Solution\n",
    "\n",
    "The Euler difference equation is\n",
    "$$ w_{i+1}=w_i+h(t_i-w_i) $$\n",
    "with the an error upper bound of\n",
    "$$ |y(t_i)-w_i|\\leq\\frac{Mh}{2L} |e^{Lt_i}-1| $$\n",
    "where\n",
    "$$|y''(t)|\\leq M $$\n",
    "$$y'=-2e^{-t}+1$$\n",
    "$$y''=2e^{-t}$$\n",
    "Therefore\n",
    "$$|y''(t)|\\leq 2e^{0}=2 $$\n",
    "$$M=2 $$\n",
    "The Lipschitz constant \n",
    "$$\\left| \\frac{\\partial f(t,y)}{\\partial t}\\right|\\leq L $$\n",
    "$$\\frac{\\partial f(t,y)}{\\partial t}=1$$\n",
    "$$L=1$$\n",
    "Giving\n",
    "$$ |y(t_i)-w_i|\\leq\\frac{2h}{2} |e^{t_i}-1| $$"
   ]
  },
  {
   "cell_type": "code",
   "execution_count": 2,
   "metadata": {},
   "outputs": [],
   "source": [
    "import numpy as np\n",
    "import math \n",
    "\n",
    "%matplotlib inline\n",
    "import matplotlib.pyplot as plt # side-stepping mpl backend\n",
    "import matplotlib.gridspec as gridspec # subplots\n",
    "import warnings\n",
    "\n",
    "warnings.filterwarnings(\"ignore\")\n",
    "\n",
    "\n"
   ]
  },
  {
   "cell_type": "code",
   "execution_count": 8,
   "metadata": {},
   "outputs": [],
   "source": [
    "def population_euler(N,IC):\n",
    "    x_end=4\n",
    "    x_start=0\n",
    "    INTITIAL_CONDITION=IC\n",
    "    h=x_end/(N)\n",
    "    N=N+1;\n",
    "    Numerical_Solution=np.zeros(N)\n",
    "    t=np.zeros(N)\n",
    "    Analytic_Solution=np.zeros(N)\n",
    "    Upper_bound=np.zeros(N)\n",
    "    \n",
    "    t[0]=x_start\n",
    "    Numerical_Solution[0]=INTITIAL_CONDITION\n",
    "\n",
    "    Analytic_Solution[0]=INTITIAL_CONDITION\n",
    "    for i in range (1,N):\n",
    "        Numerical_Solution[i]=Numerical_Solution[i-1]+h*(t[i-1]-Numerical_Solution[i-1])\n",
    "        t[i]=t[i-1]+h\n",
    "        Analytic_Solution[i]=2*math.exp(-t[i])+t[i]-1\n",
    "        Upper_bound[i]=2*h/(2*1)*(math.exp(t[i])-1)\n",
    "\n",
    "\n",
    "    fig = plt.figure(figsize=(10,4))\n",
    "    # --- left hand plot\n",
    "    ax = fig.add_subplot(1,4,1)\n",
    "    plt.plot(t,Numerical_Solution,color='red')\n",
    "    #ax.legend(loc='best')\n",
    "    plt.title('Numerical Solution h=%s'%(h))\n",
    "\n",
    "    # --- right hand plot\n",
    "    ax = fig.add_subplot(1,4,2)\n",
    "    plt.plot(t,Analytic_Solution,color='blue')\n",
    "    plt.title('Analytic Solution')\n",
    "\n",
    "    #ax.legend(loc='best')\n",
    "    ax = fig.add_subplot(1,4,3)\n",
    "    plt.plot(t,Analytic_Solution-Numerical_Solution,color='blue')\n",
    "    plt.title('Error')\n",
    "\n",
    "    # --- title, explanatory text and save\n",
    "    \n",
    "    \n",
    "    ax = fig.add_subplot(1,4,4)\n",
    "    plt.plot(t,Analytic_Solution-Numerical_Solution,color='blue')\n",
    "    plt.plot(t,Upper_bound,color='red')\n",
    "    plt.title('Upper Bound')\n",
    "\n",
    "    # --- title, explanatory text and save\n",
    "    fig.suptitle(r\"$y'=y-t$\", fontsize=20)\n",
    "    plt.tight_layout()\n",
    "    plt.subplots_adjust(top=0.85)    \n",
    "    print(\"t\")\n",
    "    print(t)\n",
    "    print(\"Analytic Solution\")\n",
    "    print(Analytic_Solution)\n",
    "    print(\"Numerical Solution\")\n",
    "    print(Numerical_Solution)\n",
    "        "
   ]
  },
  {
   "cell_type": "code",
   "execution_count": 7,
   "metadata": {
    "scrolled": false
   },
   "outputs": [
    {
     "name": "stdout",
     "output_type": "stream",
     "text": [
      "t\n",
      "[ 0.   0.5  1.   1.5  2.   2.5  3.   3.5  4. ]\n",
      "[ 1.          0.71306132  0.73575888  0.94626032  1.27067057  1.66417\n",
      "  2.09957414  2.56039477  3.03663128]\n",
      "[ 1.         0.5        0.5        0.75       1.125      1.5625     2.03125\n",
      "  2.515625   3.0078125]\n"
     ]
    },
    {
     "data": {
      "image/png": "[encoded data removed]",
      "text/plain": [
       "<matplotlib.figure.Figure at 0x7f822b4fe4e0>"
      ]
     },
     "metadata": {},
     "output_type": "display_data"
    }
   ],
   "source": [
    "# population_euler(h,Initial Condition)\n",
    "population_euler(8,1)"
   ]
  },
  {
   "cell_type": "code",
   "execution_count": null,
   "metadata": {
    "collapsed": true
   },
   "outputs": [],
   "source": []
  }
 ],
 "metadata": {
  "kernelspec": {
   "display_name": "Python 3",
   "language": "python",
   "name": "python3"
  },
  "language_info": {
   "codemirror_mode": {
    "name": "ipython",
    "version": 3
   },
   "file_extension": ".py",
   "mimetype": "text/x-python",
   "name": "python",
   "nbconvert_exporter": "python",
   "pygments_lexer": "ipython3",
   "version": "3.7.9"
  }
 },
 "nbformat": 4,
 "nbformat_minor": 1
}
