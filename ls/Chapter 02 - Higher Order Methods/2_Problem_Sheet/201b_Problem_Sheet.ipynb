{
  "nbformat": 4,
  "nbformat_minor": 0,
  "metadata": {
    "colab": {
      "name": "01_Problem Sheet 1 Question 2b.ipynb",
      "provenance": [],
      "include_colab_link": true
    },
    "kernelspec": {
      "display_name": "Python 3",
      "language": "python",
      "name": "python3"
    },
    "language_info": {
      "codemirror_mode": {
        "name": "ipython",
        "version": 3
      },
      "file_extension": ".py",
      "mimetype": "text/x-python",
      "name": "python",
      "nbconvert_exporter": "python",
      "pygments_lexer": "ipython3",
      "version": "3.7.9"
    }
  },
  "cells": [
    {
      "cell_type": "markdown",
      "metadata": {
        "id": "view-in-github",
        "colab_type": "text"
      },
      "source": [
        "<a href=\"https://colab.research.google.com/github/john-s-butler-dit/Numerical-Analysis-Python/blob/master/Chapter%2002%20-%20Higher%20Order%20Methods/2_Problem%20Sheet/02_PS%20Question%201b.ipynb\" target=\"_parent\"><img src=\"https://colab.research.google.com/assets/colab-badge.svg\" alt=\"Open In Colab\"/></a>"
      ]
    },
    {
      "cell_type": "markdown",
      "metadata": {
        "id": "HjUe8oJGwXp3"
      },
      "source": [
        "# Problem Sheet 2 Question 1b - 2nd Order Taylor\n",
        "\n",
        "The general form of the population growth differential equation\n",
        "\\begin{equation} y^{'}=y-t, \\ \\ (0 \\leq t \\leq 2) \\end{equation}\n",
        "with the initial condition\n",
        "\\begin{equation}y(0)=2.\\end{equation}\n",
        "For N=4\n",
        "with the analytic (exact) solution\n",
        "\\begin{equation} y= e^{t}+t+1.\\end{equation}\n",
        "\n",
        "Apply __2nd Order Taylor_ to approximate the solution of the given initial value problems using the indicated number of time steps. Compare the approximate solution with the given exact solution, and compare the actual error with the theoretical error."
      ]
    },
    {
      "cell_type": "code",
      "metadata": {
        "id": "i35ykQeWwXp5"
      },
      "source": [
        "## Library\n",
        "import numpy as np\n",
        "import math \n",
        "\n",
        "%matplotlib inline\n",
        "import matplotlib.pyplot as plt # side-stepping mpl backend\n",
        "import matplotlib.gridspec as gridspec # subplots\n",
        "import warnings\n",
        "import pandas as pd\n",
        "\n",
        "warnings.filterwarnings(\"ignore\")"
      ],
      "execution_count": 1,
      "outputs": []
    },
    {
      "cell_type": "markdown",
      "metadata": {
        "id": "LPD9UzWXwXp9"
      },
      "source": [
        "## General Discrete Interval\n",
        "The continuous time $a\\leq t \\leq b $ is discretised into $N$ points seperated by a constant stepsize\n",
        "\\begin{equation} h=\\frac{b-a}{N}.\\end{equation}\n",
        "## Specific Discrete Interval\n",
        "Here the interval is $0\\leq t \\leq 2$ with $N=4$ \n",
        "\\begin{equation} h=\\frac{2-0}{4}=0.5.\\end{equation}\n",
        "This gives the 5 discrete points with stepsize h=0.5:\n",
        "\\begin{equation} t_0=0, \\ t_1=0.5, \\ ... t_{4}=2. \\end{equation}\n",
        "This is generalised to \n",
        "\\begin{equation} t_i=0+i0.5, \\ \\ \\ i=0,1,...,4.\\end{equation}\n",
        "The plot below illustrates the discrete time steps from 0 to 2."
      ]
    },
    {
      "cell_type": "code",
      "metadata": {
        "id": "UuBME-W5wXp-",
        "outputId": "867a41e4-6de9-4afa-9dc8-ebc7b3e1bc6c",
        "colab": {
          "base_uri": "https://localhost:8080/",
          "height": 281
        }
      },
      "source": [
        "### Setting up time\n",
        "t_end=2\n",
        "t_start=0\n",
        "N=4\n",
        "h=(t_end-t_start)/(N)\n",
        "t=np.arange(t_start,t_end+0.01,h)\n",
        "fig = plt.figure(figsize=(10,4))\n",
        "plt.plot(t,0*t,'o:',color='red')\n",
        "plt.plot(t[0],0*t[0],'o',color='green')\n",
        "\n",
        "\n",
        "plt.title('Illustration of discrete time points for h=%s'%(h))\n",
        "plt.plot();"
      ],
      "execution_count": 2,
      "outputs": [
        {
          "output_type": "display_data",
          "data": {
            "image/png": "[encoded data removed]",
            "text/plain": [
              "<Figure size 720x288 with 1 Axes>"
            ]
          },
          "metadata": {
            "needs_background": "light"
          }
        }
      ]
    },
    {
      "cell_type": "markdown",
      "metadata": {
        "id": "OqTZ5VdPwXqB"
      },
      "source": [
        "## 2nd Order Taylor Solution\n",
        "The 2nd Order Taylor difference equation is given by\n",
        "\\begin{equation} w_{i+1}=w_i+h\\left[f(t_i,w_i)+\\frac{h}{2}f'(t_i,w_i)\\right],\\end{equation}\n",
        "where\n",
        "\\begin{equation} f(t_i,w_i)=w_i-t_i,\\end{equation}\n",
        "and\n",
        "\\begin{equation} f'(t_i,w_i)=w_i-t_i-1,\\end{equation}\n",
        "which gives\n",
        "\\begin{equation} w_{i+1}=w_i+h(w_i-t_i)+\\frac{h^2}{2}(w_i-t_i-1), \\end{equation}\n",
        "\n",
        "for $i=0,1,2,3$\n",
        "with\n",
        "$w_0=2.$\n",
        "\n"
      ]
    },
    {
      "cell_type": "code",
      "metadata": {
        "id": "PEFBfPCAwXqC"
      },
      "source": [
        "IC=2\n",
        "\n",
        "INTITIAL_CONDITION=IC\n",
        "w=np.zeros(N+1)\n",
        "w[0]=INTITIAL_CONDITION\n",
        "for i in range (0,N):\n",
        "    w[i+1]=w[i]+h*(w[i]-t[i])+h*h/2*(w[i]-t[i]-1)"
      ],
      "execution_count": 3,
      "outputs": []
    },
    {
      "cell_type": "code",
      "metadata": {
        "id": "gMaEg7tWwXqE"
      },
      "source": [
        "y=np.exp(t)+t+1 # Exact Solution"
      ],
      "execution_count": 4,
      "outputs": []
    },
    {
      "cell_type": "markdown",
      "metadata": {
        "id": "Eljg8py0wXqG"
      },
      "source": [
        "## Global Error\n",
        "The upper bound of the global error is:\n",
        "\\begin{equation} |y(t_i)-w_i|\\leq\\frac{Mh^2}{6}\\frac{1}{L} |e^{Lt_i}-1| \\end{equation}\n",
        "where\n",
        "$|y'''(t)|\\leq M $ for $t \\in (0,2)$ and $L$ is the Lipschitz constant.\n",
        "Generally we do not have access to $M$ or $L$, but as we have the exact solution we can find $M$ and $L$.\n",
        "### Local Error\n",
        "The global error consistent of an exponential term and the local error.\n",
        "The local error for the 2nd order Taylor method is\n",
        "\\begin{equation} |y(t_1)-w_1|<\\tau=\\frac{Mh^2}{6} $$\n",
        "\n",
        "by differentiation the exact solution \n",
        "\\begin{equation} y= e^{t}+t+1,\\end{equation}\n",
        "thrice\n",
        "\\begin{equation}y'= e^{t}+1,\\end{equation}\n",
        "\\begin{equation}y''=e^{t},\\end{equation}\n",
        "and\n",
        "\\begin{equation}y'''=e^{t}.\\end{equation}\n",
        "Then we choose the largest possible value of $y'''$ on the interval of interest $(0,2)$, which gives,\n",
        "\n",
        "\\begin{equation}|y''(t)|\\leq e^{2}=7.38<8, \\end{equation}\n",
        "therefore\n",
        "\\begin{equation}M=8.\\end{equation}\n",
        "This gives the local error\n",
        "\\begin{equation} |y(t_1)-w_1|<\\tau=\\frac{Mh^2}{6}=\\frac{8h^2}{6}.\\end{equation}\n",
        "### Lipschitz constant\n",
        "The Lipschitz constant $L$ is from the Lipschitz condition,\n",
        "\\begin{equation}\\left| \\frac{\\partial f(t,y)}{\\partial t}\\right|\\leq L. \\end{equation}\n",
        "The constant can be found by taking partical derivative of $f(t,y)=y-t$ with respect to $y$\n",
        "\\begin{equation}\\frac{\\partial f(t,y)}{\\partial y}=1,\\end{equation}\n",
        "\\begin{equation}L=1.\\end{equation}\n",
        "\n",
        "### Specific Global Upper Bound Formula\n",
        "Puting these values into the upper bound gives:\n",
        "\\begin{equation} |y(t_i)-w_i|\\leq\\frac{8h^2}{6} |e^{t_i}-1|. \\end{equation}"
      ]
    },
    {
      "cell_type": "code",
      "metadata": {
        "id": "X4VuMRpvwXqG"
      },
      "source": [
        "Upper_bound=8*h*h/(6*1)*(np.exp(t)-1) # Upper Bound"
      ],
      "execution_count": 5,
      "outputs": []
    },
    {
      "cell_type": "markdown",
      "metadata": {
        "id": "njPmcun1wXqI"
      },
      "source": [
        "## Results"
      ]
    },
    {
      "cell_type": "code",
      "metadata": {
        "id": "j1jcb-x6wXqI",
        "outputId": "c0655e11-b729-41e7-ff2d-326acaca1a8f",
        "colab": {
          "base_uri": "https://localhost:8080/",
          "height": 373
        }
      },
      "source": [
        "fig = plt.figure(figsize=(12,5))\n",
        "# --- left hand plot\n",
        "ax = fig.add_subplot(1,4,1)\n",
        "plt.plot(t,w,'o:',color='k')\n",
        "plt.plot(t[0],w[0],'o',color='green')\n",
        "\n",
        "#ax.legend(loc='best')\n",
        "plt.title('Numerical Solution (w) h=%s'%(h))\n",
        "\n",
        "# --- right hand plot\n",
        "ax = fig.add_subplot(1,4,2)\n",
        "plt.plot(t,y,color='blue')\n",
        "plt.title('Analytic Solution (y)')\n",
        "\n",
        "#ax.legend(loc='best')\n",
        "ax = fig.add_subplot(1,4,3)\n",
        "plt.plot(t,np.abs(w-y),'o:',color='red')\n",
        "plt.title('Exact Error |w-y|')\n",
        "\n",
        "# --- title, explanatory text and save\n",
        "\n",
        "\n",
        "ax = fig.add_subplot(1,4,4)\n",
        "plt.plot(t,np.abs(w-y),'o:',color='red')\n",
        "plt.plot(t,Upper_bound,color='purple')\n",
        "plt.title('Upper Bound')\n",
        "\n",
        "# --- title, explanatory text and save\n",
        "fig.suptitle(r\"$y'=y-t$\", fontsize=20)\n",
        "plt.tight_layout()\n",
        "plt.subplots_adjust(top=0.85)    "
      ],
      "execution_count": 6,
      "outputs": [
        {
          "output_type": "display_data",
          "data": {
            "image/png": "[encoded data removed]",
            "text/plain": [
              "<Figure size 864x360 with 4 Axes>"
            ]
          },
          "metadata": {
            "needs_background": "light"
          }
        }
      ]
    },
    {
      "cell_type": "code",
      "metadata": {
        "id": "wOFTuhuQwXqL",
        "outputId": "c069d2bf-05f5-4377-e95a-c12b4d50f715",
        "colab": {
          "base_uri": "https://localhost:8080/",
          "height": 203
        }
      },
      "source": [
        "\n",
        "d = {'time t_i': t,    'Euler (w_i) ':w,    'Exact (y_i) ':y,    'Exact Error( |y_i-w_i|) ':np.abs(y-w),'Upper Bound':Upper_bound}\n",
        "df = pd.DataFrame(data=d)\n",
        "df"
      ],
      "execution_count": 7,
      "outputs": [
        {
          "output_type": "execute_result",
          "data": {
            "text/html": [
              "<div>\n",
              "<style scoped>\n",
              "    .dataframe tbody tr th:only-of-type {\n",
              "        vertical-align: middle;\n",
              "    }\n",
              "\n",
              "    .dataframe tbody tr th {\n",
              "        vertical-align: top;\n",
              "    }\n",
              "\n",
              "    .dataframe thead th {\n",
              "        text-align: right;\n",
              "    }\n",
              "</style>\n",
              "<table border=\"1\" class=\"dataframe\">\n",
              "  <thead>\n",
              "    <tr style=\"text-align: right;\">\n",
              "      <th></th>\n",
              "      <th>time t_i</th>\n",
              "      <th>Euler (w_i)</th>\n",
              "      <th>Exact (y_i)</th>\n",
              "      <th>Exact Error( |y_i-w_i|)</th>\n",
              "      <th>Upper Bound</th>\n",
              "    </tr>\n",
              "  </thead>\n",
              "  <tbody>\n",
              "    <tr>\n",
              "      <th>0</th>\n",
              "      <td>0.0</td>\n",
              "      <td>2.000000</td>\n",
              "      <td>2.000000</td>\n",
              "      <td>0.000000</td>\n",
              "      <td>0.000000</td>\n",
              "    </tr>\n",
              "    <tr>\n",
              "      <th>1</th>\n",
              "      <td>0.5</td>\n",
              "      <td>3.125000</td>\n",
              "      <td>3.148721</td>\n",
              "      <td>0.023721</td>\n",
              "      <td>0.216240</td>\n",
              "    </tr>\n",
              "    <tr>\n",
              "      <th>2</th>\n",
              "      <td>1.0</td>\n",
              "      <td>4.640625</td>\n",
              "      <td>4.718282</td>\n",
              "      <td>0.077657</td>\n",
              "      <td>0.572761</td>\n",
              "    </tr>\n",
              "    <tr>\n",
              "      <th>3</th>\n",
              "      <td>1.5</td>\n",
              "      <td>6.791016</td>\n",
              "      <td>6.981689</td>\n",
              "      <td>0.190673</td>\n",
              "      <td>1.160563</td>\n",
              "    </tr>\n",
              "    <tr>\n",
              "      <th>4</th>\n",
              "      <td>2.0</td>\n",
              "      <td>9.972900</td>\n",
              "      <td>10.389056</td>\n",
              "      <td>0.416156</td>\n",
              "      <td>2.129685</td>\n",
              "    </tr>\n",
              "  </tbody>\n",
              "</table>\n",
              "</div>"
            ],
            "text/plain": [
              "   time t_i  Euler (w_i)   Exact (y_i)   Exact Error( |y_i-w_i|)   Upper Bound\n",
              "0       0.0      2.000000      2.000000                  0.000000     0.000000\n",
              "1       0.5      3.125000      3.148721                  0.023721     0.216240\n",
              "2       1.0      4.640625      4.718282                  0.077657     0.572761\n",
              "3       1.5      6.791016      6.981689                  0.190673     1.160563\n",
              "4       2.0      9.972900     10.389056                  0.416156     2.129685"
            ]
          },
          "metadata": {},
          "execution_count": 7
        }
      ]
    },
    {
      "cell_type": "code",
      "metadata": {
        "id": "f2rmTfNowXqN"
      },
      "source": [
        ""
      ],
      "execution_count": 7,
      "outputs": []
    }
  ]
}