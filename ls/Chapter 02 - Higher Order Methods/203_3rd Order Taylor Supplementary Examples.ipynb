{
  "nbformat": 4,
  "nbformat_minor": 0,
  "metadata": {
    "kernelspec": {
      "display_name": "Python 3",
      "language": "python",
      "name": "python3"
    },
    "language_info": {
      "codemirror_mode": {
        "name": "ipython",
        "version": 3
      },
      "file_extension": ".py",
      "mimetype": "text/x-python",
      "name": "python",
      "nbconvert_exporter": "python",
      "pygments_lexer": "ipython3",
      "version": "3.7.9"
    },
    "colab": {
      "name": "203_3rd Order Taylor Supplementary Examples.ipynb",
      "provenance": [],
      "include_colab_link": true
    }
  },
  "cells": [
    {
      "cell_type": "markdown",
      "metadata": {
        "id": "view-in-github",
        "colab_type": "text"
      },
      "source": [
        "<a href=\"https://colab.research.google.com/github/john-s-butler-dit/Numerical-Analysis-Python/blob/master/Chapter%2002%20-%20Higher%20Order%20Methods/203_3rd%20Order%20Taylor%20Supplementary%20Examples.ipynb\" target=\"_parent\"><img src=\"https://colab.research.google.com/assets/colab-badge.svg\" alt=\"Open In Colab\"/></a>"
      ]
    },
    {
      "cell_type": "markdown",
      "metadata": {
        "id": "7cYfSEEOOEoP"
      },
      "source": [
        "# Supplementary Examples - 3rd Order Taylor Method\n",
        "\n",
        "This notebook illustrates the 3rd order Taylor method using the initial value problem\n",
        " \\begin{equation} y^{'}=t-y, \\ \\ (1 \\leq t \\leq 3),  \\end{equation}\n",
        "with the initial condition\n",
        " \\begin{equation}y(1)=\\frac{2}{e} \\end{equation}\n",
        "\n",
        "\n",
        "\n",
        "### 3rd Order Taylor:\n",
        "The general form of the 3rd order Taylor is:\n",
        " \\begin{equation} w_{i+1}=w_i+h\\left[f(t_i,w_i)+\\frac{h}{2}f'(t_i,w_i)+\\frac{h^2}{6}f''(t_i,w_i)\\right] \\end{equation}"
      ]
    },
    {
      "cell_type": "markdown",
      "metadata": {
        "id": "kf1lNhbgOEoS"
      },
      "source": [
        "## Read in Libraries "
      ]
    },
    {
      "cell_type": "code",
      "metadata": {
        "id": "6sRcrxlqOEoT"
      },
      "source": [
        "import numpy as np\n",
        "import math \n",
        "\n",
        "%matplotlib inline\n",
        "import matplotlib.pyplot as plt # side-stepping mpl backend\n",
        "import matplotlib.gridspec as gridspec # subplots\n",
        "import warnings\n",
        "import pandas as pd\n",
        "warnings.filterwarnings(\"ignore\")\n"
      ],
      "execution_count": 2,
      "outputs": []
    },
    {
      "cell_type": "markdown",
      "metadata": {
        "id": "sPKKSnhzOEoU"
      },
      "source": [
        "## Setting up the discrete time axis\n",
        " \\begin{equation} h=\\frac{t_{end}-t_{start}}{N},  \\end{equation}\n",
        " \\begin{equation} h=\\frac{3-1}{10}=0.2, \\end{equation}\n",
        " \\begin{equation}t_i=t_0+ih, \\end{equation}\n",
        " \\begin{equation}t_i=0+0.2i, \\end{equation}\n",
        "for $i=0,1,2,...,5.$"
      ]
    },
    {
      "cell_type": "code",
      "metadata": {
        "id": "VRanXVlNOEoU",
        "outputId": "0b850d27-a4b2-4b1e-e800-41328bef87a6",
        "colab": {
          "base_uri": "https://localhost:8080/",
          "height": 298
        }
      },
      "source": [
        "N=10\n",
        "t_end=3.0\n",
        "t_start=1.0\n",
        "h=((t_end-t_start)/N)\n",
        "\n",
        "IC=2/np.exp(1)\n",
        "t=np.arange(t_start,t_end+h/2,h)\n",
        "fig = plt.figure(figsize=(10,4))\n",
        "plt.plot(t,0*t,'o:',color='red')\n",
        "plt.xlim((1,3))\n",
        "plt.title('Illustration of discrete time points for h=%s'%(h))"
      ],
      "execution_count": 3,
      "outputs": [
        {
          "output_type": "execute_result",
          "data": {
            "text/plain": [
              "Text(0.5, 1.0, 'Illustration of discrete time points for h=0.2')"
            ]
          },
          "metadata": {},
          "execution_count": 3
        },
        {
          "output_type": "display_data",
          "data": {
            "image/png": "[encoded data removed]",
            "text/plain": [
              "<Figure size 720x288 with 1 Axes>"
            ]
          },
          "metadata": {
            "needs_background": "light"
          }
        }
      ]
    },
    {
      "cell_type": "markdown",
      "metadata": {
        "id": "xSeD8VAIOEoW"
      },
      "source": [
        "## Specific 3rd Order Taylor\n",
        "To write the specific difference equation for the intial value problem we need derive $f$, $f'$ and $f''$,\n",
        "\n",
        " \\begin{equation}f(t,y)=t-y, \\end{equation}\n"
      ]
    },
    {
      "cell_type": "code",
      "metadata": {
        "id": "6oydpBmlOEoW"
      },
      "source": [
        "def myfun(t,w):\n",
        "    ftw=t-w\n",
        "    return ftw"
      ],
      "execution_count": 4,
      "outputs": []
    },
    {
      "cell_type": "markdown",
      "metadata": {
        "collapsed": true,
        "id": "uFtDeAfZOEoX"
      },
      "source": [
        " \\begin{equation}f'(t,y)=1-y'=1-t+y, \\end{equation}"
      ]
    },
    {
      "cell_type": "code",
      "metadata": {
        "id": "uFBGxot2OEoY"
      },
      "source": [
        "def myfund(t,w):\n",
        "    ftw=1-t+w\n",
        "    return ftw"
      ],
      "execution_count": 5,
      "outputs": []
    },
    {
      "cell_type": "markdown",
      "metadata": {
        "collapsed": true,
        "id": "4a3_pc8fOEoZ"
      },
      "source": [
        " \\begin{equation}f''(t,y)=-1+y'=-1+t-y \\end{equation}"
      ]
    },
    {
      "cell_type": "code",
      "metadata": {
        "id": "5ARHdQowOEoZ"
      },
      "source": [
        "def myfundd(t,w):\n",
        "    ftw=-1+t-w\n",
        "    return ftw"
      ],
      "execution_count": 6,
      "outputs": []
    },
    {
      "cell_type": "markdown",
      "metadata": {
        "id": "qdolwvi-OEoa"
      },
      "source": [
        "### Specific Difference equation\n",
        "This gives the difference equation\n",
        " \\begin{equation} w_{i+1}= w_{i} + h(t_i-w_i+\\frac{h}{2}(1-t_i+w_i)+\\frac{h^2}{6}(-1+t_i-w_i)). \\end{equation}\n"
      ]
    },
    {
      "cell_type": "markdown",
      "metadata": {
        "id": "7djhbYYsOEoa"
      },
      "source": [
        "## Method"
      ]
    },
    {
      "cell_type": "code",
      "metadata": {
        "id": "JQ6SLR07OEoa"
      },
      "source": [
        "Taylor=np.zeros(N+1)\n",
        "Taylor[0]=IC\n",
        "y=(2)*np.exp(-t)+t-1\n",
        "for i in range (0,N):\n",
        "    Taylor[i+1]=Taylor[i]+h*(myfun(t[i],Taylor[i])+h/2*myfund(t[i],Taylor[i])+h*h/6*myfundd(t[i],Taylor[i]))"
      ],
      "execution_count": 7,
      "outputs": []
    },
    {
      "cell_type": "markdown",
      "metadata": {
        "id": "fx50tQetOEob"
      },
      "source": [
        "## Results"
      ]
    },
    {
      "cell_type": "code",
      "metadata": {
        "id": "FnVttp2mOEob",
        "outputId": "0c7a517f-0e00-47b4-be81-18a2478a39fd",
        "colab": {
          "base_uri": "https://localhost:8080/",
          "height": 282
        }
      },
      "source": [
        "fig = plt.figure(figsize=(8,4))\n",
        "plt.plot(t,Taylor,'o:',color='purple',label='Taylor')\n",
        "plt.plot(t,y,'s:',color='black',label='Exact')\n",
        "plt.legend(loc='best')"
      ],
      "execution_count": 8,
      "outputs": [
        {
          "output_type": "execute_result",
          "data": {
            "text/plain": [
              "<matplotlib.legend.Legend at 0x7f67f4c0e3d0>"
            ]
          },
          "metadata": {},
          "execution_count": 8
        },
        {
          "output_type": "display_data",
          "data": {
            "image/png": "[encoded data removed]",
            "text/plain": [
              "<Figure size 576x288 with 1 Axes>"
            ]
          },
          "metadata": {
            "needs_background": "light"
          }
        }
      ]
    },
    {
      "cell_type": "markdown",
      "metadata": {
        "collapsed": true,
        "id": "lLjzzY4pOEob"
      },
      "source": [
        "## Table"
      ]
    },
    {
      "cell_type": "code",
      "metadata": {
        "id": "lzmAnLoCOEoc",
        "outputId": "7c1d3d40-889f-4855-b5fa-5212cfbd276f",
        "colab": {
          "base_uri": "https://localhost:8080/",
          "height": 357
        }
      },
      "source": [
        "\n",
        "d = {'time t_i': t[0:10],    'Taulor (w_i) ':Taylor[0:10],'Exact (y)':y[0:10],'Exact Error (|y-w|)':np.abs(np.round(y[0:10]-Taylor[0:10],5))}\n",
        "df = pd.DataFrame(data=d)\n",
        "df"
      ],
      "execution_count": 9,
      "outputs": [
        {
          "output_type": "execute_result",
          "data": {
            "text/html": [
              "<div>\n",
              "<style scoped>\n",
              "    .dataframe tbody tr th:only-of-type {\n",
              "        vertical-align: middle;\n",
              "    }\n",
              "\n",
              "    .dataframe tbody tr th {\n",
              "        vertical-align: top;\n",
              "    }\n",
              "\n",
              "    .dataframe thead th {\n",
              "        text-align: right;\n",
              "    }\n",
              "</style>\n",
              "<table border=\"1\" class=\"dataframe\">\n",
              "  <thead>\n",
              "    <tr style=\"text-align: right;\">\n",
              "      <th></th>\n",
              "      <th>time t_i</th>\n",
              "      <th>Taulor (w_i)</th>\n",
              "      <th>Exact (y)</th>\n",
              "      <th>Exact Error (|y-w|)</th>\n",
              "    </tr>\n",
              "  </thead>\n",
              "  <tbody>\n",
              "    <tr>\n",
              "      <th>0</th>\n",
              "      <td>1.0</td>\n",
              "      <td>0.735759</td>\n",
              "      <td>0.735759</td>\n",
              "      <td>0.00000</td>\n",
              "    </tr>\n",
              "    <tr>\n",
              "      <th>1</th>\n",
              "      <td>1.2</td>\n",
              "      <td>0.802341</td>\n",
              "      <td>0.802388</td>\n",
              "      <td>0.00005</td>\n",
              "    </tr>\n",
              "    <tr>\n",
              "      <th>2</th>\n",
              "      <td>1.4</td>\n",
              "      <td>0.893117</td>\n",
              "      <td>0.893194</td>\n",
              "      <td>0.00008</td>\n",
              "    </tr>\n",
              "    <tr>\n",
              "      <th>3</th>\n",
              "      <td>1.6</td>\n",
              "      <td>1.003698</td>\n",
              "      <td>1.003793</td>\n",
              "      <td>0.00009</td>\n",
              "    </tr>\n",
              "    <tr>\n",
              "      <th>4</th>\n",
              "      <td>1.8</td>\n",
              "      <td>1.130494</td>\n",
              "      <td>1.130598</td>\n",
              "      <td>0.00010</td>\n",
              "    </tr>\n",
              "    <tr>\n",
              "      <th>5</th>\n",
              "      <td>2.0</td>\n",
              "      <td>1.270565</td>\n",
              "      <td>1.270671</td>\n",
              "      <td>0.00011</td>\n",
              "    </tr>\n",
              "    <tr>\n",
              "      <th>6</th>\n",
              "      <td>2.2</td>\n",
              "      <td>1.421502</td>\n",
              "      <td>1.421606</td>\n",
              "      <td>0.00010</td>\n",
              "    </tr>\n",
              "    <tr>\n",
              "      <th>7</th>\n",
              "      <td>2.4</td>\n",
              "      <td>1.581337</td>\n",
              "      <td>1.581436</td>\n",
              "      <td>0.00010</td>\n",
              "    </tr>\n",
              "    <tr>\n",
              "      <th>8</th>\n",
              "      <td>2.6</td>\n",
              "      <td>1.748454</td>\n",
              "      <td>1.748547</td>\n",
              "      <td>0.00009</td>\n",
              "    </tr>\n",
              "    <tr>\n",
              "      <th>9</th>\n",
              "      <td>2.8</td>\n",
              "      <td>1.921534</td>\n",
              "      <td>1.921620</td>\n",
              "      <td>0.00009</td>\n",
              "    </tr>\n",
              "  </tbody>\n",
              "</table>\n",
              "</div>"
            ],
            "text/plain": [
              "   time t_i  Taulor (w_i)   Exact (y)  Exact Error (|y-w|)\n",
              "0       1.0       0.735759   0.735759              0.00000\n",
              "1       1.2       0.802341   0.802388              0.00005\n",
              "2       1.4       0.893117   0.893194              0.00008\n",
              "3       1.6       1.003698   1.003793              0.00009\n",
              "4       1.8       1.130494   1.130598              0.00010\n",
              "5       2.0       1.270565   1.270671              0.00011\n",
              "6       2.2       1.421502   1.421606              0.00010\n",
              "7       2.4       1.581337   1.581436              0.00010\n",
              "8       2.6       1.748454   1.748547              0.00009\n",
              "9       2.8       1.921534   1.921620              0.00009"
            ]
          },
          "metadata": {},
          "execution_count": 9
        }
      ]
    },
    {
      "cell_type": "code",
      "metadata": {
        "id": "wUEm7dtoOEoc"
      },
      "source": [
        ""
      ],
      "execution_count": 9,
      "outputs": []
    }
  ]
}