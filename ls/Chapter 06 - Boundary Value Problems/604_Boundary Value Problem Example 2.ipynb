{
  "nbformat": 4,
  "nbformat_minor": 0,
  "metadata": {
    "kernelspec": {
      "display_name": "Python 3",
      "language": "python",
      "name": "python3"
    },
    "language_info": {
      "codemirror_mode": {
        "name": "ipython",
        "version": 3
      },
      "file_extension": ".py",
      "mimetype": "text/x-python",
      "name": "python",
      "nbconvert_exporter": "python",
      "pygments_lexer": "ipython3",
      "version": "3.7.3"
    },
    "colab": {
      "name": "604_Boundary Value Problem Example 2.ipynb",
      "provenance": [],
      "include_colab_link": true
    }
  },
  "cells": [
    {
      "cell_type": "markdown",
      "metadata": {
        "id": "view-in-github",
        "colab_type": "text"
      },
      "source": [
        "<a href=\"https://colab.research.google.com/github/john-s-butler-dit/Numerical-Analysis-Python/blob/master/Chapter%2006%20-%20Boundary%20Value%20Problems/604_Boundary%20Value%20Problem%20Example%202.ipynb\" target=\"_parent\"><img src=\"https://colab.research.google.com/assets/colab-badge.svg\" alt=\"Open In Colab\"/></a>"
      ]
    },
    {
      "cell_type": "markdown",
      "metadata": {
        "id": "YcFC-LNyzHCa"
      },
      "source": [
        "# Finite Difference Method\n",
        "#### John S Butler john.s.butler@tudublin.ie   [Course Notes](https://johnsbutler.netlify.com/files/Teaching/Numerical_Analysis_for_Differential_Equations.pdf)    [Github](https://github.com/john-s-butler-dit/Numerical-Analysis-Python)\n",
        "\n",
        "## Overview\n",
        "This notebook illustrates the finite different method for a linear Boundary Value Problem.\n",
        "### Example 2 Boundary Value Problem\n",
        "To further illustrate the method we will apply the finite difference method to the this boundary value problem\n",
        "\\begin{equation}  \\frac{d^2 y}{dx^2} + 2x\\frac{dy}{dx}+y=3x^2,\\end{equation}\n",
        "with the boundary conditions\n",
        "\\begin{equation} y(0)=1,  y(1)=2. \\end{equation}\n"
      ]
    },
    {
      "cell_type": "code",
      "metadata": {
        "id": "Z-AVtF4GzHCe"
      },
      "source": [
        "import numpy as np\n",
        "import math\n",
        "import matplotlib.pyplot as plt\n"
      ],
      "execution_count": 1,
      "outputs": []
    },
    {
      "cell_type": "markdown",
      "metadata": {
        "id": "GRgxWLgVzHCg"
      },
      "source": [
        "## Discrete Axis\n",
        "The stepsize is defined as\n",
        "\\begin{equation}h=\\frac{b-a}{N}\\end{equation}\n",
        "here it is \n",
        "\\begin{equation}h=\\frac{1-0}{10}\\end{equation}\n",
        "giving \n",
        "\\begin{equation}x_i=0+0.1 i\\end{equation}\n",
        "for $i=0,1,...10.$"
      ]
    },
    {
      "cell_type": "code",
      "metadata": {
        "id": "Fmm-6dldzHCh",
        "outputId": "a8b8c678-0ac6-4b0c-9c02-43413d3c1473",
        "colab": {
          "base_uri": "https://localhost:8080/",
          "height": 315
        }
      },
      "source": [
        "## BVP\n",
        "N=10\n",
        "h=1/N\n",
        "x=np.linspace(0,1,N+1)\n",
        "fig = plt.figure(figsize=(10,4))\n",
        "plt.plot(x,0*x,'o:',color='red')\n",
        "plt.xlim((0,1))\n",
        "plt.xlabel('x',fontsize=16)\n",
        "plt.title('Illustration of discrete time points for h=%s'%(h),fontsize=32)\n",
        "plt.show()"
      ],
      "execution_count": 2,
      "outputs": [
        {
          "output_type": "display_data",
          "data": {
            "image/png": "[encoded data removed]",
            "text/plain": [
              "<Figure size 720x288 with 1 Axes>"
            ]
          },
          "metadata": {
            "needs_background": "light"
          }
        }
      ]
    },
    {
      "cell_type": "markdown",
      "metadata": {
        "id": "xVUcR9Y2zHCh"
      },
      "source": [
        "## The Difference Equation\n",
        "To convert the boundary problem into a difference equation we use 1st and 2nd order difference operators.\n",
        "\n",
        "The first derivative can be approximated by the difference operators:\n",
        "\\begin{equation}D^{+}U_{i}=\\frac{U_{i+1}-U_{i}}{h_{i+1}} \\ \\ \\ \\mbox{ Forward,} \\end{equation}\n",
        "\\begin{equation}D^{-}U_{i}=\\frac{U_{i}-U_{i-1}}{h_i} \\ \\ \\ \\mbox{ Backward,} \\end{equation}\n",
        "or\n",
        "\\begin{equation}D^{0}U_{i}=\\frac{U_{i+1}-U_{i-1}}{x_{i+1}-x_{i-1}} \\ \\ \\ \\mbox{ Centered.} \\end{equation}\n",
        "The second derivative can be approxiamed \n",
        "\\begin{equation}\\delta_x^{2}U_{i}=\\frac{2}{x_{i+1}-x_{i-1}}\\left(\\frac{U_{i+1}-U_{i}}{x_{i+1}-x_{i}}-\\frac{U_{i}-U_{i-1}}{x_{i}-x_{i-1}}\\right) \\ \\ \\ \\mbox{ Centered in $x$ direction} \\end{equation}"
      ]
    },
    {
      "cell_type": "markdown",
      "metadata": {
        "id": "xrfsYLYzzHCi"
      },
      "source": [
        "Given the differential equation\n",
        "\\begin{equation}  \\frac{d^2 y}{dx^2} + 2x\\frac{dy}{dx}+y=3x^2,\\end{equation}\n",
        "the difference equation is,\n",
        "\\begin{equation}\\frac{1}{h^2}\\left(y_{i-1}-2y_i+y_{i+1}\\right)+2x_i\\frac{y_{i+1}-y_{i-1}}{2h}+y_i=3x^2_i \\ \\ \\ i=1,..,N-1. \\end{equation}\n",
        "\n",
        "Rearranging the equation we have the system of N-1 equations\n",
        "\\begin{equation}i=1: (\\frac{1}{0.1^2}-\\frac{2x_1}{0.2})\\color{green}{y_{0}} -\\left(\\frac{2}{0.1^2}-1\\right)y_1 +(\\frac{1}{0.1^2}+\\frac{2x_1}{0.2}) y_{2}=3x_1^2\\end{equation}\n",
        "\\begin{equation}i=2: (\\frac{1}{0.1^2}-\\frac{2x_2}{0.2})y_{1} -\\left(\\frac{2}{0.1^2}-1\\right)y_2 +(\\frac{1}{0.1^2}+\\frac{2x_2}{0.2}) y_{3}=3x_2^2\\end{equation}\n",
        "\\begin{equation} ...\\end{equation}\n",
        "\\begin{equation}i=8: (\\frac{1}{0.1^2}-\\frac{2x_8}{0.2})y_{7} -\\left(\\frac{2}{0.1^2}-1\\right)y_8 +(\\frac{1}{0.1^2}+\\frac{2x_8}{0.2})y_{9}=3x_8^2\\end{equation}\n",
        "\\begin{equation}i=9: (\\frac{1}{0.1^2}-\\frac{2x_9}{0.2})y_{8} -\\left(\\frac{2}{0.1^2}-1\\right)y_9 +(\\frac{1}{0.1^2}+\\frac{2x_9}{0.2}) \\color{green}{y_{10}}=3x_9^2\\end{equation}\n",
        "where the green terms are the known boundary conditions.\n",
        "\n",
        "Rearranging the equation we have the system of 9 equations\n",
        "\\begin{equation}i=1:  -\\left(\\frac{2}{0.1^2}-1\\right)y_1 +(\\frac{1}{0.1^2}+\\frac{2x_1}{0.2})y_{2}=-(\\frac{1}{0.1^2}-\\frac{2x_1}{0.2})\\color{green}{y_{0}}+3x_1^2\\end{equation}\n",
        "\\begin{equation}i=2: (\\frac{1}{0.1^2}-\\frac{2x_2}{0.2})y_{1} -\\left(\\frac{2}{0.1^2}-1\\right)y_2 +(\\frac{1}{0.1^2}+\\frac{2x_2}{0.2}) y_{3}=3x_2^2\\end{equation}\n",
        "\\begin{equation} ...\\end{equation}\n",
        "\\begin{equation}i=8: (\\frac{1}{0.1^2}-\\frac{2x_8}{0.2})y_{7} -\\left(\\frac{2}{0.1^2}-1\\right)y_8 +(\\frac{1}{0.1^2}+\\frac{2x_8}{0.2}) y_{9}=3x_8^2\\end{equation}\n",
        "\\begin{equation}i=9: (\\frac{1}{0.1^2}-\\frac{2x_9}{0.2})y_{8} -\\left(\\frac{2}{0.1^2}-1\\right)y_9 =-(\\frac{1}{0.1^2}+\\frac{2x_9}{0.2}) \\color{green}{y_{10}}+3x_9^2\\end{equation}\n",
        "where the green terms are the known boundary conditions.\n",
        "This is system can be put into matrix form \n",
        "\\begin{equation}  A\\color{red}{\\mathbf{y}}=\\mathbf{b} \\end{equation}\n",
        "Where A is a $9\\times 9 $ matrix of the form\n",
        "\n",
        "which can be represented graphically as:"
      ]
    },
    {
      "cell_type": "code",
      "metadata": {
        "id": "9LLj2_c6zHCj",
        "outputId": "1d961608-227a-483b-83f3-9aef987b4c5c",
        "colab": {
          "base_uri": "https://localhost:8080/",
          "height": 297
        }
      },
      "source": [
        "A=np.zeros((N-1,N-1))\n",
        "# Diagonal\n",
        "for i in range (0,N-1):\n",
        "    A[i,i]=-(2/(h*h)-1) # Diagonal\n",
        "\n",
        "for i in range (0,N-2):           \n",
        "    A[i+1,i]=1/(h*h)-2*(i+1)*h/(2*h) ## Lower Diagonal\n",
        "    A[i,i+1]=1/(h*h)+2*(i+1)*h/(2*h) ## Upper Diagonal\n",
        "    \n",
        "plt.imshow(A)\n",
        "plt.xlabel('i',fontsize=16)\n",
        "plt.ylabel('j',fontsize=16)\n",
        "plt.yticks(np.arange(N-1), np.arange(1,N-0.9,1))\n",
        "plt.xticks(np.arange(N-1), np.arange(1,N-0.9,1))\n",
        "clb=plt.colorbar()\n",
        "clb.set_label('Matrix value')\n",
        "plt.title('Matrix A',fontsize=32)\n",
        "plt.tight_layout()\n",
        "plt.subplots_adjust()\n",
        "plt.show()"
      ],
      "execution_count": 3,
      "outputs": [
        {
          "output_type": "display_data",
          "data": {
            "image/png": "[encoded data removed]",
            "text/plain": [
              "<Figure size 432x288 with 2 Axes>"
            ]
          },
          "metadata": {
            "needs_background": "light"
          }
        }
      ]
    },
    {
      "cell_type": "markdown",
      "metadata": {
        "id": "IOGoOa35zHCk"
      },
      "source": [
        "$\\mathbf{y}$ is the unknown vector which is contains the numerical approximations of the $y$. \n",
        "\\begin{equation}\n",
        "\\color{red}{\\mathbf{y}}=\\color{red}{\n",
        "\\left(\\begin{array}{c} y_1\\\\\n",
        "y_2\\\\\n",
        "y_3\\\\\n",
        ".\\\\\n",
        ".\\\\\n",
        "y_8\\\\\n",
        "y_9\n",
        "\\end{array}\\right).}\n",
        "\\end{equation}"
      ]
    },
    {
      "cell_type": "code",
      "metadata": {
        "id": "imGFAqN4zHCk"
      },
      "source": [
        "y=np.zeros((N+1))\n",
        "# Boundary Condition\n",
        "y[0]=1\n",
        "y[N]=2"
      ],
      "execution_count": 4,
      "outputs": []
    },
    {
      "cell_type": "markdown",
      "metadata": {
        "id": "PlD_mMG6zHCl"
      },
      "source": [
        "and the known right hand side is a known $9\\times 1$ vector with the boundary conditions\n",
        "\\begin{equation}\n",
        "\\mathbf{b}=\\left(\\begin{array}{c}-99+3x_1^2\\\\\n",
        "3x_2^2\\\\\n",
        "3x_3^2\\\\\n",
        ".\\\\\n",
        ".\\\\\n",
        "3x_8^2\\\\\n",
        "-209+3x_9^2 \\end{array}\\right)\n",
        "\\end{equation}\n"
      ]
    },
    {
      "cell_type": "code",
      "metadata": {
        "id": "xvJAKYbKzHCm",
        "outputId": "26f32aaa-008e-4a3d-9331-9b064ee3a521",
        "colab": {
          "base_uri": "https://localhost:8080/"
        }
      },
      "source": [
        "b=np.zeros(N-1)\n",
        "for i in range (0,N-1):\n",
        "    b[i]=3*h*(i+1)*h*(i+1)\n",
        "# Boundary Condition\n",
        "b[0]=-y[0]*(1/(h*h)-2*1*h/(2*h))+b[0]\n",
        "b[N-2]=-y[N]*(1/(h*h)+2*9*h/(2*h))+b[N-2]\n",
        "print('b=')\n",
        "print(b)"
      ],
      "execution_count": 5,
      "outputs": [
        {
          "output_type": "stream",
          "name": "stdout",
          "text": [
            "b=\n",
            "[-9.8970e+01  1.2000e-01  2.7000e-01  4.8000e-01  7.5000e-01  1.0800e+00\n",
            "  1.4700e+00  1.9200e+00 -2.1557e+02]\n"
          ]
        }
      ]
    },
    {
      "cell_type": "markdown",
      "metadata": {
        "id": "PqkEWxHmzHCm"
      },
      "source": [
        "## Solving the system\n",
        "To solve invert the matrix $A$ such that \n",
        "\\begin{equation}A^{-1}Ay=A^{-1}b\\end{equation}\n",
        "\\begin{equation}y=A^{-1}b\\end{equation}\n",
        "The plot below shows the graphical representation of $A^{-1}$."
      ]
    },
    {
      "cell_type": "code",
      "metadata": {
        "id": "GmWj2LbJzHCm",
        "outputId": "3a61f449-c561-4acb-c000-debb9746cf5a",
        "colab": {
          "base_uri": "https://localhost:8080/",
          "height": 297
        }
      },
      "source": [
        "invA=np.linalg.inv(A)\n",
        "\n",
        "plt.imshow(invA)\n",
        "plt.xlabel('i',fontsize=16)\n",
        "plt.ylabel('j',fontsize=16)\n",
        "plt.yticks(np.arange(N-1), np.arange(1,N-0.9,1))\n",
        "plt.xticks(np.arange(N-1), np.arange(1,N-0.9,1))\n",
        "clb=plt.colorbar()\n",
        "clb.set_label('Matrix value')\n",
        "plt.title(r'Matrix $A^{-1}$',fontsize=32)\n",
        "plt.tight_layout()\n",
        "plt.subplots_adjust()\n",
        "plt.show()\n",
        "\n",
        "\n",
        "y[1:N]=np.dot(invA,b)"
      ],
      "execution_count": 6,
      "outputs": [
        {
          "output_type": "display_data",
          "data": {
            "image/png": "[encoded data removed]",
            "text/plain": [
              "<Figure size 432x288 with 2 Axes>"
            ]
          },
          "metadata": {
            "needs_background": "light"
          }
        }
      ]
    },
    {
      "cell_type": "markdown",
      "metadata": {
        "id": "tNaP_8KHzHCn"
      },
      "source": [
        "## Result \n",
        "The plot below shows the approximate solution of the Boundary Value Problem (blue v)."
      ]
    },
    {
      "cell_type": "code",
      "metadata": {
        "id": "cjjHauFqzHCn",
        "outputId": "2341c73d-216d-4f6d-a8a3-023f9319a4db",
        "colab": {
          "base_uri": "https://localhost:8080/",
          "height": 279
        }
      },
      "source": [
        "fig = plt.figure(figsize=(8,4))\n",
        "\n",
        "plt.plot(x,y,'v',label='Finite Difference')\n",
        "plt.xlabel('x')\n",
        "plt.ylabel('y')\n",
        "plt.legend(loc='best')\n",
        "plt.show()"
      ],
      "execution_count": 7,
      "outputs": [
        {
          "output_type": "display_data",
          "data": {
            "image/png": "[encoded data removed]",
            "text/plain": [
              "<Figure size 576x288 with 1 Axes>"
            ]
          },
          "metadata": {
            "needs_background": "light"
          }
        }
      ]
    }
  ]
}