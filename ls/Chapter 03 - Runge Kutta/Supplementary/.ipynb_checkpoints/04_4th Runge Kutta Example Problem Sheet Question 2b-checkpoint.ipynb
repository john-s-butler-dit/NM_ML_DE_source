{
 "cells": [
  {
   "cell_type": "markdown",
   "metadata": {},
   "source": [
    "## Problem Sheet Question 2b\n",
    "\n",
    "The general form of the population growth differential equation\n",
    "$$ y^{'}=y-t, \\ \\ (0 \\leq t \\leq 2) $$\n",
    "with the initial condition\n",
    "$$y(0)=2$$\n",
    "For N=4\n",
    "with the analytic (exact) solution\n",
    "$$ y= e^{t}+t+1$$\n",
    "\n",
    "# Runge Kutta Solution\n",
    "\n",
    "The Runge Kutta difference equation is\n",
    "$$w_{i+1} = w_{i} + \\frac{1}{6}(k_1+2k_2+2k_3+k_4) $$\n",
    "where\n",
    "$$k_1=h(w_i-t_i)$$\n",
    "$$k_2=h((w_i+\\frac{1}{2}k_1)-(t_i+\\frac{h}{2}))$$\n",
    "$$k_3=h((w_i+\\frac{1}{2}k_2)-(t_i+\\frac{h}{2}))$$\n",
    "$$k_4=h((w_i+k_3)-(t_i+h))$$"
   ]
  },
  {
   "cell_type": "code",
   "execution_count": 1,
   "metadata": {},
   "outputs": [],
   "source": [
    "import numpy as np\n",
    "import math \n",
    "%matplotlib inline\n",
    "import matplotlib.pyplot as plt # side-stepping mpl backend\n",
    "import matplotlib.gridspec as gridspec # subplots\n",
    "import pandas as pd\n",
    "\n",
    "import warnings\n",
    "#from ipywidgets import *\n"
   ]
  },
  {
   "cell_type": "code",
   "execution_count": 8,
   "metadata": {},
   "outputs": [],
   "source": [
    "def myfun_ty(t,y):\n",
    "    return y-t#+3*y\n",
    "\n",
    "\n",
    "\n",
    "#PLOTS\n",
    "def RK4_Question2(N,IC):\n",
    "\n",
    "    x_end=4\n",
    "    x_start=0\n",
    "    INTITIAL_CONDITION=IC\n",
    "    h=x_end/(N)\n",
    "    N=N+2;\n",
    "    k_list=np.zeros(N)\n",
    "    t=np.zeros(N)\n",
    "    w=np.zeros(N)\n",
    "    k_mat=np.zeros((4,N))\n",
    "    Analytic_Solution=np.zeros(N)\n",
    "    k=0\n",
    "    w[0]=INTITIAL_CONDITION\n",
    "    Analytic_Solution[0]=INTITIAL_CONDITION\n",
    "    t[0]=x_start\n",
    "    k_list[k]=k\n",
    "    for k in range (0,N-1):\n",
    "        k_mat[0,k]=myfun_ty(t[k],w[k])\n",
    "        k_mat[1,k]=myfun_ty(t[k]+h/2.0,w[k]+h/2.0*k_mat[0,k])\n",
    "        k_mat[2,k]=myfun_ty(t[k]+h/2.0,w[k]+h/2.0*k_mat[1,k])\n",
    "        k_mat[3,k]=myfun_ty(t[k]+h,w[k]+h*k_mat[2,k])\n",
    "        w[k+1]=w[k]+h/6.0*(k_mat[0,k]+2*k_mat[1,k]+2*k_mat[2,k]+k_mat[3,k])\n",
    "        t[k+1]=t[k]+h\n",
    "        k_list[k+1]=k+1\n",
    "        Analytic_Solution[k+1]=math.exp(t[k+1])+t[k+1]+1\n",
    "\n",
    "    fig = plt.figure(figsize=(10,4))\n",
    "    # --- left hand plot\n",
    "    ax = fig.add_subplot(1,3,1)\n",
    "    plt.plot(t,w,color='k')\n",
    "    #ax.legend(loc='best')\n",
    "    plt.title('Numerical Solution h=%s'%(h))\n",
    "\n",
    "    # --- right hand plot\n",
    "    ax = fig.add_subplot(1,3,2)\n",
    "    plt.plot(t,Analytic_Solution,'-.o',color='blue')\n",
    "    plt.title('Analytic Solution')\n",
    "\n",
    "    #ax.legend(loc='best')\n",
    "    ax = fig.add_subplot(1,3,3)\n",
    "    plt.plot(t,Analytic_Solution-w,':o',color='red')\n",
    "    plt.title('Error')\n",
    "\n",
    "    # --- title, explanatory text and save\n",
    "\n",
    "\n",
    "\n",
    "    # --- title, explanatory text and save\n",
    "    fig.suptitle(r\"$y'=y-t$\", fontsize=20)\n",
    "    plt.tight_layout()\n",
    "    plt.subplots_adjust(top=0.85)    "
   ]
  },
  {
   "cell_type": "code",
   "execution_count": 9,
   "metadata": {},
   "outputs": [
    {
     "data": {
      "image/png": "[encoded data removed]",
      "text/plain": [
       "<Figure size 720x288 with 3 Axes>"
      ]
     },
     "metadata": {
      "needs_background": "light"
     },
     "output_type": "display_data"
    }
   ],
   "source": [
    "RK4_Question2(4,2)"
   ]
  },
  {
   "cell_type": "code",
   "execution_count": null,
   "metadata": {},
   "outputs": [],
   "source": []
  }
 ],
 "metadata": {
  "kernelspec": {
   "display_name": "Python 3",
   "language": "python",
   "name": "python3"
  },
  "language_info": {
   "codemirror_mode": {
    "name": "ipython",
    "version": 3
   },
   "file_extension": ".py",
   "mimetype": "text/x-python",
   "name": "python",
   "nbconvert_exporter": "python",
   "pygments_lexer": "ipython3",
   "version": "3.7.9"
  }
 },
 "nbformat": 4,
 "nbformat_minor": 1
}
