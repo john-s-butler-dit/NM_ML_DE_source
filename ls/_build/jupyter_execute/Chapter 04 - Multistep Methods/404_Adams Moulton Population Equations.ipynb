{
 "cells": [
  {
   "cell_type": "markdown",
   "metadata": {
    "colab_type": "text",
    "id": "view-in-github"
   },
   "source": [
    "<a href=\"https://colab.research.google.com/github/john-s-butler-dit/Numerical-Analysis-Python/blob/master/Chapter%2004%20-%20Multistep%20Methods/404_Adams%20Moulton%20Population%20Equations.ipynb\" target=\"_parent\"><img src=\"https://colab.research.google.com/assets/colab-badge.svg\" alt=\"Open In Colab\"/></a>"
   ]
  },
  {
   "cell_type": "markdown",
   "metadata": {
    "id": "IQ0ChSSbaNrx"
   },
   "source": [
    "# 1 Step Adams Moulton \n",
    "#### John S Butler \n",
    "john.s.butler@tudublin.ie  \n",
    "[Course Notes](https://johnsbutler.netlify.com/files/Teaching/Numerical_Analysis_for_Differential_Equations.pdf)    [Github](https://github.com/john-s-butler-dit/Numerical-Analysis-Python)\n",
    "\n",
    "\n",
    "This notebook implements the 1 step Adams Moulton method for three different population intial value problems.\n",
    "\n",
    "# Formula\n",
    "The general 1 step Adams-Moulton method for the first order differential equation\n",
    "\\begin{equation} y^{'} = f(t,y) \\end{equation}\n",
    "numerical approximates $y$ the at time point $t_i$ as $w_i$\n",
    "with the  formula:\n",
    "\\begin{equation} w_{i+1}=w_i+\\frac{h}{2}\\big[f(t_{i+1},w_{i+1})+f(t_{i},w_{i})\\big],\\end{equation}\n",
    "for $i=0,...,N-1$, where \n",
    "\n",
    "and $h$ is the stepsize.\n",
    "\n",
    "To illustrate the method we will apply it to three intial value problems:\n",
    "## 1. Linear \n",
    "Consider the linear population Differential Equation\n",
    "\\begin{equation} y^{'}=0.1y, \\ \\ (2000 \\leq t \\leq 2020), \\end{equation}\n",
    "with the initial condition,\n",
    "\\begin{equation}y(2000)=6.\\end{equation}\n",
    "\n",
    "## 2. Non-Linear Population Equation \n",
    "Consider the non-linear population Differential Equation\n",
    "\\begin{equation} y^{'}=0.2y-0.01y^2, \\ \\ (2000 \\leq t \\leq 2020), \\end{equation}\n",
    "with the initial condition,\n",
    "\\begin{equation}y(2000)=6.\\end{equation}\n",
    "\n",
    "## 3. Non-Linear Population Equation with an oscillation \n",
    "Consider the non-linear population Differential Equation with an oscillation \n",
    "\\begin{equation} y^{'}=0.2y-0.01y^2+\\sin(2\\pi t), \\ \\ (2000 \\leq t \\leq 2020), \\end{equation}\n",
    "with the initial condition,\n",
    "\\begin{equation}y(2000)=6.\\end{equation}"
   ]
  },
  {
   "cell_type": "markdown",
   "metadata": {
    "id": "MbCSlQAWaNrz"
   },
   "source": [
    "#### Setting up Libraries"
   ]
  },
  {
   "cell_type": "code",
   "execution_count": 1,
   "metadata": {
    "id": "Q0JdHlleaNr0"
   },
   "outputs": [],
   "source": [
    "## Library\n",
    "import numpy as np\n",
    "import math \n",
    "import pandas as pd\n",
    "%matplotlib inline\n",
    "import matplotlib.pyplot as plt # side-stepping mpl backend\n",
    "import matplotlib.gridspec as gridspec # subplots\n",
    "import warnings\n",
    "\n",
    "warnings.filterwarnings(\"ignore\")"
   ]
  },
  {
   "cell_type": "markdown",
   "metadata": {
    "id": "aGTqySR_aNr5"
   },
   "source": [
    "## Discrete Interval\n",
    "The continuous time $a\\leq t \\leq b $ is discretised into $N$ points seperated by a constant stepsize\n",
    "\\begin{equation} h=\\frac{b-a}{N}.\\end{equation}\n",
    "Here the interval is $2000\\leq t \\leq 2020,$ \n",
    "\\begin{equation} h=\\frac{2020-2000}{200}=0.1.\\end{equation}\n",
    "This gives the 201 discrete points:\n",
    "\\begin{equation} t_0=2000, \\ t_1=2000.1, \\ ... t_{200}=2020. \\end{equation}\n",
    "This is generalised to \n",
    "\\begin{equation} t_i=2000+i0.1, \\ \\ \\ i=0,1,...,200.\\end{equation}\n",
    "The plot below shows the discrete time steps:"
   ]
  },
  {
   "cell_type": "code",
   "execution_count": 2,
   "metadata": {
    "colab": {
     "base_uri": "https://localhost:8080/",
     "height": 298
    },
    "id": "d2tHHW71aNr6",
    "outputId": "9fbebd76-bb3a-47d0-ef77-280d9880078d"
   },
   "outputs": [
    {
     "data": {
      "image/png": "[encoded data removed]",
      "text/plain": [
       "<Figure size 1000x400 with 1 Axes>"
      ]
     },
     "metadata": {},
     "output_type": "display_data"
    },
    {
     "data": {
      "text/plain": [
       "21"
      ]
     },
     "execution_count": 2,
     "metadata": {},
     "output_type": "execute_result"
    }
   ],
   "source": [
    "### DISCRETE TIME\n",
    "N=20\n",
    "t_end=2020.0\n",
    "t_start=2000.0\n",
    "h=((t_end-t_start)/N)\n",
    "t=np.arange(t_start,t_end+h/2,h)\n",
    "\n",
    "## PLOTS TIME\n",
    "fig = plt.figure(figsize=(10,4))\n",
    "plt.plot(t,0*t,'o:',color='red')\n",
    "plt.title('Illustration of discrete time points for h=%s'%(h))\n",
    "plt.show()\n",
    "len(t)"
   ]
  },
  {
   "cell_type": "markdown",
   "metadata": {
    "id": "abgucirkaNr_"
   },
   "source": [
    "# 1. Linear Population Equation\n",
    "## Exact Solution \n",
    "The linear population equation\n",
    "\\begin{equation} y^{'}=0.1y, \\ \\ (2000 \\leq t \\leq 2020), \\end{equation}\n",
    "with the initial condition,\n",
    "\\begin{equation}y(2000)=6.\\end{equation}\n",
    "has a known exact (analytic) solution\n",
    "\\begin{equation} y(t)=6e^{0.1(t-2000)}. \\end{equation}\n",
    "\n",
    "## Specific 1 step Adams Moulton\n",
    "The specific 1 step Adams Moulton for the linear population equation is:\n",
    "\n",
    "\\begin{equation}w_{i+1}=w_{i}+\\frac{h}{2}\\big[0.1w_{i+1}+0.1w_i\\big] \\end{equation}\n",
    "where\n",
    "\\begin{equation}f(t,y)=0.1y,\\end{equation}"
   ]
  },
  {
   "cell_type": "code",
   "execution_count": 3,
   "metadata": {
    "id": "lIE-s-9waNr_"
   },
   "outputs": [],
   "source": [
    "## THIS IS THE RIGHT HANDSIDE OF THE LINEAR POPULATION DIFFERENTIAL \n",
    "## EQUATION\n",
    "def linfun(t,w):\n",
    "    ftw=0.1*w\n",
    "    return ftw"
   ]
  },
  {
   "cell_type": "markdown",
   "metadata": {
    "id": "qF6HlpZkaNsC"
   },
   "source": [
    "re-arranging,\n",
    "\\begin{equation} \\big(1-\\frac{h}{2}(0.1)\\big)w_{i+1}=w_i+\\frac{h}{2}\\big[0.1w_i\\big], \\end{equation}\n",
    "\\begin{equation} w_{i+1}=\\frac{w_i+\\frac{h}{2}\\big[0.1w_i\\big]}{\\big(1-\\frac{h}{2}(0.1)\\big)}. \\end{equation}\n",
    "\n",
    "\n"
   ]
  },
  {
   "cell_type": "code",
   "execution_count": 4,
   "metadata": {
    "id": "jQ9OlazEaNsC"
   },
   "outputs": [],
   "source": [
    "### INSERT METHOD HERE\n",
    "w=np.zeros(N+1) # a list of 2000+1 zeros\n",
    "w[0]=6 # INITIAL CONDITION\n",
    "for i in range(0,N):\n",
    "    w[i+1]=(w[i]+h/2*(linfun(t[i],w[i])))/(1-0.1*h/2)\n"
   ]
  },
  {
   "cell_type": "markdown",
   "metadata": {
    "id": "MKgWSbCqaNsF"
   },
   "source": [
    "## Plotting Results"
   ]
  },
  {
   "cell_type": "code",
   "execution_count": 5,
   "metadata": {
    "colab": {
     "base_uri": "https://localhost:8080/",
     "height": 265
    },
    "id": "L1QOQynmaNsF",
    "outputId": "9c7eb91d-1f95-4dc0-98f6-b9db6754f8cc"
   },
   "outputs": [
    {
     "data": {
      "image/png": "[encoded data removed]",
      "text/plain": [
       "<Figure size 800x400 with 1 Axes>"
      ]
     },
     "metadata": {},
     "output_type": "display_data"
    }
   ],
   "source": [
    "## PLOTTING METHOD\n",
    "y=6*np.exp(0.1*(t-2000)) # EXACT SOLUTION\n",
    "fig = plt.figure(figsize=(8,4))\n",
    "plt.plot(t,w,'o:',color='purple',label='Taylor')\n",
    "plt.plot(t,y,'s:',color='black',label='Exact')\n",
    "plt.legend(loc='best')\n",
    "plt.show()"
   ]
  },
  {
   "cell_type": "markdown",
   "metadata": {
    "id": "yy6dTDYzaNsH"
   },
   "source": [
    "## Table\n",
    "The table below shows the time, the numerical approximation, $w$,  the exact solution, $y$, and the exact error $|y(t_i)-w_i|$ for the linear population equation:"
   ]
  },
  {
   "cell_type": "code",
   "execution_count": 6,
   "metadata": {
    "colab": {
     "base_uri": "https://localhost:8080/",
     "height": 696
    },
    "id": "p7yyNPz5aNsH",
    "outputId": "7f497f2d-3ada-4b23-8347-735a7fb6bee9"
   },
   "outputs": [
    {
     "data": {
      "text/html": [
       "<div>\n",
       "<style scoped>\n",
       "    .dataframe tbody tr th:only-of-type {\n",
       "        vertical-align: middle;\n",
       "    }\n",
       "\n",
       "    .dataframe tbody tr th {\n",
       "        vertical-align: top;\n",
       "    }\n",
       "\n",
       "    .dataframe thead th {\n",
       "        text-align: right;\n",
       "    }\n",
       "</style>\n",
       "<table border=\"1\" class=\"dataframe\">\n",
       "  <thead>\n",
       "    <tr style=\"text-align: right;\">\n",
       "      <th></th>\n",
       "      <th>time t_i</th>\n",
       "      <th>Adams Approx w</th>\n",
       "    </tr>\n",
       "  </thead>\n",
       "  <tbody>\n",
       "    <tr>\n",
       "      <th>0</th>\n",
       "      <td>2000.0</td>\n",
       "      <td>6.000000</td>\n",
       "    </tr>\n",
       "    <tr>\n",
       "      <th>1</th>\n",
       "      <td>2001.0</td>\n",
       "      <td>6.631579</td>\n",
       "    </tr>\n",
       "    <tr>\n",
       "      <th>2</th>\n",
       "      <td>2002.0</td>\n",
       "      <td>7.329640</td>\n",
       "    </tr>\n",
       "    <tr>\n",
       "      <th>3</th>\n",
       "      <td>2003.0</td>\n",
       "      <td>8.101181</td>\n",
       "    </tr>\n",
       "    <tr>\n",
       "      <th>4</th>\n",
       "      <td>2004.0</td>\n",
       "      <td>8.953937</td>\n",
       "    </tr>\n",
       "    <tr>\n",
       "      <th>5</th>\n",
       "      <td>2005.0</td>\n",
       "      <td>9.896456</td>\n",
       "    </tr>\n",
       "    <tr>\n",
       "      <th>6</th>\n",
       "      <td>2006.0</td>\n",
       "      <td>10.938189</td>\n",
       "    </tr>\n",
       "    <tr>\n",
       "      <th>7</th>\n",
       "      <td>2007.0</td>\n",
       "      <td>12.089577</td>\n",
       "    </tr>\n",
       "    <tr>\n",
       "      <th>8</th>\n",
       "      <td>2008.0</td>\n",
       "      <td>13.362164</td>\n",
       "    </tr>\n",
       "    <tr>\n",
       "      <th>9</th>\n",
       "      <td>2009.0</td>\n",
       "      <td>14.768708</td>\n",
       "    </tr>\n",
       "    <tr>\n",
       "      <th>10</th>\n",
       "      <td>2010.0</td>\n",
       "      <td>16.323308</td>\n",
       "    </tr>\n",
       "    <tr>\n",
       "      <th>11</th>\n",
       "      <td>2011.0</td>\n",
       "      <td>18.041551</td>\n",
       "    </tr>\n",
       "    <tr>\n",
       "      <th>12</th>\n",
       "      <td>2012.0</td>\n",
       "      <td>19.940662</td>\n",
       "    </tr>\n",
       "    <tr>\n",
       "      <th>13</th>\n",
       "      <td>2013.0</td>\n",
       "      <td>22.039679</td>\n",
       "    </tr>\n",
       "    <tr>\n",
       "      <th>14</th>\n",
       "      <td>2014.0</td>\n",
       "      <td>24.359645</td>\n",
       "    </tr>\n",
       "    <tr>\n",
       "      <th>15</th>\n",
       "      <td>2015.0</td>\n",
       "      <td>26.923819</td>\n",
       "    </tr>\n",
       "    <tr>\n",
       "      <th>16</th>\n",
       "      <td>2016.0</td>\n",
       "      <td>29.757905</td>\n",
       "    </tr>\n",
       "    <tr>\n",
       "      <th>17</th>\n",
       "      <td>2017.0</td>\n",
       "      <td>32.890316</td>\n",
       "    </tr>\n",
       "    <tr>\n",
       "      <th>18</th>\n",
       "      <td>2018.0</td>\n",
       "      <td>36.352454</td>\n",
       "    </tr>\n",
       "    <tr>\n",
       "      <th>19</th>\n",
       "      <td>2019.0</td>\n",
       "      <td>40.179029</td>\n",
       "    </tr>\n",
       "    <tr>\n",
       "      <th>20</th>\n",
       "      <td>2020.0</td>\n",
       "      <td>44.408400</td>\n",
       "    </tr>\n",
       "  </tbody>\n",
       "</table>\n",
       "</div>"
      ],
      "text/plain": [
       "    time t_i  Adams Approx w\n",
       "0     2000.0        6.000000\n",
       "1     2001.0        6.631579\n",
       "2     2002.0        7.329640\n",
       "3     2003.0        8.101181\n",
       "4     2004.0        8.953937\n",
       "5     2005.0        9.896456\n",
       "6     2006.0       10.938189\n",
       "7     2007.0       12.089577\n",
       "8     2008.0       13.362164\n",
       "9     2009.0       14.768708\n",
       "10    2010.0       16.323308\n",
       "11    2011.0       18.041551\n",
       "12    2012.0       19.940662\n",
       "13    2013.0       22.039679\n",
       "14    2014.0       24.359645\n",
       "15    2015.0       26.923819\n",
       "16    2016.0       29.757905\n",
       "17    2017.0       32.890316\n",
       "18    2018.0       36.352454\n",
       "19    2019.0       40.179029\n",
       "20    2020.0       44.408400"
      ]
     },
     "execution_count": 6,
     "metadata": {},
     "output_type": "execute_result"
    }
   ],
   "source": [
    "d = {'time t_i': t, 'Adams Approx w': w}\n",
    "df = pd.DataFrame(data=d)\n",
    "df"
   ]
  },
  {
   "cell_type": "markdown",
   "metadata": {
    "id": "lVBAzaNUaNsJ"
   },
   "source": [
    "## 2. Non-Linear Population Equation \n",
    "\\begin{equation} y^{'}=0.2y-0.01y^2, \\ \\ (2000 \\leq t \\leq 2020), \\end{equation}\n",
    "with the initial condition,\n",
    "\\begin{equation}y(2000)=6.\\end{equation}\n",
    "## Specific 1 step Adams-Moutlon method for the Non-Linear Population Equation\n",
    "The specific Adams-Moulton difference equation for the non-linear population equations is:\n",
    "\n",
    "\\begin{equation}w_{i+1}=w_{i}+\\frac{h}{2}\\big[ 0.2 w_{i+1}-0.01 w_{i+1}^2 \n",
    "                                + 0.2 w_i-0.01 w_i^2\\big] \\end{equation}\n",
    "re-arranging \n",
    "\\begin{equation}w_{i+1}-\\frac{h}{2}\\big( 0.2 w_{i+1}-0.01 w_{i+1}^2 \\big)=w_{i}+\\frac{h}{2}\n",
    "                                \\big[ 0.2 w_i-0.01 w_i^2\\big] \\end{equation}\n",
    "\n",
    "\n",
    "for $i=0,...,199$, where $w_i$ is the numerical approximation of $y$ at time $t_i$, with step size $h$ and the initial condition\n",
    "\\begin{equation}w_0=6.\\end{equation}\n",
    "\n",
    "PROBLEM WE CANNOT MOVE THE SQUARED (NON-LINEAR TERM) TO THE RIGHT HAND SIDE SO WE CAN SOLVE FOR w[i+1].\n",
    "For this reason we will use a predictor-corrector method,\n",
    "The predictor will be the 2-step Adams Bashforth\n",
    "\\begin{equation} w_{i+1}^{p}=w_{i}+\\frac{h}{2}\\big[ 3(0.2 w_{i}-0.01 w_{i}^2) \n",
    "                                - (0.2 w_{i-1}-0.01 w_{i-1}^2) \\big], \\end{equation}\n",
    "with the corrector being the 1-step Adams Moulton,\n",
    "\\begin{equation}w_{i+1}=w_{i}+\\frac{h}{2}\\big[ 0.2 w_{i+1}^p-0.01 (w^p_{i+1})^2 \n",
    "                                + 0.2 w_i-0.01 w_i^2\\big], \\end{equation}      \n",
    "for i=1,...200.\n",
    "                                "
   ]
  },
  {
   "cell_type": "code",
   "execution_count": 7,
   "metadata": {
    "id": "PrdceKjEaNsK"
   },
   "outputs": [],
   "source": [
    "def nonlinfun(t,w):\n",
    "    ftw=0.2*w-0.01*w*w\n",
    "    return ftw"
   ]
  },
  {
   "cell_type": "code",
   "execution_count": 8,
   "metadata": {
    "id": "hqsDwk9NaNsL"
   },
   "outputs": [],
   "source": [
    "### INSERT METHOD HERE\n",
    "w=np.zeros(N+1)\n",
    "w_p=np.zeros(N+1)\n",
    "w[0]=6\n",
    "w[1]=6.084 # FROM THE THE TAYLOR METHOD\n",
    "w_p[0]=6\n",
    "w_p[1]=6.084 # FROM THE THE TAYLOR METHOD\n",
    "for n in range(1,N):\n",
    "    ## Predictor\n",
    "    w_p[n+1]=w[n]+h/2*(3*nonlinfun(t[n],w[n])-\n",
    "                       nonlinfun(t[n-1],w[n-1]))\n",
    "    ## Corrector\n",
    "    w[n+1]=w[n]+h/2*(nonlinfun(t[n+1],w_p[n+1])+\n",
    "                       nonlinfun(t[n],w[n]))"
   ]
  },
  {
   "cell_type": "markdown",
   "metadata": {
    "id": "521f5f84aNsN"
   },
   "source": [
    "## Results\n",
    "The plot below shows the numerical approximation, $w$ (circles) for the non-linear population equation:"
   ]
  },
  {
   "cell_type": "code",
   "execution_count": 9,
   "metadata": {
    "colab": {
     "base_uri": "https://localhost:8080/",
     "height": 573
    },
    "id": "k3RZpNFoaNsN",
    "outputId": "f91568f1-6395-4817-a698-22a86b090ee4"
   },
   "outputs": [
    {
     "data": {
      "image/png": "[encoded data removed]",
      "text/plain": [
       "<Figure size 800x400 with 1 Axes>"
      ]
     },
     "metadata": {},
     "output_type": "display_data"
    },
    {
     "data": {
      "image/png": "[encoded data removed]",
      "text/plain": [
       "<Figure size 800x400 with 1 Axes>"
      ]
     },
     "metadata": {},
     "output_type": "display_data"
    }
   ],
   "source": [
    "fig = plt.figure(figsize=(8,4))\n",
    "plt.plot(t,w,'-.',color='purple',label='Correcter ')\n",
    "plt.plot(t,w_p,':',color='red',label='Predictor ')\n",
    "\n",
    "plt.title('Non Linear Population Equation')\n",
    "plt.legend(loc='best')\n",
    "plt.xlabel('time (yrs)')\n",
    "plt.ylabel('Population in billions')\n",
    "plt.show()\n",
    "\n",
    "fig = plt.figure(figsize=(8,4))\n",
    "plt.plot(t,np.abs(w-w_p),':',color='purple',label='|w-w_p| ')\n",
    "plt.title('Comparison of Predictor and Corrector')\n",
    "plt.legend(loc='best')\n",
    "plt.xlabel('time (yrs)')\n",
    "plt.ylabel('Population in billions')\n",
    "plt.show()\n",
    "\n"
   ]
  },
  {
   "cell_type": "markdown",
   "metadata": {
    "id": "CyVtTwoEaNsO"
   },
   "source": [
    "## Table\n",
    "The table below shows the time and the numerical approximation, $w$,  for the non-linear population equation:"
   ]
  },
  {
   "cell_type": "code",
   "execution_count": 10,
   "metadata": {
    "colab": {
     "base_uri": "https://localhost:8080/",
     "height": 696
    },
    "id": "GRZvMBrxaNsP",
    "outputId": "c8cf8330-e410-4e11-f6ce-6a7a04d4a09f"
   },
   "outputs": [
    {
     "data": {
      "text/html": [
       "<div>\n",
       "<style scoped>\n",
       "    .dataframe tbody tr th:only-of-type {\n",
       "        vertical-align: middle;\n",
       "    }\n",
       "\n",
       "    .dataframe tbody tr th {\n",
       "        vertical-align: top;\n",
       "    }\n",
       "\n",
       "    .dataframe thead th {\n",
       "        text-align: right;\n",
       "    }\n",
       "</style>\n",
       "<table border=\"1\" class=\"dataframe\">\n",
       "  <thead>\n",
       "    <tr style=\"text-align: right;\">\n",
       "      <th></th>\n",
       "      <th>time t_i</th>\n",
       "      <th>Adams Approx w</th>\n",
       "    </tr>\n",
       "  </thead>\n",
       "  <tbody>\n",
       "    <tr>\n",
       "      <th>0</th>\n",
       "      <td>2000.0</td>\n",
       "      <td>6.000000</td>\n",
       "    </tr>\n",
       "    <tr>\n",
       "      <th>1</th>\n",
       "      <td>2001.0</td>\n",
       "      <td>6.084000</td>\n",
       "    </tr>\n",
       "    <tr>\n",
       "      <th>2</th>\n",
       "      <td>2002.0</td>\n",
       "      <td>6.960322</td>\n",
       "    </tr>\n",
       "    <tr>\n",
       "      <th>3</th>\n",
       "      <td>2003.0</td>\n",
       "      <td>7.892040</td>\n",
       "    </tr>\n",
       "    <tr>\n",
       "      <th>4</th>\n",
       "      <td>2004.0</td>\n",
       "      <td>8.863456</td>\n",
       "    </tr>\n",
       "    <tr>\n",
       "      <th>5</th>\n",
       "      <td>2005.0</td>\n",
       "      <td>9.856908</td>\n",
       "    </tr>\n",
       "    <tr>\n",
       "      <th>6</th>\n",
       "      <td>2006.0</td>\n",
       "      <td>10.853082</td>\n",
       "    </tr>\n",
       "    <tr>\n",
       "      <th>7</th>\n",
       "      <td>2007.0</td>\n",
       "      <td>11.832473</td>\n",
       "    </tr>\n",
       "    <tr>\n",
       "      <th>8</th>\n",
       "      <td>2008.0</td>\n",
       "      <td>12.776881</td>\n",
       "    </tr>\n",
       "    <tr>\n",
       "      <th>9</th>\n",
       "      <td>2009.0</td>\n",
       "      <td>13.670688</td>\n",
       "    </tr>\n",
       "    <tr>\n",
       "      <th>10</th>\n",
       "      <td>2010.0</td>\n",
       "      <td>14.501747</td>\n",
       "    </tr>\n",
       "    <tr>\n",
       "      <th>11</th>\n",
       "      <td>2011.0</td>\n",
       "      <td>15.261810</td>\n",
       "    </tr>\n",
       "    <tr>\n",
       "      <th>12</th>\n",
       "      <td>2012.0</td>\n",
       "      <td>15.946493</td>\n",
       "    </tr>\n",
       "    <tr>\n",
       "      <th>13</th>\n",
       "      <td>2013.0</td>\n",
       "      <td>16.554881</td>\n",
       "    </tr>\n",
       "    <tr>\n",
       "      <th>14</th>\n",
       "      <td>2014.0</td>\n",
       "      <td>17.088907</td>\n",
       "    </tr>\n",
       "    <tr>\n",
       "      <th>15</th>\n",
       "      <td>2015.0</td>\n",
       "      <td>17.552635</td>\n",
       "    </tr>\n",
       "    <tr>\n",
       "      <th>16</th>\n",
       "      <td>2016.0</td>\n",
       "      <td>17.951549</td>\n",
       "    </tr>\n",
       "    <tr>\n",
       "      <th>17</th>\n",
       "      <td>2017.0</td>\n",
       "      <td>18.291930</td>\n",
       "    </tr>\n",
       "    <tr>\n",
       "      <th>18</th>\n",
       "      <td>2018.0</td>\n",
       "      <td>18.580348</td>\n",
       "    </tr>\n",
       "    <tr>\n",
       "      <th>19</th>\n",
       "      <td>2019.0</td>\n",
       "      <td>18.823293</td>\n",
       "    </tr>\n",
       "    <tr>\n",
       "      <th>20</th>\n",
       "      <td>2020.0</td>\n",
       "      <td>19.026909</td>\n",
       "    </tr>\n",
       "  </tbody>\n",
       "</table>\n",
       "</div>"
      ],
      "text/plain": [
       "    time t_i  Adams Approx w\n",
       "0     2000.0        6.000000\n",
       "1     2001.0        6.084000\n",
       "2     2002.0        6.960322\n",
       "3     2003.0        7.892040\n",
       "4     2004.0        8.863456\n",
       "5     2005.0        9.856908\n",
       "6     2006.0       10.853082\n",
       "7     2007.0       11.832473\n",
       "8     2008.0       12.776881\n",
       "9     2009.0       13.670688\n",
       "10    2010.0       14.501747\n",
       "11    2011.0       15.261810\n",
       "12    2012.0       15.946493\n",
       "13    2013.0       16.554881\n",
       "14    2014.0       17.088907\n",
       "15    2015.0       17.552635\n",
       "16    2016.0       17.951549\n",
       "17    2017.0       18.291930\n",
       "18    2018.0       18.580348\n",
       "19    2019.0       18.823293\n",
       "20    2020.0       19.026909"
      ]
     },
     "execution_count": 10,
     "metadata": {},
     "output_type": "execute_result"
    }
   ],
   "source": [
    "d = {'time t_i': t, 'Adams Approx w': w}\n",
    "df = pd.DataFrame(data=d)\n",
    "df"
   ]
  },
  {
   "cell_type": "markdown",
   "metadata": {
    "id": "en3fHpW5aNsQ"
   },
   "source": [
    "## 3. Non-Linear Population Equation with an oscilation \n",
    "\\begin{equation} y^{'}=0.2y-0.01y^2+\\sin(2\\pi t), \\ \\ (2000 \\leq t \\leq 2020), \\end{equation}\n",
    "with the initial condition,\n",
    "\\begin{equation}y(2000)=6.\\end{equation}\n",
    "\n",
    "## Specific 2 Step Adams Moulton for the Non-Linear Population Equation with an oscilation\n",
    "\n",
    "The specific Adams-Moulton difference equation for the non-linear population equations is:\n",
    "\n",
    "           \n",
    "\\begin{equation}w_{i+1}=w_{i}+\\frac{h}{2}\\big[ 0.2 w_{i+1}-0.01 w_{i+1}^2 +\\sin(2\\pi t_{i+1})\n",
    "                                + 0.2 w_i-0.01 w_i^2+\\sin(2\\pi t_{i})\\big] \\end{equation}\n",
    "\n",
    "\n",
    "for $i=1,...,199$, where $w_i$ is the numerical approximation of $y$ at time $t_i$, with step size $h$ and the initial condition\n",
    "\\begin{equation}w_0=6.\\end{equation}\n",
    "\n",
    " As $w_1$ is required for the method but unknown we will use the numerical solution of a one step method to approximate the value. Here, we use the 2nd order Runge Kutta approximation (see [Runge Kutta notebook](https://github.com/john-s-butler-dit/Numerical-Analysis-Python/blob/master/Chapter%2003%20-%20Runge%20Kutta/01_2nd%20Order%20Runge%20Kutta%20Population%20Equations.ipynb) )\n",
    "\\begin{equation}w_1=6.11.\\end{equation}\n",
    "\n",
    "\n",
    "PROBLEM WE CANNOT MOVE THE SQUARED (NON-LINEAR TERM) TO THE RIGHT HAND SIDE SO WE CAN SOLVE FOR w[i+1].\n",
    "For this reason we will use a predictor-corrector method,\n",
    "The predictor will be the 2-step Adams Bashforth\n",
    "\\begin{equation} w_{i+1}^{p}=w_{i}+\\frac{h}{2}\\big[ 3(0.2 w_{i}-0.01 w_{i}^2+\\sin(2\\pi t_{i}) \n",
    "                                - (0.2 w_{i-1}-0.01 w_{i-1}^2+\\sin(2\\pi t_{i-1}) \\big] \\end{equation}\n",
    "with the corrector being the 1-step Adams Moulton,\n",
    "\\begin{equation}w_{i+1}=w_{i}+\\frac{h}{2}\\big[ 0.2 w_{i+1}^p-0.01 (w^p_{i+1})^2 +\\sin(2\\pi t_{i+1}\n",
    "                                + 0.2 w_i-0.01 w_i^2+\\sin(2\\pi t_{i}\\big], \\end{equation}    \n",
    "\n",
    "                                \n",
    "\n",
    "\n",
    "\n"
   ]
  },
  {
   "cell_type": "code",
   "execution_count": 11,
   "metadata": {
    "id": "xe5rYhvwaNsQ"
   },
   "outputs": [],
   "source": [
    "def nonlin_oscfun(t,w):\n",
    "    ftw=0.2*w-0.01*w*w+np.sin(2*np.math.pi*t)\n",
    "    return ftw"
   ]
  },
  {
   "cell_type": "code",
   "execution_count": 12,
   "metadata": {
    "id": "DnpWjGBeaNsS"
   },
   "outputs": [],
   "source": [
    "## INSERT METHOD HERE\n",
    "w=np.zeros(N+1)\n",
    "w[0]=6\n",
    "w[1]=6.11\n",
    "for n in range(1,N):\n",
    "    w[n+1]=w[n]+h/2"
   ]
  },
  {
   "cell_type": "markdown",
   "metadata": {
    "id": "VVsjcYDZaNsT"
   },
   "source": [
    "## Results\n",
    "The plot below shows the  numerical approximation, $w$ (circles) for the non-linear population equation:"
   ]
  },
  {
   "cell_type": "code",
   "execution_count": 13,
   "metadata": {
    "colab": {
     "base_uri": "https://localhost:8080/",
     "height": 295
    },
    "id": "XuE0ZbhvaNsT",
    "outputId": "264e91fe-73f0-4d85-8f9c-860934f081e5"
   },
   "outputs": [
    {
     "data": {
      "image/png": "[encoded data removed]",
      "text/plain": [
       "<Figure size 800x400 with 1 Axes>"
      ]
     },
     "metadata": {},
     "output_type": "display_data"
    }
   ],
   "source": [
    "fig = plt.figure(figsize=(8,4))\n",
    "plt.plot(t,w,'o:',color='purple',label='Adams-Moulton')\n",
    "plt.title('Population Equation with seasonal oscilation')\n",
    "plt.xlabel('time (yrs)')\n",
    "plt.ylabel('Population in Billions')\n",
    "plt.legend(loc='best')\n",
    "plt.show()"
   ]
  },
  {
   "cell_type": "markdown",
   "metadata": {
    "id": "hL4I-TJiaNsU"
   },
   "source": [
    "## Table\n",
    "The table below shows the time and the numerical approximation, $w$,  for the non-linear population equation:"
   ]
  },
  {
   "cell_type": "code",
   "execution_count": 14,
   "metadata": {
    "colab": {
     "base_uri": "https://localhost:8080/",
     "height": 696
    },
    "id": "niNEjJ7taNsU",
    "outputId": "5f466dcd-820a-469a-e096-654ad9183ac7"
   },
   "outputs": [
    {
     "data": {
      "text/html": [
       "<div>\n",
       "<style scoped>\n",
       "    .dataframe tbody tr th:only-of-type {\n",
       "        vertical-align: middle;\n",
       "    }\n",
       "\n",
       "    .dataframe tbody tr th {\n",
       "        vertical-align: top;\n",
       "    }\n",
       "\n",
       "    .dataframe thead th {\n",
       "        text-align: right;\n",
       "    }\n",
       "</style>\n",
       "<table border=\"1\" class=\"dataframe\">\n",
       "  <thead>\n",
       "    <tr style=\"text-align: right;\">\n",
       "      <th></th>\n",
       "      <th>time t_i</th>\n",
       "      <th>Adams Approx w</th>\n",
       "    </tr>\n",
       "  </thead>\n",
       "  <tbody>\n",
       "    <tr>\n",
       "      <th>0</th>\n",
       "      <td>2000.0</td>\n",
       "      <td>6.00</td>\n",
       "    </tr>\n",
       "    <tr>\n",
       "      <th>1</th>\n",
       "      <td>2001.0</td>\n",
       "      <td>6.11</td>\n",
       "    </tr>\n",
       "    <tr>\n",
       "      <th>2</th>\n",
       "      <td>2002.0</td>\n",
       "      <td>6.61</td>\n",
       "    </tr>\n",
       "    <tr>\n",
       "      <th>3</th>\n",
       "      <td>2003.0</td>\n",
       "      <td>7.11</td>\n",
       "    </tr>\n",
       "    <tr>\n",
       "      <th>4</th>\n",
       "      <td>2004.0</td>\n",
       "      <td>7.61</td>\n",
       "    </tr>\n",
       "    <tr>\n",
       "      <th>5</th>\n",
       "      <td>2005.0</td>\n",
       "      <td>8.11</td>\n",
       "    </tr>\n",
       "    <tr>\n",
       "      <th>6</th>\n",
       "      <td>2006.0</td>\n",
       "      <td>8.61</td>\n",
       "    </tr>\n",
       "    <tr>\n",
       "      <th>7</th>\n",
       "      <td>2007.0</td>\n",
       "      <td>9.11</td>\n",
       "    </tr>\n",
       "    <tr>\n",
       "      <th>8</th>\n",
       "      <td>2008.0</td>\n",
       "      <td>9.61</td>\n",
       "    </tr>\n",
       "    <tr>\n",
       "      <th>9</th>\n",
       "      <td>2009.0</td>\n",
       "      <td>10.11</td>\n",
       "    </tr>\n",
       "    <tr>\n",
       "      <th>10</th>\n",
       "      <td>2010.0</td>\n",
       "      <td>10.61</td>\n",
       "    </tr>\n",
       "    <tr>\n",
       "      <th>11</th>\n",
       "      <td>2011.0</td>\n",
       "      <td>11.11</td>\n",
       "    </tr>\n",
       "    <tr>\n",
       "      <th>12</th>\n",
       "      <td>2012.0</td>\n",
       "      <td>11.61</td>\n",
       "    </tr>\n",
       "    <tr>\n",
       "      <th>13</th>\n",
       "      <td>2013.0</td>\n",
       "      <td>12.11</td>\n",
       "    </tr>\n",
       "    <tr>\n",
       "      <th>14</th>\n",
       "      <td>2014.0</td>\n",
       "      <td>12.61</td>\n",
       "    </tr>\n",
       "    <tr>\n",
       "      <th>15</th>\n",
       "      <td>2015.0</td>\n",
       "      <td>13.11</td>\n",
       "    </tr>\n",
       "    <tr>\n",
       "      <th>16</th>\n",
       "      <td>2016.0</td>\n",
       "      <td>13.61</td>\n",
       "    </tr>\n",
       "    <tr>\n",
       "      <th>17</th>\n",
       "      <td>2017.0</td>\n",
       "      <td>14.11</td>\n",
       "    </tr>\n",
       "    <tr>\n",
       "      <th>18</th>\n",
       "      <td>2018.0</td>\n",
       "      <td>14.61</td>\n",
       "    </tr>\n",
       "    <tr>\n",
       "      <th>19</th>\n",
       "      <td>2019.0</td>\n",
       "      <td>15.11</td>\n",
       "    </tr>\n",
       "    <tr>\n",
       "      <th>20</th>\n",
       "      <td>2020.0</td>\n",
       "      <td>15.61</td>\n",
       "    </tr>\n",
       "  </tbody>\n",
       "</table>\n",
       "</div>"
      ],
      "text/plain": [
       "    time t_i  Adams Approx w\n",
       "0     2000.0            6.00\n",
       "1     2001.0            6.11\n",
       "2     2002.0            6.61\n",
       "3     2003.0            7.11\n",
       "4     2004.0            7.61\n",
       "5     2005.0            8.11\n",
       "6     2006.0            8.61\n",
       "7     2007.0            9.11\n",
       "8     2008.0            9.61\n",
       "9     2009.0           10.11\n",
       "10    2010.0           10.61\n",
       "11    2011.0           11.11\n",
       "12    2012.0           11.61\n",
       "13    2013.0           12.11\n",
       "14    2014.0           12.61\n",
       "15    2015.0           13.11\n",
       "16    2016.0           13.61\n",
       "17    2017.0           14.11\n",
       "18    2018.0           14.61\n",
       "19    2019.0           15.11\n",
       "20    2020.0           15.61"
      ]
     },
     "execution_count": 14,
     "metadata": {},
     "output_type": "execute_result"
    }
   ],
   "source": [
    "d = {'time t_i': t, 'Adams Approx w': w}\n",
    "df = pd.DataFrame(data=d)\n",
    "df\n"
   ]
  },
  {
   "cell_type": "code",
   "execution_count": 14,
   "metadata": {
    "id": "PJDlx4T3aNsW"
   },
   "outputs": [],
   "source": []
  },
  {
   "cell_type": "code",
   "execution_count": 14,
   "metadata": {
    "id": "4mr0t3ASaNsX"
   },
   "outputs": [],
   "source": []
  },
  {
   "cell_type": "code",
   "execution_count": 14,
   "metadata": {
    "id": "TXqVYt6qaNsY"
   },
   "outputs": [],
   "source": []
  }
 ],
 "metadata": {
  "colab": {
   "include_colab_link": true,
   "name": "404_Adams Moulton Population Equations.ipynb",
   "provenance": []
  },
  "kernelspec": {
   "display_name": "Python 3",
   "language": "python",
   "name": "python3"
  },
  "language_info": {
   "codemirror_mode": {
    "name": "ipython",
    "version": 3
   },
   "file_extension": ".py",
   "mimetype": "text/x-python",
   "name": "python",
   "nbconvert_exporter": "python",
   "pygments_lexer": "ipython3",
   "version": "3.8.13"
  }
 },
 "nbformat": 4,
 "nbformat_minor": 0
}