{
  "nbformat": 4,
  "nbformat_minor": 0,
  "metadata": {
    "colab": {
      "name": "01_Consistent.ipynb",
      "provenance": [],
      "toc_visible": true,
      "include_colab_link": true
    },
    "kernelspec": {
      "display_name": "Python 3",
      "language": "python",
      "name": "python3"
    },
    "language_info": {
      "codemirror_mode": {
        "name": "ipython",
        "version": 3
      },
      "file_extension": ".py",
      "mimetype": "text/x-python",
      "name": "python",
      "nbconvert_exporter": "python",
      "pygments_lexer": "ipython3",
      "version": "3.7.9"
    }
  },
  "cells": [
    {
      "cell_type": "markdown",
      "metadata": {
        "id": "view-in-github",
        "colab_type": "text"
      },
      "source": [
        "<a href=\"https://colab.research.google.com/github/john-s-butler-dit/Numerical-Analysis-Python/blob/master/Chapter%2005%20-%20IVP%20Consistent%20Convergence%20Stability/501_Consistent.ipynb\" target=\"_parent\"><img src=\"https://colab.research.google.com/assets/colab-badge.svg\" alt=\"Open In Colab\"/></a>"
      ]
    },
    {
      "cell_type": "markdown",
      "metadata": {
        "id": "fWMuDsTQjOCi"
      },
      "source": [
        "# Consistency of a Multistep method\n",
        "\n",
        "#### John S Butler \n",
        "john.s.butler@tudublin.ie  \n",
        "[Course Notes](https://johnsbutler.netlify.com/files/Teaching/Numerical_Analysis_for_Differential_Equations.pdf)    [Github](https://github.com/john-s-butler-dit/Numerical-Analysis-Python)\n",
        "\n",
        "## Overview\n",
        "A one-step or multistep method is used to approximate the solution of an initial value problem of the form\n",
        "\\begin{equation} \\frac{dy}{dt}=f(t,y), \\end{equation} \n",
        "with the initial condition\n",
        "\\begin{equation}  y(a)=\\alpha.\\end{equation} \n",
        "The method should only be used if it satisfies the three criteria:\n",
        "1. that difference equation is __consistent__ with the differential equation;\n",
        "2. that the numerical solution is __convergent__ to the exact answer of the differential equation;\n",
        "3. that the numerical solution is __stable__.\n",
        "\n",
        "In the notebooks in this folder we will illustate examples of consisten and inconsistent, convergent and non-convergent, and stable and unstable methods. \n",
        "\n",
        "## Introduction to Consistency\n",
        "In this notebook we will illustate an __inconsistent__ method."
      ]
    },
    {
      "cell_type": "code",
      "metadata": {
        "id": "ObAwcaFNQpOf",
        "outputId": "d73494fb-88ce-4b6b-f1de-88ccf90a763e"
      },
      "source": [
        "from IPython.display import HTML\n",
        "HTML('<iframe width=\"560\" height=\"315\" src=\"https://www.youtube.com/embed/SXH6WHMLTII\" frameborder=\"0\" allow=\"accelerometer; autoplay; clipboard-write; encrypted-media; gyroscope; picture-in-picture\" allowfullscreen></iframe>')"
      ],
      "execution_count": null,
      "outputs": [
        {
          "output_type": "stream",
          "text": [
            "/Users/johnbutler/anaconda3/lib/python3.7/site-packages/IPython/core/display.py:717: UserWarning: Consider using IPython.display.IFrame instead\n",
            "  warnings.warn(\"Consider using IPython.display.IFrame instead\")\n"
          ],
          "name": "stderr"
        },
        {
          "output_type": "execute_result",
          "data": {
            "text/html": [
              "<iframe width=\"560\" height=\"315\" src=\"https://www.youtube.com/embed/SXH6WHMLTII\" frameborder=\"0\" allow=\"accelerometer; autoplay; clipboard-write; encrypted-media; gyroscope; picture-in-picture\" allowfullscreen></iframe>"
            ],
            "text/plain": [
              "<IPython.core.display.HTML object>"
            ]
          },
          "metadata": {
            "tags": []
          },
          "execution_count": 1
        }
      ]
    },
    {
      "cell_type": "markdown",
      "metadata": {
        "id": "mIJEJ0OUQpOm"
      },
      "source": [
        "### Definition\n",
        "A one-step and multi-step methods with local truncation error $\\tau_{i}(h)$ at the $i$th step is said\n",
        "to be __consistent__ with the differential equation it approximates if \n",
        "\\begin{equation}\\lim_{h \\rightarrow 0} (\\max_{1 \\leq i \\leq N}|\\tau_{i}(h)|)=0 \\end{equation} \n",
        "where\n",
        "\\begin{equation}\\tau_{i}(h)=\\frac{y_{i+1}-y_{i}}{h}-F(t_i,y_i,h,f) \\end{equation} \n",
        "As $h \\rightarrow 0$ does $F(t_i,y_i,h,f) \\rightarrow f(t,y)$. \n",
        "\n",
        "All the Runge Kutta, and Adams methods are consistent in this course. This notebook will illustrate a non-consistent method which with great hubris I will call the Abysmal-Butler methods.\n",
        "\n",
        "## 2-step Abysmal Butler Method \n",
        "\n",
        "The 2-step Abysmal Butler difference equation is given by\n",
        "\\begin{equation}w_{i+1} = w_{i} + \\frac{h}{2}(4f(t_i,w_i)-3f(t_{i-1},w_{i-1})), \\end{equation} \n",
        "which can be written as \n",
        "\\begin{equation}\\frac{w_{i+1} -w_{i}}{h} = \\frac{1}{2}(4f(t_i,w_i)-3f(t_{i-1},w_{i-1})). \\end{equation} \n",
        "\n",
        "## Intial Value Problem\n",
        "To illustrate consistency we will apply the method to a linear intial value problem given by\n",
        "\\begin{equation} y^{'}=t-y, \\ \\ (0 \\leq t \\leq 2),\\end{equation} \n",
        "with the initial condition\n",
        "\\begin{equation}y(0)=1,\\end{equation} \n",
        "with the exact solution\n",
        "\\begin{equation}y(t)= 2e^{-t}+t-1.\\end{equation} "
      ]
    },
    {
      "cell_type": "markdown",
      "metadata": {
        "id": "sOosaQngjOCj"
      },
      "source": [
        "## Python Libraries"
      ]
    },
    {
      "cell_type": "code",
      "metadata": {
        "id": "TXMyUzxojOCk"
      },
      "source": [
        "import numpy as np\n",
        "import math \n",
        "import pandas as pd\n",
        "\n",
        "%matplotlib inline\n",
        "import matplotlib.pyplot as plt # side-stepping mpl backend\n",
        "import matplotlib.gridspec as gridspec # subplots\n",
        "import warnings\n",
        "warnings.filterwarnings(\"ignore\")"
      ],
      "execution_count": null,
      "outputs": []
    },
    {
      "cell_type": "markdown",
      "metadata": {
        "id": "GovXdrE0jOCo"
      },
      "source": [
        "### Defining the function\n",
        "$$ f(t,y)=t-y.\\end{equation} "
      ]
    },
    {
      "cell_type": "code",
      "metadata": {
        "id": "pAx9mdLUjOCp"
      },
      "source": [
        "def myfun_ty(t,y):\n",
        "    return t-y"
      ],
      "execution_count": null,
      "outputs": []
    },
    {
      "cell_type": "markdown",
      "metadata": {
        "id": "OhMnF7tgjOCs"
      },
      "source": [
        "## Discrete Interval\n",
        "Defining the step size  $h$  from the interval range  $a \\leq t\\leq b$  and number of steps  $N$ \n",
        "\\begin{equation}h=\\frac{b - a}{N}.\\end{equation} \n",
        " \n",
        "This gives the discrete time steps,\n",
        "\\begin{equation}t_i=t_0+ih,\\end{equation} \n",
        "where  $t_0=a.$\n",
        "\n",
        "Here the interval is  $0\\leq t \\leq 2$  and number of step  40 \n",
        "\\begin{equation}h=\\frac{2−0}{40}=0.05.\\end{equation} \n",
        " \n",
        "This gives the discrete time steps,\n",
        "\\begin{equation}t_i=0+i0.5,\\end{equation}\n",
        "for  $i=0,1,⋯,40.$"
      ]
    },
    {
      "cell_type": "code",
      "metadata": {
        "id": "LOnnFiILjOCt",
        "outputId": "ab5227bd-6d3b-49c6-b100-53f53651d228"
      },
      "source": [
        "# Start and end of interval\n",
        "b=2\n",
        "a=0\n",
        "# Step size\n",
        "N=40\n",
        "h=(b-a)/(N)\n",
        "t=np.arange(a,b+h,h)\n",
        "fig = plt.figure(figsize=(10,4))\n",
        "plt.plot(t,0*t,'o:',color='red')\n",
        "plt.xlim((0,2))\n",
        "plt.title('Illustration of discrete time points for h=%s'%(h))\n",
        "plt.show()"
      ],
      "execution_count": null,
      "outputs": [
        {
          "output_type": "display_data",
          "data": {
            "image/png": "[encoded data removed]",
            "text/plain": [
              "<Figure size 720x288 with 1 Axes>"
            ]
          },
          "metadata": {
            "tags": [],
            "needs_background": "light"
          }
        }
      ]
    },
    {
      "cell_type": "markdown",
      "metadata": {
        "id": "ouvumpEfjOCw"
      },
      "source": [
        "## Exact Solution\n",
        "The initial value problem has the exact solution\n",
        "$$y(t)=2e^{-t}+t-1.\\end{equation} \n",
        "The figure below plots the exact solution."
      ]
    },
    {
      "cell_type": "code",
      "metadata": {
        "id": "g6Jc6lNxjOCw",
        "outputId": "adfdc4ab-cf46-482c-93f2-d64f5278e097"
      },
      "source": [
        "IC=1 # Intial condtion\n",
        "y=(IC+1)*np.exp(-t)+t-1\n",
        "fig = plt.figure(figsize=(6,4))\n",
        "plt.plot(t,y,'o-',color='black')\n",
        "plt.title('Exact Solution ')\n",
        "plt.xlabel('time')\n",
        "plt.show()"
      ],
      "execution_count": null,
      "outputs": [
        {
          "output_type": "display_data",
          "data": {
            "image/png": "[encoded data removed]",
            "text/plain": [
              "<Figure size 432x288 with 1 Axes>"
            ]
          },
          "metadata": {
            "tags": [],
            "needs_background": "light"
          }
        }
      ]
    },
    {
      "cell_type": "code",
      "metadata": {
        "id": "bWlRDTDnjOCz"
      },
      "source": [
        "# Initial Condition\n",
        "w=np.zeros(N+1)\n",
        "#np.zeros(N+1)\n",
        "w[0]=IC"
      ],
      "execution_count": null,
      "outputs": []
    },
    {
      "cell_type": "markdown",
      "metadata": {
        "id": "O6yWJtXLjOC1"
      },
      "source": [
        "\n",
        "\n",
        "## 2-step Abysmal Butler Method \n",
        "\n",
        "The 2-step Abysmal Butler difference equation is\n",
        "\\begin{equation}w_{i+1} = w_{i} + \\frac{h}{2}(4f(t_i,w_i)-3f(t_{i-1},w_{i-1})).\\end{equation} \n",
        "\n",
        "For $i=0$ the system of difference equation is:\n",
        "\\begin{equation}w_{1} = w_{0} + \\frac{h}{2}(4(t_0-w_0)-3(t_{-1}-w_{-1})) \\end{equation} \n",
        "this is not solvable as <font color='red'> $w_{-1}$ </font> is unknown.\n",
        "\n",
        "For $i=1$ the difference equation is:\n",
        "\\begin{equation}w_{2} = w_{1} + \\frac{h}{2}(4(t_1-w_1)-3(t_{0}-w_{0})),\\end{equation}\n",
        "this is not solvable as <font color='red'> $w_{1}$  </font> is unknown. $w_1$ can be  approximated using a one step method. Here, as the exact solution is known,\n",
        "\\begin{equation}w_1=2e^{-t_1}+t_1-1.\\end{equation} \n"
      ]
    },
    {
      "cell_type": "code",
      "metadata": {
        "id": "AbLbG_1AjOC2"
      },
      "source": [
        "### Initial conditions\n",
        "w=np.zeros(len(t))\n",
        "w0=np.zeros(len(t))\n",
        "w[0]=IC\n",
        "w[1]=y[1]"
      ],
      "execution_count": null,
      "outputs": []
    },
    {
      "cell_type": "markdown",
      "metadata": {
        "id": "AMuQXLLXjOC5"
      },
      "source": [
        "### Loop"
      ]
    },
    {
      "cell_type": "code",
      "metadata": {
        "id": "_lBut4d0jOC5"
      },
      "source": [
        "for k in range (1,N):\n",
        "    w[k+1]=(w[k]+h/2.0*(4*myfun_ty(t[k],w[k])-3*myfun_ty(t[k-1],w[k-1])))   \n"
      ],
      "execution_count": null,
      "outputs": []
    },
    {
      "cell_type": "markdown",
      "metadata": {
        "id": "ANL1cpKmjOC7"
      },
      "source": [
        "### Plotting solution"
      ]
    },
    {
      "cell_type": "code",
      "metadata": {
        "id": "n1_2486MjOC8"
      },
      "source": [
        "def plotting(t,w,y):\n",
        "    fig = plt.figure(figsize=(10,4))\n",
        "    plt.plot(t,y, 'o-',color='black',label='Exact')\n",
        "    plt.plot(t,w,'^:',color='red',label='Abysmal-Butler')\n",
        "    plt.xlabel('time')\n",
        "    plt.legend()\n",
        "    plt.show "
      ],
      "execution_count": null,
      "outputs": []
    },
    {
      "cell_type": "markdown",
      "metadata": {
        "id": "Vr__klcUjOC-"
      },
      "source": [
        "The plot below shows the exact solution (black) and the Abysmal-Butler approximation (red) of the intial value problem.\n",
        "\n",
        "The Numerical approximation does not do a good job of approximating the exact solution and that is because it is inconsistent."
      ]
    },
    {
      "cell_type": "code",
      "metadata": {
        "id": "rKNNxgLDjOC-",
        "outputId": "e39c0477-b50d-4eba-db8c-3d898bf8996d"
      },
      "source": [
        "plotting(t,w,y)"
      ],
      "execution_count": null,
      "outputs": [
        {
          "output_type": "display_data",
          "data": {
            "image/png": "[encoded data removed]",
            "text/plain": [
              "<Figure size 720x288 with 1 Axes>"
            ]
          },
          "metadata": {
            "tags": [],
            "needs_background": "light"
          }
        }
      ]
    },
    {
      "cell_type": "markdown",
      "metadata": {
        "id": "pK6dv1hQjODA"
      },
      "source": [
        "## Consistency \n",
        "To prove that the Abysmal-Butler method does not satisfy the consistency condition,\n",
        "\\begin{equation} \\tau_{i}(h)=\\frac{y_{i+1}-y_{i}}{h}-\\frac{1}{2}[4(f(t_i,y_i)-3f(t_{i-1},y_{i-1})]. \\end{equation} \n",
        "As $h \\rightarrow 0$  \n",
        "\\begin{equation} \\frac{1}{2}[4f(t_i,y_i)-3f(t_{i-1},y_{i-1})] \\rightarrow \\frac{f(t_i,y_i)}{2}.\\end{equation} \n",
        "While as $h \\rightarrow 0$  \n",
        "\\begin{equation} \\frac{y_{i+1}-y_{i}}{h} \\rightarrow y^{'}=f(t_i,y_i).\\end{equation} \n",
        "Hence as $h \\rightarrow 0$ \\begin{equation} \\frac{y_{i+1}-y_{i}}{h}-\\frac{1}{2}[4(f(t_i,y_i)-3f(t_{i-1},y_{i-1})]\\rightarrow f(t_i,y_i)-\\frac{f(t_i,y_i)}{2}=\\frac{f(t_i,y_i)}{2},\\end{equation} \n",
        "which violates the consistency condition (inconsistent).\n"
      ]
    },
    {
      "cell_type": "code",
      "metadata": {
        "id": "5WrT05UxjODB",
        "outputId": "4d87cab9-8cc2-4bd1-964e-50070dc1be6b"
      },
      "source": [
        "d = {'time': t[0:5], 'Abysmal Butler': w[0:5],'Exact':y[0:5],'Error':np.abs(y[0:5]-w[0:5])}\n",
        "df = pd.DataFrame(data=d)\n",
        "df"
      ],
      "execution_count": null,
      "outputs": [
        {
          "output_type": "execute_result",
          "data": {
            "text/html": [
              "<div>\n",
              "<style scoped>\n",
              "    .dataframe tbody tr th:only-of-type {\n",
              "        vertical-align: middle;\n",
              "    }\n",
              "\n",
              "    .dataframe tbody tr th {\n",
              "        vertical-align: top;\n",
              "    }\n",
              "\n",
              "    .dataframe thead th {\n",
              "        text-align: right;\n",
              "    }\n",
              "</style>\n",
              "<table border=\"1\" class=\"dataframe\">\n",
              "  <thead>\n",
              "    <tr style=\"text-align: right;\">\n",
              "      <th></th>\n",
              "      <th>time</th>\n",
              "      <th>Abysmal Butler</th>\n",
              "      <th>Exact</th>\n",
              "      <th>Error</th>\n",
              "    </tr>\n",
              "  </thead>\n",
              "  <tbody>\n",
              "    <tr>\n",
              "      <th>0</th>\n",
              "      <td>0.00</td>\n",
              "      <td>1.000000</td>\n",
              "      <td>1.000000</td>\n",
              "      <td>0.000000</td>\n",
              "    </tr>\n",
              "    <tr>\n",
              "      <th>1</th>\n",
              "      <td>0.05</td>\n",
              "      <td>0.952459</td>\n",
              "      <td>0.952459</td>\n",
              "      <td>0.000000</td>\n",
              "    </tr>\n",
              "    <tr>\n",
              "      <th>2</th>\n",
              "      <td>0.10</td>\n",
              "      <td>0.937213</td>\n",
              "      <td>0.909675</td>\n",
              "      <td>0.027538</td>\n",
              "    </tr>\n",
              "    <tr>\n",
              "      <th>3</th>\n",
              "      <td>0.15</td>\n",
              "      <td>0.921176</td>\n",
              "      <td>0.871416</td>\n",
              "      <td>0.049760</td>\n",
              "    </tr>\n",
              "    <tr>\n",
              "      <th>4</th>\n",
              "      <td>0.20</td>\n",
              "      <td>0.906849</td>\n",
              "      <td>0.837462</td>\n",
              "      <td>0.069388</td>\n",
              "    </tr>\n",
              "  </tbody>\n",
              "</table>\n",
              "</div>"
            ],
            "text/plain": [
              "   time  Abysmal Butler     Exact     Error\n",
              "0  0.00        1.000000  1.000000  0.000000\n",
              "1  0.05        0.952459  0.952459  0.000000\n",
              "2  0.10        0.937213  0.909675  0.027538\n",
              "3  0.15        0.921176  0.871416  0.049760\n",
              "4  0.20        0.906849  0.837462  0.069388"
            ]
          },
          "metadata": {
            "tags": []
          },
          "execution_count": 11
        }
      ]
    },
    {
      "cell_type": "code",
      "metadata": {
        "id": "7pdVDKuPjODD"
      },
      "source": [
        ""
      ],
      "execution_count": null,
      "outputs": []
    }
  ]
}