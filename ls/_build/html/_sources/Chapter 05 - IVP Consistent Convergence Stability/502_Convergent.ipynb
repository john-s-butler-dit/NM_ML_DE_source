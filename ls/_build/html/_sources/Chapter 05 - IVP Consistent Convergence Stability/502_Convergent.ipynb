{
  "nbformat": 4,
  "nbformat_minor": 0,
  "metadata": {
    "kernelspec": {
      "display_name": "Python 3",
      "language": "python",
      "name": "python3"
    },
    "language_info": {
      "codemirror_mode": {
        "name": "ipython",
        "version": 3
      },
      "file_extension": ".py",
      "mimetype": "text/x-python",
      "name": "python",
      "nbconvert_exporter": "python",
      "pygments_lexer": "ipython3",
      "version": "3.7.9"
    },
    "colab": {
      "name": "502_Convergent.ipynb",
      "provenance": [],
      "toc_visible": true,
      "include_colab_link": true
    }
  },
  "cells": [
    {
      "cell_type": "markdown",
      "metadata": {
        "id": "view-in-github",
        "colab_type": "text"
      },
      "source": [
        "<a href=\"https://colab.research.google.com/github/john-s-butler-dit/Numerical-Analysis-Python/blob/master/Chapter%2005%20-%20IVP%20Consistent%20Convergence%20Stability/502_Convergent.ipynb\" target=\"_parent\"><img src=\"https://colab.research.google.com/assets/colab-badge.svg\" alt=\"Open In Colab\"/></a>"
      ]
    },
    {
      "cell_type": "markdown",
      "metadata": {
        "id": "gbK7tnuaP7Cc"
      },
      "source": [
        "# Convergence of a Multistep Method\n",
        "#### John S Butler \n",
        "john.s.butler@tudublin.ie   \n",
        "[Course Notes](https://johnsbutler.netlify.com/files/Teaching/Numerical_Analysis_for_Differential_Equations.pdf)    [Github](https://github.com/john-s-butler-dit/Numerical-Analysis-Python)\n",
        "\n",
        "## Overview\n",
        "A one-step or multistep method is used to approximate the solution of an initial value problem of the form\n",
        "\\begin{equation} \\frac{dy}{dt}=f(t,y),\\end{equation}\n",
        "with the initial condition\n",
        "\\begin{equation} y(a)=\\alpha.\\end{equation}\n",
        "The method should only be used if it satisfies the three criteria:\n",
        "1. that difference equation is __consistent__ with the differential equation;\n",
        "2. that the numerical solution __convergent__ to the exact answer of the differential equation;\n",
        "3. that the numerical solution is __stable__.\n",
        "\n",
        "In the notebooks in this folder we will illustate examples of consistent and inconsistent, convergent and non-convergent, and stable and unstable methods. \n"
      ]
    },
    {
      "cell_type": "markdown",
      "metadata": {
        "id": "dT1-22QhP7Cd"
      },
      "source": [
        "## Introduction to Convergence\n",
        "\n",
        "In this notebook we will illustate an non-convergent method. The video below outlines the notebook.\n"
      ]
    },
    {
      "cell_type": "code",
      "metadata": {
        "id": "RFMbOXWdP7Cf",
        "outputId": "0085863c-8389-46cc-de8e-67532a89b00c",
        "colab": {
          "base_uri": "https://localhost:8080/",
          "height": 336
        }
      },
      "source": [
        "from IPython.display import HTML\n",
        "HTML('<iframe width=\"560\" height=\"315\" src=\"https://www.youtube.com/embed/skJSvK52nq0\" frameborder=\"0\" allow=\"accelerometer; autoplay; clipboard-write; encrypted-media; gyroscope; picture-in-picture\" allowfullscreen></iframe>')"
      ],
      "execution_count": 1,
      "outputs": [
        {
          "output_type": "execute_result",
          "data": {
            "text/html": [
              "<iframe width=\"560\" height=\"315\" src=\"https://www.youtube.com/embed/skJSvK52nq0\" frameborder=\"0\" allow=\"accelerometer; autoplay; clipboard-write; encrypted-media; gyroscope; picture-in-picture\" allowfullscreen></iframe>"
            ],
            "text/plain": [
              "<IPython.core.display.HTML object>"
            ]
          },
          "metadata": {},
          "execution_count": 1
        }
      ]
    },
    {
      "cell_type": "markdown",
      "metadata": {
        "id": "yBuEvQltP7Ck"
      },
      "source": [
        "### Definition\n",
        "\n",
        "The solution of a multi-step methods $w_i$ is said to be __convergent__ with respect to\n",
        "the exact solution of the differential equation if\n",
        "\\begin{equation} \\max_{h \\rightarrow 0}\\max_{1 \\leq i \\leq N}|y(t_i)-w_i|=0.\\end{equation}\n",
        "All the Runge Kutta, Adams-Bashforth and Adams-Moulton methods are convergent."
      ]
    },
    {
      "cell_type": "markdown",
      "metadata": {
        "id": "r8ft_ye7P7Cl"
      },
      "source": [
        "## 2-step Abysmal Butler Multistep Method \n",
        "\n",
        "This notebook will illustrate a non-convergent multistep method using the Abysmal-Butler method, named with great pride after the author.\n",
        "The 2-step Abysmal Butler difference equation is given by\n",
        "\\begin{equation}w_{i+1} = w_{i} + \\frac{h}{2}(4f(t_i,w_i)-3f(t_{i-1},w_{i-1})),\\end{equation}\n",
        "The final section of this notebooks shows that the method is non-convergent for all differential equations.\n",
        "\n",
        "## Intial Value Problem\n",
        "To illustrate convergence we will apply Abysmal-Butler multistep method to the linear intial value problem\n",
        "\\begin{equation} y^{'}=t-y, \\ \\ (0 \\leq t \\leq 2) \\end{equation}\n",
        "with the initial condition\n",
        "\\begin{equation}y(0)=1,\\end{equation}\n",
        "with the exact solution\n",
        "\\begin{equation}y(t)= 2e^{-t}+t-1.\\end{equation}"
      ]
    },
    {
      "cell_type": "markdown",
      "metadata": {
        "id": "xCeYXckcP7Cm"
      },
      "source": [
        "## Python Libraries"
      ]
    },
    {
      "cell_type": "code",
      "metadata": {
        "id": "jZ0cRNZVP7Cn"
      },
      "source": [
        "import numpy as np\n",
        "import math \n",
        "import pandas as pd\n",
        "\n",
        "\n",
        "%matplotlib inline\n",
        "import matplotlib.pyplot as plt # side-stepping mpl backend\n",
        "import matplotlib.gridspec as gridspec # subplots\n",
        "import warnings\n",
        "\n",
        "warnings.filterwarnings(\"ignore\")"
      ],
      "execution_count": 2,
      "outputs": []
    },
    {
      "cell_type": "markdown",
      "metadata": {
        "id": "Dq46Ycx6P7Cq"
      },
      "source": [
        "### Defining the function\n",
        "\\begin{equation}f(t,y)=t-y.\\end{equation}"
      ]
    },
    {
      "cell_type": "code",
      "metadata": {
        "id": "vs6cXGsKP7Cr"
      },
      "source": [
        "def myfun_ty(t,y):\n",
        "    return t-y"
      ],
      "execution_count": 3,
      "outputs": []
    },
    {
      "cell_type": "markdown",
      "metadata": {
        "id": "j9Gf-5FVP7Cu"
      },
      "source": [
        "## Discrete Interval\n",
        "To illustrtate that the method is internally convergent but not convergent with the exact solution we define two discrete meshes, one coarse and one fine.\n",
        "### Coarse mesh\n",
        "Defining the step size  $h$  from the interval range  $a \\leq t \\leq b$  and number of steps  $N$ \n",
        "\\begin{equation}h=\\frac{b - a}{N}.\\end{equation}\n",
        " \n",
        "This gives the discrete time steps,\n",
        "$$t_i=t_0+ih,$$\n",
        "where  $t_0=a,$ for $i=0,1...,N$.\n",
        "### Fine mesh\n",
        "Defining the step size  $h/2$  from the interval range  $a≤t≤b$  and number of steps  $2N$ \n",
        "\\begin{equation}h=\\frac{b−a}{2N}.\\end{equation}\n",
        " \n",
        "This gives the discrete time steps,\n",
        "\\begin{equation}t_i=t_0+ih,\\end{equation}\n",
        "where  $t_0=a,$ for $i =0,1,...2N$.\n",
        "\n",
        "The plot below shows the coarse (red) and fine (green) discrete time intervals over the domain."
      ]
    },
    {
      "cell_type": "code",
      "metadata": {
        "id": "64MsysByP7Cu",
        "outputId": "70d46f79-4b1b-4ba8-8f29-655b51c6c973",
        "colab": {
          "base_uri": "https://localhost:8080/",
          "height": 281
        }
      },
      "source": [
        "# Start and end of interval\n",
        "b=2\n",
        "a=0\n",
        "# Step size\n",
        "N=16\n",
        "h=(b-a)/(N)\n",
        "t=np.arange(a,b+h,h)\n",
        "N2=N*2\n",
        "h2=(b-a)/(N2)\n",
        "t2=np.arange(a,b+h2,h2)\n",
        "w2=np.zeros(len(t2))\n",
        "\n",
        "fig = plt.figure(figsize=(10,4))\n",
        "plt.plot(t2,0.01*np.ones(len(t2)),'o:',color='green',label='Fine Mesh')\n",
        "plt.plot(t,0*t,'o:',color='red',label='Coarse Mesh')\n",
        "plt.xlim((0,2))\n",
        "plt.ylim((-0.1,.1))\n",
        "\n",
        "plt.legend()\n",
        "plt.title('Illustration of discrete time points')\n",
        "plt.show()"
      ],
      "execution_count": 4,
      "outputs": [
        {
          "output_type": "display_data",
          "data": {
            "image/png": "[encoded data removed]",
            "text/plain": [
              "<Figure size 720x288 with 1 Axes>"
            ]
          },
          "metadata": {
            "needs_background": "light"
          }
        }
      ]
    },
    {
      "cell_type": "markdown",
      "metadata": {
        "id": "HLYv61zCP7Cx"
      },
      "source": [
        "## 2-step Abysmal Butler Method \n",
        "The 2-step Abysmal Butler difference equation is\n",
        "\\begin{equation}w_{i+1} = w_{i} + \\frac{h}{2}(4(t_i-w_i)-3(t_{i-1}-w_{i-1})), \\end{equation}\n",
        "for $i=1,...N.$\n",
        "For $i=0$ the system of difference equation is:\n",
        "\n",
        "\\begin{equation}w_{1} = w_{0} + \\frac{h}{2}(4(t_0-w_0)-3(t_{-1}-w_{-1})) \\end{equation}\n",
        "this is not solvable as <font color='red'> $w_{-1}$ </font> is unknown.\n",
        "\n",
        "For $i=1$ the difference equation is:\n",
        "\\begin{equation}w_{2} = w_{1} + \\frac{h}{2}(4(t_1-w_1)-3(t_{0}-w_{0})) \\end{equation}\n",
        "this is not solvable a <font color='red'> $w_{1}$  </font> is unknown. $w_1$ can be  approximated using a one step method. Here, as the exact solution is known,\n",
        "\\begin{equation}w_1=2e^{-t_1}+t_1-1.\\end{equation}\n"
      ]
    },
    {
      "cell_type": "code",
      "metadata": {
        "id": "opfrOTvUP7Cx"
      },
      "source": [
        "### Initial conditions\n",
        "IC=1\n",
        "w=np.zeros(len(t))\n",
        "w[0]=IC\n",
        "\n",
        "w2=np.zeros(len(t2))\n",
        "w2[0]=IC\n",
        "w2[1]=(IC+1)*np.exp(-t2[1])+t2[1]-1\n",
        "\n"
      ],
      "execution_count": 5,
      "outputs": []
    },
    {
      "cell_type": "markdown",
      "metadata": {
        "id": "cwkzmvkmP7C0"
      },
      "source": [
        "### Loop\n"
      ]
    },
    {
      "cell_type": "code",
      "metadata": {
        "id": "wNl1YjAIP7C0"
      },
      "source": [
        "\n",
        "# Fine Mesh\n",
        "for k in range (1,N2):\n",
        "    w2[k+1]=(w2[k]+h2/2.0*(4*myfun_ty(t2[k],w2[k])-3*myfun_ty(t2[k-1],w2[k-1]))) \n",
        "    \n",
        "    \n",
        "w[1]=w2[2]\n",
        "\n",
        "# Coarse Mesh\n",
        "for k in range (1,N):\n",
        "    w[k+1]=(w[k]+h/2.0*(4*myfun_ty(t[k],w[k])-3*myfun_ty(t[k-1],w[k-1])))   \n"
      ],
      "execution_count": 6,
      "outputs": []
    },
    {
      "cell_type": "markdown",
      "metadata": {
        "id": "Pxr1ZksCP7C2"
      },
      "source": [
        "### Plotting solution"
      ]
    },
    {
      "cell_type": "code",
      "metadata": {
        "id": "05okTgOJP7C3"
      },
      "source": [
        "def plotting(t,w,t2,w2):\n",
        "    y=(2)*np.exp(-t2)+t2-1\n",
        "    fig = plt.figure(figsize=(10,4))\n",
        "    plt.plot(t,w,'^:',color='red',label='Coarse Mesh (N)')\n",
        "    plt.plot(t2,w2, 'v-',color='green',label='Fine Mesh (2N)')\n",
        "\n",
        "\n",
        "    plt.plot(t2,y, 'o-',color='black',label='Exact?')\n",
        "    plt.xlabel('time')\n",
        "    plt.legend()\n",
        "    plt.title('Abysmal Butler')\n",
        "    plt.show "
      ],
      "execution_count": 7,
      "outputs": []
    },
    {
      "cell_type": "markdown",
      "metadata": {
        "id": "1XA5KhK-P7C5"
      },
      "source": [
        "The plot below shows the Abysmal-Butler approximation for a low N (red) and $N\\times2$ (green) and the exact solution (black) of the intial value problem"
      ]
    },
    {
      "cell_type": "code",
      "metadata": {
        "id": "yn18L9k2P7C5",
        "outputId": "291f63ef-e8e8-409b-f5af-b9d8b3cd2185",
        "colab": {
          "base_uri": "https://localhost:8080/",
          "height": 295
        }
      },
      "source": [
        "plotting(t,w,t2,w2)"
      ],
      "execution_count": 8,
      "outputs": [
        {
          "output_type": "display_data",
          "data": {
            "image/png": "[encoded data removed]",
            "text/plain": [
              "<Figure size 720x288 with 1 Axes>"
            ]
          },
          "metadata": {
            "needs_background": "light"
          }
        }
      ]
    },
    {
      "cell_type": "markdown",
      "metadata": {
        "id": "ClSpSS27P7C7"
      },
      "source": [
        "## Convergent \n",
        "The Abysmal-Butler method does satisfy the Lipschitz condition:\n",
        "\\begin{equation}F(t,w:h)-F(t,\\hat{w}:h)=\\frac{4}{2}f(t,w_i)-\\frac{3}{2}f(t-h,w_{i-1}))-(\\frac{4}{2}f(t,\\hat{w}_{i})-\\frac{3}{2}f(t-h,\\hat{w}_{i-1})))\\end{equation}\n",
        "\n",
        "\\begin{equation}F(t,w:h)-F(t,\\hat{w}:h)=\\frac{4}{2}(f(t,w_i)-f(t,\\hat{w}_i))-\\frac{3}{2}(f(t-h,w_{i-1}))-f(t-h,\\hat{w}_{i-1})))\\end{equation}\n",
        "\\begin{equation}F(t,w:h)-F(t,\\hat{w}:h)\\leq\\frac{4}{2}L|w_i-\\hat{w_i}|+\\frac{3}{2}L|w-\\hat{w}|\\leq \\frac{7}{2} L|w_i-\\hat{w_i}|\\end{equation}\n",
        "This means it is internally convergent,\n",
        "\\begin{equation}|w_i-\\hat{w_i}|\\rightarrow 0\\end{equation}\n",
        "as $h \\rightarrow 0$,\n",
        "but as it is not consistent it will never converge to the exact solution\n",
        "\\begin{equation} |y_i-w_i| \\not= 0.\\end{equation}\n"
      ]
    },
    {
      "cell_type": "code",
      "metadata": {
        "id": "nAWe9PM5P7C7",
        "outputId": "5e51f857-a073-46f3-827e-5461a8149d5f",
        "colab": {
          "base_uri": "https://localhost:8080/",
          "height": 203
        }
      },
      "source": [
        "d = {'time': t[0:5], 'Abysmal Butler': w[0:5],'Abysmal Butler w2 N*2': w2[0:10:2],\n",
        "     'w-w2':np.abs(w[0:5]-w2[0:10:2])}\n",
        "df = pd.DataFrame(data=d)\n",
        "df"
      ],
      "execution_count": 9,
      "outputs": [
        {
          "output_type": "execute_result",
          "data": {
            "text/html": [
              "<div>\n",
              "<style scoped>\n",
              "    .dataframe tbody tr th:only-of-type {\n",
              "        vertical-align: middle;\n",
              "    }\n",
              "\n",
              "    .dataframe tbody tr th {\n",
              "        vertical-align: top;\n",
              "    }\n",
              "\n",
              "    .dataframe thead th {\n",
              "        text-align: right;\n",
              "    }\n",
              "</style>\n",
              "<table border=\"1\" class=\"dataframe\">\n",
              "  <thead>\n",
              "    <tr style=\"text-align: right;\">\n",
              "      <th></th>\n",
              "      <th>time</th>\n",
              "      <th>Abysmal Butler</th>\n",
              "      <th>Abysmal Butler w2 N*2</th>\n",
              "      <th>w-w2</th>\n",
              "    </tr>\n",
              "  </thead>\n",
              "  <tbody>\n",
              "    <tr>\n",
              "      <th>0</th>\n",
              "      <td>0.000</td>\n",
              "      <td>1.000000</td>\n",
              "      <td>1.000000</td>\n",
              "      <td>0.000000</td>\n",
              "    </tr>\n",
              "    <tr>\n",
              "      <th>1</th>\n",
              "      <td>0.125</td>\n",
              "      <td>0.925223</td>\n",
              "      <td>0.925223</td>\n",
              "      <td>0.000000</td>\n",
              "    </tr>\n",
              "    <tr>\n",
              "      <th>2</th>\n",
              "      <td>0.250</td>\n",
              "      <td>0.912667</td>\n",
              "      <td>0.892595</td>\n",
              "      <td>0.020072</td>\n",
              "    </tr>\n",
              "    <tr>\n",
              "      <th>3</th>\n",
              "      <td>0.375</td>\n",
              "      <td>0.897042</td>\n",
              "      <td>0.869112</td>\n",
              "      <td>0.027930</td>\n",
              "    </tr>\n",
              "    <tr>\n",
              "      <th>4</th>\n",
              "      <td>0.500</td>\n",
              "      <td>0.890782</td>\n",
              "      <td>0.853975</td>\n",
              "      <td>0.036807</td>\n",
              "    </tr>\n",
              "  </tbody>\n",
              "</table>\n",
              "</div>"
            ],
            "text/plain": [
              "    time  Abysmal Butler  Abysmal Butler w2 N*2      w-w2\n",
              "0  0.000        1.000000               1.000000  0.000000\n",
              "1  0.125        0.925223               0.925223  0.000000\n",
              "2  0.250        0.912667               0.892595  0.020072\n",
              "3  0.375        0.897042               0.869112  0.027930\n",
              "4  0.500        0.890782               0.853975  0.036807"
            ]
          },
          "metadata": {},
          "execution_count": 9
        }
      ]
    },
    {
      "cell_type": "code",
      "metadata": {
        "id": "vae0CQb0P7C9"
      },
      "source": [
        ""
      ],
      "execution_count": 9,
      "outputs": []
    }
  ]
}