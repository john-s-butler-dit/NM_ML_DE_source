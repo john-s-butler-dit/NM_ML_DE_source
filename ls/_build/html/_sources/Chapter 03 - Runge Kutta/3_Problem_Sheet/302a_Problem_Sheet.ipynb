{
  "nbformat": 4,
  "nbformat_minor": 0,
  "metadata": {
    "kernelspec": {
      "display_name": "Python 3",
      "language": "python",
      "name": "python3"
    },
    "language_info": {
      "codemirror_mode": {
        "name": "ipython",
        "version": 3
      },
      "file_extension": ".py",
      "mimetype": "text/x-python",
      "name": "python",
      "nbconvert_exporter": "python",
      "pygments_lexer": "ipython3",
      "version": "3.7.9"
    },
    "colab": {
      "name": "01_RK Mid point Example.ipynb",
      "provenance": [],
      "include_colab_link": true
    }
  },
  "cells": [
    {
      "cell_type": "markdown",
      "metadata": {
        "id": "view-in-github",
        "colab_type": "text"
      },
      "source": [
        "<a href=\"https://colab.research.google.com/github/john-s-butler-dit/Numerical-Analysis-Python/blob/master/Chapter%2003%20-%20Runge%20Kutta/Supplementary/01_RK%20Mid%20point%20Example.ipynb\" target=\"_parent\"><img src=\"https://colab.research.google.com/assets/colab-badge.svg\" alt=\"Open In Colab\"/></a>"
      ]
    },
    {
      "cell_type": "markdown",
      "metadata": {
        "id": "2NxRpBFOjCMD"
      },
      "source": [
        "# Problem Sheet 3 Question 1\n",
        "\n",
        "The general form of the population growth differential equation\n",
        "\\begin{equation} y^{'}=t-y, \\ \\ (0 \\leq t \\leq 4) \\end{equation}\n",
        "with the initial condition\n",
        "\\begin{equation}y(0)=1,\\end{equation}\n",
        "Has the exact soulation. \\begin{equation} y= 2e^{-t}+t-1\\end{equation}\n",
        "\n"
      ]
    },
    {
      "cell_type": "markdown",
      "metadata": {
        "id": "dYY0UlPajCMG"
      },
      "source": [
        "#### Setting up Libraries"
      ]
    },
    {
      "cell_type": "code",
      "metadata": {
        "id": "XPTGnCYojCMG"
      },
      "source": [
        "import numpy as np\n",
        "import math \n",
        "\n",
        "%matplotlib inline\n",
        "import matplotlib.pyplot as plt # side-stepping mpl backend\n",
        "import matplotlib.gridspec as gridspec # subplots\n",
        "import warnings\n",
        "\n",
        "warnings.filterwarnings(\"ignore\")\n"
      ],
      "execution_count": null,
      "outputs": []
    },
    {
      "cell_type": "markdown",
      "metadata": {
        "id": "XnWOiUj8jCMH"
      },
      "source": [
        "## Defining the function\n",
        "\\begin{equation}f(t,y)=t-y$$ "
      ]
    },
    {
      "cell_type": "code",
      "metadata": {
        "id": "1m_TzjOkjCMI"
      },
      "source": [
        "def myfun_ty(t,y):\n",
        "    return t-y"
      ],
      "execution_count": null,
      "outputs": []
    },
    {
      "cell_type": "markdown",
      "metadata": {
        "id": "3fZZFThCjCMI"
      },
      "source": [
        "## Initial Setup\n",
        "Defining the step size $h$ from the interval range $a\\leq t \\leq b$ and number of steps $N$\n",
        "\\begin{equation}h=\\frac{b-a}{h}.\\end{equation}\n",
        "This gives the discrete time steps,\n",
        "\\begin{equation}t_{i}=t_0+ih,\\end{equation}\n",
        "where $t_0=a$."
      ]
    },
    {
      "cell_type": "code",
      "metadata": {
        "id": "pkNsSMSejCMJ"
      },
      "source": [
        "# Start and end of interval\n",
        "b=4\n",
        "a=0\n",
        "# Step size\n",
        "N=8\n",
        "h=(b-a)/(N)\n",
        "t=np.arange(a,b+h,h)"
      ],
      "execution_count": null,
      "outputs": []
    },
    {
      "cell_type": "markdown",
      "metadata": {
        "id": "ohaaaibrjCMK"
      },
      "source": [
        "## Setting up the initial conditions of the equation\n",
        "\\begin{equation}w_0=IC\\end{equation}\n"
      ]
    },
    {
      "cell_type": "code",
      "metadata": {
        "id": "L_3I5aV1jCMK"
      },
      "source": [
        "# Initial Condition\n",
        "IC=1\n",
        "w=np.zeros(N+1)\n",
        "y=(IC+1)*np.exp(-t)+t-1#np.zeros(N+1)\n",
        "w[0]=IC"
      ],
      "execution_count": null,
      "outputs": []
    },
    {
      "cell_type": "markdown",
      "metadata": {
        "id": "dHp7T0yljCML"
      },
      "source": [
        "## 2nd Order Runge Kutta (Mid-method)\n",
        "\\begin{equation}k_1=f(t,y),\\end{equation}\n",
        "\\begin{equation}k_2=f(t+\\frac{h}{2},y+\\frac{h}{2}k_2),\\end{equation}\n",
        "\\begin{equation}w_{i+1}=w_{i}+h(k_2).\\end{equation}"
      ]
    },
    {
      "cell_type": "code",
      "metadata": {
        "id": "s-RKZaYhjCML"
      },
      "source": [
        "for k in range (0,N):\n",
        "    k1=myfun_ty(t[k],w[k])\n",
        "    k2=myfun_ty(t[k]+h/2,w[k]+h/2*k1)\n",
        "    w[k+1]=w[k]+h*(k2)"
      ],
      "execution_count": null,
      "outputs": []
    },
    {
      "cell_type": "markdown",
      "metadata": {
        "id": "o9MEukAejCML"
      },
      "source": [
        "## Plotting Results"
      ]
    },
    {
      "cell_type": "code",
      "metadata": {
        "id": "ewTwltbdjCMM",
        "outputId": "e9957bef-1f21-41d4-db0c-905d798be038"
      },
      "source": [
        "fig = plt.figure(figsize=(10,4))\n",
        "# --- left hand plot\n",
        "ax = fig.add_subplot(1,3,1)\n",
        "plt.plot(t,w, '--',color='blue')\n",
        "#ax.legend(loc='best')\n",
        "plt.title('Numerical Solution h=%s'%(h))\n",
        "\n",
        "ax = fig.add_subplot(1,3,2)\n",
        "plt.plot(t,y,color='black')\n",
        "plt.title('Exact Solution ')\n",
        "\n",
        "ax = fig.add_subplot(1,3,3)\n",
        "plt.plot(t,y-w, 'o',color='red')\n",
        "plt.title('Error')\n",
        "# --- title, explanatory text and save\n",
        "fig.suptitle(r\"$y'=t-y,   y(0)=%s$\"%(IC), fontsize=20)\n",
        "plt.tight_layout()\n",
        "plt.subplots_adjust(top=0.85)    "
      ],
      "execution_count": null,
      "outputs": [
        {
          "data": {
            "image/png": "[encoded data removed]",
            "text/plain": [
              "<Figure size 720x288 with 3 Axes>"
            ]
          },
          "metadata": {
            "needs_background": "light"
          },
          "output_type": "display_data"
        }
      ]
    },
    {
      "cell_type": "code",
      "metadata": {
        "id": "FxeEoKU5jCMN"
      },
      "source": [
        ""
      ],
      "execution_count": null,
      "outputs": []
    },
    {
      "cell_type": "code",
      "metadata": {
        "id": "Qx3z306njCMN"
      },
      "source": [
        ""
      ],
      "execution_count": null,
      "outputs": []
    }
  ]
}