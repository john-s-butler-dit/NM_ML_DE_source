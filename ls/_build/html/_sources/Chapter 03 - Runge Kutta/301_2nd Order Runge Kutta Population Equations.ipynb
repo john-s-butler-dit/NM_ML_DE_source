{
 "cells": [
  {
   "cell_type": "markdown",
   "metadata": {
    "colab_type": "text",
    "id": "view-in-github"
   },
   "source": [
    "<a href=\"https://colab.research.google.com/github/john-s-butler-dit/Numerical-Analysis-Python/blob/master/Chapter%2003%20-%20Runge%20Kutta/301_2nd%20Order%20Runge%20Kutta%20Population%20Equations.ipynb\" target=\"_parent\"><img src=\"https://colab.research.google.com/assets/colab-badge.svg\" alt=\"Open In Colab\"/></a>"
   ]
  },
  {
   "cell_type": "markdown",
   "metadata": {
    "id": "nlr1Ru5KqTRX"
   },
   "source": [
    "# Application of 2nd order Runge Kutta to Populations Equations\n",
    "\n",
    "This notebook implements the 2nd Order Runge Kutta method for three different population intial value problems.\n",
    "\n",
    "# 2nd Order Runge Kutta\n",
    "The general 2nd Order Runge Kutta method for to the first order differential equation\n",
    "\\begin{equation} y^{'} = f(t,y) \\end{equation}\n",
    "numerical approximates $y$ the at time point $t_i$ as $w_i$\n",
    "with the  formula:\n",
    "\\begin{equation} w_{i+1}=w_i+\\frac{h}{2}\\big[k_1+k_2],\\end{equation}\n",
    "for $i=0,...,N-1$, where \n",
    "\\begin{equation}k_1=f(t_i,w_i),\\end{equation}\n",
    "and\n",
    "\\begin{equation}k_2=f(t_i+h,w_i+hk_1),\\end{equation}\n",
    "and $h$ is the stepsize.\n",
    "\n",
    "To illustrate the method we will apply it to three intial value problems:\n",
    "## 1. Linear \n",
    "Consider the linear population Differential Equation\n",
    "\\begin{equation} y^{'}=0.1y, \\ \\ (2000 \\leq t \\leq 2020), \\end{equation}\n",
    "with the initial condition,\n",
    "\\begin{equation}y(2000)=6.\\end{equation}\n",
    "\n",
    "## 2. Non-Linear Population Equation \n",
    "Consider the non-linear population Differential Equation\n",
    "\\begin{equation} y^{'}=0.2y-0.01y^2, \\ \\ (2000 \\leq t \\leq 2020), \\end{equation}\n",
    "with the initial condition,\n",
    "\\begin{equation}y(2000)=6.\\end{equation}\n",
    "\n",
    "## 3. Non-Linear Population Equation with an oscillation \n",
    "Consider the non-linear population Differential Equation with an oscillation \n",
    "\\begin{equation} y^{'}=0.2y-0.01y^2+\\sin(2\\pi t), \\ \\ (2000 \\leq t \\leq 2020), \\end{equation}\n",
    "with the initial condition,\n",
    "\\begin{equation}y(2000)=6.\\end{equation}"
   ]
  },
  {
   "cell_type": "markdown",
   "metadata": {
    "id": "5BKUkz0jqTRZ"
   },
   "source": [
    "### Setting up Libraries"
   ]
  },
  {
   "cell_type": "code",
   "execution_count": 1,
   "metadata": {
    "id": "F6L7k675qTRa"
   },
   "outputs": [],
   "source": [
    "## Library\n",
    "import numpy as np\n",
    "import math \n",
    "import pandas as pd\n",
    "%matplotlib inline\n",
    "import matplotlib.pyplot as plt # side-stepping mpl backend\n",
    "import matplotlib.gridspec as gridspec # subplots\n",
    "import warnings\n",
    "\n",
    "warnings.filterwarnings(\"ignore\")\n",
    "\n"
   ]
  },
  {
   "cell_type": "markdown",
   "metadata": {
    "id": "pzykh1q-qTRf"
   },
   "source": [
    "### Discrete Interval\n",
    "The continuous time $a\\leq t \\leq b $ is discretised into $N$ points seperated by a constant stepsize\n",
    "\\begin{equation} h=\\frac{b-a}{N}.\\end{equation}\n",
    "Here, the interval is $2000\\leq t \\leq 2020,$ \n",
    "\\begin{equation} h=\\frac{2020-2000}{200}=0.1.\\end{equation}\n",
    "This gives the 201 discrete points:\n",
    "\\begin{equation} t_0=2000, \\ t_1=2000.1, \\ ... t_{200}=2020. \\end{equation}\n",
    "This is generalised to \n",
    "\\begin{equation} t_i=2000+i0.1, \\ \\ \\ i=0,1,...,200.\\end{equation}\n",
    "The plot below shows the discrete time steps:"
   ]
  },
  {
   "cell_type": "code",
   "execution_count": 2,
   "metadata": {
    "colab": {
     "base_uri": "https://localhost:8080/",
     "height": 281
    },
    "id": "OYX2NEUfqTRg",
    "outputId": "6b6b7023-72b9-4506-d9c0-80831731ce68"
   },
   "outputs": [
    {
     "data": {
      "image/png": "[encoded data removed]",
      "text/plain": [
       "<Figure size 720x288 with 1 Axes>"
      ]
     },
     "metadata": {
      "needs_background": "light"
     },
     "output_type": "display_data"
    }
   ],
   "source": [
    "N=200\n",
    "t_end=2020.0\n",
    "t_start=2000.0\n",
    "h=((t_end-t_start)/N)\n",
    "t=np.arange(t_start,t_end+h/2,h)\n",
    "fig = plt.figure(figsize=(10,4))\n",
    "plt.plot(t,0*t,'o:',color='red')\n",
    "plt.title('Illustration of discrete time points for h=%s'%(h))\n",
    "plt.show()"
   ]
  },
  {
   "cell_type": "markdown",
   "metadata": {
    "id": "GRQBKvheqTRj"
   },
   "source": [
    "# 1. Linear Population Equation\n",
    "## Exact Solution \n",
    "The linear population equation\n",
    "\\begin{equation} y^{'}=0.1y, \\ \\ (2000 \\leq t \\leq 2020), \\end{equation}\n",
    "with the initial condition,\n",
    "\\begin{equation} y(2000)=6.\\end{equation}\n",
    "has a known exact (analytic) solution\n",
    "\\begin{equation} y=6e^{0.1(t-2000)}. \\end{equation}\n",
    "\n",
    "### Specific 2nd Order Runge Kutta \n",
    "To write the specific 2nd Order Runge Kutta method for the linear population equation we need \n",
    "\\begin{equation}f(t,y)=0.1y.\\end{equation}"
   ]
  },
  {
   "cell_type": "code",
   "execution_count": 3,
   "metadata": {
    "id": "g36MCt9kqTRj"
   },
   "outputs": [],
   "source": [
    "def linfun(t,w):\n",
    "    ftw=0.1*w\n",
    "    return ftw"
   ]
  },
  {
   "cell_type": "markdown",
   "metadata": {
    "id": "2tri4OS9qTRm"
   },
   "source": [
    "this gives\n",
    "\\begin{equation}k_1=f(t_i,w_i)=0.lw_i,\\end{equation}\n",
    "\\begin{equation}k_2=f(t_i+h,w_i+hk_1)=0.1(w_i+hk_1),\\end{equation}\n",
    "and the difference equation\n",
    "\\begin{equation}w_{i+1}=w_{i}+\\frac{h}{2}(k_1+k_2),\\end{equation}\n",
    "for $i=0,...,199$, where $w_i$ is the numerical approximation of $y$ at time $t_i$, with step size $h$ and the initial condition\n",
    "\\begin{equation}w_0=6.\\end{equation}"
   ]
  },
  {
   "cell_type": "code",
   "execution_count": 4,
   "metadata": {
    "id": "THwmJrL2qTRm"
   },
   "outputs": [],
   "source": [
    "w=np.zeros(N+1)\n",
    "w[0]=6.0\n",
    "## 2nd Order Runge Kutta\n",
    "for k in range (0,N):\n",
    "    k1=linfun(t[k],w[k])\n",
    "    k2=linfun(t[k]+h,w[k]+h*k1)\n",
    "    w[k+1]=w[k]+h/2*(k1+k2)"
   ]
  },
  {
   "cell_type": "markdown",
   "metadata": {
    "id": "tLegBPPeqTRp"
   },
   "source": [
    "### Plotting Results"
   ]
  },
  {
   "cell_type": "code",
   "execution_count": 5,
   "metadata": {
    "colab": {
     "base_uri": "https://localhost:8080/",
     "height": 265
    },
    "id": "4LdkLbOmqTRp",
    "outputId": "89fbc076-cd5f-41ab-9b0c-a67b0be11c15"
   },
   "outputs": [
    {
     "data": {
      "image/png": "[encoded data removed]",
      "text/plain": [
       "<Figure size 576x288 with 1 Axes>"
      ]
     },
     "metadata": {
      "needs_background": "light"
     },
     "output_type": "display_data"
    }
   ],
   "source": [
    "y=6*np.exp(0.1*(t-2000))\n",
    "fig = plt.figure(figsize=(8,4))\n",
    "plt.plot(t,w,'o:',color='purple',label='Runge Kutta')\n",
    "plt.plot(t,y,'s:',color='black',label='Exact')\n",
    "plt.legend(loc='best')\n",
    "plt.show()"
   ]
  },
  {
   "cell_type": "markdown",
   "metadata": {
    "id": "SVzOXpE0qTRs"
   },
   "source": [
    "### Table\n",
    "The table below shows the time, the Runge Kutta numerical approximation, $w$,  the exact solution, $y$, and the exact error $|y(t_i)-w_i|$ for the linear population equation:"
   ]
  },
  {
   "cell_type": "code",
   "execution_count": 6,
   "metadata": {
    "colab": {
     "base_uri": "https://localhost:8080/",
     "height": 357
    },
    "id": "QaOg9JvvqTRs",
    "outputId": "f06a81c2-ac6b-4070-9f3a-d8d21f3c75c5"
   },
   "outputs": [
    {
     "data": {
      "text/html": [
       "<div>\n",
       "<style scoped>\n",
       "    .dataframe tbody tr th:only-of-type {\n",
       "        vertical-align: middle;\n",
       "    }\n",
       "\n",
       "    .dataframe tbody tr th {\n",
       "        vertical-align: top;\n",
       "    }\n",
       "\n",
       "    .dataframe thead th {\n",
       "        text-align: right;\n",
       "    }\n",
       "</style>\n",
       "<table border=\"1\" class=\"dataframe\">\n",
       "  <thead>\n",
       "    <tr style=\"text-align: right;\">\n",
       "      <th></th>\n",
       "      <th>time t_i</th>\n",
       "      <th>Runge Kutta</th>\n",
       "      <th>Exact (y)</th>\n",
       "      <th>Exact Error</th>\n",
       "    </tr>\n",
       "  </thead>\n",
       "  <tbody>\n",
       "    <tr>\n",
       "      <th>0</th>\n",
       "      <td>2000.0</td>\n",
       "      <td>6.000000</td>\n",
       "      <td>6.000000</td>\n",
       "      <td>0.000000</td>\n",
       "    </tr>\n",
       "    <tr>\n",
       "      <th>1</th>\n",
       "      <td>2000.1</td>\n",
       "      <td>6.060300</td>\n",
       "      <td>6.060301</td>\n",
       "      <td>0.000001</td>\n",
       "    </tr>\n",
       "    <tr>\n",
       "      <th>2</th>\n",
       "      <td>2000.2</td>\n",
       "      <td>6.121206</td>\n",
       "      <td>6.121208</td>\n",
       "      <td>0.000002</td>\n",
       "    </tr>\n",
       "    <tr>\n",
       "      <th>3</th>\n",
       "      <td>2000.3</td>\n",
       "      <td>6.182724</td>\n",
       "      <td>6.182727</td>\n",
       "      <td>0.000003</td>\n",
       "    </tr>\n",
       "    <tr>\n",
       "      <th>4</th>\n",
       "      <td>2000.4</td>\n",
       "      <td>6.244861</td>\n",
       "      <td>6.244865</td>\n",
       "      <td>0.000004</td>\n",
       "    </tr>\n",
       "    <tr>\n",
       "      <th>5</th>\n",
       "      <td>2000.5</td>\n",
       "      <td>6.307621</td>\n",
       "      <td>6.307627</td>\n",
       "      <td>0.000005</td>\n",
       "    </tr>\n",
       "    <tr>\n",
       "      <th>6</th>\n",
       "      <td>2000.6</td>\n",
       "      <td>6.371013</td>\n",
       "      <td>6.371019</td>\n",
       "      <td>0.000006</td>\n",
       "    </tr>\n",
       "    <tr>\n",
       "      <th>7</th>\n",
       "      <td>2000.7</td>\n",
       "      <td>6.435042</td>\n",
       "      <td>6.435049</td>\n",
       "      <td>0.000007</td>\n",
       "    </tr>\n",
       "    <tr>\n",
       "      <th>8</th>\n",
       "      <td>2000.8</td>\n",
       "      <td>6.499714</td>\n",
       "      <td>6.499722</td>\n",
       "      <td>0.000009</td>\n",
       "    </tr>\n",
       "    <tr>\n",
       "      <th>9</th>\n",
       "      <td>2000.9</td>\n",
       "      <td>6.565036</td>\n",
       "      <td>6.565046</td>\n",
       "      <td>0.000010</td>\n",
       "    </tr>\n",
       "  </tbody>\n",
       "</table>\n",
       "</div>"
      ],
      "text/plain": [
       "   time t_i  Runge Kutta  Exact (y)  Exact Error\n",
       "0    2000.0     6.000000   6.000000     0.000000\n",
       "1    2000.1     6.060300   6.060301     0.000001\n",
       "2    2000.2     6.121206   6.121208     0.000002\n",
       "3    2000.3     6.182724   6.182727     0.000003\n",
       "4    2000.4     6.244861   6.244865     0.000004\n",
       "5    2000.5     6.307621   6.307627     0.000005\n",
       "6    2000.6     6.371013   6.371019     0.000006\n",
       "7    2000.7     6.435042   6.435049     0.000007\n",
       "8    2000.8     6.499714   6.499722     0.000009\n",
       "9    2000.9     6.565036   6.565046     0.000010"
      ]
     },
     "execution_count": 6,
     "metadata": {},
     "output_type": "execute_result"
    }
   ],
   "source": [
    "\n",
    "d = {'time t_i': t[0:10],    'Runge Kutta':w[0:10],'Exact (y)':y[0:10],'Exact Error':np.abs(np.round(y[0:10]-w[0:10],10))}\n",
    "df = pd.DataFrame(data=d)\n",
    "df"
   ]
  },
  {
   "cell_type": "markdown",
   "metadata": {
    "id": "fxlfUcFyqTRv"
   },
   "source": [
    "## 2. Non-Linear Population Equation \n",
    "\\begin{equation} y^{'}=0.2y-0.01y^2, \\ \\ (2000 \\leq t \\leq 2020), \\end{equation}\n",
    "with the initial condition,\n",
    "\\begin{equation}y(2000)=6.\\end{equation}\n",
    "### Specific 2nd Order Runge Kutta for the Non-Linear Population Equation\n",
    "To write the specific 2nd Order Runge Kutta method we need\n",
    "\\begin{equation}f(t,y)=0.2y-0.01y^2,\\end{equation}\n",
    "this gives\n",
    "\\begin{equation}k_1=f(t_i,w_i)=0.2w_i-0.01w_i^2,\\end{equation}\n",
    "\\begin{equation}k_2=f(t_i+h,w_i+hk_1)=0.2(w_i+hk_1)-0.01(w_i+hk_1)^2,\\end{equation}\n",
    "and the difference equation\n",
    "\\begin{equation}w_{i+1}=w_{i}+\\frac{h}{2}(k_1+k_2),\\end{equation}\n",
    "for $i=0,...,199$, where $w_i$ is the numerical approximation of $y$ at time $t_i$, with step size $h$ and the initial condition\n",
    "\\begin{equation}w_0=6.\\end{equation}"
   ]
  },
  {
   "cell_type": "code",
   "execution_count": 7,
   "metadata": {
    "id": "4Pbq4CxMqTRw"
   },
   "outputs": [],
   "source": [
    "def nonlinfun(t,w):\n",
    "    ftw=0.2*w-0.01*w*w\n",
    "    return ftw"
   ]
  },
  {
   "cell_type": "code",
   "execution_count": 8,
   "metadata": {
    "id": "iJjUCyoHqTRy"
   },
   "outputs": [],
   "source": [
    "w=np.zeros(N+1)\n",
    "w[0]=6.0\n",
    "## 2nd Order Runge Kutta\n",
    "for k in range (0,N):\n",
    "    k1=nonlinfun(t[k],w[k])\n",
    "    k2=nonlinfun(t[k]+h,w[k]+h*k1)\n",
    "    w[k+1]=w[k]+h/2*(k1+k2)"
   ]
  },
  {
   "cell_type": "markdown",
   "metadata": {
    "id": "nSVhMIVhqTR0"
   },
   "source": [
    "### Results\n",
    "The plot below shows the Runge Kutta numerical approximation, $w$ (circles) for the non-linear population equation:"
   ]
  },
  {
   "cell_type": "code",
   "execution_count": 9,
   "metadata": {
    "colab": {
     "base_uri": "https://localhost:8080/",
     "height": 265
    },
    "id": "VGO634VDqTR0",
    "outputId": "1308b3cd-6c58-4188-e8ad-9a8f133f1607"
   },
   "outputs": [
    {
     "data": {
      "image/png": "[encoded data removed]",
      "text/plain": [
       "<Figure size 576x288 with 1 Axes>"
      ]
     },
     "metadata": {
      "needs_background": "light"
     },
     "output_type": "display_data"
    }
   ],
   "source": [
    "fig = plt.figure(figsize=(8,4))\n",
    "plt.plot(t,w,'o:',color='purple',label='Runge Kutta')\n",
    "plt.legend(loc='best')\n",
    "plt.show()"
   ]
  },
  {
   "cell_type": "markdown",
   "metadata": {
    "id": "XsDAJtseqTR2"
   },
   "source": [
    "### Table\n",
    "The table below shows the time and the Runge Kutta numerical approximation, $w$,  for the non-linear population equation:"
   ]
  },
  {
   "cell_type": "code",
   "execution_count": 10,
   "metadata": {
    "colab": {
     "base_uri": "https://localhost:8080/",
     "height": 357
    },
    "id": "2nvEBzeWqTR2",
    "outputId": "70a11520-2686-4816-c33a-37c7a7f4d242"
   },
   "outputs": [
    {
     "data": {
      "text/html": [
       "<div>\n",
       "<style scoped>\n",
       "    .dataframe tbody tr th:only-of-type {\n",
       "        vertical-align: middle;\n",
       "    }\n",
       "\n",
       "    .dataframe tbody tr th {\n",
       "        vertical-align: top;\n",
       "    }\n",
       "\n",
       "    .dataframe thead th {\n",
       "        text-align: right;\n",
       "    }\n",
       "</style>\n",
       "<table border=\"1\" class=\"dataframe\">\n",
       "  <thead>\n",
       "    <tr style=\"text-align: right;\">\n",
       "      <th></th>\n",
       "      <th>time t_i</th>\n",
       "      <th>Runge Kutta</th>\n",
       "    </tr>\n",
       "  </thead>\n",
       "  <tbody>\n",
       "    <tr>\n",
       "      <th>0</th>\n",
       "      <td>2000.0</td>\n",
       "      <td>6.000000</td>\n",
       "    </tr>\n",
       "    <tr>\n",
       "      <th>1</th>\n",
       "      <td>2000.1</td>\n",
       "      <td>6.084332</td>\n",
       "    </tr>\n",
       "    <tr>\n",
       "      <th>2</th>\n",
       "      <td>2000.2</td>\n",
       "      <td>6.169328</td>\n",
       "    </tr>\n",
       "    <tr>\n",
       "      <th>3</th>\n",
       "      <td>2000.3</td>\n",
       "      <td>6.254977</td>\n",
       "    </tr>\n",
       "    <tr>\n",
       "      <th>4</th>\n",
       "      <td>2000.4</td>\n",
       "      <td>6.341270</td>\n",
       "    </tr>\n",
       "    <tr>\n",
       "      <th>5</th>\n",
       "      <td>2000.5</td>\n",
       "      <td>6.428197</td>\n",
       "    </tr>\n",
       "    <tr>\n",
       "      <th>6</th>\n",
       "      <td>2000.6</td>\n",
       "      <td>6.515747</td>\n",
       "    </tr>\n",
       "    <tr>\n",
       "      <th>7</th>\n",
       "      <td>2000.7</td>\n",
       "      <td>6.603909</td>\n",
       "    </tr>\n",
       "    <tr>\n",
       "      <th>8</th>\n",
       "      <td>2000.8</td>\n",
       "      <td>6.692672</td>\n",
       "    </tr>\n",
       "    <tr>\n",
       "      <th>9</th>\n",
       "      <td>2000.9</td>\n",
       "      <td>6.782025</td>\n",
       "    </tr>\n",
       "  </tbody>\n",
       "</table>\n",
       "</div>"
      ],
      "text/plain": [
       "   time t_i  Runge Kutta\n",
       "0    2000.0     6.000000\n",
       "1    2000.1     6.084332\n",
       "2    2000.2     6.169328\n",
       "3    2000.3     6.254977\n",
       "4    2000.4     6.341270\n",
       "5    2000.5     6.428197\n",
       "6    2000.6     6.515747\n",
       "7    2000.7     6.603909\n",
       "8    2000.8     6.692672\n",
       "9    2000.9     6.782025"
      ]
     },
     "execution_count": 10,
     "metadata": {},
     "output_type": "execute_result"
    }
   ],
   "source": [
    "d = {'time t_i': t[0:10], \n",
    "     'Runge Kutta':w[0:10]}\n",
    "df = pd.DataFrame(data=d)\n",
    "df"
   ]
  },
  {
   "cell_type": "markdown",
   "metadata": {
    "id": "alLm7_PfqTR4"
   },
   "source": [
    "## 3. Non-Linear Population Equation with an oscilation \n",
    "\\begin{equation} y^{'}=0.2y-0.01y^2+\\sin(2\\pi t), \\ \\ (2000 \\leq t \\leq 2020), \\end{equation}\n",
    "with the initial condition,\n",
    "\\begin{equation}y(2000)=6.\\end{equation}\n",
    "\n",
    "### Specific 2nd Order Runge Kutta for the Non-Linear Population Equation with an oscilation\n",
    "To write the specific 2nd Order Runge Kutta difference equation for the intial value problem we need \n",
    "\\begin{equation}f(t,y)=0.2y-0.01y^2+\\sin(2\\pi t),\\end{equation}\n",
    "which gives\n",
    "\\begin{equation}k_1=f(t_i,w_i)=0.2w_i-0.01w_i^2+\\sin(2\\pi t_i),\\end{equation}\n",
    "\\begin{equation}k_2=f(t_i+h,w_i+hk_1)=0.2(w_i+hk_1)-0.01(w_i+hk_1)^2+\\sin(2\\pi (t_i+h)),\\end{equation}\n",
    "and the difference equation\n",
    "\\begin{equation}w_{i+1}=w_{i}+\\frac{h}{2}(k_1+k_2),\\end{equation}\n",
    "for $i=0,...,199$, where $w_i$ is the numerical approximation of $y$ at time $t_i$, with step size $h$ and the initial condition\n",
    "\\begin{equation}w_0=6.\\end{equation}"
   ]
  },
  {
   "cell_type": "code",
   "execution_count": 11,
   "metadata": {
    "id": "KcPh153LqTR4"
   },
   "outputs": [],
   "source": [
    "def nonlin_oscfun(t,w):\n",
    "    ftw=0.2*w-0.01*w*w+np.sin(2*np.math.pi*t)\n",
    "    return ftw"
   ]
  },
  {
   "cell_type": "code",
   "execution_count": 12,
   "metadata": {
    "id": "XqdqPm6ZqTR6"
   },
   "outputs": [],
   "source": [
    "w=np.zeros(N+1)\n",
    "w[0]=6.0\n",
    "## 2nd Order Runge Kutta\n",
    "for k in range (0,N):\n",
    "    k1=nonlin_oscfun(t[k],w[k])\n",
    "    k2=nonlin_oscfun(t[k]+h,w[k]+h*k1)\n",
    "    w[k+1]=w[k]+h/2*(k1+k2)"
   ]
  },
  {
   "cell_type": "markdown",
   "metadata": {
    "id": "EqJ4WI_VqTR8"
   },
   "source": [
    "### Results\n",
    "The plot below shows the 2nd order Runge Kutta numerical approximation, $w$ (circles) for the non-linear population equation:"
   ]
  },
  {
   "cell_type": "code",
   "execution_count": 13,
   "metadata": {
    "colab": {
     "base_uri": "https://localhost:8080/",
     "height": 265
    },
    "id": "iHNXCSpHqTR8",
    "outputId": "cd12a47b-6d84-498b-e9e2-939f3dfa292f"
   },
   "outputs": [
    {
     "data": {
      "image/png": "[encoded data removed]",
      "text/plain": [
       "<Figure size 576x288 with 1 Axes>"
      ]
     },
     "metadata": {
      "needs_background": "light"
     },
     "output_type": "display_data"
    }
   ],
   "source": [
    "fig = plt.figure(figsize=(8,4))\n",
    "plt.plot(t,w,'o:',color='purple',label='Taylor')\n",
    "plt.legend(loc='best')\n",
    "plt.show()"
   ]
  },
  {
   "cell_type": "markdown",
   "metadata": {
    "id": "tzflYVlOqTR9"
   },
   "source": [
    "## Table\n",
    "The table below shows the time and the 2nd order Runge Kutta numerical approximation, $w$,  for the non-linear population equation:"
   ]
  },
  {
   "cell_type": "code",
   "execution_count": 14,
   "metadata": {
    "colab": {
     "base_uri": "https://localhost:8080/",
     "height": 357
    },
    "id": "Mj0ZTItPqTR-",
    "outputId": "ff9762d1-564c-4b4d-c7a7-1f839556712d"
   },
   "outputs": [
    {
     "data": {
      "text/html": [
       "<div>\n",
       "<style scoped>\n",
       "    .dataframe tbody tr th:only-of-type {\n",
       "        vertical-align: middle;\n",
       "    }\n",
       "\n",
       "    .dataframe tbody tr th {\n",
       "        vertical-align: top;\n",
       "    }\n",
       "\n",
       "    .dataframe thead th {\n",
       "        text-align: right;\n",
       "    }\n",
       "</style>\n",
       "<table border=\"1\" class=\"dataframe\">\n",
       "  <thead>\n",
       "    <tr style=\"text-align: right;\">\n",
       "      <th></th>\n",
       "      <th>time t_i</th>\n",
       "      <th>Runge Kutta</th>\n",
       "    </tr>\n",
       "  </thead>\n",
       "  <tbody>\n",
       "    <tr>\n",
       "      <th>0</th>\n",
       "      <td>2000.0</td>\n",
       "      <td>6.000000</td>\n",
       "    </tr>\n",
       "    <tr>\n",
       "      <th>1</th>\n",
       "      <td>2000.1</td>\n",
       "      <td>6.113722</td>\n",
       "    </tr>\n",
       "    <tr>\n",
       "      <th>2</th>\n",
       "      <td>2000.2</td>\n",
       "      <td>6.276109</td>\n",
       "    </tr>\n",
       "    <tr>\n",
       "      <th>3</th>\n",
       "      <td>2000.3</td>\n",
       "      <td>6.458005</td>\n",
       "    </tr>\n",
       "    <tr>\n",
       "      <th>4</th>\n",
       "      <td>2000.4</td>\n",
       "      <td>6.623032</td>\n",
       "    </tr>\n",
       "    <tr>\n",
       "      <th>5</th>\n",
       "      <td>2000.5</td>\n",
       "      <td>6.741504</td>\n",
       "    </tr>\n",
       "    <tr>\n",
       "      <th>6</th>\n",
       "      <td>2000.6</td>\n",
       "      <td>6.801784</td>\n",
       "    </tr>\n",
       "    <tr>\n",
       "      <th>7</th>\n",
       "      <td>2000.7</td>\n",
       "      <td>6.814712</td>\n",
       "    </tr>\n",
       "    <tr>\n",
       "      <th>8</th>\n",
       "      <td>2000.8</td>\n",
       "      <td>6.809444</td>\n",
       "    </tr>\n",
       "    <tr>\n",
       "      <th>9</th>\n",
       "      <td>2000.9</td>\n",
       "      <td>6.822305</td>\n",
       "    </tr>\n",
       "  </tbody>\n",
       "</table>\n",
       "</div>"
      ],
      "text/plain": [
       "   time t_i  Runge Kutta\n",
       "0    2000.0     6.000000\n",
       "1    2000.1     6.113722\n",
       "2    2000.2     6.276109\n",
       "3    2000.3     6.458005\n",
       "4    2000.4     6.623032\n",
       "5    2000.5     6.741504\n",
       "6    2000.6     6.801784\n",
       "7    2000.7     6.814712\n",
       "8    2000.8     6.809444\n",
       "9    2000.9     6.822305"
      ]
     },
     "execution_count": 14,
     "metadata": {},
     "output_type": "execute_result"
    }
   ],
   "source": [
    "d = {'time t_i': t[0:10], \n",
    "     'Runge Kutta':w[0:10]}\n",
    "df = pd.DataFrame(data=d)\n",
    "df"
   ]
  }
 ],
 "metadata": {
  "colab": {
   "include_colab_link": true,
   "name": "301_2nd Order Runge Kutta Population Equations.ipynb",
   "provenance": []
  },
  "kernelspec": {
   "display_name": "Python 3 (ipykernel)",
   "language": "python",
   "name": "python3"
  },
  "language_info": {
   "codemirror_mode": {
    "name": "ipython",
    "version": 3
   },
   "file_extension": ".py",
   "mimetype": "text/x-python",
   "name": "python",
   "nbconvert_exporter": "python",
   "pygments_lexer": "ipython3",
   "version": "3.11.4"
  }
 },
 "nbformat": 4,
 "nbformat_minor": 1
}
