{
  "nbformat": 4,
  "nbformat_minor": 0,
  "metadata": {
    "kernelspec": {
      "display_name": "Python 3",
      "language": "python",
      "name": "python3"
    },
    "language_info": {
      "codemirror_mode": {
        "name": "ipython",
        "version": 3
      },
      "file_extension": ".py",
      "mimetype": "text/x-python",
      "name": "python",
      "nbconvert_exporter": "python",
      "pygments_lexer": "ipython3",
      "version": "3.7.3"
    },
    "colab": {
      "name": "402_Adams Bashforth Population Equations.ipynb",
      "provenance": [],
      "include_colab_link": true
    }
  },
  "cells": [
    {
      "cell_type": "markdown",
      "metadata": {
        "id": "view-in-github",
        "colab_type": "text"
      },
      "source": [
        "<a href=\"https://colab.research.google.com/github/john-s-butler-dit/Numerical-Analysis-Python/blob/master/Chapter%2004%20-%20Multistep%20Methods/402_Adams%20Bashforth%20Population%20Equations.ipynb\" target=\"_parent\"><img src=\"https://colab.research.google.com/assets/colab-badge.svg\" alt=\"Open In Colab\"/></a>"
      ]
    },
    {
      "cell_type": "markdown",
      "metadata": {
        "id": "tT1kZRa2aNbd"
      },
      "source": [
        "# 2 Step Adam Bashforth \n",
        "#### John S Butler \n",
        "john.s.butler@tudublin.ie  \n",
        "[Course Notes](https://johnsbutler.netlify.com/files/Teaching/Numerical_Analysis_for_Differential_Equations.pdf)    [Github](https://github.com/john-s-butler-dit/Numerical-Analysis-Python)\n",
        "\n",
        "\n",
        "\n",
        "This notebook implements the 2 step Adams Bashforth method for three different population intial value problems.\n",
        "\n",
        "# Formula\n",
        "The general 2 step Adams-Bashforth method for the first order differential equation\n",
        "\\begin{equation} y^{'} = f(t,y), \\end{equation}\n",
        "numerical approximates $y$ the at time point $t_i$ as $w_i$\n",
        "with the  formula:\n",
        "\\begin{equation} w_{i+1}=w_i+\\frac{h}{2}\\big[3f(t_i,w_i)-f(t_{i-1},w_{i-1})\\big],\\end{equation}\n",
        "for $i=0,...,N-1$, where \n",
        "\n",
        "and $h$ is the stepsize.\n",
        "\n",
        "To illustrate the method we will apply it to three intial value problems:\n",
        "## 1. Linear \n",
        "Consider the linear population Differential Equation\n",
        "\\begin{equation} y^{'}=0.1y, \\ \\ (2000 \\leq t \\leq 2020), \\end{equation}\n",
        "with the initial condition,\n",
        "\\begin{equation}y(2000)=6.\\end{equation}\n",
        "\n",
        "## 2. Non-Linear Population Equation \n",
        "Consider the non-linear population Differential Equation\n",
        "\\begin{equation} y^{'}=0.2y-0.01y^2, \\ \\ (2000 \\leq t \\leq 2020), \\end{equation}\n",
        "with the initial condition,\n",
        "\\begin{equation}y(2000)=6.\\end{equation}\n",
        "\n",
        "## 3. Non-Linear Population Equation with an oscillation \n",
        "Consider the non-linear population Differential Equation with an oscillation \n",
        "\\begin{equation} y^{'}=0.2y-0.01y^2+\\sin(2\\pi t), \\ \\ (2000 \\leq t \\leq 2020), \\end{equation}\n",
        "with the initial condition,\n",
        "\\begin{equation}y(2000)=6.\\end{equation}"
      ]
    },
    {
      "cell_type": "markdown",
      "metadata": {
        "id": "Ea_Jx1iBaNbf"
      },
      "source": [
        "#### Setting up Libraries"
      ]
    },
    {
      "cell_type": "code",
      "metadata": {
        "id": "cL3QkPThaNbg"
      },
      "source": [
        "## Library\n",
        "import numpy as np\n",
        "import math \n",
        "import pandas as pd\n",
        "\n",
        "%matplotlib inline\n",
        "import matplotlib.pyplot as plt # side-stepping mpl backend\n",
        "import matplotlib.gridspec as gridspec # subplots\n",
        "import warnings\n",
        "\n",
        "warnings.filterwarnings(\"ignore\")"
      ],
      "execution_count": 15,
      "outputs": []
    },
    {
      "cell_type": "markdown",
      "metadata": {
        "id": "SYUkyLUiaNbl"
      },
      "source": [
        "## Discrete Interval\n",
        "The continuous time $a\\leq t \\leq b $ is discretised into $N$ points seperated by a constant stepsize\n",
        "\\begin{equation} h=\\frac{b-a}{N}.\\end{equation}\n",
        "Here the interval is $2000\\leq t \\leq 2020,$ \n",
        "\\begin{equation} h=\\frac{2020-2000}{200}=0.1.\\end{equation}\n",
        "This gives the 201 discrete points:\n",
        "\\begin{equation} t_0=2000, \\ t_1=2000.1, \\ ... t_{200}=2020. \\end{equation}\n",
        "This is generalised to \n",
        "\\begin{equation} t_i=2000+i0.1, \\ \\ \\ i=0,1,...,200.\\end{equation}\n",
        "The plot below shows the discrete time steps:"
      ]
    },
    {
      "cell_type": "code",
      "metadata": {
        "id": "gf-GKCD4aNbm",
        "outputId": "e5ce652a-6de4-47bb-fecb-8c9ac5768dc6",
        "colab": {
          "base_uri": "https://localhost:8080/",
          "height": 298
        }
      },
      "source": [
        "### DISCRETE TIME\n",
        "N=20\n",
        "t_end=2020.0\n",
        "t_start=2000.0\n",
        "h=((t_end-t_start)/N)\n",
        "t=np.arange(t_start,t_end+h/2,h)\n",
        "\n",
        "## PLOTS TIME\n",
        "fig = plt.figure(figsize=(10,4))\n",
        "plt.plot(t,0*t,'o:',color='red')\n",
        "plt.title('Illustration of discrete time points for h=%s'%(h))\n",
        "plt.show()\n",
        "len(t)"
      ],
      "execution_count": 16,
      "outputs": [
        {
          "output_type": "display_data",
          "data": {
            "image/png": "[encoded data removed]",
            "text/plain": [
              "<Figure size 720x288 with 1 Axes>"
            ]
          },
          "metadata": {
            "needs_background": "light"
          }
        },
        {
          "output_type": "execute_result",
          "data": {
            "text/plain": [
              "21"
            ]
          },
          "metadata": {},
          "execution_count": 16
        }
      ]
    },
    {
      "cell_type": "markdown",
      "metadata": {
        "id": "v28phthjaNbq"
      },
      "source": [
        "# 1. Linear Population Equation\n",
        "## Exact Solution \n",
        "The linear population equation\n",
        "\\begin{equation} y^{'}=0.1y, \\ \\ (2000 \\leq t \\leq 2020), \\end{equation}\n",
        "with the initial condition,\n",
        "\\begin{equation}y(2000)=6.\\end{equation}\n",
        "has a known exact (analytic) solution\n",
        "\\begin{equation} y(t)=6e^{0.1(t-2000)}. \\end{equation}\n",
        "\n",
        "## Specific 2 step Adams Bashforth\n",
        "The specific 2 step Adams Bashforth for the linear population equation is:\n",
        "\n",
        "\\begin{equation}w_{i+1}=w_{i}+\\frac{h}{2}\\big[3(f(t_i,w_i))-f(t_{i-1},w_{i-1}))\\big] \\end{equation}\n",
        "where\n",
        "\\begin{equation}f(t,y)=0.1y.\\end{equation}"
      ]
    },
    {
      "cell_type": "code",
      "metadata": {
        "id": "gY78y12QaNbq"
      },
      "source": [
        "## THIS IS THE RIGHT HANDSIDE OF THE LINEAR POPULATION DIFFERENTIAL \n",
        "## EQUATION\n",
        "def linfun(t,w):\n",
        "    ftw=0.1*w\n",
        "    return ftw"
      ],
      "execution_count": 17,
      "outputs": []
    },
    {
      "cell_type": "markdown",
      "metadata": {
        "id": "nWsedHwUaNbs"
      },
      "source": [
        "this gives\n",
        "\n",
        "\\begin{equation} w_{i+1}=w_{i}+\\frac{0.1}{2}\\big[ 3(0.1w_i)-0.1w_{i-1} \\big]\\end{equation}\n",
        "for $i=1,...,199$, where $w_i$ is the numerical approximation of $y$ at time $t_i$, with step size $h$ and the initial condition\n",
        "\\begin{equation}w_0=6.\\end{equation}"
      ]
    },
    {
      "cell_type": "code",
      "metadata": {
        "id": "JluvNM93aNbt"
      },
      "source": [
        "### INSERT METHOD HERE\n",
        "w=np.zeros(N+1) # a list of 2000+1 zeros\n",
        "w[0]=6 # INITIAL CONDITION\n",
        "w[1]=6.06\n",
        "for i in range(1,N):\n",
        "    w[i+1]=w[i]+h/2*(3*linfun(t[i],w[i])-linfun(t[i-1],w[i-1]))\n"
      ],
      "execution_count": 18,
      "outputs": []
    },
    {
      "cell_type": "markdown",
      "metadata": {
        "id": "UXkHGtmuaNbv"
      },
      "source": [
        "## Plotting Results"
      ]
    },
    {
      "cell_type": "code",
      "metadata": {
        "id": "kzfRp2p1aNbv",
        "outputId": "6bac5104-2832-4707-ee6c-c6325966e480",
        "colab": {
          "base_uri": "https://localhost:8080/",
          "height": 265
        }
      },
      "source": [
        "## PLOTTING METHOD\n",
        "y=6*np.exp(0.1*(t-2000)) # EXACT SOLUTION\n",
        "fig = plt.figure(figsize=(8,4))\n",
        "plt.plot(t,w,'o:',color='purple',label='Taylor')\n",
        "plt.plot(t,y,'s:',color='black',label='Exact')\n",
        "plt.legend(loc='best')\n",
        "plt.show()"
      ],
      "execution_count": 19,
      "outputs": [
        {
          "output_type": "display_data",
          "data": {
            "image/png": "[encoded data removed]",
            "text/plain": [
              "<Figure size 576x288 with 1 Axes>"
            ]
          },
          "metadata": {
            "needs_background": "light"
          }
        }
      ]
    },
    {
      "cell_type": "markdown",
      "metadata": {
        "id": "dTcc7pw5aNbx"
      },
      "source": [
        "## Table\n",
        "The table below shows the time, the numerical approximation, $w$,  the exact solution, $y$, and the exact error $|y(t_i)-w_i|$ for the linear population equation:"
      ]
    },
    {
      "cell_type": "code",
      "metadata": {
        "id": "R9kr9RdCaNbx",
        "outputId": "e76c795a-475a-411d-a7b2-9b9933cb36d1",
        "colab": {
          "base_uri": "https://localhost:8080/",
          "height": 696
        }
      },
      "source": [
        "\n",
        "\n",
        "d = {'time t_i': t, 'Adams w': w,'Exact y(t_i)':y,'Exact Error |w_i-y_i|':np.abs(y-w)}\n",
        "df = pd.DataFrame(data=d)\n",
        "df"
      ],
      "execution_count": 20,
      "outputs": [
        {
          "output_type": "execute_result",
          "data": {
            "text/html": [
              "<div>\n",
              "<style scoped>\n",
              "    .dataframe tbody tr th:only-of-type {\n",
              "        vertical-align: middle;\n",
              "    }\n",
              "\n",
              "    .dataframe tbody tr th {\n",
              "        vertical-align: top;\n",
              "    }\n",
              "\n",
              "    .dataframe thead th {\n",
              "        text-align: right;\n",
              "    }\n",
              "</style>\n",
              "<table border=\"1\" class=\"dataframe\">\n",
              "  <thead>\n",
              "    <tr style=\"text-align: right;\">\n",
              "      <th></th>\n",
              "      <th>time t_i</th>\n",
              "      <th>Adams w</th>\n",
              "      <th>Exact y(t_i)</th>\n",
              "      <th>Exact Error |w_i-y_i|</th>\n",
              "    </tr>\n",
              "  </thead>\n",
              "  <tbody>\n",
              "    <tr>\n",
              "      <th>0</th>\n",
              "      <td>2000.0</td>\n",
              "      <td>6.000000</td>\n",
              "      <td>6.000000</td>\n",
              "      <td>0.000000</td>\n",
              "    </tr>\n",
              "    <tr>\n",
              "      <th>1</th>\n",
              "      <td>2001.0</td>\n",
              "      <td>6.060000</td>\n",
              "      <td>6.631026</td>\n",
              "      <td>0.571026</td>\n",
              "    </tr>\n",
              "    <tr>\n",
              "      <th>2</th>\n",
              "      <td>2002.0</td>\n",
              "      <td>6.669000</td>\n",
              "      <td>7.328417</td>\n",
              "      <td>0.659417</td>\n",
              "    </tr>\n",
              "    <tr>\n",
              "      <th>3</th>\n",
              "      <td>2003.0</td>\n",
              "      <td>7.366350</td>\n",
              "      <td>8.099153</td>\n",
              "      <td>0.732803</td>\n",
              "    </tr>\n",
              "    <tr>\n",
              "      <th>4</th>\n",
              "      <td>2004.0</td>\n",
              "      <td>8.137852</td>\n",
              "      <td>8.950948</td>\n",
              "      <td>0.813096</td>\n",
              "    </tr>\n",
              "    <tr>\n",
              "      <th>5</th>\n",
              "      <td>2005.0</td>\n",
              "      <td>8.990213</td>\n",
              "      <td>9.892328</td>\n",
              "      <td>0.902115</td>\n",
              "    </tr>\n",
              "    <tr>\n",
              "      <th>6</th>\n",
              "      <td>2006.0</td>\n",
              "      <td>9.931852</td>\n",
              "      <td>10.932713</td>\n",
              "      <td>1.000861</td>\n",
              "    </tr>\n",
              "    <tr>\n",
              "      <th>7</th>\n",
              "      <td>2007.0</td>\n",
              "      <td>10.972119</td>\n",
              "      <td>12.082516</td>\n",
              "      <td>1.110397</td>\n",
              "    </tr>\n",
              "    <tr>\n",
              "      <th>8</th>\n",
              "      <td>2008.0</td>\n",
              "      <td>12.121345</td>\n",
              "      <td>13.353246</td>\n",
              "      <td>1.231901</td>\n",
              "    </tr>\n",
              "    <tr>\n",
              "      <th>9</th>\n",
              "      <td>2009.0</td>\n",
              "      <td>13.390940</td>\n",
              "      <td>14.757619</td>\n",
              "      <td>1.366678</td>\n",
              "    </tr>\n",
              "    <tr>\n",
              "      <th>10</th>\n",
              "      <td>2010.0</td>\n",
              "      <td>14.793514</td>\n",
              "      <td>16.309691</td>\n",
              "      <td>1.516177</td>\n",
              "    </tr>\n",
              "    <tr>\n",
              "      <th>11</th>\n",
              "      <td>2011.0</td>\n",
              "      <td>16.342994</td>\n",
              "      <td>18.024996</td>\n",
              "      <td>1.682002</td>\n",
              "    </tr>\n",
              "    <tr>\n",
              "      <th>12</th>\n",
              "      <td>2012.0</td>\n",
              "      <td>18.054768</td>\n",
              "      <td>19.920702</td>\n",
              "      <td>1.865934</td>\n",
              "    </tr>\n",
              "    <tr>\n",
              "      <th>13</th>\n",
              "      <td>2013.0</td>\n",
              "      <td>19.945833</td>\n",
              "      <td>22.015780</td>\n",
              "      <td>2.069947</td>\n",
              "    </tr>\n",
              "    <tr>\n",
              "      <th>14</th>\n",
              "      <td>2014.0</td>\n",
              "      <td>22.034970</td>\n",
              "      <td>24.331200</td>\n",
              "      <td>2.296230</td>\n",
              "    </tr>\n",
              "    <tr>\n",
              "      <th>15</th>\n",
              "      <td>2015.0</td>\n",
              "      <td>24.342924</td>\n",
              "      <td>26.890134</td>\n",
              "      <td>2.547211</td>\n",
              "    </tr>\n",
              "    <tr>\n",
              "      <th>16</th>\n",
              "      <td>2016.0</td>\n",
              "      <td>26.892614</td>\n",
              "      <td>29.718195</td>\n",
              "      <td>2.825581</td>\n",
              "    </tr>\n",
              "    <tr>\n",
              "      <th>17</th>\n",
              "      <td>2017.0</td>\n",
              "      <td>29.709360</td>\n",
              "      <td>32.843684</td>\n",
              "      <td>3.134325</td>\n",
              "    </tr>\n",
              "    <tr>\n",
              "      <th>18</th>\n",
              "      <td>2018.0</td>\n",
              "      <td>32.821133</td>\n",
              "      <td>36.297885</td>\n",
              "      <td>3.476752</td>\n",
              "    </tr>\n",
              "    <tr>\n",
              "      <th>19</th>\n",
              "      <td>2019.0</td>\n",
              "      <td>36.258835</td>\n",
              "      <td>40.115367</td>\n",
              "      <td>3.856532</td>\n",
              "    </tr>\n",
              "    <tr>\n",
              "      <th>20</th>\n",
              "      <td>2020.0</td>\n",
              "      <td>40.056603</td>\n",
              "      <td>44.334337</td>\n",
              "      <td>4.277733</td>\n",
              "    </tr>\n",
              "  </tbody>\n",
              "</table>\n",
              "</div>"
            ],
            "text/plain": [
              "    time t_i    Adams w  Exact y(t_i)  Exact Error |w_i-y_i|\n",
              "0     2000.0   6.000000      6.000000               0.000000\n",
              "1     2001.0   6.060000      6.631026               0.571026\n",
              "2     2002.0   6.669000      7.328417               0.659417\n",
              "3     2003.0   7.366350      8.099153               0.732803\n",
              "4     2004.0   8.137852      8.950948               0.813096\n",
              "5     2005.0   8.990213      9.892328               0.902115\n",
              "6     2006.0   9.931852     10.932713               1.000861\n",
              "7     2007.0  10.972119     12.082516               1.110397\n",
              "8     2008.0  12.121345     13.353246               1.231901\n",
              "9     2009.0  13.390940     14.757619               1.366678\n",
              "10    2010.0  14.793514     16.309691               1.516177\n",
              "11    2011.0  16.342994     18.024996               1.682002\n",
              "12    2012.0  18.054768     19.920702               1.865934\n",
              "13    2013.0  19.945833     22.015780               2.069947\n",
              "14    2014.0  22.034970     24.331200               2.296230\n",
              "15    2015.0  24.342924     26.890134               2.547211\n",
              "16    2016.0  26.892614     29.718195               2.825581\n",
              "17    2017.0  29.709360     32.843684               3.134325\n",
              "18    2018.0  32.821133     36.297885               3.476752\n",
              "19    2019.0  36.258835     40.115367               3.856532\n",
              "20    2020.0  40.056603     44.334337               4.277733"
            ]
          },
          "metadata": {},
          "execution_count": 20
        }
      ]
    },
    {
      "cell_type": "markdown",
      "metadata": {
        "id": "Q2u4famhaNbz"
      },
      "source": [
        "## 2. Non-Linear Population Equation \n",
        "\\begin{equation} y^{'}=0.2y-0.01y^2, \\ \\ (2000 \\leq t \\leq 2020), \\end{equation}\n",
        "with the initial condition,\n",
        "\\begin{equation}y(2000)=6.\\end{equation}\n",
        "## Specific 2 step Adams-Bashforth method for the Non-Linear Population Equation\n",
        "The specific Adams-Bashforth difference equation for the non-linear population equations is:\n",
        "\n",
        "\\begin{equation}w_{i+1}=w_{i}+\\frac{0.1}{2}\\big[3(0.2w_{i}-0.01w_{i}^2)-\n",
        "(0.2w_{i-1}-0.01w_{i-1}^2)\\big], \\end{equation}\n",
        "\n",
        "for $i=1,...,199$, where $w_i$ is the numerical approximation of $y$ at time $t_i$, with step size $h$ and the initial condition\n",
        "\\begin{equation}w_0=6.\\end{equation}\n",
        "To solve the 2 step method we need a value for $w_1$, here, we will use the approximation from the 2nd order Taylor method (see other notebook),\n",
        "\\begin{equation}w_1=6.084.\\end{equation}"
      ]
    },
    {
      "cell_type": "code",
      "metadata": {
        "id": "FuwlIUq1aNbz"
      },
      "source": [
        "def nonlinfun(t,w):\n",
        "    ftw=0.2*w-0.01*w*w\n",
        "    return ftw"
      ],
      "execution_count": 21,
      "outputs": []
    },
    {
      "cell_type": "code",
      "metadata": {
        "id": "gLr1q8FkaNb0"
      },
      "source": [
        "### INSERT METHOD HERE\n",
        "w=np.zeros(N+1)\n",
        "w[0]=6\n",
        "w[1]=6.084 # FROM THE THE TAYLOR METHOD\n",
        "for n in range(1,N):\n",
        "    w[n+1]=w[n]+h/2*(3*nonlinfun(t[n],w[n])-nonlinfun(t[n-1],w[n-1]))"
      ],
      "execution_count": 22,
      "outputs": []
    },
    {
      "cell_type": "markdown",
      "metadata": {
        "id": "4iBCF4SEaNb2"
      },
      "source": [
        "## Results\n",
        "The plot below shows the numerical approximation, $w$ (circles) for the non-linear population equation:"
      ]
    },
    {
      "cell_type": "code",
      "metadata": {
        "id": "u5yFmrlgaNb2",
        "outputId": "be9a4c7a-fe10-4080-c45b-82a2b31f3511",
        "colab": {
          "base_uri": "https://localhost:8080/",
          "height": 295
        }
      },
      "source": [
        "fig = plt.figure(figsize=(8,4))\n",
        "plt.plot(t,w,'o:',color='purple',label='2 step Adams Method ')\n",
        "plt.title('Non Linear Population Equation')\n",
        "plt.legend(loc='best')\n",
        "plt.xlabel('time (yrs)')\n",
        "plt.ylabel('Population in billions')\n",
        "plt.show()"
      ],
      "execution_count": 23,
      "outputs": [
        {
          "output_type": "display_data",
          "data": {
            "image/png": "[encoded data removed]",
            "text/plain": [
              "<Figure size 576x288 with 1 Axes>"
            ]
          },
          "metadata": {
            "needs_background": "light"
          }
        }
      ]
    },
    {
      "cell_type": "markdown",
      "metadata": {
        "id": "EGPLOaZTaNb4"
      },
      "source": [
        "## Table\n",
        "The table below shows the time and the numerical approximation, $w$,  for the non-linear population equation:"
      ]
    },
    {
      "cell_type": "code",
      "metadata": {
        "id": "RFRrAxT-aNb4",
        "outputId": "2ebd0e5c-2480-4923-8ffd-8b601c5a114c",
        "colab": {
          "base_uri": "https://localhost:8080/",
          "height": 696
        }
      },
      "source": [
        "\n",
        "d = {'time t_i': t, 'Adams approx of non-linear w': w}\n",
        "df = pd.DataFrame(data=d)\n",
        "df"
      ],
      "execution_count": 24,
      "outputs": [
        {
          "output_type": "execute_result",
          "data": {
            "text/html": [
              "<div>\n",
              "<style scoped>\n",
              "    .dataframe tbody tr th:only-of-type {\n",
              "        vertical-align: middle;\n",
              "    }\n",
              "\n",
              "    .dataframe tbody tr th {\n",
              "        vertical-align: top;\n",
              "    }\n",
              "\n",
              "    .dataframe thead th {\n",
              "        text-align: right;\n",
              "    }\n",
              "</style>\n",
              "<table border=\"1\" class=\"dataframe\">\n",
              "  <thead>\n",
              "    <tr style=\"text-align: right;\">\n",
              "      <th></th>\n",
              "      <th>time t_i</th>\n",
              "      <th>Adams approx of non-linear w</th>\n",
              "    </tr>\n",
              "  </thead>\n",
              "  <tbody>\n",
              "    <tr>\n",
              "      <th>0</th>\n",
              "      <td>2000.0</td>\n",
              "      <td>6.000000</td>\n",
              "    </tr>\n",
              "    <tr>\n",
              "      <th>1</th>\n",
              "      <td>2001.0</td>\n",
              "      <td>6.084000</td>\n",
              "    </tr>\n",
              "    <tr>\n",
              "      <th>2</th>\n",
              "      <td>2002.0</td>\n",
              "      <td>6.933974</td>\n",
              "    </tr>\n",
              "    <tr>\n",
              "      <th>3</th>\n",
              "      <td>2003.0</td>\n",
              "      <td>7.869642</td>\n",
              "    </tr>\n",
              "    <tr>\n",
              "      <th>4</th>\n",
              "      <td>2004.0</td>\n",
              "      <td>8.848568</td>\n",
              "    </tr>\n",
              "    <tr>\n",
              "      <th>5</th>\n",
              "      <td>2005.0</td>\n",
              "      <td>9.851373</td>\n",
              "    </tr>\n",
              "    <tr>\n",
              "      <th>6</th>\n",
              "      <td>2006.0</td>\n",
              "      <td>10.857671</td>\n",
              "    </tr>\n",
              "    <tr>\n",
              "      <th>7</th>\n",
              "      <td>2007.0</td>\n",
              "      <td>11.846747</td>\n",
              "    </tr>\n",
              "    <tr>\n",
              "      <th>8</th>\n",
              "      <td>2008.0</td>\n",
              "      <td>12.799268</td>\n",
              "    </tr>\n",
              "    <tr>\n",
              "      <th>9</th>\n",
              "      <td>2009.0</td>\n",
              "      <td>13.698782</td>\n",
              "    </tr>\n",
              "    <tr>\n",
              "      <th>10</th>\n",
              "      <td>2010.0</td>\n",
              "      <td>14.532747</td>\n",
              "    </tr>\n",
              "    <tr>\n",
              "      <th>11</th>\n",
              "      <td>2011.0</td>\n",
              "      <td>15.292965</td>\n",
              "    </tr>\n",
              "    <tr>\n",
              "      <th>12</th>\n",
              "      <td>2012.0</td>\n",
              "      <td>15.975461</td>\n",
              "    </tr>\n",
              "    <tr>\n",
              "      <th>13</th>\n",
              "      <td>2013.0</td>\n",
              "      <td>16.579947</td>\n",
              "    </tr>\n",
              "    <tr>\n",
              "      <th>14</th>\n",
              "      <td>2014.0</td>\n",
              "      <td>17.109042</td>\n",
              "    </tr>\n",
              "    <tr>\n",
              "      <th>15</th>\n",
              "      <td>2015.0</td>\n",
              "      <td>17.567443</td>\n",
              "    </tr>\n",
              "    <tr>\n",
              "      <th>16</th>\n",
              "      <td>2016.0</td>\n",
              "      <td>17.961143</td>\n",
              "    </tr>\n",
              "    <tr>\n",
              "      <th>17</th>\n",
              "      <td>2017.0</td>\n",
              "      <td>18.296777</td>\n",
              "    </tr>\n",
              "    <tr>\n",
              "      <th>18</th>\n",
              "      <td>2018.0</td>\n",
              "      <td>18.581128</td>\n",
              "    </tr>\n",
              "    <tr>\n",
              "      <th>19</th>\n",
              "      <td>2019.0</td>\n",
              "      <td>18.820774</td>\n",
              "    </tr>\n",
              "    <tr>\n",
              "      <th>20</th>\n",
              "      <td>2020.0</td>\n",
              "      <td>19.021862</td>\n",
              "    </tr>\n",
              "  </tbody>\n",
              "</table>\n",
              "</div>"
            ],
            "text/plain": [
              "    time t_i  Adams approx of non-linear w\n",
              "0     2000.0                      6.000000\n",
              "1     2001.0                      6.084000\n",
              "2     2002.0                      6.933974\n",
              "3     2003.0                      7.869642\n",
              "4     2004.0                      8.848568\n",
              "5     2005.0                      9.851373\n",
              "6     2006.0                     10.857671\n",
              "7     2007.0                     11.846747\n",
              "8     2008.0                     12.799268\n",
              "9     2009.0                     13.698782\n",
              "10    2010.0                     14.532747\n",
              "11    2011.0                     15.292965\n",
              "12    2012.0                     15.975461\n",
              "13    2013.0                     16.579947\n",
              "14    2014.0                     17.109042\n",
              "15    2015.0                     17.567443\n",
              "16    2016.0                     17.961143\n",
              "17    2017.0                     18.296777\n",
              "18    2018.0                     18.581128\n",
              "19    2019.0                     18.820774\n",
              "20    2020.0                     19.021862"
            ]
          },
          "metadata": {},
          "execution_count": 24
        }
      ]
    },
    {
      "cell_type": "markdown",
      "metadata": {
        "id": "224Fv07NaNb5"
      },
      "source": [
        "## 3. Non-Linear Population Equation with an oscilation \n",
        "\\begin{equation} y^{'}=0.2y-0.01y^2+\\sin(2\\pi t), \\ \\ (2000 \\leq t \\leq 2020), \\end{equation}\n",
        "with the initial condition,\n",
        "\\begin{equation}y(2000)=6.\\end{equation}\n",
        "\n",
        "## Specific 2 Step Adams Bashforth for the Non-Linear Population Equation with an oscilation\n",
        "To write the specific \n",
        "\n",
        "\\begin{equation} w_{i+1}=w_{i}+\\frac{0.1}{2} \\big[ 3(0.2w_{i}-0.01w_{i}^2+\\sin(2\\pi t_{i}))- (0.2w_{i-1}-0.01w_{i-1}^2+\\sin(2\\pi t_{i-1}))\\big] \\end{equation}\n",
        "            \n",
        "for $i=1,...,199$, where $w_i$ is the numerical approximation of $y$ at time $t_i$, with step size $h$ and the initial condition\n",
        "\\begin{equation}w_0=6.\\end{equation}\n",
        " As $w_1$ is required for the method but unknown we will use the numerical solution of a one step method to approximate the value. Here, we use the 2nd order Runge Kutta approximation (see [Runge Kutta notebook](https://github.com/john-s-butler-dit/Numerical-Analysis-Python/blob/master/Chapter%2003%20-%20Runge%20Kutta/01_2nd%20Order%20Runge%20Kutta%20Population%20Equations.ipynb) )\n",
        "\\begin{equation}w_1=6.11.\\end{equation}"
      ]
    },
    {
      "cell_type": "code",
      "metadata": {
        "id": "ZwZH25t9aNb6"
      },
      "source": [
        "def nonlin_oscfun(t,w):\n",
        "    ftw=0.2*w-0.01*w*w+np.sin(2*np.math.pi*t)\n",
        "    return ftw"
      ],
      "execution_count": 25,
      "outputs": []
    },
    {
      "cell_type": "code",
      "metadata": {
        "id": "aAPnbMp0aNb7"
      },
      "source": [
        "## INSERT METHOD HERE\n",
        "w=np.zeros(N+1)\n",
        "w[0]=6\n",
        "w[1]=6.11\n",
        "for n in range(1,N):\n",
        "    w[n+1]=w[n]+h/2*(3*nonlin_oscfun(t[n],w[n])\n",
        "                     -nonlin_oscfun(t[n-1],w[n-1]))"
      ],
      "execution_count": 26,
      "outputs": []
    },
    {
      "cell_type": "markdown",
      "metadata": {
        "id": "tccu5BOqaNb8"
      },
      "source": [
        "## Results\n",
        "The plot below shows the  numerical approximation, $w$ (circles) for the non-linear population equation:"
      ]
    },
    {
      "cell_type": "code",
      "metadata": {
        "id": "rcg4LHuxaNb8",
        "outputId": "0208e444-1185-47f9-a8ac-309f843d9064",
        "colab": {
          "base_uri": "https://localhost:8080/",
          "height": 295
        }
      },
      "source": [
        "fig = plt.figure(figsize=(8,4))\n",
        "plt.plot(t,w,'o:',color='purple',label='Adams-Bashforth')\n",
        "plt.title('Population Equation with seasonal oscilation')\n",
        "plt.xlabel('time (yrs)')\n",
        "plt.ylabel('Population in Billions')\n",
        "plt.legend(loc='best')\n",
        "plt.show()"
      ],
      "execution_count": 27,
      "outputs": [
        {
          "output_type": "display_data",
          "data": {
            "image/png": "[encoded data removed]",
            "text/plain": [
              "<Figure size 576x288 with 1 Axes>"
            ]
          },
          "metadata": {
            "needs_background": "light"
          }
        }
      ]
    },
    {
      "cell_type": "markdown",
      "metadata": {
        "id": "6AXoYl16aNb9"
      },
      "source": [
        "## Table\n",
        "The table below shows the time and the numerical approximation, $w$,  for the non-linear population equation with oscilations:"
      ]
    },
    {
      "cell_type": "code",
      "metadata": {
        "id": "1WTdnm0PaNb-",
        "outputId": "7887162a-a28a-4812-cf80-51dd5f83e8fd",
        "colab": {
          "base_uri": "https://localhost:8080/",
          "height": 696
        }
      },
      "source": [
        "d = {'time t_i': t, 'Adams Approx w': w}\n",
        "df = pd.DataFrame(data=d)\n",
        "df"
      ],
      "execution_count": 28,
      "outputs": [
        {
          "output_type": "execute_result",
          "data": {
            "text/html": [
              "<div>\n",
              "<style scoped>\n",
              "    .dataframe tbody tr th:only-of-type {\n",
              "        vertical-align: middle;\n",
              "    }\n",
              "\n",
              "    .dataframe tbody tr th {\n",
              "        vertical-align: top;\n",
              "    }\n",
              "\n",
              "    .dataframe thead th {\n",
              "        text-align: right;\n",
              "    }\n",
              "</style>\n",
              "<table border=\"1\" class=\"dataframe\">\n",
              "  <thead>\n",
              "    <tr style=\"text-align: right;\">\n",
              "      <th></th>\n",
              "      <th>time t_i</th>\n",
              "      <th>Adams Approx w</th>\n",
              "    </tr>\n",
              "  </thead>\n",
              "  <tbody>\n",
              "    <tr>\n",
              "      <th>0</th>\n",
              "      <td>2000.0</td>\n",
              "      <td>6.000000</td>\n",
              "    </tr>\n",
              "    <tr>\n",
              "      <th>1</th>\n",
              "      <td>2001.0</td>\n",
              "      <td>6.110000</td>\n",
              "    </tr>\n",
              "    <tr>\n",
              "      <th>2</th>\n",
              "      <td>2002.0</td>\n",
              "      <td>6.963018</td>\n",
              "    </tr>\n",
              "    <tr>\n",
              "      <th>3</th>\n",
              "      <td>2003.0</td>\n",
              "      <td>7.900330</td>\n",
              "    </tr>\n",
              "    <tr>\n",
              "      <th>4</th>\n",
              "      <td>2004.0</td>\n",
              "      <td>8.880317</td>\n",
              "    </tr>\n",
              "    <tr>\n",
              "      <th>5</th>\n",
              "      <td>2005.0</td>\n",
              "      <td>9.883555</td>\n",
              "    </tr>\n",
              "    <tr>\n",
              "      <th>6</th>\n",
              "      <td>2006.0</td>\n",
              "      <td>10.889620</td>\n",
              "    </tr>\n",
              "    <tr>\n",
              "      <th>7</th>\n",
              "      <td>2007.0</td>\n",
              "      <td>11.877816</td>\n",
              "    </tr>\n",
              "    <tr>\n",
              "      <th>8</th>\n",
              "      <td>2008.0</td>\n",
              "      <td>12.828881</td>\n",
              "    </tr>\n",
              "    <tr>\n",
              "      <th>9</th>\n",
              "      <td>2009.0</td>\n",
              "      <td>13.726473</td>\n",
              "    </tr>\n",
              "    <tr>\n",
              "      <th>10</th>\n",
              "      <td>2010.0</td>\n",
              "      <td>14.558187</td>\n",
              "    </tr>\n",
              "    <tr>\n",
              "      <th>11</th>\n",
              "      <td>2011.0</td>\n",
              "      <td>15.315964</td>\n",
              "    </tr>\n",
              "    <tr>\n",
              "      <th>12</th>\n",
              "      <td>2012.0</td>\n",
              "      <td>15.995957</td>\n",
              "    </tr>\n",
              "    <tr>\n",
              "      <th>13</th>\n",
              "      <td>2013.0</td>\n",
              "      <td>16.597982</td>\n",
              "    </tr>\n",
              "    <tr>\n",
              "      <th>14</th>\n",
              "      <td>2014.0</td>\n",
              "      <td>17.124739</td>\n",
              "    </tr>\n",
              "    <tr>\n",
              "      <th>15</th>\n",
              "      <td>2015.0</td>\n",
              "      <td>17.580977</td>\n",
              "    </tr>\n",
              "    <tr>\n",
              "      <th>16</th>\n",
              "      <td>2016.0</td>\n",
              "      <td>17.972719</td>\n",
              "    </tr>\n",
              "    <tr>\n",
              "      <th>17</th>\n",
              "      <td>2017.0</td>\n",
              "      <td>18.306611</td>\n",
              "    </tr>\n",
              "    <tr>\n",
              "      <th>18</th>\n",
              "      <td>2018.0</td>\n",
              "      <td>18.589435</td>\n",
              "    </tr>\n",
              "    <tr>\n",
              "      <th>19</th>\n",
              "      <td>2019.0</td>\n",
              "      <td>18.827758</td>\n",
              "    </tr>\n",
              "    <tr>\n",
              "      <th>20</th>\n",
              "      <td>2020.0</td>\n",
              "      <td>19.027711</td>\n",
              "    </tr>\n",
              "  </tbody>\n",
              "</table>\n",
              "</div>"
            ],
            "text/plain": [
              "    time t_i  Adams Approx w\n",
              "0     2000.0        6.000000\n",
              "1     2001.0        6.110000\n",
              "2     2002.0        6.963018\n",
              "3     2003.0        7.900330\n",
              "4     2004.0        8.880317\n",
              "5     2005.0        9.883555\n",
              "6     2006.0       10.889620\n",
              "7     2007.0       11.877816\n",
              "8     2008.0       12.828881\n",
              "9     2009.0       13.726473\n",
              "10    2010.0       14.558187\n",
              "11    2011.0       15.315964\n",
              "12    2012.0       15.995957\n",
              "13    2013.0       16.597982\n",
              "14    2014.0       17.124739\n",
              "15    2015.0       17.580977\n",
              "16    2016.0       17.972719\n",
              "17    2017.0       18.306611\n",
              "18    2018.0       18.589435\n",
              "19    2019.0       18.827758\n",
              "20    2020.0       19.027711"
            ]
          },
          "metadata": {},
          "execution_count": 28
        }
      ]
    },
    {
      "cell_type": "code",
      "metadata": {
        "id": "HgiQsWs2aNb_"
      },
      "source": [
        ""
      ],
      "execution_count": 14,
      "outputs": []
    }
  ]
}