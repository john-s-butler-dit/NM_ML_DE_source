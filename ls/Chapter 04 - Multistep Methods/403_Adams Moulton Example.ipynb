{
  "nbformat": 4,
  "nbformat_minor": 0,
  "metadata": {
    "kernelspec": {
      "display_name": "Python 3",
      "language": "python",
      "name": "python3"
    },
    "language_info": {
      "codemirror_mode": {
        "name": "ipython",
        "version": 3
      },
      "file_extension": ".py",
      "mimetype": "text/x-python",
      "name": "python",
      "nbconvert_exporter": "python",
      "pygments_lexer": "ipython3",
      "version": "3.7.9"
    },
    "colab": {
      "name": "403_Adams Moulton Example.ipynb",
      "provenance": [],
      "include_colab_link": true
    }
  },
  "cells": [
    {
      "cell_type": "markdown",
      "metadata": {
        "id": "view-in-github",
        "colab_type": "text"
      },
      "source": [
        "<a href=\"https://colab.research.google.com/github/john-s-butler-dit/Numerical-Analysis-Python/blob/master/Chapter%2004%20-%20Multistep%20Methods/403_Adams%20Moulton%20Example.ipynb\" target=\"_parent\"><img src=\"https://colab.research.google.com/assets/colab-badge.svg\" alt=\"Open In Colab\"/></a>"
      ]
    },
    {
      "cell_type": "markdown",
      "metadata": {
        "id": "oqtXx_ihb5Sp"
      },
      "source": [
        "# Adams Moulton\n",
        "#### John S Butler \n",
        "john.s.butler@tudublin.ie  \n",
        "[Course Notes](https://johnsbutler.netlify.com/files/Teaching/Numerical_Analysis_for_Differential_Equations.pdf)    [Github](https://github.com/john-s-butler-dit/Numerical-Analysis-Python)\n",
        "\n",
        "\n",
        "The Adams Moulton method is an implicit multistep method. This notebook illustrates the 2 step Adams Moulton method for a linear initial value problem of the form\n",
        "\\begin{equation} y^{'}=t-y, \\ \\ (0 \\leq t \\leq 2)\\end{equation}\n",
        "with the initial condition\n",
        "\\begin{equation}y(0)=1.\\end{equation}\n",
        "The video below walks through the notebook."
      ]
    },
    {
      "cell_type": "code",
      "metadata": {
        "id": "MDJbhHZ6b5Sr",
        "colab": {
          "base_uri": "https://localhost:8080/",
          "height": 336
        },
        "outputId": "bddd23e8-f464-4b63-958d-365ef387dabc"
      },
      "source": [
        "from IPython.display import HTML\n",
        "HTML('<iframe width=\"560\" height=\"315\" src=\"https://www.youtube.com/embed/L1IrVMykC6k\" frameborder=\"0\" allow=\"accelerometer; autoplay; clipboard-write; encrypted-media; gyroscope; picture-in-picture\" allowfullscreen></iframe>')\n"
      ],
      "execution_count": 1,
      "outputs": [
        {
          "output_type": "execute_result",
          "data": {
            "text/html": [
              "<iframe width=\"560\" height=\"315\" src=\"https://www.youtube.com/embed/L1IrVMykC6k\" frameborder=\"0\" allow=\"accelerometer; autoplay; clipboard-write; encrypted-media; gyroscope; picture-in-picture\" allowfullscreen></iframe>"
            ],
            "text/plain": [
              "<IPython.core.display.HTML object>"
            ]
          },
          "metadata": {},
          "execution_count": 1
        }
      ]
    },
    {
      "cell_type": "markdown",
      "metadata": {
        "id": "YwzVuSStb5Sw"
      },
      "source": [
        "## Python Libraries"
      ]
    },
    {
      "cell_type": "code",
      "metadata": {
        "id": "URyGrrhKb5Sx"
      },
      "source": [
        "import numpy as np\n",
        "import math \n",
        "import pandas as pd\n",
        "%matplotlib inline\n",
        "import matplotlib.pyplot as plt # side-stepping mpl backend\n",
        "import matplotlib.gridspec as gridspec # subplots\n",
        "import warnings\n",
        "\n"
      ],
      "execution_count": 2,
      "outputs": []
    },
    {
      "cell_type": "markdown",
      "metadata": {
        "id": "dYFIAsGRb5S0"
      },
      "source": [
        "### Defining the function\n",
        "\\begin{equation} f(t,y)=t-y.\\end{equation}"
      ]
    },
    {
      "cell_type": "code",
      "metadata": {
        "id": "2uv4HlyXb5S1"
      },
      "source": [
        "def myfun_ty(t,y):\n",
        "    return t-y"
      ],
      "execution_count": 3,
      "outputs": []
    },
    {
      "cell_type": "markdown",
      "metadata": {
        "id": "PO_T_dn9b5S4"
      },
      "source": [
        "## Discrete Interval\n",
        "Defining the step size  $h$  from the interval range  $a\\leq t \\leq b$  and number of steps  $N$ \n",
        "\\begin{equation}h=\\frac{b−a}{N}.\\end{equation}\n",
        " \n",
        "This gives the discrete time steps,\n",
        "\\begin{equation}t_i=t_0+ih,\\end{equation}\n",
        "where  $t_0=a.$\n",
        "\n",
        "Here the interval is  $0≤t≤2$  and number of step  4 \n",
        "\\begin{equation}h=\\frac{2−0}{4}=0.5.\\end{equation}\n",
        " \n",
        "This gives the discrete time steps,\n",
        "\\begin{equation}t_i=0+i0.5,\\end{equation}\n",
        "for  $i=0,1,⋯,4.$"
      ]
    },
    {
      "cell_type": "code",
      "metadata": {
        "id": "ppaw5pK_b5S4",
        "colab": {
          "base_uri": "https://localhost:8080/",
          "height": 298
        },
        "outputId": "17afa13a-3ca0-42cb-83bd-5d9c0baf8da9"
      },
      "source": [
        "# Start and end of interval\n",
        "b=2\n",
        "a=0\n",
        "# Step size\n",
        "N=4\n",
        "h=(b-a)/(N)\n",
        "t=np.arange(a,b+h,h)\n",
        "fig = plt.figure(figsize=(10,4))\n",
        "plt.plot(t,0*t,'o:',color='red')\n",
        "plt.xlim((0,2))\n",
        "plt.title('Illustration of discrete time points for h=%s'%(h))"
      ],
      "execution_count": 4,
      "outputs": [
        {
          "output_type": "execute_result",
          "data": {
            "text/plain": [
              "Text(0.5, 1.0, 'Illustration of discrete time points for h=0.5')"
            ]
          },
          "metadata": {},
          "execution_count": 4
        },
        {
          "output_type": "display_data",
          "data": {
            "image/png": "[encoded data removed]",
            "text/plain": [
              "<Figure size 720x288 with 1 Axes>"
            ]
          },
          "metadata": {
            "needs_background": "light"
          }
        }
      ]
    },
    {
      "cell_type": "markdown",
      "metadata": {
        "id": "4wzFGvUrb5S7"
      },
      "source": [
        "## Exact Solution\n",
        "The initial value problem has the exact solution\n",
        "\\begin{equation}y(t)=2e^{-t}+t-1.\\end{equation}\n",
        "The figure below plots the exact solution."
      ]
    },
    {
      "cell_type": "code",
      "metadata": {
        "id": "yNBE4FYob5S8",
        "colab": {
          "base_uri": "https://localhost:8080/",
          "height": 312
        },
        "outputId": "e79dcb6b-cfae-4829-c259-d006b3f3b243"
      },
      "source": [
        "IC=1 # Intial condtion\n",
        "y=(IC+1)*np.exp(-t)+t-1\n",
        "fig = plt.figure(figsize=(6,4))\n",
        "plt.plot(t,y,'o-',color='black')\n",
        "plt.title('Exact Solution ')\n",
        "plt.xlabel('time')"
      ],
      "execution_count": 5,
      "outputs": [
        {
          "output_type": "execute_result",
          "data": {
            "text/plain": [
              "Text(0.5, 0, 'time')"
            ]
          },
          "metadata": {},
          "execution_count": 5
        },
        {
          "output_type": "display_data",
          "data": {
            "image/png": "[encoded data removed]",
            "text/plain": [
              "<Figure size 432x288 with 1 Axes>"
            ]
          },
          "metadata": {
            "needs_background": "light"
          }
        }
      ]
    },
    {
      "cell_type": "markdown",
      "metadata": {
        "id": "A6YrDJJnb5S-"
      },
      "source": [
        "## 2-step Adams Moulton\n",
        "\n",
        "The general 2-step Adams Moulton difference equation is\n",
        "\\begin{equation}w_{i+1} = w_{i} + \\frac{h}{12}(5f(t_{i+1},w_{i+1})+8f(t_{i},w_{i})-f(t_{i-1},w_{i-1})). \\end{equation}\n",
        "For the specific intial value problem the 2-step Adams Moiulton difference equation is\n",
        "\\begin{equation}w_{i+1} = w_{i} + \\frac{h}{12}(5(t_{i+1}-w_{i+1})+8(t_{i}-w_{i})-(t_{i-1}-w_{i-1})). \\end{equation}\n",
        "\n",
        "for $i=0$ the difference equation is:\n",
        "\\begin{equation}w_{1} = w_{0} + \\frac{h}{12}(5(t_{1}-w_{1})+8(t_{0}-w_{0})-(t_{-1}-w_{-1})).\\end{equation}\n",
        "\n",
        "this is not solvable as <font color='red'> $w_{1}, \\ w_{-1}$ </font> are unknown.\n",
        "for $i=1$ the difference equation is:\n",
        "\\begin{equation}w_{2} = w_{1} + \\frac{h}{12}(5(t_{2}-w_{2})+8(t_{1}-w_{1})-(t_{0}-w_{0})). \\end{equation}\n",
        "this is not solvable as <font color='red'> $w_{1}$ and $w_{2}$ </font> are unknown. $w_1$ can be  approximated using a one step method. Here, as the exact solution is known,\n",
        "\\begin{equation}w_1=2e^{-t_1}+t_1-1.\\end{equation}\n",
        "As the intial value problem is linear the difference equation can be rearranged such that $w_2$ is on the right hand side:\n",
        "\\begin{equation}w_{2}+\\frac{5h}{12}w_{2} = w_{1} + \\frac{h}{12}(5(t_{2})+8f(t_{1}-w_{1})-(t_{0}-w_{0})), \\end{equation}\n",
        "\\begin{equation}w_{2} = \\frac{w_{1} + \\frac{h}{12}(5(t_{2})+8f(t_{1}-w_{1})-(t_{0}-w_{0}))}{1+\\frac{5h}{12}}. \\end{equation}\n"
      ]
    },
    {
      "cell_type": "code",
      "metadata": {
        "id": "6FzTfyidb5S-"
      },
      "source": [
        "### Initial conditions\n",
        "w=np.zeros(len(t))\n",
        "w[0]=IC\n",
        "w[1]=y[1] # NEEDED FOR THE METHOD"
      ],
      "execution_count": 6,
      "outputs": []
    },
    {
      "cell_type": "markdown",
      "metadata": {
        "id": "0cwXy_Enb5TA"
      },
      "source": [
        "### Loop"
      ]
    },
    {
      "cell_type": "code",
      "metadata": {
        "id": "lNn9_F6Sb5TA"
      },
      "source": [
        "for k in range (1,N):\n",
        "    w[k+1]=(w[k]+h/12.0*(5*t[k+1]+8*myfun_ty(t[k],w[k])-myfun_ty(t[k-1],w[k-1])))/(1+5*h/12)   "
      ],
      "execution_count": 7,
      "outputs": []
    },
    {
      "cell_type": "markdown",
      "metadata": {
        "id": "sZzEevGlb5TB"
      },
      "source": [
        "### Plotting solution"
      ]
    },
    {
      "cell_type": "code",
      "metadata": {
        "id": "zTE-KOn_b5TB"
      },
      "source": [
        "def plotting(t,w,y):\n",
        "    fig = plt.figure(figsize=(10,4))\n",
        "    plt.plot(t,y, 'o-',color='black',label='Exact')\n",
        "    plt.plot(t,w,'s:',color='blue',label='Adams-Moulton')\n",
        "    plt.xlabel('time')\n",
        "    plt.legend()\n",
        "    plt.show "
      ],
      "execution_count": 8,
      "outputs": []
    },
    {
      "cell_type": "markdown",
      "metadata": {
        "id": "GzHPj5j5b5TD"
      },
      "source": [
        "The plot below shows the exact solution (black) and the 2 step Adams-Moulton approximation (red) of the intial value problem"
      ]
    },
    {
      "cell_type": "code",
      "metadata": {
        "id": "7thBBKleb5TE",
        "colab": {
          "base_uri": "https://localhost:8080/",
          "height": 283
        },
        "outputId": "36b380f6-3657-4ad8-e9d1-c8792890c132"
      },
      "source": [
        "plotting(t,w,y)"
      ],
      "execution_count": 9,
      "outputs": [
        {
          "output_type": "display_data",
          "data": {
            "image/png": "[encoded data removed]",
            "text/plain": [
              "<Figure size 720x288 with 1 Axes>"
            ]
          },
          "metadata": {
            "needs_background": "light"
          }
        }
      ]
    },
    {
      "cell_type": "markdown",
      "metadata": {
        "id": "gmxzs4CQb5TF"
      },
      "source": [
        "## Local Error \n",
        "The Error for the 2 step Adams Moulton is:\n",
        "\\begin{equation}y_{n+1}=y_n+\\frac{h}{12}[5f(t_{n+1},w_{n+1})+8f(t_{n},w_{n})-f(t_{n-1},w_{n-1})] +\\frac{-h^4}{24}y^{(4)}(\\eta),\\end{equation}\n",
        "where $\\eta \\in [t_{n-1},t_{n+1}]$.\n",
        "\n",
        "Rearranging the equations gives \n",
        "\\begin{equation}\\frac{y_{n+1}-y_{n}}{h}=\\frac{1}{12}[5f(t_{n+1},w_{n+1})+8f(t_{n},w_{n})-f(t_{n-1},w_{n-1})] +\\frac{-h^3}{24}y^{(4)}(\\eta),\\end{equation}\n",
        "For our specific initial value problem the error is of the form:\n",
        "\\begin{equation}\\frac{-h^3}{24}y'''(\\eta)=\\frac{h^3}{24}2e^{-\\eta} \\leq\\frac{(0.3)^3}{24} 2\\leq 0.01042.\\end{equation}"
      ]
    },
    {
      "cell_type": "code",
      "metadata": {
        "id": "4GouWupKb5TF",
        "colab": {
          "base_uri": "https://localhost:8080/",
          "height": 203
        },
        "outputId": "5c9e501c-4f0a-4f3d-b064-63e93bd1e7a0"
      },
      "source": [
        "\n",
        "\n",
        "d = {'time t_i': t, 'Adams Bashforth w_i': w,'Exact y(t_i)':y,'Error |y(t_i)-w_i|':np.abs(y-w),'LTE':round(2*0.5**3/24,5)}\n",
        "df = pd.DataFrame(data=d)\n",
        "df"
      ],
      "execution_count": 10,
      "outputs": [
        {
          "output_type": "execute_result",
          "data": {
            "text/html": [
              "<div>\n",
              "<style scoped>\n",
              "    .dataframe tbody tr th:only-of-type {\n",
              "        vertical-align: middle;\n",
              "    }\n",
              "\n",
              "    .dataframe tbody tr th {\n",
              "        vertical-align: top;\n",
              "    }\n",
              "\n",
              "    .dataframe thead th {\n",
              "        text-align: right;\n",
              "    }\n",
              "</style>\n",
              "<table border=\"1\" class=\"dataframe\">\n",
              "  <thead>\n",
              "    <tr style=\"text-align: right;\">\n",
              "      <th></th>\n",
              "      <th>time t_i</th>\n",
              "      <th>Adams Bashforth w_i</th>\n",
              "      <th>Exact y(t_i)</th>\n",
              "      <th>Error |y(t_i)-w_i|</th>\n",
              "      <th>LTE</th>\n",
              "    </tr>\n",
              "  </thead>\n",
              "  <tbody>\n",
              "    <tr>\n",
              "      <th>0</th>\n",
              "      <td>0.0</td>\n",
              "      <td>1.000000</td>\n",
              "      <td>1.000000</td>\n",
              "      <td>0.000000</td>\n",
              "      <td>0.01042</td>\n",
              "    </tr>\n",
              "    <tr>\n",
              "      <th>1</th>\n",
              "      <td>0.5</td>\n",
              "      <td>0.713061</td>\n",
              "      <td>0.713061</td>\n",
              "      <td>0.000000</td>\n",
              "      <td>0.01042</td>\n",
              "    </tr>\n",
              "    <tr>\n",
              "      <th>2</th>\n",
              "      <td>1.0</td>\n",
              "      <td>0.738241</td>\n",
              "      <td>0.735759</td>\n",
              "      <td>0.002482</td>\n",
              "      <td>0.01042</td>\n",
              "    </tr>\n",
              "    <tr>\n",
              "      <th>3</th>\n",
              "      <td>1.5</td>\n",
              "      <td>0.949135</td>\n",
              "      <td>0.946260</td>\n",
              "      <td>0.002875</td>\n",
              "      <td>0.01042</td>\n",
              "    </tr>\n",
              "    <tr>\n",
              "      <th>4</th>\n",
              "      <td>2.0</td>\n",
              "      <td>1.273255</td>\n",
              "      <td>1.270671</td>\n",
              "      <td>0.002585</td>\n",
              "      <td>0.01042</td>\n",
              "    </tr>\n",
              "  </tbody>\n",
              "</table>\n",
              "</div>"
            ],
            "text/plain": [
              "   time t_i  Adams Bashforth w_i  Exact y(t_i)  Error |y(t_i)-w_i|      LTE\n",
              "0       0.0             1.000000      1.000000            0.000000  0.01042\n",
              "1       0.5             0.713061      0.713061            0.000000  0.01042\n",
              "2       1.0             0.738241      0.735759            0.002482  0.01042\n",
              "3       1.5             0.949135      0.946260            0.002875  0.01042\n",
              "4       2.0             1.273255      1.270671            0.002585  0.01042"
            ]
          },
          "metadata": {},
          "execution_count": 10
        }
      ]
    },
    {
      "cell_type": "code",
      "metadata": {
        "id": "cp3BAQi5b5TH"
      },
      "source": [
        ""
      ],
      "execution_count": 10,
      "outputs": []
    }
  ]
}