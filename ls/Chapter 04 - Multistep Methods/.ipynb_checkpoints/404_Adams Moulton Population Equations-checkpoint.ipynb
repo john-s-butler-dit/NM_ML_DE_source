{
 "cells": [
  {
   "cell_type": "markdown",
   "metadata": {},
   "source": [
    "# 1 Step Adam Moulton \n",
    "This notebook implements the 1 step Adams Moulton method for three different population intial value problems.\n",
    "\n",
    "# Formula\n",
    "The general 1 step Adams-Moulton method for the first order differential equation\n",
    "$$ y^{'} = f(t,y) $$\n",
    "numerical approximates $y$ the at time point $t_i$ as $w_i$\n",
    "with the  formula:\n",
    "$$ w_{i+1}=w_i+\\frac{h}{2}\\big[f(t_{i+1},w_{i+1})+f(t_{i},w_{i})\\big],$$\n",
    "for $i=0,...,N-1$, where \n",
    "\n",
    "and $h$ is the stepsize.\n",
    "\n",
    "To illustrate the method we will apply it to three intial value problems:\n",
    "## 1. Linear \n",
    "Consider the linear population Differential Equation\n",
    "$$ y^{'}=0.1y, \\ \\ (2000 \\leq t \\leq 2020), $$\n",
    "with the initial condition,\n",
    "$$y(2000)=6.$$\n",
    "\n",
    "## 2. Non-Linear Population Equation \n",
    "Consider the non-linear population Differential Equation\n",
    "$$ y^{'}=0.2y-0.01y^2, \\ \\ (2000 \\leq t \\leq 2020), $$\n",
    "with the initial condition,\n",
    "$$y(2000)=6.$$\n",
    "\n",
    "## 3. Non-Linear Population Equation with an oscillation \n",
    "Consider the non-linear population Differential Equation with an oscillation \n",
    "$$ y^{'}=0.2y-0.01y^2+\\sin(2\\pi t), \\ \\ (2000 \\leq t \\leq 2020), $$\n",
    "with the initial condition,\n",
    "$$y(2000)=6.$$"
   ]
  },
  {
   "cell_type": "markdown",
   "metadata": {},
   "source": [
    "#### Setting up Libraries"
   ]
  },
  {
   "cell_type": "code",
   "execution_count": 1,
   "metadata": {},
   "outputs": [],
   "source": [
    "## Library\n",
    "import numpy as np\n",
    "import math \n",
    "\n",
    "%matplotlib inline\n",
    "import matplotlib.pyplot as plt # side-stepping mpl backend\n",
    "import matplotlib.gridspec as gridspec # subplots\n",
    "import warnings\n",
    "\n",
    "warnings.filterwarnings(\"ignore\")"
   ]
  },
  {
   "cell_type": "code",
   "execution_count": 2,
   "metadata": {},
   "outputs": [],
   "source": [
    "from IPython.display import HTML\n",
    "\n",
    "class ListTable(list):\n",
    "    \"\"\" Overridden list class which takes a 2-dimensional list of \n",
    "        the form [[1,2,3],[4,5,6]], and renders an HTML Table in \n",
    "        IPython Notebook. \"\"\"\n",
    "    \n",
    "    def _repr_html_(self):\n",
    "        html = [\"<table>\"]\n",
    "        for row in self:\n",
    "            html.append(\"<tr>\")\n",
    "            \n",
    "            for col in row:\n",
    "                html.append(\"<td>{0}</td>\".format(col))\n",
    "            \n",
    "            html.append(\"</tr>\")\n",
    "        html.append(\"</table>\")\n",
    "        return ''.join(html)"
   ]
  },
  {
   "cell_type": "code",
   "execution_count": 3,
   "metadata": {},
   "outputs": [
    {
     "data": {
      "text/html": [
       "<script>\n",
       "code_show=true; \n",
       "function code_toggle() {\n",
       " if (code_show){\n",
       " $('div.input').hide();\n",
       " } else {\n",
       " $('div.input').show();\n",
       " }\n",
       " code_show = !code_show\n",
       "} \n",
       "$( document ).ready(code_toggle);\n",
       "</script>\n",
       "<form action=\"javascript:code_toggle()\"><input type=\"submit\" value=\"Click here to toggle on/off the raw code.\"></form>"
      ],
      "text/plain": [
       "<IPython.core.display.HTML object>"
      ]
     },
     "execution_count": 3,
     "metadata": {},
     "output_type": "execute_result"
    }
   ],
   "source": [
    " \n",
    "HTML('''<script>\n",
    "code_show=true; \n",
    "function code_toggle() {\n",
    " if (code_show){\n",
    " $('div.input').hide();\n",
    " } else {\n",
    " $('div.input').show();\n",
    " }\n",
    " code_show = !code_show\n",
    "} \n",
    "$( document ).ready(code_toggle);\n",
    "</script>\n",
    "<form action=\"javascript:code_toggle()\"><input type=\"submit\" value=\"Click here to toggle on/off the raw code.\"></form>''')"
   ]
  },
  {
   "cell_type": "markdown",
   "metadata": {},
   "source": [
    "## Discrete Interval\n",
    "The continuous time $a\\leq t \\leq b $ is discretised into $N$ points seperated by a constant stepsize\n",
    "$$ h=\\frac{b-a}{N}.$$\n",
    "Here the interval is $2000\\leq t \\leq 2020,$ \n",
    "$$ h=\\frac{2020-2000}{200}=0.1.$$\n",
    "This gives the 201 discrete points:\n",
    "$$ t_0=2000, \\ t_1=2000.1, \\ ... t_{200}=2020. $$\n",
    "This is generalised to \n",
    "$$ t_i=2000+i0.1, \\ \\ \\ i=0,1,...,200.$$\n",
    "The plot below shows the discrete time steps:"
   ]
  },
  {
   "cell_type": "code",
   "execution_count": 4,
   "metadata": {},
   "outputs": [
    {
     "data": {
      "image/png": "[encoded data removed]",
      "text/plain": [
       "<Figure size 720x288 with 1 Axes>"
      ]
     },
     "metadata": {
      "needs_background": "light"
     },
     "output_type": "display_data"
    },
    {
     "data": {
      "text/plain": [
       "201"
      ]
     },
     "execution_count": 4,
     "metadata": {},
     "output_type": "execute_result"
    }
   ],
   "source": [
    "### DISCRETE TIME\n",
    "N=200\n",
    "t_end=2020.0\n",
    "t_start=2000.0\n",
    "h=((t_end-t_start)/N)\n",
    "t=np.arange(t_start,t_end+h/2,h)\n",
    "\n",
    "## PLOTS TIME\n",
    "fig = plt.figure(figsize=(10,4))\n",
    "plt.plot(t,0*t,'o:',color='red')\n",
    "plt.title('Illustration of discrete time points for h=%s'%(h))\n",
    "plt.show()\n",
    "len(t)"
   ]
  },
  {
   "cell_type": "markdown",
   "metadata": {},
   "source": [
    "# 1. Linear Population Equation\n",
    "## Exact Solution \n",
    "The linear population equation\n",
    "$$ y^{'}=0.1y, \\ \\ (2000 \\leq t \\leq 2020), $$\n",
    "with the initial condition,\n",
    "$$y(2000)=6.$$\n",
    "has a known exact (analytic) solution\n",
    "$$ y(t)=6e^{0.1(t-2000)}. $$\n",
    "\n",
    "## Specific 1 step Adams Moulton\n",
    "The specific 1 step Adams Moulton for the linear population equation is:\n",
    "\n",
    "$$w_{i+1}=w_{i}+\\frac{h}{2}\\big[0.1w_{i+1}+0.1w_i\\big] $$\n",
    "where\n",
    "$$f(t,y)=0.1y,$$"
   ]
  },
  {
   "cell_type": "code",
   "execution_count": 5,
   "metadata": {},
   "outputs": [],
   "source": [
    "## THIS IS THE RIGHT HANDSIDE OF THE LINEAR POPULATION DIFFERENTIAL \n",
    "## EQUATION\n",
    "def linfun(t,w):\n",
    "    ftw=0.1*w\n",
    "    return ftw"
   ]
  },
  {
   "cell_type": "markdown",
   "metadata": {},
   "source": [
    "re-arranging,\n",
    "$$ \\big(1-\\frac{h}{2}(0.1)\\big)w_{i+1}=w_i+\\frac{h}{2}\\big[0.1w_i\\big], $$\n",
    "$$ w_{i+1}=\\frac{w_i+\\frac{h}{2}\\big[0.1w_i\\big]}{\\big(1-\\frac{h}{2}(0.1)\\big)} $$\n",
    "\n",
    "\n"
   ]
  },
  {
   "cell_type": "code",
   "execution_count": 6,
   "metadata": {},
   "outputs": [],
   "source": [
    "### INSERT METHOD HERE\n",
    "w=np.zeros(N+1) # a list of 2000+1 zeros\n",
    "w[0]=6 # INITIAL CONDITION\n",
    "for i in range(0,N):\n",
    "    w[i+1]=(w[i]+h/2*(linfun(t[i],w[i])))/(1-0.1*h/2)\n"
   ]
  },
  {
   "cell_type": "markdown",
   "metadata": {},
   "source": [
    "## Plotting Results"
   ]
  },
  {
   "cell_type": "code",
   "execution_count": 7,
   "metadata": {},
   "outputs": [
    {
     "data": {
      "image/png": "[encoded data removed]",
      "text/plain": [
       "<Figure size 576x288 with 1 Axes>"
      ]
     },
     "metadata": {
      "needs_background": "light"
     },
     "output_type": "display_data"
    }
   ],
   "source": [
    "## PLOTTING METHOD\n",
    "y=6*np.exp(0.1*(t-2000)) # EXACT SOLUTION\n",
    "fig = plt.figure(figsize=(8,4))\n",
    "plt.plot(t,w,'o:',color='purple',label='Taylor')\n",
    "plt.plot(t,y,'s:',color='black',label='Exact')\n",
    "plt.legend(loc='best')\n",
    "plt.show()"
   ]
  },
  {
   "cell_type": "markdown",
   "metadata": {},
   "source": [
    "## Table\n",
    "The table below shows the time, the numerical approximation, $w$,  the exact solution, $y$, and the exact error $|y(t_i)-w_i|$ for the linear population equation:"
   ]
  },
  {
   "cell_type": "code",
   "execution_count": 8,
   "metadata": {},
   "outputs": [
    {
     "data": {
      "text/html": [
       "<table><tr><td>time</td><td> Adams (w)</td><td>Exact (y)</td><td>Exact Error</td></tr><tr><td>2000.0</td><td>6.0</td><td>6.0</td><td>0.0</td></tr><tr><td>2000.1</td><td>6.060301508</td><td>6.060301003</td><td>5.05e-07</td></tr><tr><td>2000.2</td><td>6.12120906</td><td>6.12120804</td><td>1.0202e-06</td></tr><tr><td>2000.3</td><td>6.182728749</td><td>6.182727204</td><td>1.5457e-06</td></tr><tr><td>2000.4</td><td>6.244866727</td><td>6.244864645</td><td>2.0817e-06</td></tr><tr><td>2000.5</td><td>6.307629206</td><td>6.307626578</td><td>2.6282e-06</td></tr><tr><td>2000.6</td><td>6.371022465</td><td>6.371019279</td><td>3.1856e-06</td></tr><tr><td>2000.7</td><td>6.435052841</td><td>6.435049088</td><td>3.7538e-06</td></tr><tr><td>2000.8</td><td>6.499726739</td><td>6.499722406</td><td>4.3332e-06</td></tr><tr><td>2000.9</td><td>6.565050626</td><td>6.565045702</td><td>4.9239e-06</td></tr></table>"
      ],
      "text/plain": [
       "[['time', ' Adams (w)', 'Exact (y)', 'Exact Error'],\n",
       " [2000.0, 6.0, 6.0, 0.0],\n",
       " [2000.1, 6.060301508, 6.060301003, 5.05e-07],\n",
       " [2000.2, 6.12120906, 6.12120804, 1.0202e-06],\n",
       " [2000.3, 6.182728749, 6.182727204, 1.5457e-06],\n",
       " [2000.4, 6.244866727, 6.244864645, 2.0817e-06],\n",
       " [2000.5, 6.307629206, 6.307626578, 2.6282e-06],\n",
       " [2000.6, 6.371022465, 6.371019279, 3.1856e-06],\n",
       " [2000.7, 6.435052841, 6.435049088, 3.7538e-06],\n",
       " [2000.8, 6.499726739, 6.499722406, 4.3332e-06],\n",
       " [2000.9, 6.565050626, 6.565045702, 4.9239e-06]]"
      ]
     },
     "execution_count": 8,
     "metadata": {},
     "output_type": "execute_result"
    }
   ],
   "source": [
    "table = ListTable()\n",
    "table.append(['time', ' Adams (w)',  'Exact (y)','Exact Error'])\n",
    "for i in range (0,10):\n",
    "    table.append([round(t[i],2),  round(w[i],9), round(y[i],9),np.abs(round(y[i]-w[i],10))])\n",
    "    \n",
    "table"
   ]
  },
  {
   "cell_type": "markdown",
   "metadata": {},
   "source": [
    "## 2. Non-Linear Population Equation \n",
    "$$ y^{'}=0.2y-0.01y^2, \\ \\ (2000 \\leq t \\leq 2020), $$\n",
    "with the initial condition,\n",
    "$$y(2000)=6.$$\n",
    "## Specific 1 step Adams-Moutlon method for the Non-Linear Population Equation\n",
    "The specific Adams-Moulton difference equation for the non-linear population equations is:\n",
    "\n",
    "$$w_{i+1}=w_{i}+\\frac{h}{2}\\big[ 0.2 w_{i+1}-0.01 w_{i+1}^2 \n",
    "                                + 0.2 w_i-0.01 w_i^2\\big] $$\n",
    "re-arranging \n",
    "$$w_{i+1}-\\frac{h}{2}\\big( 0.2 w_{i+1}-0.01 w_{i+1}^2 \\big)=w_{i}+\\frac{h}{2}\n",
    "                                \\big[ 0.2 w_i-0.01 w_i^2\\big] $$\n",
    "\n",
    "\n",
    "for $i=0,...,199$, where $w_i$ is the numerical approximation of $y$ at time $t_i$, with step size $h$ and the initial condition\n",
    "$$w_0=6.$$\n",
    "\n",
    "PROBLEM WE CANNOT MOVE THE SQUARED (NON-LINEAR TERM) TO THE RIGHT HAND SIDE SO WE CAN SOLVE FOR w[i+1].\n",
    "For this reason we will use a predictor-corrector method,\n",
    "The predictor will be the 2-step Adams Bashforth\n",
    "$$ w_{i+1}^{p}=w_{i}+\\frac{h}{2}\\big[ 3(0.2 w_{i}-0.01 w_{i}^2) \n",
    "                                - (0.2 w_{i-1}-0.01 w_{i-1}^2) \\big] $$\n",
    "with the corrector being the 1-step Adams Moulton,\n",
    "$$w_{i+1}=w_{i}+\\frac{h}{2}\\big[ 0.2 w_{i+1}^p-0.01 (w^p_{i+1})^2 \n",
    "                                + 0.2 w_i-0.01 w_i^2\\big], $$       \n",
    "for i=1,...200.\n",
    "                                "
   ]
  },
  {
   "cell_type": "code",
   "execution_count": 9,
   "metadata": {},
   "outputs": [],
   "source": [
    "def nonlinfun(t,w):\n",
    "    ftw=0.2*w-0.01*w*w\n",
    "    return ftw"
   ]
  },
  {
   "cell_type": "code",
   "execution_count": 17,
   "metadata": {},
   "outputs": [],
   "source": [
    "### INSERT METHOD HERE\n",
    "w=np.zeros(N+1)\n",
    "w_p=np.zeros(N+1)\n",
    "w[0]=6\n",
    "w[1]=6.084 # FROM THE THE TAYLOR METHOD\n",
    "w_p[0]=6\n",
    "w_p[1]=6.084 # FROM THE THE TAYLOR METHOD\n",
    "for n in range(1,N):\n",
    "    ## Predictor\n",
    "    w_p[n+1]=w[n]+h/2*(3*nonlinfun(t[n],w[n])-\n",
    "                       nonlinfun(t[n-1],w[n-1]))\n",
    "    ## Corrector\n",
    "    w[n+1]=w[n]+h/2*(nonlinfun(t[n+1],w_p[n+1])+\n",
    "                       nonlinfun(t[n],w[n]))"
   ]
  },
  {
   "cell_type": "markdown",
   "metadata": {},
   "source": [
    "## Results\n",
    "The plot below shows the numerical approximation, $w$ (circles) for the non-linear population equation:"
   ]
  },
  {
   "cell_type": "code",
   "execution_count": 22,
   "metadata": {},
   "outputs": [
    {
     "data": {
      "image/png": "[encoded data removed]",
      "text/plain": [
       "<Figure size 576x288 with 1 Axes>"
      ]
     },
     "metadata": {
      "needs_background": "light"
     },
     "output_type": "display_data"
    },
    {
     "data": {
      "image/png": "[encoded data removed]",
      "text/plain": [
       "<Figure size 576x288 with 1 Axes>"
      ]
     },
     "metadata": {
      "needs_background": "light"
     },
     "output_type": "display_data"
    }
   ],
   "source": [
    "fig = plt.figure(figsize=(8,4))\n",
    "plt.plot(t,w,'-.',color='purple',label='Correcter ')\n",
    "plt.plot(t,w_p,':',color='red',label='Predictor ')\n",
    "\n",
    "plt.title('Non Linear Population Equation')\n",
    "plt.legend(loc='best')\n",
    "plt.xlabel('time (yrs)')\n",
    "plt.ylabel('Population in billions')\n",
    "plt.show()\n",
    "\n",
    "fig = plt.figure(figsize=(8,4))\n",
    "plt.plot(t,np.abs(w-w_p),':',color='purple',label='|w-w_p| ')\n",
    "plt.title('Comparison of Predictor and Corrector')\n",
    "plt.legend(loc='best')\n",
    "plt.xlabel('time (yrs)')\n",
    "plt.ylabel('Population in billions')\n",
    "plt.show()\n",
    "\n"
   ]
  },
  {
   "cell_type": "markdown",
   "metadata": {},
   "source": [
    "## Table\n",
    "The table below shows the time and the numerical approximation, $w$,  for the non-linear population equation:"
   ]
  },
  {
   "cell_type": "code",
   "execution_count": 12,
   "metadata": {},
   "outputs": [
    {
     "data": {
      "text/html": [
       "<table><tr><td>time</td><td>2 step Adams Moulton Population (w)</td></tr><tr><td>2000.0</td><td>6.0</td></tr><tr><td>2000.1</td><td>6.084</td></tr><tr><td>2000.2</td><td>6.084</td></tr><tr><td>2000.3</td><td>6.084</td></tr><tr><td>2000.4</td><td>6.084</td></tr><tr><td>2000.5</td><td>6.084</td></tr><tr><td>2000.6</td><td>6.084</td></tr><tr><td>2000.7</td><td>6.084</td></tr><tr><td>2000.8</td><td>6.084</td></tr><tr><td>2000.9</td><td>6.084</td></tr></table>"
      ],
      "text/plain": [
       "[['time', '2 step Adams Moulton Population (w)'],\n",
       " [2000.0, 6.0],\n",
       " [2000.1, 6.084],\n",
       " [2000.2, 6.084],\n",
       " [2000.3, 6.084],\n",
       " [2000.4, 6.084],\n",
       " [2000.5, 6.084],\n",
       " [2000.6, 6.084],\n",
       " [2000.7, 6.084],\n",
       " [2000.8, 6.084],\n",
       " [2000.9, 6.084]]"
      ]
     },
     "execution_count": 12,
     "metadata": {},
     "output_type": "execute_result"
    }
   ],
   "source": [
    "table = ListTable()\n",
    "table.append(['time', 'Predictor Corrector Population (w)'])\n",
    "for i in range (0,10):\n",
    "    table.append([round(t[i],2),  round(w[i],9)])\n",
    "    \n",
    "table"
   ]
  },
  {
   "cell_type": "markdown",
   "metadata": {},
   "source": [
    "## 3. Non-Linear Population Equation with an oscilation \n",
    "$$ y^{'}=0.2y-0.01y^2+\\sin(2\\pi t), \\ \\ (2000 \\leq t \\leq 2020), $$\n",
    "with the initial condition,\n",
    "$$y(2000)=6.$$\n",
    "\n",
    "## Specific 2 Step Adams Moulton for the Non-Linear Population Equation with an oscilation\n",
    "To write the specific \n",
    "\n",
    "$$ w_{i+1}=w_{i}+\\frac{0.1}{2} \\big[ \\big] $$\n",
    "            \n",
    "           \n",
    "$$w_{i+1}=w_{i}+\\frac{h}{2}\\big[ 0.2 w_{i+1}-0.01 w_{i+1}^2 \n",
    "                                + 0.2 w_i-0.01 w_i^2\\big] $$\n",
    "re-arranging \n",
    "$$w_{i+1}-\\frac{h}{2}\\big( 0.2 w_{i+1}-0.01 w_{i+1}^2 \\big)=w_{i}+\\frac{h}{2}\n",
    "                                \\big[ 0.2 w_i-0.01 w_i^2\\big] $$\n",
    "\n",
    "\n",
    "for $i=0,...,199$, where $w_i$ is the numerical approximation of $y$ at time $t_i$, with step size $h$ and the initial condition\n",
    "$$w_0=6.$$\n",
    "\n",
    "PROBLEM WE CANNOT MOVE THE SQUARED (NON-LINEAR TERM) TO THE RIGHT HAND SIDE SO WE CAN SOLVE FOR w[i+1].\n",
    "For this reason we will use a predictor-corrector method,\n",
    "The predictor will be the 2-step Adams Bashforth\n",
    "$$ w_{i+1}^{p}=w_{i}+\\frac{h}{2}\\big[ 3(0.2 w_{i}-0.01 w_{i}^2) \n",
    "                                - (0.2 w_{i-1}-0.01 w_{i-1}^2) \\big] $$\n",
    "with the corrector being the 1-step Adams Moulton,\n",
    "$$w_{i+1}=w_{i}+\\frac{h}{2}\\big[ 0.2 w_{i+1}^p-0.01 (w^p_{i+1})^2 \n",
    "                                + 0.2 w_i-0.01 w_i^2\\big], $$       \n",
    "\n",
    "                                \n",
    "for $i=1,...,199$, where $w_i$ is the numerical approximation of $y$ at time $t_i$, with step size $h$ and the initial condition\n",
    "$$w_0=6.$$ As $w_1$ is required for the method but unknown we will use the numerical solution of a one step method to approximate the value. Here, we use the 2nd order Runge Kutta approximation (see [Runge Kutta notebook](https://github.com/john-s-butler-dit/Numerical-Analysis-Python/blob/master/Chapter%2003%20-%20Runge%20Kutta/01_2nd%20Order%20Runge%20Kutta%20Population%20Equations.ipynb) )\n",
    "$$w_1=6.11.$$\n",
    "\n",
    "\n",
    "The specific Adams-Moulton difference equation for the non-linear population equations is:\n",
    "\n"
   ]
  },
  {
   "cell_type": "code",
   "execution_count": 13,
   "metadata": {},
   "outputs": [],
   "source": [
    "def nonlin_oscfun(t,w):\n",
    "    ftw=0.2*w-0.01*w*w+np.sin(2*np.math.pi*t)\n",
    "    return ftw"
   ]
  },
  {
   "cell_type": "code",
   "execution_count": 14,
   "metadata": {},
   "outputs": [],
   "source": [
    "## INSERT METHOD HERE\n",
    "w=np.zeros(N+1)\n",
    "w[0]=6\n",
    "w[1]=6.11\n",
    "for n in range(1,N):\n",
    "    w[n+1]=w[n]+h/2"
   ]
  },
  {
   "cell_type": "markdown",
   "metadata": {},
   "source": [
    "## Results\n",
    "The plot below shows the  numerical approximation, $w$ (circles) for the non-linear population equation:"
   ]
  },
  {
   "cell_type": "code",
   "execution_count": 15,
   "metadata": {},
   "outputs": [
    {
     "data": {
      "image/png": "[encoded data removed]",
      "text/plain": [
       "<Figure size 576x288 with 1 Axes>"
      ]
     },
     "metadata": {
      "needs_background": "light"
     },
     "output_type": "display_data"
    }
   ],
   "source": [
    "fig = plt.figure(figsize=(8,4))\n",
    "plt.plot(t,w,'o:',color='purple',label='Adams-Moulton')\n",
    "plt.title('Population Equation with seasonal oscilation')\n",
    "plt.xlabel('time (yrs)')\n",
    "plt.ylabel('Population in Billions')\n",
    "plt.legend(loc='best')\n",
    "plt.show()"
   ]
  },
  {
   "cell_type": "markdown",
   "metadata": {},
   "source": [
    "## Table\n",
    "The table below shows the time and the numerical approximation, $w$,  for the non-linear population equation:"
   ]
  },
  {
   "cell_type": "code",
   "execution_count": 16,
   "metadata": {},
   "outputs": [
    {
     "data": {
      "text/html": [
       "<table><tr><td>time</td><td>Adams-Moulton (w)</td></tr><tr><td>2000.0</td><td>6.0</td></tr><tr><td>2000.1</td><td>6.11</td></tr><tr><td>2000.2</td><td>6.16</td></tr><tr><td>2000.3</td><td>6.21</td></tr><tr><td>2000.4</td><td>6.26</td></tr><tr><td>2000.5</td><td>6.31</td></tr><tr><td>2000.6</td><td>6.36</td></tr><tr><td>2000.7</td><td>6.41</td></tr><tr><td>2000.8</td><td>6.46</td></tr><tr><td>2000.9</td><td>6.51</td></tr></table>"
      ],
      "text/plain": [
       "[['time', 'Adams-Moulton (w)'],\n",
       " [2000.0, 6.0],\n",
       " [2000.1, 6.11],\n",
       " [2000.2, 6.16],\n",
       " [2000.3, 6.21],\n",
       " [2000.4, 6.26],\n",
       " [2000.5, 6.31],\n",
       " [2000.6, 6.36],\n",
       " [2000.7, 6.41],\n",
       " [2000.8, 6.46],\n",
       " [2000.9, 6.51]]"
      ]
     },
     "execution_count": 16,
     "metadata": {},
     "output_type": "execute_result"
    }
   ],
   "source": [
    "table = ListTable()\n",
    "table.append(['time', 'Adams-Moulton (w)'])\n",
    "for i in range (0,10):\n",
    "    table.append([round(t[i],2),  round(w[i],9)])\n",
    "    \n",
    "table\n"
   ]
  },
  {
   "cell_type": "code",
   "execution_count": null,
   "metadata": {},
   "outputs": [],
   "source": []
  },
  {
   "cell_type": "code",
   "execution_count": null,
   "metadata": {},
   "outputs": [],
   "source": []
  },
  {
   "cell_type": "code",
   "execution_count": null,
   "metadata": {},
   "outputs": [],
   "source": []
  }
 ],
 "metadata": {
  "kernelspec": {
   "display_name": "Python 3",
   "language": "python",
   "name": "python3"
  },
  "language_info": {
   "codemirror_mode": {
    "name": "ipython",
    "version": 3
   },
   "file_extension": ".py",
   "mimetype": "text/x-python",
   "name": "python",
   "nbconvert_exporter": "python",
   "pygments_lexer": "ipython3",
   "version": "3.7.3"
  }
 },
 "nbformat": 4,
 "nbformat_minor": 1
}
