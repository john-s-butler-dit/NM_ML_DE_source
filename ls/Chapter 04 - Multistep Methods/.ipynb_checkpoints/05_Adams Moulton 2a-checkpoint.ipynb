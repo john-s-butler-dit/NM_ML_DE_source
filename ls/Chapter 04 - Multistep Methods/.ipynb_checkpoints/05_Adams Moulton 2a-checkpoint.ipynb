{
 "cells": [
  {
   "cell_type": "markdown",
   "metadata": {},
   "source": [
    "## Problem Sheet Question 2a\n",
    "\n",
    "The general form of the population growth differential equation\n",
    "$$ y^{'}=y-t, \\ \\ (0 \\leq t \\leq 2) $$\n",
    "with the initial condition\n",
    "$$y(0)=2$$\n",
    "For N=4\n",
    "with the analytic (exact) solution\n",
    "$$ y= e^{t}+t+1$$\n",
    "\n",
    "# 3-step Adams Bashforth\n",
    "\n",
    "The 3-step Adams Bashforth difference equation is\n",
    "$$w_{i+1} = w_{i} + \\frac{h}{12}(23f(t_i,w_i)-16f(t_{i-1},w_{i-1})+5f(t_{i-2},w_{i-2})) $$\n",
    "where\n",
    "$$w_{i+1} = w_{i} + \\frac{h}{12}(23(w_i-t_i)-(w_{i-1}-t_{i-1})+5(w_{i-2}-t_{i-2})) $$\n"
   ]
  },
  {
   "cell_type": "code",
   "execution_count": 13,
   "metadata": {
    "collapsed": true
   },
   "outputs": [],
   "source": [
    "import numpy as np\n",
    "import math \n",
    "\n",
    "%matplotlib inline\n",
    "import matplotlib.pyplot as plt # side-stepping mpl backend\n",
    "import matplotlib.gridspec as gridspec # subplots\n",
    "import warnings\n",
    "\n",
    "warnings.filterwarnings(\"ignore\")\n"
   ]
  },
  {
   "cell_type": "code",
   "execution_count": 14,
   "metadata": {
    "collapsed": true
   },
   "outputs": [],
   "source": [
    "def myfun_ty(t,y):\n",
    "    return y-t\n",
    "\n",
    "\n",
    "\n",
    "#PLOTS\n",
    "def Adams_Bashforth_3step(N,IC):\n",
    "\n",
    "    x_end=2\n",
    "    x_start=0\n",
    "    INTITIAL_CONDITION=IC\n",
    "    h=x_end/(N)\n",
    "    N=N+2;\n",
    "    t=np.zeros(N)\n",
    "    w=np.zeros(N)\n",
    "   \n",
    "    Analytic_Solution=np.zeros(N)\n",
    "    k=0\n",
    "    w[0]=INTITIAL_CONDITION\n",
    "    Analytic_Solution[0]=INTITIAL_CONDITION\n",
    "    t[0]=x_start\n",
    "    t[1]=x_start+1*h\n",
    "    t[2]=x_start+2*h\n",
    "    w[1]=math.exp(t[1])+t[1]+1\n",
    "    w[2]=math.exp(t[2])+t[2]+1\n",
    "    Analytic_Solution[1]=math.exp(t[1])+t[1]+1\n",
    "    Analytic_Solution[2]=math.exp(t[2])+t[1]+1\n",
    "\n",
    "    for k in range (2,N-1):\n",
    "        w[k+1]=w[k]+h/12.0*(23*myfun_ty(t[k],w[k])-16*myfun_ty(t[k-1],w[k-1])+5*myfun_ty(t[k-2],w[k-2]))\n",
    "        t[k+1]=t[k]+h\n",
    "        Analytic_Solution[k+1]=2*math.exp(t[k+1])+t[k+1]+1\n",
    "\n",
    "    fig = plt.figure(figsize=(10,4))\n",
    "    # --- left hand plot\n",
    "    ax = fig.add_subplot(1,3,1)\n",
    "    plt.plot(t,w,color='red')\n",
    "    #ax.legend(loc='best')\n",
    "    plt.title('Numerical Solution h=%s'%(h))\n",
    "\n",
    "    # --- right hand plot\n",
    "    ax = fig.add_subplot(1,3,2)\n",
    "    plt.plot(t,Analytic_Solution,color='blue')\n",
    "    plt.title('Analytic Solution')\n",
    "\n",
    "   \n",
    "    ax = fig.add_subplot(1,3,3)\n",
    "    plt.plot(t,Analytic_Solution-w,color='blue')\n",
    "    plt.title('Error')\n",
    " # --- title, explanatory text and save\n",
    "\n",
    "\n",
    "\n",
    "    # --- title, explanatory text and save\n",
    "    fig.suptitle(r\"$y'=t-y$\", fontsize=20)\n",
    "    plt.tight_layout()\n",
    "    plt.subplots_adjust(top=0.85)    \n",
    "    print(t)\n",
    "    print(Analytic_Solution)\n",
    "    print(w)"
   ]
  },
  {
   "cell_type": "code",
   "execution_count": 16,
   "metadata": {},
   "outputs": [
    {
     "name": "stdout",
     "output_type": "stream",
     "text": [
      "[ 0.   0.5  1.   1.5  2.   2.5]\n",
      "[  2.           3.14872127   4.21828183  11.46337814  17.7781122\n",
      "  27.86498792]\n",
      "[  2.           3.14872127   4.71828183   6.93248773  10.21158419\n",
      "  15.2340026 ]\n"
     ]
    },
    {
     "data": {
      "image/png": "[encoded data removed]",
      "text/plain": [
       "<matplotlib.figure.Figure at 0x7f72dceb90f0>"
      ]
     },
     "metadata": {},
     "output_type": "display_data"
    }
   ],
   "source": [
    "Adams_Bashforth_3step(4,2)"
   ]
  },
  {
   "cell_type": "code",
   "execution_count": null,
   "metadata": {
    "collapsed": true
   },
   "outputs": [],
   "source": []
  }
 ],
 "metadata": {
  "kernelspec": {
   "display_name": "Python 3",
   "language": "python",
   "name": "python3"
  },
  "language_info": {
   "codemirror_mode": {
    "name": "ipython",
    "version": 3
   },
   "file_extension": ".py",
   "mimetype": "text/x-python",
   "name": "python",
   "nbconvert_exporter": "python",
   "pygments_lexer": "ipython3",
   "version": "3.6.8"
  }
 },
 "nbformat": 4,
 "nbformat_minor": 1
}
