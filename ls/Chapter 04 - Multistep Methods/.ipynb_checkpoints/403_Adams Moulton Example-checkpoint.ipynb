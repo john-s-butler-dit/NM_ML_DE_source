{
 "cells": [
  {
   "cell_type": "markdown",
   "metadata": {},
   "source": [
    "# Adams Moulton\n",
    "\n",
    "The Adams Moulton method is an implicit multistep method. This notebook illustrates the 2 step Adams Moulton method for a linear initial value problem.\n",
    "## Intial Value Problem\n",
    "\n",
    "The general form of the population growth differential equation\n",
    "$$ y^{'}=t-y, \\ \\ (0 \\leq t \\leq 2) $$\n",
    "with the initial condition\n",
    "$$y(0)=1.$$"
   ]
  },
  {
   "cell_type": "markdown",
   "metadata": {},
   "source": [
    "## Python Libraries"
   ]
  },
  {
   "cell_type": "code",
   "execution_count": 1,
   "metadata": {
    "collapsed": true
   },
   "outputs": [],
   "source": [
    "import numpy as np\n",
    "import math \n",
    "\n",
    "%matplotlib inline\n",
    "import matplotlib.pyplot as plt # side-stepping mpl backend\n",
    "import matplotlib.gridspec as gridspec # subplots\n",
    "import warnings\n",
    "\n",
    "warnings.filterwarnings(\"ignore\")\n",
    "class ListTable(list):\n",
    "    \"\"\" Overridden list class which takes a 2-dimensional list of \n",
    "        the form [[1,2,3],[4,5,6]], and renders an HTML Table in \n",
    "        IPython Notebook. \"\"\"\n",
    "    \n",
    "    def _repr_html_(self):\n",
    "        html = [\"<table>\"]\n",
    "        for row in self:\n",
    "            html.append(\"<tr>\")\n",
    "            \n",
    "            for col in row:\n",
    "                html.append(\"<td>{0}</td>\".format(col))\n",
    "            \n",
    "            html.append(\"</tr>\")\n",
    "        html.append(\"</table>\")\n",
    "        return ''.join(html)"
   ]
  },
  {
   "cell_type": "markdown",
   "metadata": {},
   "source": [
    "### Defining the function\n",
    "$$ f(t,y)=t-y.$$"
   ]
  },
  {
   "cell_type": "code",
   "execution_count": 2,
   "metadata": {
    "collapsed": true
   },
   "outputs": [],
   "source": [
    "def myfun_ty(t,y):\n",
    "    return t-y"
   ]
  },
  {
   "cell_type": "markdown",
   "metadata": {},
   "source": [
    "## Discrete Interval\n",
    "Defining the step size  $h$  from the interval range  $a≤t≤b$  and number of steps  $N$ \n",
    "$$h=b−ah.$$\n",
    " \n",
    "This gives the discrete time steps,\n",
    "$$t_i=t_0+ih,$$\n",
    "where  $t_0=a.$\n",
    "\n",
    "Here the interval is  $0≤t≤2$  and number of step  4 \n",
    "$$h=\\frac{2−0}{4}=0.5.$$\n",
    " \n",
    "This gives the discrete time steps,\n",
    "$$t_i=0+i0.5,$$\n",
    "for  $i=0,1,⋯,4.$"
   ]
  },
  {
   "cell_type": "code",
   "execution_count": 3,
   "metadata": {},
   "outputs": [
    {
     "data": {
      "text/plain": [
       "<matplotlib.text.Text at 0x7f51baf3e780>"
      ]
     },
     "execution_count": 3,
     "metadata": {},
     "output_type": "execute_result"
    },
    {
     "data": {
      "image/png": "[encoded data removed]",
      "text/plain": [
       "<matplotlib.figure.Figure at 0x7f51c0155630>"
      ]
     },
     "metadata": {},
     "output_type": "display_data"
    }
   ],
   "source": [
    "# Start and end of interval\n",
    "b=2\n",
    "a=0\n",
    "# Step size\n",
    "N=4\n",
    "h=(b-a)/(N)\n",
    "t=np.arange(a,b+h,h)\n",
    "fig = plt.figure(figsize=(10,4))\n",
    "plt.plot(t,0*t,'o:',color='red')\n",
    "plt.xlim((0,2))\n",
    "plt.title('Illustration of discrete time points for h=%s'%(h))"
   ]
  },
  {
   "cell_type": "markdown",
   "metadata": {},
   "source": [
    "## Exact Solution\n",
    "THe initial value problem has the exact solution\n",
    "$$y(t)=2e^{-t}+t-1.$$\n",
    "The figure below plots the exact solution."
   ]
  },
  {
   "cell_type": "code",
   "execution_count": 4,
   "metadata": {},
   "outputs": [
    {
     "data": {
      "text/plain": [
       "<matplotlib.text.Text at 0x7f51d94abcf8>"
      ]
     },
     "execution_count": 4,
     "metadata": {},
     "output_type": "execute_result"
    },
    {
     "data": {
      "image/png": "[encoded data removed]",
      "text/plain": [
       "<matplotlib.figure.Figure at 0x7f51baf3e7f0>"
      ]
     },
     "metadata": {},
     "output_type": "display_data"
    }
   ],
   "source": [
    "IC=1 # Intial condtion\n",
    "y=(IC+1)*np.exp(-t)+t-1\n",
    "fig = plt.figure(figsize=(6,4))\n",
    "plt.plot(t,y,'o-',color='black')\n",
    "plt.title('Exact Solution ')\n",
    "plt.xlabel('time')"
   ]
  },
  {
   "cell_type": "code",
   "execution_count": 5,
   "metadata": {
    "collapsed": true
   },
   "outputs": [],
   "source": [
    "# Initial Condition\n",
    "w=np.zeros(N+1)\n",
    "#np.zeros(N+1)\n",
    "w[0]=IC"
   ]
  },
  {
   "cell_type": "markdown",
   "metadata": {},
   "source": [
    "## 2-step Adams Moulton\n",
    "\n",
    "The general 2-step Adams Moulton difference equation is\n",
    "$$w_{i+1} = w_{i} + \\frac{h}{12}(5f(t_{i+1},w_{i+1})+8f(t_{i},w_{i})-f(t_{i-1},w_{i-1})). $$\n",
    "For the specific intial value problem the 2-step Adams Bashforth difference equation is\n",
    "$$w_{i+1} = w_{i} + \\frac{h}{12}(5(t_{i+1}-w_{i+1})+8(t_{i}-w_{i})-(t_{i-1}-w_{i-1})). $$\n",
    "\n",
    "for $i=0$ the difference equation is:\n",
    "$$w_{1} = w_{0} + \\frac{h}{12}(5(t_{1}-w_{1})+8f(t_{0}-w_{0})-(t_{-1}-w_{-1})). $$\n",
    "\n",
    "this is not solvable as <font color='red'> $w_{1}, \\ w_{-1}$ </font> are unknown.\n",
    "for $i=1$ the difference equation is:\n",
    "$$w_{2} = w_{1} + \\frac{h}{12}(5(t_{2}-w_{2})+8f(t_{1}-w_{1})-(t_{0}-w_{0})). $$\n",
    "this is not solvable as <font color='red'> $w_{1}$ and $w_{2}$ </font> are unknown. $w_1$ can be  approximated using a one step method. Here, as the exact solution is known,\n",
    "$$w_1=2e^{-t_1}+t_1-1.$$\n",
    "As the intial value problem is linear the difference equation can be rearranged such that $w_2$ is on the right hand side:\n",
    "$$w_{2}+\\frac{5h}{12}w_{2} = w_{1} + \\frac{h}{12}(5(t_{2})+8f(t_{1}-w_{1})-(t_{0}-w_{0})), $$\n",
    "$$w_{2} = \\frac{w_{1} + \\frac{h}{12}(5(t_{2})+8f(t_{1}-w_{1})-(t_{0}-w_{0}))}{1+\\frac{5h}{12}}. $$\n"
   ]
  },
  {
   "cell_type": "code",
   "execution_count": 6,
   "metadata": {},
   "outputs": [],
   "source": [
    "### Initial conditions\n",
    "w=np.zeros(len(t))\n",
    "w[0]=IC\n",
    "w[1]=y[1]"
   ]
  },
  {
   "cell_type": "markdown",
   "metadata": {},
   "source": [
    "### Loop"
   ]
  },
  {
   "cell_type": "code",
   "execution_count": 7,
   "metadata": {
    "collapsed": true
   },
   "outputs": [],
   "source": [
    "for k in range (1,N):\n",
    "    w[k+1]=(w[k]+h/12.0*(5*t[k+1]+8*myfun_ty(t[k],w[k])-myfun_ty(t[k-1],w[k-1])))/(1+5*h/12)   "
   ]
  },
  {
   "cell_type": "markdown",
   "metadata": {},
   "source": [
    "### Plotting solution"
   ]
  },
  {
   "cell_type": "code",
   "execution_count": 8,
   "metadata": {},
   "outputs": [],
   "source": [
    "def plotting(t,w,y):\n",
    "    fig = plt.figure(figsize=(10,4))\n",
    "    plt.plot(t,y, 'o-',color='black',label='Exact')\n",
    "    plt.plot(t,w,'s:',color='blue',label='Adams-Moulton')\n",
    "    plt.xlabel('time')\n",
    "    plt.legend()\n",
    "    plt.show "
   ]
  },
  {
   "cell_type": "markdown",
   "metadata": {},
   "source": [
    "The plot below shows the exact solution (black) and the 2 step Adams-Moulton approximation (red) of the intial value problem"
   ]
  },
  {
   "cell_type": "code",
   "execution_count": 9,
   "metadata": {},
   "outputs": [
    {
     "data": {
      "image/png": "[encoded data removed]",
      "text/plain": [
       "<matplotlib.figure.Figure at 0x7f51baf262e8>"
      ]
     },
     "metadata": {},
     "output_type": "display_data"
    }
   ],
   "source": [
    "plotting(t,w,y)"
   ]
  },
  {
   "cell_type": "markdown",
   "metadata": {},
   "source": [
    "## Local Error \n",
    "The Error for the 2 step Adams Moulton is:\n",
    "$$y_{n+1}=y_n+\\frac{h}{12}[5f(t_{n+1},w_{n+1})+8f(t_{n},w_{n})-f(t_{n-1},w_{n-1})] +\\frac{-h^4}{24}y^{(4)}(\\eta),$$\n",
    "where $\\eta \\in [t_{n-1},t_{n+1}]$.\n",
    "\n",
    "Rearranging the equations gives \n",
    "$$\\frac{y_{n+1}-y_{n}}{h}=\\frac{1}{12}[5f(t_{n+1},w_{n+1})+8f(t_{n},w_{n})-f(t_{n-1},w_{n-1})] +\\frac{-h^3}{24}y^{(4)}(\\eta),$$\n",
    "For our specific initial value problem the error is of the form:\n",
    "$$\\frac{-h^4}{24}y'''(\\eta)=\\frac{h^4}{24}2e^{-\\eta} \\leq\\frac{(0.5)^4}{24} 2\\leq 0.00521 $$"
   ]
  },
  {
   "cell_type": "code",
   "execution_count": 10,
   "metadata": {},
   "outputs": [
    {
     "data": {
      "text/html": [
       "<table><tr><td>time</td><td>Adams Bashforth</td><td>Exact</td><td>Error</td><td>LTE</td></tr><tr><td>0.0</td><td>1.0</td><td>1.0</td><td>0.0</td><td>0.00521</td></tr><tr><td>0.5</td><td>0.713</td><td>0.713</td><td>0.0</td><td>0.00521</td></tr><tr><td>1.0</td><td>0.738</td><td>0.736</td><td>0.00248</td><td>0.00521</td></tr><tr><td>1.5</td><td>0.949</td><td>0.946</td><td>0.00287</td><td>0.00521</td></tr><tr><td>2.0</td><td>1.273</td><td>1.271</td><td>0.00258</td><td>0.00521</td></tr></table>"
      ],
      "text/plain": [
       "[['time', 'Adams Bashforth', 'Exact', 'Error', 'LTE'],\n",
       " [0.0, 1.0, 1.0, 0.0, 0.00521],\n",
       " [0.5, 0.71299999999999997, 0.71299999999999997, 0.0, 0.00521],\n",
       " [1.0, 0.73799999999999999, 0.73599999999999999, 0.00248, 0.00521],\n",
       " [1.5,\n",
       "  0.94899999999999995,\n",
       "  0.94599999999999995,\n",
       "  0.0028700000000000002,\n",
       "  0.00521],\n",
       " [2.0, 1.2729999999999999, 1.2709999999999999, 0.0025799999999999998, 0.00521]]"
      ]
     },
     "execution_count": 10,
     "metadata": {},
     "output_type": "execute_result"
    }
   ],
   "source": [
    "table = ListTable()\n",
    "table.append(['time', 'Adams Bashforth','Exact','Error','LTE'])\n",
    "for i in range (0,len(t)):\n",
    "    table.append([round(t[i],3), round(w[i],3), round(y[i],3),round(abs(y[i]-w[i]),5),round(2*0.5**4/24,5)])\n",
    "table"
   ]
  }
 ],
 "metadata": {
  "kernelspec": {
   "display_name": "Python 3",
   "language": "python",
   "name": "python3"
  },
  "language_info": {
   "codemirror_mode": {
    "name": "ipython",
    "version": 3
   },
   "file_extension": ".py",
   "mimetype": "text/x-python",
   "name": "python",
   "nbconvert_exporter": "python",
   "pygments_lexer": "ipython3",
   "version": "3.7.3"
  }
 },
 "nbformat": 4,
 "nbformat_minor": 1
}
