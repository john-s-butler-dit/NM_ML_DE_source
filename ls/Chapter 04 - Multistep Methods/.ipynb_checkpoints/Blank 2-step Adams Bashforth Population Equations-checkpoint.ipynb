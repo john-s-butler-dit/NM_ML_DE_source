{
 "cells": [
  {
   "cell_type": "markdown",
   "metadata": {},
   "source": [
    "# 2 Step Adam Bashfoth \n",
    "This notebook implements the 2 step Adams Bashforth method for three different population intial value problems.\n",
    "\n",
    "# Formuls\n",
    "The general 2nd Order Runge Kutta method for to the first order differential equation\n",
    "$$ y^{'} = f(t,y) $$\n",
    "numerical approximates $y$ the at time point $t_i$ as $w_i$\n",
    "with the  formula:\n",
    "$$ w_{i+1}=w_i+\\frac{h}{2}\\big[k_1+k_2],$$\n",
    "for $i=0,...,N-1$, where \n",
    "$$k_1=f(t_i,w_i)$$\n",
    "and\n",
    "$$k_2=f(t_i+h,w_i+hk_1)$$\n",
    "and $h$ is the stepsize.\n",
    "\n",
    "To illustrate the method we will apply it to three intial value problems:\n",
    "## 1. Linear \n",
    "Consider the linear population Differential Equation\n",
    "$$ y^{'}=0.1y, \\ \\ (2000 \\leq t \\leq 2020), $$\n",
    "with the initial condition,\n",
    "$$y(2000)=6.$$\n",
    "\n",
    "## 2. Non-Linear Population Equation \n",
    "Consider the non-linear population Differential Equation\n",
    "$$ y^{'}=0.2y-0.01y^2, \\ \\ (2000 \\leq t \\leq 2020), $$\n",
    "with the initial condition,\n",
    "$$y(2000)=6.$$\n",
    "\n",
    "## 3. Non-Linear Population Equation with an oscillation \n",
    "Consider the non-linear population Differential Equation with an oscillation \n",
    "$$ y^{'}=0.2y-0.01y^2+\\sin(2\\pi t), \\ \\ (2000 \\leq t \\leq 2020), $$\n",
    "with the initial condition,\n",
    "$$y(2000)=6.$$"
   ]
  },
  {
   "cell_type": "markdown",
   "metadata": {},
   "source": [
    "#### Setting up Libraries"
   ]
  },
  {
   "cell_type": "code",
   "execution_count": 1,
   "metadata": {},
   "outputs": [],
   "source": [
    "## Library\n",
    "import numpy as np\n",
    "import math \n",
    "\n",
    "%matplotlib inline\n",
    "import matplotlib.pyplot as plt # side-stepping mpl backend\n",
    "import matplotlib.gridspec as gridspec # subplots\n",
    "import warnings\n",
    "\n",
    "warnings.filterwarnings(\"ignore\")\n",
    "\n",
    "from IPython.display import HTML\n",
    "\n",
    "class ListTable(list):\n",
    "    \"\"\" Overridden list class which takes a 2-dimensional list of \n",
    "        the form [[1,2,3],[4,5,6]], and renders an HTML Table in \n",
    "        IPython Notebook. \"\"\"\n",
    "    \n",
    "    def _repr_html_(self):\n",
    "        html = [\"<table>\"]\n",
    "        for row in self:\n",
    "            html.append(\"<tr>\")\n",
    "            \n",
    "            for col in row:\n",
    "                html.append(\"<td>{0}</td>\".format(col))\n",
    "            \n",
    "            html.append(\"</tr>\")\n",
    "        html.append(\"</table>\")\n",
    "        return ''.join(html)"
   ]
  },
  {
   "cell_type": "code",
   "execution_count": 2,
   "metadata": {},
   "outputs": [
    {
     "data": {
      "text/html": [
       "<script>\n",
       "code_show=true; \n",
       "function code_toggle() {\n",
       " if (code_show){\n",
       " $('div.input').hide();\n",
       " } else {\n",
       " $('div.input').show();\n",
       " }\n",
       " code_show = !code_show\n",
       "} \n",
       "$( document ).ready(code_toggle);\n",
       "</script>\n",
       "<form action=\"javascript:code_toggle()\"><input type=\"submit\" value=\"Click here to toggle on/off the raw code.\"></form>"
      ],
      "text/plain": [
       "<IPython.core.display.HTML object>"
      ]
     },
     "execution_count": 2,
     "metadata": {},
     "output_type": "execute_result"
    }
   ],
   "source": [
    " \n",
    "HTML('''<script>\n",
    "code_show=true; \n",
    "function code_toggle() {\n",
    " if (code_show){\n",
    " $('div.input').hide();\n",
    " } else {\n",
    " $('div.input').show();\n",
    " }\n",
    " code_show = !code_show\n",
    "} \n",
    "$( document ).ready(code_toggle);\n",
    "</script>\n",
    "<form action=\"javascript:code_toggle()\"><input type=\"submit\" value=\"Click here to toggle on/off the raw code.\"></form>''')"
   ]
  },
  {
   "cell_type": "markdown",
   "metadata": {},
   "source": [
    "## Discrete Interval\n",
    "The continuous time $a\\leq t \\leq b $ is discretised into $N$ points seperated by a constant stepsize\n",
    "$$ h=\\frac{b-a}{N}.$$\n",
    "Here the interval is $2000\\leq t \\leq 2020,$ \n",
    "$$ h=\\frac{2020-2000}{200}=0.1.$$\n",
    "This gives the 201 discrete points:\n",
    "$$ t_0=2000, \\ t_1=2000.1, \\ ... t_{200}=2020. $$\n",
    "This is generalised to \n",
    "$$ t_i=2000+i0.1, \\ \\ \\ i=0,1,...,200.$$\n",
    "The plot below shows the discrete time steps:"
   ]
  },
  {
   "cell_type": "code",
   "execution_count": 3,
   "metadata": {},
   "outputs": [
    {
     "data": {
      "image/png": "[encoded data removed]",
      "text/plain": [
       "<Figure size 720x288 with 1 Axes>"
      ]
     },
     "metadata": {
      "needs_background": "light"
     },
     "output_type": "display_data"
    }
   ],
   "source": [
    "N=200\n",
    "t_end=2020.0\n",
    "t_start=2000.0\n",
    "h=((t_end-t_start)/N)\n",
    "t=np.arange(t_start,t_end+h/2,h)\n",
    "fig = plt.figure(figsize=(10,4))\n",
    "plt.plot(t,0*t,'o:',color='red')\n",
    "plt.title('Illustration of discrete time points for h=%s'%(h))\n",
    "plt.show()"
   ]
  },
  {
   "cell_type": "markdown",
   "metadata": {},
   "source": [
    "# 1. Linear Population Equation\n",
    "## Exact Solution \n",
    "The linear population equation\n",
    "$$ y^{'}=0.1y, \\ \\ (2000 \\leq t \\leq 2020), $$\n",
    "with the initial condition,\n",
    "$$y(2000)=6.$$\n",
    "has a known exact (analytic) solution\n",
    "$$ y=6e^{0.1(t-2000)}. $$\n",
    "\n",
    "## Specific 2nd Order Runge Kutta \n",
    "To write the specific 2nd Order Runge Kutta method for the linear population equation we need \n",
    "$$f(t,y)=0.1y$$"
   ]
  },
  {
   "cell_type": "code",
   "execution_count": 4,
   "metadata": {},
   "outputs": [],
   "source": [
    "def linfun(t,w):\n",
    "    ftw=0.1*w\n",
    "    return ftw"
   ]
  },
  {
   "cell_type": "markdown",
   "metadata": {},
   "source": [
    "this gives\n",
    "$$k_1=f(t_i,w_i)=0.lw_i,$$\n",
    "$$k_2=f(t_i+h,w_i+hk_1)=0.1(w_i+hk_1),$$\n",
    "and the difference equation\n",
    "$$w_{i+1}=w_{i}+\\frac{h}{2}(k_1+k_2)$$\n",
    "for $i=0,...,199$, where $w_i$ is the numerical approximation of $y$ at time $t_i$, with step size $h$ and the initial condition\n",
    "$$w_0=6.$$"
   ]
  },
  {
   "cell_type": "code",
   "execution_count": 5,
   "metadata": {},
   "outputs": [],
   "source": [
    "### INSERT METHOD HERE"
   ]
  },
  {
   "cell_type": "markdown",
   "metadata": {},
   "source": [
    "## Plotting Results"
   ]
  },
  {
   "cell_type": "code",
   "execution_count": 6,
   "metadata": {},
   "outputs": [
    {
     "data": {
      "image/png": "[encoded data removed]",
      "text/plain": [
       "<Figure size 576x288 with 1 Axes>"
      ]
     },
     "metadata": {
      "needs_background": "light"
     },
     "output_type": "display_data"
    }
   ],
   "source": [
    "## PLOTTING METHOD\n",
    "y=6*np.exp(0.1*(t-2000))\n",
    "fig = plt.figure(figsize=(8,4))\n",
    "#plt.plot(t,w,'o:',color='purple',label='Taylor')\n",
    "#plt.plot(t,y,'s:',color='black',label='Exact')\n",
    "plt.legend(loc='best')\n",
    "plt.show()"
   ]
  },
  {
   "cell_type": "markdown",
   "metadata": {},
   "source": [
    "## Table\n",
    "The table below shows the time, the 3rd order numerical approximation, $w$,  the exact solution, $y$, and the exact error $|y(t_i)-w_i|$ for the linear population equation:"
   ]
  },
  {
   "cell_type": "code",
   "execution_count": 7,
   "metadata": {},
   "outputs": [
    {
     "data": {
      "text/html": [
       "<table><tr><td>time</td><td>Taylor (w)</td><td>Exact (y)</td><td>Exact Error</td></tr><tr><td>2000.0</td><td>6.0</td><td>6.0</td><td>0.0</td></tr><tr><td>2000.1</td><td>6.0603</td><td>6.060301003</td><td>1.0025e-06</td></tr><tr><td>2000.2</td><td>6.121206015</td><td>6.12120804</td><td>2.0252e-06</td></tr><tr><td>2000.3</td><td>6.182724135</td><td>6.182727204</td><td>3.0683e-06</td></tr><tr><td>2000.4</td><td>6.244860513</td><td>6.244864645</td><td>4.1321e-06</td></tr><tr><td>2000.5</td><td>6.307621361</td><td>6.307626578</td><td>5.2171e-06</td></tr><tr><td>2000.6</td><td>6.371012956</td><td>6.371019279</td><td>6.3234e-06</td></tr><tr><td>2000.7</td><td>6.435041636</td><td>6.435049088</td><td>7.4515e-06</td></tr><tr><td>2000.8</td><td>6.499713804</td><td>6.499722406</td><td>8.6016e-06</td></tr><tr><td>2000.9</td><td>6.565035928</td><td>6.565045702</td><td>9.774e-06</td></tr></table>"
      ],
      "text/plain": [
       "[['time', 'Taylor (w)', 'Exact (y)', 'Exact Error'],\n",
       " [2000.0, 6.0, 6.0, 0.0],\n",
       " [2000.1, 6.0603, 6.060301003, 1.0025e-06],\n",
       " [2000.2, 6.121206015, 6.12120804, 2.0252e-06],\n",
       " [2000.3, 6.182724135, 6.182727204, 3.0683e-06],\n",
       " [2000.4, 6.244860513, 6.244864645, 4.1321e-06],\n",
       " [2000.5, 6.307621361, 6.307626578, 5.2171e-06],\n",
       " [2000.6, 6.371012956, 6.371019279, 6.3234e-06],\n",
       " [2000.7, 6.435041636, 6.435049088, 7.4515e-06],\n",
       " [2000.8, 6.499713804, 6.499722406, 8.6016e-06],\n",
       " [2000.9, 6.565035928, 6.565045702, 9.774e-06]]"
      ]
     },
     "execution_count": 7,
     "metadata": {},
     "output_type": "execute_result"
    }
   ],
   "source": [
    "table = ListTable()\n",
    "table.append(['time', 'Taylor (w)',  'Exact (y)','Exact Error'])\n",
    "for i in range (0,10):\n",
    "    table.append([round(t[i],2),  round(w[i],9), round(y[i],9),np.abs(round(y[i]-w[i],10))])\n",
    "    \n",
    "table"
   ]
  },
  {
   "cell_type": "markdown",
   "metadata": {},
   "source": [
    "## 2. Non-Linear Population Equation \n",
    "$$ y^{'}=0.2y-0.01y^2, \\ \\ (2000 \\leq t \\leq 2020), $$\n",
    "with the initial condition,\n",
    "$$y(2000)=6.$$\n",
    "## Specific 3rd Order Taylor for the Non-Linear Population Equation\n",
    "To write the specific 2nd Order Runge Kutta method we need\n",
    "$$f(t,y)=0.2y-0.01y^2,$$\n",
    "this gives\n",
    "$$k_1=f(t_i,w_i)=0.2w_i-0.01w_i^2,$$\n",
    "$$k_2=f(t_i+h,w_i+hk_1)=0.2(w_i+hk_1)-0.01(w_i+hk_1)^2,$$\n",
    "and the difference equation\n",
    "$$w_{i+1}=w_{i}+\\frac{h}{2}(k_1+k_2)$$\n",
    "for $i=0,...,199$, where $w_i$ is the numerical approximation of $y$ at time $t_i$, with step size $h$ and the initial condition\n",
    "$$w_0=6.$$"
   ]
  },
  {
   "cell_type": "code",
   "execution_count": 8,
   "metadata": {},
   "outputs": [],
   "source": [
    "def nonlinfun(t,w):\n",
    "    ftw=0.2*w-0.01*w*w\n",
    "    return ftw"
   ]
  },
  {
   "cell_type": "code",
   "execution_count": 9,
   "metadata": {},
   "outputs": [],
   "source": [
    "### INSERT METHOD HERE"
   ]
  },
  {
   "cell_type": "markdown",
   "metadata": {},
   "source": [
    "## Results\n",
    "The plot below shows the 3rd order numerical approximation, $w$ (circles) for the non-linear population equation:"
   ]
  },
  {
   "cell_type": "code",
   "execution_count": 10,
   "metadata": {},
   "outputs": [
    {
     "data": {
      "image/png": "[encoded data removed]",
      "text/plain": [
       "<Figure size 576x288 with 1 Axes>"
      ]
     },
     "metadata": {
      "needs_background": "light"
     },
     "output_type": "display_data"
    }
   ],
   "source": [
    "fig = plt.figure(figsize=(8,4))\n",
    "#plt.plot(t,w,'o:',color='purple',label='Taylor')\n",
    "plt.legend(loc='best')\n",
    "plt.show()"
   ]
  },
  {
   "cell_type": "markdown",
   "metadata": {},
   "source": [
    "## Table\n",
    "The table below shows the time and the 3rd order numerical approximation, $w$,  for the non-linear population equation:"
   ]
  },
  {
   "cell_type": "code",
   "execution_count": 11,
   "metadata": {},
   "outputs": [
    {
     "data": {
      "text/html": [
       "<table><tr><td>time</td><td>Taylor (w)</td></tr><tr><td>2000.0</td><td>6.0</td></tr><tr><td>2000.1</td><td>6.084332472</td></tr><tr><td>2000.2</td><td>6.169327965</td></tr><tr><td>2000.3</td><td>6.254977133</td></tr><tr><td>2000.4</td><td>6.341270218</td></tr><tr><td>2000.5</td><td>6.42819706</td></tr><tr><td>2000.6</td><td>6.51574709</td></tr><tr><td>2000.7</td><td>6.603909338</td></tr><tr><td>2000.8</td><td>6.692672434</td></tr><tr><td>2000.9</td><td>6.782024608</td></tr></table>"
      ],
      "text/plain": [
       "[['time', 'Taylor (w)'],\n",
       " [2000.0, 6.0],\n",
       " [2000.1, 6.084332472],\n",
       " [2000.2, 6.169327965],\n",
       " [2000.3, 6.254977133],\n",
       " [2000.4, 6.341270218],\n",
       " [2000.5, 6.42819706],\n",
       " [2000.6, 6.51574709],\n",
       " [2000.7, 6.603909338],\n",
       " [2000.8, 6.692672434],\n",
       " [2000.9, 6.782024608]]"
      ]
     },
     "execution_count": 11,
     "metadata": {},
     "output_type": "execute_result"
    }
   ],
   "source": [
    "table = ListTable()\n",
    "table.append(['time', 'Taylor (w)'])\n",
    "for i in range (0,10):\n",
    "    table.append([round(t[i],2),  round(w[i],9)])\n",
    "    \n",
    "table"
   ]
  },
  {
   "cell_type": "markdown",
   "metadata": {},
   "source": [
    "## 3. Non-Linear Population Equation with an oscilation \n",
    "$$ y^{'}=0.2y-0.01y^2+\\sin(2\\pi t), \\ \\ (2000 \\leq t \\leq 2020), $$\n",
    "with the initial condition,\n",
    "$$y(2000)=6.$$\n",
    "\n",
    "## Specific 2nd Order Runge Kutta for the Non-Linear Population Equation with an oscilation\n",
    "To write the specific 2nd Order Runge Kutta difference equation for the intial value problem we need \n",
    "$$f(t,y)=0.2y-0.01y^2+\\sin(2\\pi t),$$\n",
    "which gives\n",
    "$$k_1=f(t_i,w_i)=0.2w_i-0.01w_i^2+\\sin(2\\pi t_i),$$\n",
    "$$k_2=f(t_i+h,w_i+hk_1)=0.2(w_i+hk_1)-0.01(w_i+hk_1)^2+\\sin(2\\pi (t_i+h)),$$\n",
    "and the difference equation\n",
    "$$w_{i+1}=w_{i}+\\frac{h}{2}(k_1+k_2)$$\n",
    "for $i=0,...,199$, where $w_i$ is the numerical approximation of $y$ at time $t_i$, with step size $h$ and the initial condition\n",
    "$$w_0=6.$$"
   ]
  },
  {
   "cell_type": "code",
   "execution_count": 12,
   "metadata": {},
   "outputs": [],
   "source": [
    "def nonlin_oscfun(t,w):\n",
    "    ftw=0.2*w-0.01*w*w+np.sin(2*np.math.pi*t)\n",
    "    return ftw"
   ]
  },
  {
   "cell_type": "code",
   "execution_count": 13,
   "metadata": {},
   "outputs": [],
   "source": [
    "## INSERT METHOD HERE"
   ]
  },
  {
   "cell_type": "markdown",
   "metadata": {},
   "source": [
    "## Results\n",
    "The plot below shows the 2nd order Runge Kutta numerical approximation, $w$ (circles) for the non-linear population equation:"
   ]
  },
  {
   "cell_type": "code",
   "execution_count": 14,
   "metadata": {},
   "outputs": [
    {
     "data": {
      "image/png": "[encoded data removed]",
      "text/plain": [
       "<Figure size 576x288 with 1 Axes>"
      ]
     },
     "metadata": {
      "needs_background": "light"
     },
     "output_type": "display_data"
    }
   ],
   "source": [
    "fig = plt.figure(figsize=(8,4))\n",
    "#plt.plot(t,w,'o:',color='purple',label='Taylor')\n",
    "plt.legend(loc='best')\n",
    "plt.show()"
   ]
  },
  {
   "cell_type": "markdown",
   "metadata": {},
   "source": [
    "## Table\n",
    "The table below shows the time and the 2nd order Runge Kutta numerical approximation, $w$,  for the non-linear population equation:"
   ]
  },
  {
   "cell_type": "code",
   "execution_count": 15,
   "metadata": {},
   "outputs": [
    {
     "data": {
      "text/html": [
       "<table><tr><td>time</td><td>Taylor (w)</td></tr><tr><td>2000.0</td><td>6.0</td></tr><tr><td>2000.1</td><td>6.113721735</td></tr><tr><td>2000.2</td><td>6.276108705</td></tr><tr><td>2000.3</td><td>6.458005479</td></tr><tr><td>2000.4</td><td>6.623031804</td></tr><tr><td>2000.5</td><td>6.741503972</td></tr><tr><td>2000.6</td><td>6.80178417</td></tr><tr><td>2000.7</td><td>6.814712139</td></tr><tr><td>2000.8</td><td>6.809443687</td></tr><tr><td>2000.9</td><td>6.822305072</td></tr></table>"
      ],
      "text/plain": [
       "[['time', 'Taylor (w)'],\n",
       " [2000.0, 6.0],\n",
       " [2000.1, 6.113721735],\n",
       " [2000.2, 6.276108705],\n",
       " [2000.3, 6.458005479],\n",
       " [2000.4, 6.623031804],\n",
       " [2000.5, 6.741503972],\n",
       " [2000.6, 6.80178417],\n",
       " [2000.7, 6.814712139],\n",
       " [2000.8, 6.809443687],\n",
       " [2000.9, 6.822305072]]"
      ]
     },
     "execution_count": 15,
     "metadata": {},
     "output_type": "execute_result"
    }
   ],
   "source": [
    "table = ListTable()\n",
    "table.append(['time', 'Taylor (w)'])\n",
    "for i in range (0,10):\n",
    "    table.append([round(t[i],2),  round(w[i],9)])\n",
    "    \n",
    "table\n"
   ]
  },
  {
   "cell_type": "code",
   "execution_count": null,
   "metadata": {},
   "outputs": [],
   "source": []
  }
 ],
 "metadata": {
  "kernelspec": {
   "display_name": "Python 3",
   "language": "python",
   "name": "python3"
  },
  "language_info": {
   "codemirror_mode": {
    "name": "ipython",
    "version": 3
   },
   "file_extension": ".py",
   "mimetype": "text/x-python",
   "name": "python",
   "nbconvert_exporter": "python",
   "pygments_lexer": "ipython3",
   "version": "3.7.3"
  }
 },
 "nbformat": 4,
 "nbformat_minor": 1
}
