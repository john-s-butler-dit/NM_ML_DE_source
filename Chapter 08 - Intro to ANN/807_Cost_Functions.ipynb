{
 "cells": [
  {
   "cell_type": "markdown",
   "id": "62d78adc",
   "metadata": {},
   "source": [
    "# Cost Functions\n",
    "Cost functions, also known as loss functions or objective functions, play a crucial role in training artificial neural networks (ANNs). These functions measure the discrepancy between the network's predictions and the actual target values during the training process. The choice of the appropriate cost function depends on the specific task at hand, such as regression or classification. Here's a summary of some common cost functions for ANNs:\n",
    "\n",
    "**1. Mean Squared Error (MSE)**:\n",
    "- Used for regression tasks.\n",
    "- Measures the average squared difference between predicted values and actual target values.\n",
    "- Encourages the network to minimize the variance of its predictions.\n",
    "- Mathematically, MSE is defined as:\n",
    "  $$J(\\theta) = \\frac{1}{2N} \\sum_{i=1}^{N} (y_i - y_{\\text{target},i})^2$$\n",
    "\n",
    "**2. Mean Absolute Error (MAE)**:\n",
    "- Another cost function for regression.\n",
    "- Measures the average absolute difference between predicted values and actual target values.\n",
    "- Less sensitive to outliers compared to MSE.\n",
    "- Mathematically, MAE is defined as:\n",
    "  $$J(\\theta) = \\frac{1}{N} \\sum_{i=1}^{N} |y_i - y_{\\text{target},i}|$$\n",
    "\n",
    "**3. Cross-Entropy Loss (Log Loss)**:\n",
    "- Used for binary and multiclass classification tasks.\n",
    "- Measures the dissimilarity between predicted class probabilities and true class labels.\n",
    "- Commonly used with logistic and softmax activation functions in the output layer.\n",
    "- For binary classification:\n",
    "  $$J(\\theta) = -\\frac{1}{N} \\sum_{i=1}^{N} \\left(y_{\\text{target},i} \\log(y_i) + (1 - y_{\\text{target},i}) \\log(1 - y_i)\\right)$$\n",
    "- For multiclass classification:\n",
    "  $$J(\\theta) = -\\frac{1}{N} \\sum_{i=1}^{N} \\sum_{c=1}^{C} y_{\\text{target},i,c} \\log(y_i,c)$$\n",
    "\n",
    "**4. Hinge Loss (SVM Loss)**:\n",
    "- Used for support vector machine (SVM) and margin-based classification.\n",
    "- Encourages correct classification with a margin between classes.\n",
    "- Mathematically, hinge loss is defined as:\n",
    " $$J(\\theta) = \\frac{1}{N} \\sum_{i=1}^{N} \\max(0, 1 - y_{\\text{target},i} \\cdot y_i)$$\n",
    "\n",
    "**5. Huber Loss**:\n",
    "- Used for regression tasks.\n",
    "- Combines the benefits of both MSE and MAE by having a quadratic loss for small errors and a linear loss for large errors.\n",
    "- Less sensitive to outliers than MSE.\n",
    "- Mathematically, Huber loss is defined as:\n",
    "  $$J(\\theta) = \\frac{1}{N} \\sum_{i=1}^{N} \\begin{cases}\n",
    "  \\frac{1}{2}(y_i - y_{\\text{target},i})^2 & \\text{if } |y_i - y_{\\text{target},i}| \\leq \\delta \\\\\n",
    "  \\delta |y_i - y_{\\text{target},i}| - \\frac{1}{2}\\delta^2 & \\text{otherwise}\n",
    "  \\end{cases}$$\n",
    "\n",
    "The choice of the cost function should align with the specific problem being solved, as different tasks (e.g., regression, binary classification, multiclass classification) require different loss functions. "
   ]
  },
  {
   "cell_type": "code",
   "execution_count": null,
   "id": "5247eef4",
   "metadata": {},
   "outputs": [],
   "source": []
  }
 ],
 "metadata": {
  "kernelspec": {
   "display_name": "Python 3 (ipykernel)",
   "language": "python",
   "name": "python3"
  },
  "language_info": {
   "codemirror_mode": {
    "name": "ipython",
    "version": 3
   },
   "file_extension": ".py",
   "mimetype": "text/x-python",
   "name": "python",
   "nbconvert_exporter": "python",
   "pygments_lexer": "ipython3",
   "version": "3.11.4"
  }
 },
 "nbformat": 4,
 "nbformat_minor": 5
}
