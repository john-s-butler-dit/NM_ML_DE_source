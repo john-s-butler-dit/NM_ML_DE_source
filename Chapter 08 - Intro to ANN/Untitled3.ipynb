{
 "cells": [
  {
   "cell_type": "code",
   "execution_count": 1,
   "id": "9a45308c",
   "metadata": {},
   "outputs": [
    {
     "ename": "AssertionError",
     "evalue": "underflow in dt 5.114017113597883e-17",
     "output_type": "error",
     "traceback": [
      "\u001b[0;31m---------------------------------------------------------------------------\u001b[0m",
      "\u001b[0;31mAssertionError\u001b[0m                            Traceback (most recent call last)",
      "Cell \u001b[0;32mIn[1], line 15\u001b[0m\n\u001b[1;32m     12\u001b[0m t \u001b[38;5;241m=\u001b[39m torch\u001b[38;5;241m.\u001b[39mlinspace(\u001b[38;5;241m0\u001b[39m, \u001b[38;5;241m1\u001b[39m, \u001b[38;5;241m101\u001b[39m)\n\u001b[1;32m     14\u001b[0m \u001b[38;5;66;03m# Solve the initial value problem using the odeint function\u001b[39;00m\n\u001b[0;32m---> 15\u001b[0m y \u001b[38;5;241m=\u001b[39m odeint(f, y0, t)\n\u001b[1;32m     17\u001b[0m \u001b[38;5;66;03m# Print the solution at the final time point\u001b[39;00m\n\u001b[1;32m     18\u001b[0m \u001b[38;5;28mprint\u001b[39m(y[\u001b[38;5;241m-\u001b[39m\u001b[38;5;241m1\u001b[39m])\n",
      "File \u001b[0;32m~/opt/anaconda3/envs/Numerical_and_ML_Methods_for_DE/lib/python3.11/site-packages/torchdiffeq/_impl/odeint.py:77\u001b[0m, in \u001b[0;36modeint\u001b[0;34m(func, y0, t, rtol, atol, method, options, event_fn)\u001b[0m\n\u001b[1;32m     74\u001b[0m solver \u001b[38;5;241m=\u001b[39m SOLVERS[method](func\u001b[38;5;241m=\u001b[39mfunc, y0\u001b[38;5;241m=\u001b[39my0, rtol\u001b[38;5;241m=\u001b[39mrtol, atol\u001b[38;5;241m=\u001b[39matol, \u001b[38;5;241m*\u001b[39m\u001b[38;5;241m*\u001b[39moptions)\n\u001b[1;32m     76\u001b[0m \u001b[38;5;28;01mif\u001b[39;00m event_fn \u001b[38;5;129;01mis\u001b[39;00m \u001b[38;5;28;01mNone\u001b[39;00m:\n\u001b[0;32m---> 77\u001b[0m     solution \u001b[38;5;241m=\u001b[39m solver\u001b[38;5;241m.\u001b[39mintegrate(t)\n\u001b[1;32m     78\u001b[0m \u001b[38;5;28;01melse\u001b[39;00m:\n\u001b[1;32m     79\u001b[0m     event_t, solution \u001b[38;5;241m=\u001b[39m solver\u001b[38;5;241m.\u001b[39mintegrate_until_event(t[\u001b[38;5;241m0\u001b[39m], event_fn)\n",
      "File \u001b[0;32m~/opt/anaconda3/envs/Numerical_and_ML_Methods_for_DE/lib/python3.11/site-packages/torchdiffeq/_impl/solvers.py:30\u001b[0m, in \u001b[0;36mAdaptiveStepsizeODESolver.integrate\u001b[0;34m(self, t)\u001b[0m\n\u001b[1;32m     28\u001b[0m \u001b[38;5;28mself\u001b[39m\u001b[38;5;241m.\u001b[39m_before_integrate(t)\n\u001b[1;32m     29\u001b[0m \u001b[38;5;28;01mfor\u001b[39;00m i \u001b[38;5;129;01min\u001b[39;00m \u001b[38;5;28mrange\u001b[39m(\u001b[38;5;241m1\u001b[39m, \u001b[38;5;28mlen\u001b[39m(t)):\n\u001b[0;32m---> 30\u001b[0m     solution[i] \u001b[38;5;241m=\u001b[39m \u001b[38;5;28mself\u001b[39m\u001b[38;5;241m.\u001b[39m_advance(t[i])\n\u001b[1;32m     31\u001b[0m \u001b[38;5;28;01mreturn\u001b[39;00m solution\n",
      "File \u001b[0;32m~/opt/anaconda3/envs/Numerical_and_ML_Methods_for_DE/lib/python3.11/site-packages/torchdiffeq/_impl/rk_common.py:194\u001b[0m, in \u001b[0;36mRKAdaptiveStepsizeODESolver._advance\u001b[0;34m(self, next_t)\u001b[0m\n\u001b[1;32m    192\u001b[0m \u001b[38;5;28;01mwhile\u001b[39;00m next_t \u001b[38;5;241m>\u001b[39m \u001b[38;5;28mself\u001b[39m\u001b[38;5;241m.\u001b[39mrk_state\u001b[38;5;241m.\u001b[39mt1:\n\u001b[1;32m    193\u001b[0m     \u001b[38;5;28;01massert\u001b[39;00m n_steps \u001b[38;5;241m<\u001b[39m \u001b[38;5;28mself\u001b[39m\u001b[38;5;241m.\u001b[39mmax_num_steps, \u001b[38;5;124m'\u001b[39m\u001b[38;5;124mmax_num_steps exceeded (\u001b[39m\u001b[38;5;132;01m{}\u001b[39;00m\u001b[38;5;124m>=\u001b[39m\u001b[38;5;132;01m{}\u001b[39;00m\u001b[38;5;124m)\u001b[39m\u001b[38;5;124m'\u001b[39m\u001b[38;5;241m.\u001b[39mformat(n_steps, \u001b[38;5;28mself\u001b[39m\u001b[38;5;241m.\u001b[39mmax_num_steps)\n\u001b[0;32m--> 194\u001b[0m     \u001b[38;5;28mself\u001b[39m\u001b[38;5;241m.\u001b[39mrk_state \u001b[38;5;241m=\u001b[39m \u001b[38;5;28mself\u001b[39m\u001b[38;5;241m.\u001b[39m_adaptive_step(\u001b[38;5;28mself\u001b[39m\u001b[38;5;241m.\u001b[39mrk_state)\n\u001b[1;32m    195\u001b[0m     n_steps \u001b[38;5;241m+\u001b[39m\u001b[38;5;241m=\u001b[39m \u001b[38;5;241m1\u001b[39m\n\u001b[1;32m    196\u001b[0m \u001b[38;5;28;01mreturn\u001b[39;00m _interp_evaluate(\u001b[38;5;28mself\u001b[39m\u001b[38;5;241m.\u001b[39mrk_state\u001b[38;5;241m.\u001b[39minterp_coeff, \u001b[38;5;28mself\u001b[39m\u001b[38;5;241m.\u001b[39mrk_state\u001b[38;5;241m.\u001b[39mt0, \u001b[38;5;28mself\u001b[39m\u001b[38;5;241m.\u001b[39mrk_state\u001b[38;5;241m.\u001b[39mt1, next_t)\n",
      "File \u001b[0;32m~/opt/anaconda3/envs/Numerical_and_ML_Methods_for_DE/lib/python3.11/site-packages/torchdiffeq/_impl/rk_common.py:228\u001b[0m, in \u001b[0;36mRKAdaptiveStepsizeODESolver._adaptive_step\u001b[0;34m(self, rk_state)\u001b[0m\n\u001b[1;32m    215\u001b[0m t1 \u001b[38;5;241m=\u001b[39m t0 \u001b[38;5;241m+\u001b[39m dt\n\u001b[1;32m    216\u001b[0m \u001b[38;5;66;03m# dtypes: self.y0.dtype (probably float32); self.dtype (probably float64)\u001b[39;00m\n\u001b[1;32m    217\u001b[0m \u001b[38;5;66;03m# used for state and timelike objects respectively.\u001b[39;00m\n\u001b[1;32m    218\u001b[0m \u001b[38;5;66;03m# Then:\u001b[39;00m\n\u001b[0;32m   (...)\u001b[0m\n\u001b[1;32m    226\u001b[0m \u001b[38;5;66;03m#                      Assertions                      #\u001b[39;00m\n\u001b[1;32m    227\u001b[0m \u001b[38;5;66;03m########################################################\u001b[39;00m\n\u001b[0;32m--> 228\u001b[0m \u001b[38;5;28;01massert\u001b[39;00m t0 \u001b[38;5;241m+\u001b[39m dt \u001b[38;5;241m>\u001b[39m t0, \u001b[38;5;124m'\u001b[39m\u001b[38;5;124munderflow in dt \u001b[39m\u001b[38;5;132;01m{}\u001b[39;00m\u001b[38;5;124m'\u001b[39m\u001b[38;5;241m.\u001b[39mformat(dt\u001b[38;5;241m.\u001b[39mitem())\n\u001b[1;32m    229\u001b[0m \u001b[38;5;28;01massert\u001b[39;00m torch\u001b[38;5;241m.\u001b[39misfinite(y0)\u001b[38;5;241m.\u001b[39mall(), \u001b[38;5;124m'\u001b[39m\u001b[38;5;124mnon-finite values in state `y`: \u001b[39m\u001b[38;5;132;01m{}\u001b[39;00m\u001b[38;5;124m'\u001b[39m\u001b[38;5;241m.\u001b[39mformat(y0)\n\u001b[1;32m    231\u001b[0m \u001b[38;5;66;03m########################################################\u001b[39;00m\n\u001b[1;32m    232\u001b[0m \u001b[38;5;66;03m#     Make step, respecting prescribed grid points     #\u001b[39;00m\n\u001b[1;32m    233\u001b[0m \u001b[38;5;66;03m########################################################\u001b[39;00m\n",
      "\u001b[0;31mAssertionError\u001b[0m: underflow in dt 5.114017113597883e-17"
     ]
    }
   ],
   "source": [
    "import torch\n",
    "from torchdiffeq import odeint\n",
    "\n",
    "# Define the function f(t, y) = y^2\n",
    "def f(t, y):\n",
    "    return y**2\n",
    "\n",
    "# Define the initial condition y(0) = 1\n",
    "y0 = torch.tensor([1.0])\n",
    "\n",
    "# Define the time points to evaluate the solution\n",
    "t = torch.linspace(0, 1, 101)\n",
    "\n",
    "# Solve the initial value problem using the odeint function\n",
    "y = odeint(f, y0, t)\n",
    "\n",
    "# Print the solution at the final time point\n",
    "print(y[-1])"
   ]
  },
  {
   "cell_type": "code",
   "execution_count": null,
   "id": "8740a351",
   "metadata": {},
   "outputs": [],
   "source": []
  }
 ],
 "metadata": {
  "kernelspec": {
   "display_name": "Python 3 (ipykernel)",
   "language": "python",
   "name": "python3"
  },
  "language_info": {
   "codemirror_mode": {
    "name": "ipython",
    "version": 3
   },
   "file_extension": ".py",
   "mimetype": "text/x-python",
   "name": "python",
   "nbconvert_exporter": "python",
   "pygments_lexer": "ipython3",
   "version": "3.11.4"
  }
 },
 "nbformat": 4,
 "nbformat_minor": 5
}
